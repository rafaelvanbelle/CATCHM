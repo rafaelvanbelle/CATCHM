{
 "cells": [
  {
   "cell_type": "markdown",
   "id": "da2d150e",
   "metadata": {},
   "source": [
    "# CATCHM [DEMO]"
   ]
  },
  {
   "cell_type": "markdown",
   "id": "318bf642",
   "metadata": {},
   "source": [
    "CATCHM combines Deepwalk [Perozzi et al., 2014], a network representation learning algorithm, with a powerful boosted tree model for fraud detection (XGBoost). The transductive deepwalk model is augmented with an inductive pooling extension, which enables online fraud detection without lengthy retraining.\n",
    "\n",
    "This demo notebook contains an overview of the CATCHM approach. The following code sources are used:\n",
    "- Deepwalk: https://pypi.org/project/nodevectors/\n",
    "- XGBoost: https://pypi.org/project/xgboost/\n",
    "- Inductive extension: https://pypi.org/project/fucc/\n",
    "\n",
    "Before running the demo, please download the demo dataset from Kaggle:\n",
    "https://www.kaggle.com/ranjeetshrivastav/fraud-detection-dataset\n",
    "\n",
    "For a baseline without representation learning, please refer to the Pagerank demo notebook"
   ]
  },
  {
   "cell_type": "markdown",
   "id": "0c9a3dc2",
   "metadata": {},
   "source": [
    "-----"
   ]
  },
  {
   "cell_type": "code",
   "execution_count": 1,
   "id": "9690a486",
   "metadata": {},
   "outputs": [],
   "source": [
    "from catchm import Catchm\n",
    "import pandas as pd\n",
    "import numpy as np\n",
    "from fucc.metrics import plot_ap, get_optimal_f1_cutoff, get_confusion_matrix\n",
    "from sklearn.metrics import average_precision_score\n",
    "from sklearn.metrics import roc_auc_score"
   ]
  },
  {
   "cell_type": "code",
   "execution_count": 2,
   "id": "34e6c2d5",
   "metadata": {},
   "outputs": [],
   "source": [
    "# Parameters\n",
    "dimensions = 32\n",
    "walk_len = 80\n",
    "walk_num = 10\n",
    "window_size = 5\n",
    "# the 'workers' parameter is used for multi-processing.\n",
    "workers = 8"
   ]
  },
  {
   "cell_type": "code",
   "execution_count": 3,
   "id": "38616767",
   "metadata": {},
   "outputs": [],
   "source": [
    "default_xgboost_params = {'eval_metric' : ['auc','aucpr', 'logloss'],\n",
    "                          'n_estimators':300, \n",
    "                          'n_jobs':8, \n",
    "                          'learning_rate':0.1, \n",
    "                          'seed':42, \n",
    "                          'colsample_bytree' : 0.6,\n",
    "                          'colsample_bylevel':0.9, \n",
    "                          'subsample' : 0.9}"
   ]
  },
  {
   "cell_type": "markdown",
   "id": "fbe6d129",
   "metadata": {},
   "source": [
    "## Load Data"
   ]
  },
  {
   "cell_type": "code",
   "execution_count": 4,
   "id": "8a555fde",
   "metadata": {},
   "outputs": [],
   "source": [
    "### PATH TO DEMO DATA ###\n",
    "demo_data_path = './transactions/transactions.txt'\n",
    "\n",
    "df = pd.read_json(demo_data_path,  lines=True, convert_dates=[4])\n",
    "# Transform fourth column to datetime format\n",
    "df.iloc[:, 4] = pd.to_datetime(df.iloc[:, 4])\n",
    "# Sort dataframe by datetime\n",
    "df = df.sort_values('transactionDateTime')\n",
    "# Create a transaction ID\n",
    "df.loc[:, 'TX_ID'] = range(df.shape[0])"
   ]
  },
  {
   "cell_type": "code",
   "execution_count": 5,
   "id": "6a59b899",
   "metadata": {},
   "outputs": [],
   "source": [
    "# Split into train and test set\n",
    "df_train = df.iloc[:400000]\n",
    "df_test = df.iloc[400000:500000]"
   ]
  },
  {
   "cell_type": "code",
   "execution_count": 6,
   "id": "fe2b19b8",
   "metadata": {},
   "outputs": [
    {
     "data": {
      "text/html": [
       "<div>\n",
       "<style scoped>\n",
       "    .dataframe tbody tr th:only-of-type {\n",
       "        vertical-align: middle;\n",
       "    }\n",
       "\n",
       "    .dataframe tbody tr th {\n",
       "        vertical-align: top;\n",
       "    }\n",
       "\n",
       "    .dataframe thead th {\n",
       "        text-align: right;\n",
       "    }\n",
       "</style>\n",
       "<table border=\"1\" class=\"dataframe\">\n",
       "  <thead>\n",
       "    <tr style=\"text-align: right;\">\n",
       "      <th></th>\n",
       "      <th>accountNumber</th>\n",
       "      <th>customerId</th>\n",
       "      <th>creditLimit</th>\n",
       "      <th>availableMoney</th>\n",
       "      <th>transactionDateTime</th>\n",
       "      <th>transactionAmount</th>\n",
       "      <th>merchantName</th>\n",
       "      <th>acqCountry</th>\n",
       "      <th>merchantCountryCode</th>\n",
       "      <th>posEntryMode</th>\n",
       "      <th>...</th>\n",
       "      <th>currentBalance</th>\n",
       "      <th>merchantCity</th>\n",
       "      <th>merchantState</th>\n",
       "      <th>merchantZip</th>\n",
       "      <th>cardPresent</th>\n",
       "      <th>posOnPremises</th>\n",
       "      <th>recurringAuthInd</th>\n",
       "      <th>expirationDateKeyInMatch</th>\n",
       "      <th>isFraud</th>\n",
       "      <th>TX_ID</th>\n",
       "    </tr>\n",
       "  </thead>\n",
       "  <tbody>\n",
       "    <tr>\n",
       "      <th>640789</th>\n",
       "      <td>419104777</td>\n",
       "      <td>419104777</td>\n",
       "      <td>50000</td>\n",
       "      <td>50000.0</td>\n",
       "      <td>2016-01-01 00:01:02</td>\n",
       "      <td>44.09</td>\n",
       "      <td>Washington Post</td>\n",
       "      <td>US</td>\n",
       "      <td>US</td>\n",
       "      <td>09</td>\n",
       "      <td>...</td>\n",
       "      <td>0.0</td>\n",
       "      <td></td>\n",
       "      <td></td>\n",
       "      <td></td>\n",
       "      <td>False</td>\n",
       "      <td></td>\n",
       "      <td></td>\n",
       "      <td>False</td>\n",
       "      <td>False</td>\n",
       "      <td>0</td>\n",
       "    </tr>\n",
       "    <tr>\n",
       "      <th>28946</th>\n",
       "      <td>674577133</td>\n",
       "      <td>674577133</td>\n",
       "      <td>5000</td>\n",
       "      <td>5000.0</td>\n",
       "      <td>2016-01-01 00:01:44</td>\n",
       "      <td>329.57</td>\n",
       "      <td>staples.com</td>\n",
       "      <td>US</td>\n",
       "      <td>US</td>\n",
       "      <td>09</td>\n",
       "      <td>...</td>\n",
       "      <td>0.0</td>\n",
       "      <td></td>\n",
       "      <td></td>\n",
       "      <td></td>\n",
       "      <td>False</td>\n",
       "      <td></td>\n",
       "      <td></td>\n",
       "      <td>False</td>\n",
       "      <td>False</td>\n",
       "      <td>1</td>\n",
       "    </tr>\n",
       "    <tr>\n",
       "      <th>222211</th>\n",
       "      <td>958438658</td>\n",
       "      <td>958438658</td>\n",
       "      <td>20000</td>\n",
       "      <td>20000.0</td>\n",
       "      <td>2016-01-01 00:01:47</td>\n",
       "      <td>164.57</td>\n",
       "      <td>cheapfast.com</td>\n",
       "      <td>US</td>\n",
       "      <td>US</td>\n",
       "      <td>05</td>\n",
       "      <td>...</td>\n",
       "      <td>0.0</td>\n",
       "      <td></td>\n",
       "      <td></td>\n",
       "      <td></td>\n",
       "      <td>False</td>\n",
       "      <td></td>\n",
       "      <td></td>\n",
       "      <td>False</td>\n",
       "      <td>False</td>\n",
       "      <td>2</td>\n",
       "    </tr>\n",
       "    <tr>\n",
       "      <th>470320</th>\n",
       "      <td>851126461</td>\n",
       "      <td>851126461</td>\n",
       "      <td>10000</td>\n",
       "      <td>10000.0</td>\n",
       "      <td>2016-01-01 00:02:04</td>\n",
       "      <td>122.83</td>\n",
       "      <td>discount.com</td>\n",
       "      <td>US</td>\n",
       "      <td>US</td>\n",
       "      <td>02</td>\n",
       "      <td>...</td>\n",
       "      <td>0.0</td>\n",
       "      <td></td>\n",
       "      <td></td>\n",
       "      <td></td>\n",
       "      <td>False</td>\n",
       "      <td></td>\n",
       "      <td></td>\n",
       "      <td>False</td>\n",
       "      <td>False</td>\n",
       "      <td>3</td>\n",
       "    </tr>\n",
       "    <tr>\n",
       "      <th>704106</th>\n",
       "      <td>148963316</td>\n",
       "      <td>148963316</td>\n",
       "      <td>2500</td>\n",
       "      <td>2500.0</td>\n",
       "      <td>2016-01-01 00:02:19</td>\n",
       "      <td>0.00</td>\n",
       "      <td>Fast Repair</td>\n",
       "      <td>US</td>\n",
       "      <td>US</td>\n",
       "      <td>05</td>\n",
       "      <td>...</td>\n",
       "      <td>0.0</td>\n",
       "      <td></td>\n",
       "      <td></td>\n",
       "      <td></td>\n",
       "      <td>False</td>\n",
       "      <td></td>\n",
       "      <td></td>\n",
       "      <td>False</td>\n",
       "      <td>False</td>\n",
       "      <td>4</td>\n",
       "    </tr>\n",
       "  </tbody>\n",
       "</table>\n",
       "<p>5 rows × 30 columns</p>\n",
       "</div>"
      ],
      "text/plain": [
       "        accountNumber  customerId  creditLimit  availableMoney  \\\n",
       "640789      419104777   419104777        50000         50000.0   \n",
       "28946       674577133   674577133         5000          5000.0   \n",
       "222211      958438658   958438658        20000         20000.0   \n",
       "470320      851126461   851126461        10000         10000.0   \n",
       "704106      148963316   148963316         2500          2500.0   \n",
       "\n",
       "       transactionDateTime  transactionAmount     merchantName acqCountry  \\\n",
       "640789 2016-01-01 00:01:02              44.09  Washington Post         US   \n",
       "28946  2016-01-01 00:01:44             329.57      staples.com         US   \n",
       "222211 2016-01-01 00:01:47             164.57    cheapfast.com         US   \n",
       "470320 2016-01-01 00:02:04             122.83     discount.com         US   \n",
       "704106 2016-01-01 00:02:19               0.00      Fast Repair         US   \n",
       "\n",
       "       merchantCountryCode posEntryMode  ... currentBalance merchantCity  \\\n",
       "640789                  US           09  ...            0.0                \n",
       "28946                   US           09  ...            0.0                \n",
       "222211                  US           05  ...            0.0                \n",
       "470320                  US           02  ...            0.0                \n",
       "704106                  US           05  ...            0.0                \n",
       "\n",
       "       merchantState merchantZip cardPresent  posOnPremises  recurringAuthInd  \\\n",
       "640789                                 False                                    \n",
       "28946                                  False                                    \n",
       "222211                                 False                                    \n",
       "470320                                 False                                    \n",
       "704106                                 False                                    \n",
       "\n",
       "        expirationDateKeyInMatch isFraud TX_ID  \n",
       "640789                     False   False     0  \n",
       "28946                      False   False     1  \n",
       "222211                     False   False     2  \n",
       "470320                     False   False     3  \n",
       "704106                     False   False     4  \n",
       "\n",
       "[5 rows x 30 columns]"
      ]
     },
     "execution_count": 6,
     "metadata": {},
     "output_type": "execute_result"
    }
   ],
   "source": [
    "df_train.head()"
   ]
  },
  {
   "cell_type": "markdown",
   "id": "e45e35b9",
   "metadata": {},
   "source": [
    "## Create network"
   ]
  },
  {
   "cell_type": "code",
   "execution_count": 7,
   "id": "5c6031c0",
   "metadata": {},
   "outputs": [],
   "source": [
    "X_train = []\n",
    "for i, row in df_train.iterrows():\n",
    "    X_train.append((str(row.customerId), str(row.merchantName)))\n",
    "    \n",
    "y_train = df_train.isFraud"
   ]
  },
  {
   "cell_type": "code",
   "execution_count": 8,
   "id": "2bd830b3",
   "metadata": {},
   "outputs": [],
   "source": [
    "X_test = []\n",
    "for i, row in df_test.iterrows():\n",
    "    X_test.append((str(row.customerId), str(row.merchantName)))\n",
    "    \n",
    "y_test = df_test.isFraud"
   ]
  },
  {
   "cell_type": "code",
   "execution_count": 9,
   "id": "75398b4e",
   "metadata": {},
   "outputs": [],
   "source": [
    "cm = Catchm(dimensions=dimensions, walk_len=walk_len, walk_num=walk_num, xgboost_params=default_xgboost_params, verbose=1, workers=workers)"
   ]
  },
  {
   "cell_type": "code",
   "execution_count": 10,
   "id": "83c87125",
   "metadata": {},
   "outputs": [
    {
     "name": "stdout",
     "output_type": "stream",
     "text": [
      "Creating network representation model.\n",
      "Finished creating network representation model.\n",
      "Training pipeline (embeddings + classifier)\n",
      "Parsing input into network format.\n",
      "Running network representation algorithm.\n",
      "Making walks... Done, T=91.56\n",
      "Mapping Walk Names... Done, T=347.61\n",
      "Training W2V... Epoch #0 start\n",
      "Epoch #0 end\n",
      "Epoch #1 start\n",
      "Epoch #1 end\n",
      "Epoch #2 start\n",
      "Epoch #2 end\n",
      "Epoch #3 start\n",
      "Epoch #3 end\n",
      "Epoch #4 start\n",
      "Epoch #4 end\n",
      "Done, T=1445.61\n",
      "Retrieving embeddings for training data.\n"
     ]
    },
    {
     "data": {
      "text/plain": [
       "Catchm(check_input=True, dimensions=32, epochs=5, verbose=1, walk_len=80,\n",
       "       walk_num=10, window_size=5, workers=8,\n",
       "       xgboost_params={'colsample_bylevel': 0.9, 'colsample_bytree': 0.6,\n",
       "                       'eval_metric': ['auc', 'aucpr', 'logloss'],\n",
       "                       'learning_rate': 0.1, 'n_estimators': 300, 'n_jobs': 8,\n",
       "                       'seed': 42, 'subsample': 0.9})"
      ]
     },
     "execution_count": 10,
     "metadata": {},
     "output_type": "execute_result"
    }
   ],
   "source": [
    "cm.fit(X_train, y_train)"
   ]
  },
  {
   "cell_type": "code",
   "execution_count": 11,
   "id": "ce6a7d93",
   "metadata": {},
   "outputs": [
    {
     "name": "stdout",
     "output_type": "stream",
     "text": [
      "Running inductive pooling extension.\n"
     ]
    },
    {
     "name": "stderr",
     "output_type": "stream",
     "text": [
      "100%|██████████| 8/8 [00:39<00:00,  5.00s/it]\n"
     ]
    }
   ],
   "source": [
    "y_pred_proba = cm.predict_proba(X_test)[:, 1]"
   ]
  },
  {
   "cell_type": "markdown",
   "id": "07fd9f5a",
   "metadata": {},
   "source": [
    "## Evaluation"
   ]
  },
  {
   "cell_type": "markdown",
   "id": "b601ea49",
   "metadata": {},
   "source": [
    "Calculate important classification metrics and plot precision recall curve."
   ]
  },
  {
   "cell_type": "code",
   "execution_count": 12,
   "id": "91e60886",
   "metadata": {},
   "outputs": [
    {
     "name": "stdout",
     "output_type": "stream",
     "text": [
      "Average Precision:  0.24\n"
     ]
    }
   ],
   "source": [
    "ap = average_precision_score(y_test, y_pred_proba)\n",
    "print(\"Average Precision: \", np.round(ap,2))"
   ]
  },
  {
   "cell_type": "code",
   "execution_count": 13,
   "id": "6af5e063",
   "metadata": {},
   "outputs": [
    {
     "data": {
      "image/png": "[encoded data removed]",
      "text/plain": [
       "<Figure size 432x288 with 1 Axes>"
      ]
     },
     "metadata": {
      "needs_background": "light"
     },
     "output_type": "display_data"
    }
   ],
   "source": [
    "fig = plot_ap(y_test, y_pred_proba)"
   ]
  },
  {
   "cell_type": "code",
   "execution_count": 14,
   "id": "d4a120fa",
   "metadata": {},
   "outputs": [
    {
     "name": "stdout",
     "output_type": "stream",
     "text": [
      "F1 Score:  0.2876\n"
     ]
    }
   ],
   "source": [
    "optimal_threshold, optimal_f1_score = get_optimal_f1_cutoff(y_test, y_pred_proba)\n",
    "print(\"F1 Score: \", np.round(optimal_f1_score, 4))"
   ]
  },
  {
   "cell_type": "code",
   "execution_count": 15,
   "id": "1725c608",
   "metadata": {},
   "outputs": [
    {
     "name": "stdout",
     "output_type": "stream",
     "text": [
      "Confusion Matrix: \n",
      " [[97946   509]\n",
      " [ 1200   345]]\n"
     ]
    }
   ],
   "source": [
    "cm = get_confusion_matrix(y_test, y_pred_proba, optimal_threshold)\n",
    "print(\"Confusion Matrix: \\n\", cm)"
   ]
  },
  {
   "cell_type": "code",
   "execution_count": 16,
   "id": "04dab932",
   "metadata": {},
   "outputs": [
    {
     "data": {
      "text/plain": [
       "0.7285908877924451"
      ]
     },
     "execution_count": 16,
     "metadata": {},
     "output_type": "execute_result"
    }
   ],
   "source": [
    "roc_auc_score(y_test, y_pred_proba)"
   ]
  },
  {
   "cell_type": "code",
   "execution_count": null,
   "id": "17538a1d",
   "metadata": {},
   "outputs": [],
   "source": []
  }
 ],
 "metadata": {
  "kernelspec": {
   "display_name": "fucc_env",
   "language": "python",
   "name": "fucc_env"
  },
  "language_info": {
   "codemirror_mode": {
    "name": "ipython",
    "version": 3
   },
   "file_extension": ".py",
   "mimetype": "text/x-python",
   "name": "python",
   "nbconvert_exporter": "python",
   "pygments_lexer": "ipython3",
   "version": "3.6.10"
  },
  "toc": {
   "base_numbering": 1,
   "nav_menu": {},
   "number_sections": true,
   "sideBar": true,
   "skip_h1_title": false,
   "title_cell": "Table of Contents",
   "title_sidebar": "Contents",
   "toc_cell": false,
   "toc_position": {},
   "toc_section_display": true,
   "toc_window_display": false
  }
 },
 "nbformat": 4,
 "nbformat_minor": 5
}
