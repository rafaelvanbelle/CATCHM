{
 "cells": [
  {
   "cell_type": "markdown",
   "id": "da2d150e",
   "metadata": {},
   "source": [
    "# CATCHM [DEMO]"
   ]
  },
  {
   "cell_type": "markdown",
   "id": "318bf642",
   "metadata": {},
   "source": [
    "CATCHM combines Deepwalk [Perozzi et al., 2014], a network representation learning algorithm, with a powerful boosted tree model for fraud detection (XGBoost). The transductive deepwalk model is augmented with an inductive pooling extension, which enables online fraud detection without lengthy retraining.\n",
    "\n",
    "This demo notebook contains an overview of the CATCHM approach. The following code sources are used:\n",
    "- Deepwalk: https://pypi.org/project/nodevectors/\n",
    "- XGBoost: https://pypi.org/project/xgboost/\n",
    "- Inductive extension: https://pypi.org/project/fucc/\n",
    "\n",
    "Before running the demo, please download the demo dataset from Kaggle:\n",
    "https://www.kaggle.com/ranjeetshrivastav/fraud-detection-dataset\n",
    "\n",
    "For a baseline without representation learning, please refer to the Pagerank demo notebook"
   ]
  },
  {
   "cell_type": "markdown",
   "id": "0c9a3dc2",
   "metadata": {},
   "source": [
    "-----"
   ]
  },
  {
   "cell_type": "code",
   "execution_count": 1,
   "id": "9690a486",
   "metadata": {},
   "outputs": [],
   "source": [
    "from catchm.embeddings import InductiveDeepwalk\n",
    "from catchm import Catchm"
   ]
  },
  {
   "cell_type": "code",
   "execution_count": 2,
   "id": "fc800072",
   "metadata": {},
   "outputs": [],
   "source": [
    "import os\n",
    "import numpy as np\n",
    "import pandas as pd\n",
    "import networkx as nx\n",
    "from nodevectors import Node2Vec\n",
    "import xgboost as xgb\n",
    "from fucc.inductive_step import inductive_pooling\n",
    "from fucc.metrics import plot_ap, get_optimal_f1_cutoff, get_confusion_matrix\n",
    "from sklearn.metrics import average_precision_score\n",
    "import logging\n",
    "logging.basicConfig(level=logging.ERROR)"
   ]
  },
  {
   "cell_type": "code",
   "execution_count": 3,
   "id": "34e6c2d5",
   "metadata": {},
   "outputs": [],
   "source": [
    "# Parameters\n",
    "dimensions = 32\n",
    "walk_len = 80\n",
    "walk_num = 10\n",
    "window_size = 5\n",
    "# the 'workers' parameter is used for multi-processing.\n",
    "workers = 8"
   ]
  },
  {
   "cell_type": "code",
   "execution_count": null,
   "id": "b3e2585c",
   "metadata": {},
   "outputs": [],
   "source": []
  },
  {
   "cell_type": "code",
   "execution_count": 4,
   "id": "38616767",
   "metadata": {},
   "outputs": [],
   "source": [
    "default_xgboost_params = {'eval_metric' : ['auc','aucpr', 'logloss'], 'n_estimators':300, 'n_jobs':8, 'learning_rate':0.1, 'seed':42, 'colsample_bytree' : 0.6, 'colsample_bylevel':0.9, 'subsample' : 0.9}"
   ]
  },
  {
   "cell_type": "markdown",
   "id": "fbe6d129",
   "metadata": {},
   "source": [
    "## Load Data"
   ]
  },
  {
   "cell_type": "code",
   "execution_count": 5,
   "id": "8a555fde",
   "metadata": {},
   "outputs": [],
   "source": [
    "### PATH TO DEMO DATA ###\n",
    "demo_data_path = './transactions/transactions.txt'"
   ]
  },
  {
   "cell_type": "code",
   "execution_count": 6,
   "id": "c7990fba",
   "metadata": {
    "scrolled": true
   },
   "outputs": [],
   "source": [
    "df = pd.read_json(demo_data_path,  lines=True, convert_dates=[4])"
   ]
  },
  {
   "cell_type": "code",
   "execution_count": 7,
   "id": "284aabad",
   "metadata": {},
   "outputs": [],
   "source": [
    "# Transform fourth column to datetime format\n",
    "df.iloc[:, 4] = pd.to_datetime(df.iloc[:, 4])"
   ]
  },
  {
   "cell_type": "code",
   "execution_count": 8,
   "id": "54b32013",
   "metadata": {},
   "outputs": [],
   "source": [
    "# Sort dataframe by datetime\n",
    "df = df.sort_values('transactionDateTime')\n",
    "# Create a transaction ID\n",
    "df.loc[:, 'TX_ID'] = range(df.shape[0])"
   ]
  },
  {
   "cell_type": "code",
   "execution_count": 9,
   "id": "12359d81",
   "metadata": {},
   "outputs": [],
   "source": [
    "# Rename columns to work with hard-coded feature names in our code\n",
    "df = df.rename(columns={\"merchantName\":\"TERM_MIDUID\", \"customerId\":\"CARD_PAN_ID\", \"isFraud\": \"TX_FRAUD\" })"
   ]
  },
  {
   "cell_type": "markdown",
   "id": "5e90fd03",
   "metadata": {},
   "source": [
    "- **TERM_MIDUID**: beneficiary of the transaction\n",
    "- **CARD_PAN_ID**: customer initiating the transaction\n",
    "- **TX_FRAUD**: fraud label"
   ]
  },
  {
   "cell_type": "code",
   "execution_count": 21,
   "id": "6a59b899",
   "metadata": {},
   "outputs": [],
   "source": [
    "# Split into train and test set\n",
    "# 400000, 500000\n",
    "df_train = df.iloc[:40000]\n",
    "df_test = df.iloc[40000:50000]"
   ]
  },
  {
   "cell_type": "markdown",
   "id": "e45e35b9",
   "metadata": {},
   "source": [
    "## Create network"
   ]
  },
  {
   "cell_type": "code",
   "execution_count": 22,
   "id": "5c6031c0",
   "metadata": {},
   "outputs": [],
   "source": [
    "edgelist = []\n",
    "for i, row in df_train.iterrows():\n",
    "    edgelist.append((str(row.CARD_PAN_ID), str(row.TERM_MIDUID)))"
   ]
  },
  {
   "cell_type": "code",
   "execution_count": 23,
   "id": "08b1bd5c",
   "metadata": {},
   "outputs": [],
   "source": [
    "edgelist = np.array(edgelist)"
   ]
  },
  {
   "cell_type": "code",
   "execution_count": 24,
   "id": "114b82c3",
   "metadata": {},
   "outputs": [
    {
     "data": {
      "text/plain": [
       "(40000, 2)"
      ]
     },
     "execution_count": 24,
     "metadata": {},
     "output_type": "execute_result"
    }
   ],
   "source": [
    "edgelist.shape"
   ]
  },
  {
   "cell_type": "code",
   "execution_count": 25,
   "id": "75398b4e",
   "metadata": {},
   "outputs": [],
   "source": [
    "cm = Catchm(dimensions=128, walk_len=20, walk_num=10, xgboost_params=default_xgboost_params, verbose=1, workers=4)"
   ]
  },
  {
   "cell_type": "code",
   "execution_count": 26,
   "id": "83c87125",
   "metadata": {},
   "outputs": [
    {
     "name": "stdout",
     "output_type": "stream",
     "text": [
      "Creating network representation model.\n",
      "Finished creating network representation model.\n",
      "Training pipeline (embeddings + classifier)\n",
      "Parsing input into network format.\n",
      "Running network representation algorithm.\n",
      "Making walks... Done, T=1.17\n",
      "Mapping Walk Names... Done, T=5.90\n",
      "Training W2V... Epoch #0 start\n",
      "Epoch #0 end\n",
      "Epoch #1 start\n",
      "Epoch #1 end\n",
      "Epoch #2 start\n",
      "Epoch #2 end\n",
      "Epoch #3 start\n",
      "Epoch #3 end\n",
      "Epoch #4 start\n",
      "Epoch #4 end\n",
      "Done, T=41.68\n",
      "Retrieving embeddings for training data.\n"
     ]
    },
    {
     "data": {
      "text/plain": [
       "Catchm(check_input=True, dimensions=128, epochs=5, verbose=1, walk_len=20,\n",
       "       walk_num=10, window_size=5, workers=4,\n",
       "       xgboost_params={'colsample_bylevel': 0.9, 'colsample_bytree': 0.6,\n",
       "                       'eval_metric': ['auc', 'aucpr', 'logloss'],\n",
       "                       'learning_rate': 0.1, 'n_estimators': 300, 'n_jobs': 8,\n",
       "                       'seed': 42, 'subsample': 0.9})"
      ]
     },
     "execution_count": 26,
     "metadata": {},
     "output_type": "execute_result"
    }
   ],
   "source": [
    "cm.fit(edgelist, df_train.TX_FRAUD)"
   ]
  },
  {
   "cell_type": "code",
   "execution_count": 27,
   "id": "d17d07ba",
   "metadata": {},
   "outputs": [
    {
     "name": "stdout",
     "output_type": "stream",
     "text": [
      "Running inductive pooling extension.\n"
     ]
    },
    {
     "name": "stderr",
     "output_type": "stream",
     "text": [
      "100%|██████████| 4/4 [00:01<00:00,  2.39it/s]\n"
     ]
    },
    {
     "data": {
      "text/plain": [
       "array([False, False, False, ..., False,  True, False])"
      ]
     },
     "execution_count": 27,
     "metadata": {},
     "output_type": "execute_result"
    }
   ],
   "source": [
    "cm.predict(edgelist)"
   ]
  },
  {
   "cell_type": "code",
   "execution_count": 19,
   "id": "84ebcc15",
   "metadata": {},
   "outputs": [],
   "source": [
    "from catchm.embeddings import InductiveDeepwalk\n"
   ]
  },
  {
   "cell_type": "code",
   "execution_count": 20,
   "id": "d1dc18e6",
   "metadata": {},
   "outputs": [
    {
     "ename": "TypeError",
     "evalue": "__init__() got an unexpected keyword argument 'head_node_type'",
     "output_type": "error",
     "traceback": [
      "\u001b[0;31m---------------------------------------------------------------------------\u001b[0m",
      "\u001b[0;31mTypeError\u001b[0m                                 Traceback (most recent call last)",
      "\u001b[0;32m<ipython-input-20-44c974d18396>\u001b[0m in \u001b[0;36m<module>\u001b[0;34m\u001b[0m\n\u001b[0;32m----> 1\u001b[0;31m \u001b[0mIndDeep\u001b[0m \u001b[0;34m=\u001b[0m \u001b[0mInductiveDeepwalk\u001b[0m\u001b[0;34m(\u001b[0m\u001b[0mdimensions\u001b[0m\u001b[0;34m=\u001b[0m\u001b[0;36m32\u001b[0m\u001b[0;34m,\u001b[0m \u001b[0mwalk_len\u001b[0m \u001b[0;34m=\u001b[0m \u001b[0mwalk_len\u001b[0m\u001b[0;34m,\u001b[0m \u001b[0mwalk_num\u001b[0m\u001b[0;34m=\u001b[0m\u001b[0mwalk_num\u001b[0m\u001b[0;34m,\u001b[0m \u001b[0mhead_node_type\u001b[0m\u001b[0;34m=\u001b[0m\u001b[0;34m'transfer'\u001b[0m\u001b[0;34m,\u001b[0m \u001b[0mworkers\u001b[0m\u001b[0;34m=\u001b[0m\u001b[0;36m4\u001b[0m\u001b[0;34m)\u001b[0m\u001b[0;34m\u001b[0m\u001b[0;34m\u001b[0m\u001b[0m\n\u001b[0m",
      "\u001b[0;31mTypeError\u001b[0m: __init__() got an unexpected keyword argument 'head_node_type'"
     ]
    }
   ],
   "source": [
    "IndDeep = InductiveDeepwalk(dimensions=32, walk_len = walk_len, walk_num=walk_num, head_node_type='transfer', workers=4)"
   ]
  },
  {
   "cell_type": "code",
   "execution_count": null,
   "id": "78fc98bb",
   "metadata": {},
   "outputs": [],
   "source": [
    "from sklearn.pipeline import Pipeline\n",
    "import xgboost as xgb"
   ]
  },
  {
   "cell_type": "code",
   "execution_count": null,
   "id": "4681b9a2",
   "metadata": {},
   "outputs": [],
   "source": [
    "y_train = df_train.TX_FRAUD\n",
    "model = xgb.XGBClassifier(eval_metric = ['auc','aucpr', 'logloss'], n_estimators=300, n_jobs=8, learning_rate=0.1, seed=42, colsample_bytree = 0.6, colsample_bylevel=0.9, subsample = 0.9)"
   ]
  },
  {
   "cell_type": "code",
   "execution_count": null,
   "id": "dddd0bd4",
   "metadata": {},
   "outputs": [],
   "source": [
    "pipe = Pipeline([('embedder', IndDeep), ('model', model)])"
   ]
  },
  {
   "cell_type": "code",
   "execution_count": null,
   "id": "3cc92a1f",
   "metadata": {
    "scrolled": true
   },
   "outputs": [],
   "source": [
    "pipe.fit(edgelist, y_train)"
   ]
  },
  {
   "cell_type": "code",
   "execution_count": null,
   "id": "5a631c8a",
   "metadata": {},
   "outputs": [],
   "source": []
  },
  {
   "cell_type": "code",
   "execution_count": null,
   "id": "f33a8f97",
   "metadata": {},
   "outputs": [],
   "source": [
    "# TEST data\n",
    "edgelist_test = []\n",
    "for i, row in df_test.iterrows():\n",
    "    edgelist_test.append((str(row.CARD_PAN_ID), str(row.TERM_MIDUID)))\n",
    "    \n",
    "y_test = df_test.TX_FRAUD"
   ]
  },
  {
   "cell_type": "code",
   "execution_count": null,
   "id": "c4ec9ab5",
   "metadata": {
    "scrolled": true
   },
   "outputs": [],
   "source": [
    "y_pred_proba = pipe.predict_proba(edgelist_test)[:, 1]"
   ]
  },
  {
   "cell_type": "markdown",
   "id": "e902ae73",
   "metadata": {},
   "source": [
    "## Deepwalk"
   ]
  },
  {
   "cell_type": "markdown",
   "id": "b817b1a6",
   "metadata": {},
   "source": [
    "Fitting the Deepwalk model to the network can take a while depending on your local workstation and the number of 'workers' used for multiprocessing. "
   ]
  },
  {
   "cell_type": "code",
   "execution_count": null,
   "id": "9d280c18",
   "metadata": {
    "scrolled": true
   },
   "outputs": [],
   "source": [
    "# Fit embedding model to graph\n",
    "# Node2Vec with p,q=1 is identical to Deepwalk\n",
    "g2v = Node2Vec(\n",
    "    n_components=dimensions,\n",
    "    walklen = walk_len,\n",
    "    epochs = walk_num,\n",
    "    w2vparams={'workers': workers, 'window': window_size}\n",
    ")\n",
    "\n",
    "g2v.fit(G)\n",
    "model = g2v.model"
   ]
  },
  {
   "cell_type": "code",
   "execution_count": null,
   "id": "76270270",
   "metadata": {
    "lines_to_end_of_cell_marker": 2
   },
   "outputs": [],
   "source": [
    "# Retrieve for each transaction the associated embedding\n",
    "embeddings = {}\n",
    "for i in df_train.TX_ID:\n",
    "    embeddings[i] = model.wv[str(i)]\n",
    "\n",
    "\n",
    "embeddings = pd.DataFrame().from_dict(embeddings, orient='index')"
   ]
  },
  {
   "cell_type": "code",
   "execution_count": null,
   "id": "84c39a05",
   "metadata": {},
   "outputs": [],
   "source": [
    "# Merge training data with the generated embeddings\n",
    "df_train = df_train.merge(embeddings, left_on='TX_ID', right_index=True)"
   ]
  },
  {
   "cell_type": "code",
   "execution_count": null,
   "id": "911ac6d6",
   "metadata": {},
   "outputs": [],
   "source": [
    "df_train.head()"
   ]
  },
  {
   "cell_type": "markdown",
   "id": "5c5847d4",
   "metadata": {},
   "source": [
    "## Inductive Pooling"
   ]
  },
  {
   "cell_type": "code",
   "execution_count": null,
   "id": "ef5731a8",
   "metadata": {},
   "outputs": [],
   "source": [
    "# Apply inductive mean pooling\n",
    "results = inductive_pooling(df=df_test, embeddings=embeddings, G=G, workers=workers)"
   ]
  },
  {
   "cell_type": "code",
   "execution_count": null,
   "id": "c1f03213",
   "metadata": {},
   "outputs": [],
   "source": [
    "df_new_embeddings = pd.concat([pd.DataFrame(li).transpose() for li in results])"
   ]
  },
  {
   "cell_type": "code",
   "execution_count": null,
   "id": "37a3b666",
   "metadata": {},
   "outputs": [],
   "source": [
    "# Merge test data with the inductively generated embeddings\n",
    "df_new_embeddings.index = df_test.TX_ID\n",
    "df_test = df_test.merge(df_new_embeddings, left_on='TX_ID', right_index=True)"
   ]
  },
  {
   "cell_type": "markdown",
   "id": "fc2fb846",
   "metadata": {},
   "source": [
    "## XGBoost Classifier"
   ]
  },
  {
   "cell_type": "code",
   "execution_count": null,
   "id": "6bf1533c",
   "metadata": {},
   "outputs": [],
   "source": [
    "# Only use the embeddings as input features for XGBoost\n",
    "embedding_features = [i for i in range(dimensions)]"
   ]
  },
  {
   "cell_type": "code",
   "execution_count": null,
   "id": "b4d310a0",
   "metadata": {},
   "outputs": [],
   "source": [
    "# Final 20% of training data is used as validation set\n",
    "X_train = df_train[embedding_features].iloc[:int(df_train.shape[0]*0.8)]\n",
    "X_val = df_train[embedding_features].iloc[int(df_train.shape[0]*0.8):]\n",
    "y_train = df_train.TX_FRAUD.iloc[:int(df_train.shape[0]*0.8)]\n",
    "y_val = df_train.TX_FRAUD.iloc[int(df_train.shape[0]*0.8):]\n",
    "\n",
    "X_test = df_test[embedding_features]\n",
    "y_test = df_test.TX_FRAUD\n",
    "\n",
    "dtrain = xgb.DMatrix(X_train, label=y_train)\n",
    "dval = xgb.DMatrix(X_val, label=y_val)\n",
    "dtest = xgb.DMatrix(X_test, label=y_test)"
   ]
  },
  {
   "cell_type": "code",
   "execution_count": null,
   "id": "b2975256",
   "metadata": {},
   "outputs": [],
   "source": [
    "# These parameters are not necessarily optimal! Hyperparameter tuning could further improve performance.\n",
    "xgb_params = {\n",
    "    'eval_metric': ['auc','aucpr', 'logloss'],\n",
    "    'objective':'binary:logistic',\n",
    "    'n_estimators': 300,\n",
    "    'n_jobs':8,\n",
    "    'learning_rate':0.1,\n",
    "    'seed':42,\n",
    "    'colsample_bytree':0.6,\n",
    "    'colsample_bylevel':0.9,\n",
    "    'subsample':0.9\n",
    "}"
   ]
  },
  {
   "cell_type": "code",
   "execution_count": null,
   "id": "7de809d8",
   "metadata": {
    "scrolled": true
   },
   "outputs": [],
   "source": [
    "model = xgb.train(xgb_params, dtrain, num_boost_round=xgb_params['n_estimators'], evals=[(dval, 'val'), (dtrain, 'train')], early_stopping_rounds=int(xgb_params['n_estimators']/2))"
   ]
  },
  {
   "cell_type": "code",
   "execution_count": null,
   "id": "36933ce0",
   "metadata": {
    "lines_to_next_cell": 2
   },
   "outputs": [],
   "source": [
    "y_pred_proba = model.predict(dtest)"
   ]
  },
  {
   "cell_type": "markdown",
   "id": "07fd9f5a",
   "metadata": {},
   "source": [
    "## Evaluation"
   ]
  },
  {
   "cell_type": "markdown",
   "id": "b601ea49",
   "metadata": {},
   "source": [
    "Calculate important classification metrics and plot precision recall curve."
   ]
  },
  {
   "cell_type": "code",
   "execution_count": null,
   "id": "91e60886",
   "metadata": {},
   "outputs": [],
   "source": [
    "ap = average_precision_score(y_test, y_pred_proba)\n",
    "print(\"Average Precision: \", np.round(ap,2))"
   ]
  },
  {
   "cell_type": "code",
   "execution_count": null,
   "id": "6af5e063",
   "metadata": {},
   "outputs": [],
   "source": [
    "fig = plot_ap(y_test, y_pred_proba)"
   ]
  },
  {
   "cell_type": "code",
   "execution_count": null,
   "id": "d4a120fa",
   "metadata": {},
   "outputs": [],
   "source": [
    "optimal_threshold, optimal_f1_score = get_optimal_f1_cutoff(y_test, y_pred_proba)\n",
    "print(\"F1 Score: \", np.round(optimal_f1_score, 4))"
   ]
  },
  {
   "cell_type": "code",
   "execution_count": null,
   "id": "1725c608",
   "metadata": {},
   "outputs": [],
   "source": [
    "cm = get_confusion_matrix(y_test, y_pred_proba, optimal_threshold)\n",
    "print(\"Confusion Matrix: \\n\", cm)"
   ]
  },
  {
   "cell_type": "code",
   "execution_count": null,
   "id": "432fdbfa",
   "metadata": {},
   "outputs": [],
   "source": [
    "from sklearn.metrics import roc_auc_score"
   ]
  },
  {
   "cell_type": "code",
   "execution_count": null,
   "id": "04dab932",
   "metadata": {},
   "outputs": [],
   "source": [
    "roc_auc_score(y_test, y_pred_proba)"
   ]
  }
 ],
 "metadata": {
  "kernelspec": {
   "display_name": "fucc_env",
   "language": "python",
   "name": "fucc_env"
  },
  "language_info": {
   "codemirror_mode": {
    "name": "ipython",
    "version": 3
   },
   "file_extension": ".py",
   "mimetype": "text/x-python",
   "name": "python",
   "nbconvert_exporter": "python",
   "pygments_lexer": "ipython3",
   "version": "3.6.10"
  },
  "toc": {
   "base_numbering": 1,
   "nav_menu": {},
   "number_sections": true,
   "sideBar": true,
   "skip_h1_title": false,
   "title_cell": "Table of Contents",
   "title_sidebar": "Contents",
   "toc_cell": false,
   "toc_position": {},
   "toc_section_display": true,
   "toc_window_display": false
  }
 },
 "nbformat": 4,
 "nbformat_minor": 5
}
