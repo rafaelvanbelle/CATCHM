{
 "cells": [
  {
   "cell_type": "markdown",
   "id": "9dc1e546",
   "metadata": {},
   "source": [
    "# CATCHM pipeline [demo]"
   ]
  },
  {
   "cell_type": "markdown",
   "id": "624874e2",
   "metadata": {},
   "source": [
    "This notebook is in many ways identical to the CATCHM_demo.ipynb notebook.\n",
    "However, in this notebook CATCHM is implemented as an ScikitLearn compatible pipeline object. \n",
    "This allows you to experiment with different classifiers and replace the default XGBoost model.\n"
   ]
  },
  {
   "cell_type": "code",
   "execution_count": 17,
   "id": "30dc0d70",
   "metadata": {},
   "outputs": [],
   "source": [
    "from catchm.embeddings import InductiveDeepwalk\n",
    "from sklearn.pipeline import Pipeline\n",
    "import xgboost as xgb\n",
    "import pandas as pd\n",
    "import numpy as np\n",
    "from fucc.metrics import plot_ap, get_optimal_f1_cutoff, get_confusion_matrix\n",
    "from sklearn.metrics import average_precision_score\n",
    "from sklearn.metrics import roc_auc_score"
   ]
  },
  {
   "cell_type": "code",
   "execution_count": 2,
   "id": "fc59c070",
   "metadata": {},
   "outputs": [],
   "source": [
    "# Parameters\n",
    "dimensions = 32\n",
    "walk_len = 80\n",
    "walk_num = 10\n",
    "window_size = 5\n",
    "# the 'workers' parameter is used for multi-processing.\n",
    "workers = 8"
   ]
  },
  {
   "cell_type": "code",
   "execution_count": 3,
   "id": "b92ef8e0",
   "metadata": {},
   "outputs": [],
   "source": [
    "default_xgboost_params = {'eval_metric' : ['auc','aucpr', 'logloss'],\n",
    "                          'n_estimators':300, \n",
    "                          'n_jobs':8, \n",
    "                          'learning_rate':0.1, \n",
    "                          'seed':42, \n",
    "                          'colsample_bytree' : 0.6,\n",
    "                          'colsample_bylevel':0.9, \n",
    "                          'subsample' : 0.9}"
   ]
  },
  {
   "cell_type": "markdown",
   "id": "24bf5799",
   "metadata": {},
   "source": [
    "## Load Data"
   ]
  },
  {
   "cell_type": "code",
   "execution_count": 4,
   "id": "03b905f9",
   "metadata": {},
   "outputs": [],
   "source": [
    "### PATH TO DEMO DATA ###\n",
    "demo_data_path = './transactions/transactions.txt'\n",
    "\n",
    "df = pd.read_json(demo_data_path,  lines=True, convert_dates=[4])\n",
    "# Transform fourth column to datetime format\n",
    "df.iloc[:, 4] = pd.to_datetime(df.iloc[:, 4])\n",
    "# Sort dataframe by datetime\n",
    "df = df.sort_values('transactionDateTime')\n",
    "# Create a transaction ID\n",
    "df.loc[:, 'TX_ID'] = range(df.shape[0])"
   ]
  },
  {
   "cell_type": "code",
   "execution_count": 5,
   "id": "2e6f16ef",
   "metadata": {},
   "outputs": [],
   "source": [
    "# Split into train and test set\n",
    "# 400000, 500000\n",
    "df_train = df.iloc[:4000]\n",
    "df_test = df.iloc[4000:5000]"
   ]
  },
  {
   "cell_type": "code",
   "execution_count": 6,
   "id": "287637a5",
   "metadata": {},
   "outputs": [],
   "source": [
    "embedder = InductiveDeepwalk(dimensions=dimensions, walk_len = walk_len, walk_num=walk_num, workers=workers, verbose=0)\n",
    "classifier = xgb.XGBClassifier(**default_xgboost_params)"
   ]
  },
  {
   "cell_type": "code",
   "execution_count": 7,
   "id": "5510847d",
   "metadata": {},
   "outputs": [],
   "source": [
    "X_train = []\n",
    "for i, row in df_train.iterrows():\n",
    "    X_train.append((str(row.customerId), str(row.merchantName)))\n",
    "    \n",
    "y_train = df_train.isFraud"
   ]
  },
  {
   "cell_type": "code",
   "execution_count": 8,
   "id": "99ac44a8",
   "metadata": {},
   "outputs": [],
   "source": [
    "X_test = []\n",
    "for i, row in df_test.iterrows():\n",
    "    X_test.append((str(row.customerId), str(row.merchantName)))\n",
    "    \n",
    "y_test = df_test.isFraud"
   ]
  },
  {
   "cell_type": "code",
   "execution_count": 9,
   "id": "d08ce751",
   "metadata": {},
   "outputs": [
    {
     "data": {
      "text/plain": [
       "InductiveDeepwalk(dimensions=32, epochs=5, verbose=0, walk_len=80, walk_num=10,\n",
       "                  window_size=5, workers=8)"
      ]
     },
     "execution_count": 9,
     "metadata": {},
     "output_type": "execute_result"
    }
   ],
   "source": [
    "embedder.fit(X_train, y_train)"
   ]
  },
  {
   "cell_type": "code",
   "execution_count": 10,
   "id": "1c09ec01",
   "metadata": {},
   "outputs": [],
   "source": [
    "pipe = Pipeline([('embedder', embedder), ('classifier', classifier)])"
   ]
  },
  {
   "cell_type": "code",
   "execution_count": 11,
   "id": "a3167586",
   "metadata": {},
   "outputs": [
    {
     "data": {
      "text/plain": [
       "Pipeline(memory=None,\n",
       "         steps=[('embedder',\n",
       "                 InductiveDeepwalk(dimensions=32, epochs=5, verbose=0,\n",
       "                                   walk_len=80, walk_num=10, window_size=5,\n",
       "                                   workers=8)),\n",
       "                ('classifier',\n",
       "                 XGBClassifier(base_score=0.5, booster='gbtree',\n",
       "                               colsample_bylevel=0.9, colsample_bynode=1,\n",
       "                               colsample_bytree=0.6,\n",
       "                               eval_metric=['auc', 'aucpr', 'logloss'], gamma=0,\n",
       "                               gpu_id=-1, importance_type='gain',\n",
       "                               interaction_constraints='', learning_rate=0.1,\n",
       "                               max_delta_step=0, max_depth=6,\n",
       "                               min_child_weight=1, missing=nan,\n",
       "                               monotone_constraints='()', n_estimators=300,\n",
       "                               n_jobs=8, num_parallel_tree=1,\n",
       "                               objective='binary:logistic', random_state=42,\n",
       "                               reg_alpha=0, reg_lambda=1, scale_pos_weight=1,\n",
       "                               seed=42, subsample=0.9, tree_method='exact',\n",
       "                               validate_parameters=1, verbosity=None))],\n",
       "         verbose=False)"
      ]
     },
     "execution_count": 11,
     "metadata": {},
     "output_type": "execute_result"
    }
   ],
   "source": [
    "pipe.fit(X_train, y_train)"
   ]
  },
  {
   "cell_type": "code",
   "execution_count": 13,
   "id": "7f1a03ac",
   "metadata": {},
   "outputs": [
    {
     "name": "stderr",
     "output_type": "stream",
     "text": [
      "100%|██████████| 8/8 [00:00<00:00, 68.45it/s]\n"
     ]
    }
   ],
   "source": [
    "y_pred_proba = pipe.predict_proba(X_test)[:, 1]"
   ]
  },
  {
   "cell_type": "markdown",
   "id": "2cd2d1db",
   "metadata": {},
   "source": [
    "## Evaluation"
   ]
  },
  {
   "cell_type": "code",
   "execution_count": 18,
   "id": "35d6dddf",
   "metadata": {},
   "outputs": [
    {
     "name": "stdout",
     "output_type": "stream",
     "text": [
      "Average Precision:  0.03\n"
     ]
    }
   ],
   "source": [
    "ap = average_precision_score(y_test, y_pred_proba)\n",
    "print(\"Average Precision: \", np.round(ap,2))"
   ]
  },
  {
   "cell_type": "code",
   "execution_count": 19,
   "id": "f39ea48c",
   "metadata": {},
   "outputs": [
    {
     "data": {
      "image/png": "[encoded data removed]",
      "text/plain": [
       "<Figure size 432x288 with 1 Axes>"
      ]
     },
     "metadata": {
      "needs_background": "light"
     },
     "output_type": "display_data"
    }
   ],
   "source": [
    "fig = plot_ap(y_test, y_pred_proba)"
   ]
  },
  {
   "cell_type": "code",
   "execution_count": 20,
   "id": "b8bd3ba4",
   "metadata": {},
   "outputs": [
    {
     "name": "stdout",
     "output_type": "stream",
     "text": [
      "F1 Score:  0.0502\n"
     ]
    }
   ],
   "source": [
    "optimal_threshold, optimal_f1_score = get_optimal_f1_cutoff(y_test, y_pred_proba)\n",
    "print(\"F1 Score: \", np.round(optimal_f1_score, 4))"
   ]
  },
  {
   "cell_type": "code",
   "execution_count": 21,
   "id": "019b9ceb",
   "metadata": {},
   "outputs": [
    {
     "name": "stdout",
     "output_type": "stream",
     "text": [
      "Confusion Matrix: \n",
      " [[728 252]\n",
      " [ 13   7]]\n"
     ]
    }
   ],
   "source": [
    "cm = get_confusion_matrix(y_test, y_pred_proba, optimal_threshold)\n",
    "print(\"Confusion Matrix: \\n\", cm)"
   ]
  },
  {
   "cell_type": "code",
   "execution_count": 22,
   "id": "6308ea4d",
   "metadata": {},
   "outputs": [
    {
     "data": {
      "text/plain": [
       "0.5915051020408163"
      ]
     },
     "execution_count": 22,
     "metadata": {},
     "output_type": "execute_result"
    }
   ],
   "source": [
    "roc_auc_score(y_test, y_pred_proba)"
   ]
  },
  {
   "cell_type": "code",
   "execution_count": null,
   "id": "41d94eba",
   "metadata": {},
   "outputs": [],
   "source": []
  }
 ],
 "metadata": {
  "kernelspec": {
   "display_name": "fucc_env",
   "language": "python",
   "name": "fucc_env"
  },
  "language_info": {
   "codemirror_mode": {
    "name": "ipython",
    "version": 3
   },
   "file_extension": ".py",
   "mimetype": "text/x-python",
   "name": "python",
   "nbconvert_exporter": "python",
   "pygments_lexer": "ipython3",
   "version": "3.6.10"
  },
  "toc": {
   "base_numbering": 1,
   "nav_menu": {},
   "number_sections": true,
   "sideBar": true,
   "skip_h1_title": false,
   "title_cell": "Table of Contents",
   "title_sidebar": "Contents",
   "toc_cell": false,
   "toc_position": {},
   "toc_section_display": true,
   "toc_window_display": false
  }
 },
 "nbformat": 4,
 "nbformat_minor": 5
}
