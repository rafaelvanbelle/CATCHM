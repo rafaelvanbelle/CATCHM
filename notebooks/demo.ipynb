{
 "cells": [
  {
   "cell_type": "markdown",
   "id": "375e868f",
   "metadata": {},
   "source": [
    "# Demo"
   ]
  },
  {
   "cell_type": "code",
   "execution_count": 1,
   "id": "ad7ff434",
   "metadata": {},
   "outputs": [],
   "source": [
    "import os\n",
    "import numpy as np\n",
    "import pandas as pd\n",
    "import networkx as nx\n",
    "from nodevectors import Node2Vec\n",
    "import xgboost as xgb\n",
    "from fucc.inductive_step import inductive_pooling\n",
    "from fucc.metrics import plot_ap, get_optimal_f1_cutoff, get_confusion_matrix\n",
    "from sklearn.metrics import average_precision_score\n",
    "import logging\n",
    "logging.basicConfig(level=logging.INFO)"
   ]
  },
  {
   "cell_type": "code",
   "execution_count": 2,
   "id": "f1e84cb7",
   "metadata": {},
   "outputs": [],
   "source": [
    "# Parameters\n",
    "dimensions = 128\n",
    "walk_len = 80\n",
    "walk_num = 10\n",
    "window_size = 5\n",
    "workers = 6"
   ]
  },
  {
   "cell_type": "markdown",
   "id": "a9cd4b18",
   "metadata": {},
   "source": [
    "## Load Data"
   ]
  },
  {
   "cell_type": "code",
   "execution_count": 3,
   "id": "e3148c10",
   "metadata": {},
   "outputs": [],
   "source": [
    "##### TEMPORARY\n",
    "input_path = '/Users/raf/Dropbox/DOC/data/fucc_simple_rolling_window/demo_data'\n",
    "\n",
    "#####"
   ]
  },
  {
   "cell_type": "code",
   "execution_count": 4,
   "id": "2a240066",
   "metadata": {},
   "outputs": [],
   "source": [
    "df_train = pd.read_csv(os.path.join(input_path, 'df_demo_train.csv'), parse_dates=[7])\n",
    "df_train = df_train.set_index(df_train.columns[0])\n",
    "\n",
    "df_test = pd.read_csv(os.path.join(input_path,'df_demo_test.csv'), parse_dates=[7])\n",
    "df_test = df_test.set_index(df_test.columns[0])"
   ]
  },
  {
   "cell_type": "code",
   "execution_count": 5,
   "id": "722f1ea8",
   "metadata": {},
   "outputs": [],
   "source": [
    "df_train = df_train.drop(['TX_DATETIME'], axis=1)\n",
    "df_test = df_test.drop(['TX_DATETIME'], axis=1)"
   ]
  },
  {
   "cell_type": "code",
   "execution_count": 6,
   "id": "1e5144fe",
   "metadata": {},
   "outputs": [],
   "source": [
    "df_train = df_train.iloc[:1000]\n",
    "df_test = df_test.iloc[:1000]"
   ]
  },
  {
   "cell_type": "markdown",
   "id": "9c14fea9",
   "metadata": {},
   "source": [
    "## Create network"
   ]
  },
  {
   "cell_type": "code",
   "execution_count": 7,
   "id": "a61cd2ed",
   "metadata": {},
   "outputs": [],
   "source": [
    "G = nx.Graph()\n",
    "G.add_nodes_from(df_train.TERM_MIDUID.unique(), type='merchant')\n",
    "G.add_nodes_from(df_train.CARD_PAN_ID.unique(), type='cardholder')\n",
    "G.add_nodes_from(df_train.TX_ID.unique(), type='transaction')\n",
    "\n",
    "G.add_edges_from(zip(df_train.CARD_PAN_ID, df_train.TX_ID))\n",
    "G.add_edges_from(zip(df_train.TX_ID, df_train.TERM_MIDUID))"
   ]
  },
  {
   "cell_type": "markdown",
   "id": "deefee93",
   "metadata": {},
   "source": [
    "## Deepwalk"
   ]
  },
  {
   "cell_type": "code",
   "execution_count": 8,
   "id": "d492329a",
   "metadata": {
    "scrolled": true
   },
   "outputs": [
    {
     "name": "stdout",
     "output_type": "stream",
     "text": [
      "Making walks... Done, T=2.87\n",
      "Mapping Walk Names... "
     ]
    },
    {
     "name": "stderr",
     "output_type": "stream",
     "text": [
      "INFO:gensim.models.word2vec:collecting all words and their counts\n",
      "INFO:gensim.models.word2vec:PROGRESS: at sentence #0, processed 0 words, keeping 0 word types\n",
      "INFO:gensim.models.word2vec:PROGRESS: at sentence #10000, processed 800000 words, keeping 2199 word types\n",
      "INFO:gensim.models.word2vec:PROGRESS: at sentence #20000, processed 1600000 words, keeping 2199 word types\n",
      "INFO:gensim.models.word2vec:collected 2199 word types from a corpus of 1759200 raw words and 21990 sentences\n",
      "INFO:gensim.models.word2vec:Loading a fresh vocabulary\n",
      "INFO:gensim.models.word2vec:effective_min_count=5 retains 2199 unique words (100% of original 2199, drops 0)\n",
      "INFO:gensim.models.word2vec:effective_min_count=5 leaves 1759200 word corpus (100% of original 1759200, drops 0)\n",
      "INFO:gensim.models.word2vec:deleting the raw counts dictionary of 2199 items\n",
      "INFO:gensim.models.word2vec:sample=0.001 downsamples 16 most-common words\n",
      "INFO:gensim.models.word2vec:downsampling leaves estimated 1677923 word corpus (95.4% of prior 1759200)\n",
      "INFO:gensim.models.base_any2vec:estimated required memory for 2199 words and 128 dimensions: 3351276 bytes\n",
      "INFO:gensim.models.word2vec:resetting layer weights\n"
     ]
    },
    {
     "name": "stdout",
     "output_type": "stream",
     "text": [
      "Done, T=0.80\n",
      "Training W2V... "
     ]
    },
    {
     "name": "stderr",
     "output_type": "stream",
     "text": [
      "INFO:gensim.models.base_any2vec:training model with 12 workers on 2199 vocabulary and 128 features, using sg=0 hs=0 sample=0.001 negative=5 window=5\n",
      "INFO:gensim.models.base_any2vec:worker thread finished; awaiting finish of 11 more threads\n",
      "INFO:gensim.models.base_any2vec:worker thread finished; awaiting finish of 10 more threads\n",
      "INFO:gensim.models.base_any2vec:worker thread finished; awaiting finish of 9 more threads\n",
      "INFO:gensim.models.base_any2vec:worker thread finished; awaiting finish of 8 more threads\n",
      "INFO:gensim.models.base_any2vec:worker thread finished; awaiting finish of 7 more threads\n",
      "INFO:gensim.models.base_any2vec:worker thread finished; awaiting finish of 6 more threads\n",
      "INFO:gensim.models.base_any2vec:worker thread finished; awaiting finish of 5 more threads\n",
      "INFO:gensim.models.base_any2vec:worker thread finished; awaiting finish of 4 more threads\n",
      "INFO:gensim.models.base_any2vec:worker thread finished; awaiting finish of 3 more threads\n",
      "INFO:gensim.models.base_any2vec:worker thread finished; awaiting finish of 2 more threads\n",
      "INFO:gensim.models.base_any2vec:worker thread finished; awaiting finish of 1 more threads\n",
      "INFO:gensim.models.base_any2vec:worker thread finished; awaiting finish of 0 more threads\n",
      "INFO:gensim.models.base_any2vec:EPOCH - 1 : training on 1759200 raw words (1677762 effective words) took 0.5s, 3368639 effective words/s\n",
      "INFO:gensim.models.base_any2vec:worker thread finished; awaiting finish of 11 more threads\n",
      "INFO:gensim.models.base_any2vec:worker thread finished; awaiting finish of 10 more threads\n",
      "INFO:gensim.models.base_any2vec:worker thread finished; awaiting finish of 9 more threads\n",
      "INFO:gensim.models.base_any2vec:worker thread finished; awaiting finish of 8 more threads\n",
      "INFO:gensim.models.base_any2vec:worker thread finished; awaiting finish of 7 more threads\n",
      "INFO:gensim.models.base_any2vec:worker thread finished; awaiting finish of 6 more threads\n",
      "INFO:gensim.models.base_any2vec:worker thread finished; awaiting finish of 5 more threads\n",
      "INFO:gensim.models.base_any2vec:worker thread finished; awaiting finish of 4 more threads\n",
      "INFO:gensim.models.base_any2vec:worker thread finished; awaiting finish of 3 more threads\n",
      "INFO:gensim.models.base_any2vec:worker thread finished; awaiting finish of 2 more threads\n",
      "INFO:gensim.models.base_any2vec:worker thread finished; awaiting finish of 1 more threads\n",
      "INFO:gensim.models.base_any2vec:worker thread finished; awaiting finish of 0 more threads\n",
      "INFO:gensim.models.base_any2vec:EPOCH - 2 : training on 1759200 raw words (1677736 effective words) took 0.5s, 3425878 effective words/s\n",
      "INFO:gensim.models.base_any2vec:worker thread finished; awaiting finish of 11 more threads\n",
      "INFO:gensim.models.base_any2vec:worker thread finished; awaiting finish of 10 more threads\n",
      "INFO:gensim.models.base_any2vec:worker thread finished; awaiting finish of 9 more threads\n",
      "INFO:gensim.models.base_any2vec:worker thread finished; awaiting finish of 8 more threads\n",
      "INFO:gensim.models.base_any2vec:worker thread finished; awaiting finish of 7 more threads\n",
      "INFO:gensim.models.base_any2vec:worker thread finished; awaiting finish of 6 more threads\n",
      "INFO:gensim.models.base_any2vec:worker thread finished; awaiting finish of 5 more threads\n",
      "INFO:gensim.models.base_any2vec:worker thread finished; awaiting finish of 4 more threads\n",
      "INFO:gensim.models.base_any2vec:worker thread finished; awaiting finish of 3 more threads\n",
      "INFO:gensim.models.base_any2vec:worker thread finished; awaiting finish of 2 more threads\n",
      "INFO:gensim.models.base_any2vec:worker thread finished; awaiting finish of 1 more threads\n",
      "INFO:gensim.models.base_any2vec:worker thread finished; awaiting finish of 0 more threads\n",
      "INFO:gensim.models.base_any2vec:EPOCH - 3 : training on 1759200 raw words (1678109 effective words) took 0.4s, 3887280 effective words/s\n",
      "INFO:gensim.models.base_any2vec:worker thread finished; awaiting finish of 11 more threads\n",
      "INFO:gensim.models.base_any2vec:worker thread finished; awaiting finish of 10 more threads\n",
      "INFO:gensim.models.base_any2vec:worker thread finished; awaiting finish of 9 more threads\n",
      "INFO:gensim.models.base_any2vec:worker thread finished; awaiting finish of 8 more threads\n",
      "INFO:gensim.models.base_any2vec:worker thread finished; awaiting finish of 7 more threads\n",
      "INFO:gensim.models.base_any2vec:worker thread finished; awaiting finish of 6 more threads\n",
      "INFO:gensim.models.base_any2vec:worker thread finished; awaiting finish of 5 more threads\n",
      "INFO:gensim.models.base_any2vec:worker thread finished; awaiting finish of 4 more threads\n",
      "INFO:gensim.models.base_any2vec:worker thread finished; awaiting finish of 3 more threads\n",
      "INFO:gensim.models.base_any2vec:worker thread finished; awaiting finish of 2 more threads\n",
      "INFO:gensim.models.base_any2vec:worker thread finished; awaiting finish of 1 more threads\n",
      "INFO:gensim.models.base_any2vec:worker thread finished; awaiting finish of 0 more threads\n",
      "INFO:gensim.models.base_any2vec:EPOCH - 4 : training on 1759200 raw words (1678432 effective words) took 0.4s, 3983095 effective words/s\n",
      "INFO:gensim.models.base_any2vec:worker thread finished; awaiting finish of 11 more threads\n",
      "INFO:gensim.models.base_any2vec:worker thread finished; awaiting finish of 10 more threads\n",
      "INFO:gensim.models.base_any2vec:worker thread finished; awaiting finish of 9 more threads\n",
      "INFO:gensim.models.base_any2vec:worker thread finished; awaiting finish of 8 more threads\n",
      "INFO:gensim.models.base_any2vec:worker thread finished; awaiting finish of 7 more threads\n",
      "INFO:gensim.models.base_any2vec:worker thread finished; awaiting finish of 6 more threads\n",
      "INFO:gensim.models.base_any2vec:worker thread finished; awaiting finish of 5 more threads\n",
      "INFO:gensim.models.base_any2vec:worker thread finished; awaiting finish of 4 more threads\n",
      "INFO:gensim.models.base_any2vec:worker thread finished; awaiting finish of 3 more threads\n",
      "INFO:gensim.models.base_any2vec:worker thread finished; awaiting finish of 2 more threads\n",
      "INFO:gensim.models.base_any2vec:worker thread finished; awaiting finish of 1 more threads\n",
      "INFO:gensim.models.base_any2vec:worker thread finished; awaiting finish of 0 more threads\n",
      "INFO:gensim.models.base_any2vec:EPOCH - 5 : training on 1759200 raw words (1677932 effective words) took 0.4s, 4105889 effective words/s\n",
      "INFO:gensim.models.base_any2vec:training on a 8796000 raw words (8389971 effective words) took 2.3s, 3662801 effective words/s\n"
     ]
    },
    {
     "name": "stdout",
     "output_type": "stream",
     "text": [
      "Done, T=2.87\n"
     ]
    }
   ],
   "source": [
    "# Fit embedding model to graph\n",
    "g2v = Node2Vec(\n",
    "    n_components=dimensions,\n",
    "    walklen = walk_len,\n",
    "    epochs = walk_num,\n",
    "    w2vparams={'workers': workers, 'window': window_size}\n",
    ")\n",
    "\n",
    "g2v.fit(G)\n",
    "model = g2v.model"
   ]
  },
  {
   "cell_type": "code",
   "execution_count": 9,
   "id": "85c3524d",
   "metadata": {
    "lines_to_end_of_cell_marker": 2
   },
   "outputs": [],
   "source": [
    "embeddings = {}\n",
    "for i in df_train.TX_ID:\n",
    "    embeddings[i] = model.wv[str(i)]\n",
    "\n",
    "\n",
    "embeddings = pd.DataFrame().from_dict(embeddings, orient='index')"
   ]
  },
  {
   "cell_type": "code",
   "execution_count": 10,
   "id": "c177d4e2",
   "metadata": {},
   "outputs": [],
   "source": [
    "df_train = df_train.merge(embeddings, left_on='TX_ID', right_index=True)"
   ]
  },
  {
   "cell_type": "markdown",
   "id": "e093638c",
   "metadata": {},
   "source": [
    "## Inductive Pooling"
   ]
  },
  {
   "cell_type": "code",
   "execution_count": 11,
   "id": "273775bb",
   "metadata": {},
   "outputs": [
    {
     "name": "stderr",
     "output_type": "stream",
     "text": [
      " 91%|█████████ | 151/166 [00:00<00:00, 428.40it/s]\n",
      "100%|██████████| 167/167 [00:00<00:00, 491.35it/s]\n",
      "100%|██████████| 167/167 [00:00<00:00, 492.11it/s]\n",
      "100%|██████████| 166/166 [00:00<00:00, 495.14it/s]\n",
      "\n",
      "100%|██████████| 167/167 [00:00<00:00, 444.36it/s]\n"
     ]
    }
   ],
   "source": [
    "results = inductive_pooling(df=df_test, embeddings=embeddings, G=G, workers=workers)"
   ]
  },
  {
   "cell_type": "code",
   "execution_count": 12,
   "id": "5d3ee234",
   "metadata": {},
   "outputs": [],
   "source": [
    "df_new_embeddings = pd.concat([pd.DataFrame(li).transpose() for li in results])"
   ]
  },
  {
   "cell_type": "code",
   "execution_count": 13,
   "id": "54d41985",
   "metadata": {},
   "outputs": [],
   "source": [
    "df_new_embeddings.index = df_test.TX_ID\n",
    "df_test = df_test.merge(df_new_embeddings, left_on='TX_ID', right_index=True)"
   ]
  },
  {
   "cell_type": "markdown",
   "id": "cb0bb214",
   "metadata": {},
   "source": [
    "## XGBoost Classifier"
   ]
  },
  {
   "cell_type": "code",
   "execution_count": 14,
   "id": "8102d08d",
   "metadata": {},
   "outputs": [],
   "source": [
    "embedding_features = [i for i in range(dimensions)]"
   ]
  },
  {
   "cell_type": "code",
   "execution_count": 15,
   "id": "cca4b005",
   "metadata": {},
   "outputs": [],
   "source": [
    "X_train = df_train[embedding_features].iloc[:int(df_train.shape[0]*0.8)]\n",
    "X_val = df_train[embedding_features].iloc[int(df_train.shape[0]*0.8):]\n",
    "y_train = df_train.TX_FRAUD.iloc[:int(df_train.shape[0]*0.8)]\n",
    "y_val = df_train.TX_FRAUD.iloc[int(df_train.shape[0]*0.8):]\n",
    "\n",
    "X_test = df_test[embedding_features]\n",
    "y_test = df_test.TX_FRAUD\n",
    "\n",
    "dtrain = xgb.DMatrix(X_train, label=y_train)\n",
    "dval = xgb.DMatrix(X_val, label=y_val)\n",
    "dtest = xgb.DMatrix(X_test, label=y_test)"
   ]
  },
  {
   "cell_type": "code",
   "execution_count": 16,
   "id": "f1d4c0d0",
   "metadata": {},
   "outputs": [],
   "source": [
    "xgb_params = {\n",
    "    'eval_metric': ['auc','aucpr', 'logloss'],\n",
    "    'objective':'binary:logistic',\n",
    "    'n_estimators': 300,\n",
    "    'n_jobs':8,\n",
    "    'learning_rate':0.1,\n",
    "    'seed':42\n",
    "}"
   ]
  },
  {
   "cell_type": "code",
   "execution_count": 17,
   "id": "c3ea7144",
   "metadata": {
    "scrolled": true
   },
   "outputs": [
    {
     "name": "stdout",
     "output_type": "stream",
     "text": [
      "[18:44:48] WARNING: /Users/runner/miniforge3/conda-bld/xgboost_1593723618214/work/src/learner.cc:480: \n",
      "Parameters: { n_estimators } might not be used.\n",
      "\n",
      "  This may not be accurate due to some parameters are only used in language bindings but\n",
      "  passed down to XGBoost core.  Or some parameters are not used but slip through this\n",
      "  verification. Please open an issue if you find above cases.\n",
      "\n",
      "\n",
      "[0]\tval-auc:0.73737\tval-aucpr:0.09467\tval-logloss:0.60193\ttrain-auc:0.99435\ttrain-aucpr:0.25000\ttrain-logloss:0.59983\n",
      "Multiple eval metrics have been passed: 'train-logloss' will be used for early stopping.\n",
      "\n",
      "Will train until train-logloss hasn't improved in 150 rounds.\n",
      "[1]\tval-auc:0.73106\tval-aucpr:0.09320\tval-logloss:0.52746\ttrain-auc:0.99812\ttrain-aucpr:0.80751\ttrain-logloss:0.52338\n",
      "[2]\tval-auc:0.73232\tval-aucpr:0.13466\tval-logloss:0.46467\ttrain-auc:0.99937\ttrain-aucpr:0.88733\ttrain-logloss:0.45953\n",
      "[3]\tval-auc:0.72854\tval-aucpr:0.13414\tval-logloss:0.41200\ttrain-auc:0.99937\ttrain-aucpr:0.88733\ttrain-logloss:0.40548\n",
      "[4]\tval-auc:0.72980\tval-aucpr:0.50884\tval-logloss:0.36622\ttrain-auc:1.00000\ttrain-aucpr:1.00000\ttrain-logloss:0.35925\n",
      "[5]\tval-auc:0.72980\tval-aucpr:0.50884\tval-logloss:0.32754\ttrain-auc:1.00000\ttrain-aucpr:1.00000\ttrain-logloss:0.31940\n",
      "[6]\tval-auc:0.72980\tval-aucpr:0.50884\tval-logloss:0.29386\ttrain-auc:1.00000\ttrain-aucpr:1.00000\ttrain-logloss:0.28480\n",
      "[7]\tval-auc:0.72980\tval-aucpr:0.50884\tval-logloss:0.26438\ttrain-auc:1.00000\ttrain-aucpr:1.00000\ttrain-logloss:0.25459\n",
      "[8]\tval-auc:0.72980\tval-aucpr:0.50884\tval-logloss:0.23840\ttrain-auc:1.00000\ttrain-aucpr:1.00000\ttrain-logloss:0.22811\n",
      "[9]\tval-auc:0.72096\tval-aucpr:0.50804\tval-logloss:0.21628\ttrain-auc:1.00000\ttrain-aucpr:1.00000\ttrain-logloss:0.20480\n",
      "[10]\tval-auc:0.71970\tval-aucpr:0.50795\tval-logloss:0.19601\ttrain-auc:1.00000\ttrain-aucpr:1.00000\ttrain-logloss:0.18419\n",
      "[11]\tval-auc:0.71843\tval-aucpr:0.50786\tval-logloss:0.17848\ttrain-auc:1.00000\ttrain-aucpr:1.00000\ttrain-logloss:0.16593\n",
      "[12]\tval-auc:0.71717\tval-aucpr:0.50777\tval-logloss:0.16317\ttrain-auc:1.00000\ttrain-aucpr:1.00000\ttrain-logloss:0.14972\n",
      "[13]\tval-auc:0.71591\tval-aucpr:0.50769\tval-logloss:0.14939\ttrain-auc:1.00000\ttrain-aucpr:1.00000\ttrain-logloss:0.13528\n",
      "[14]\tval-auc:0.70960\tval-aucpr:0.50732\tval-logloss:0.13726\ttrain-auc:1.00000\ttrain-aucpr:1.00000\ttrain-logloss:0.12241\n",
      "[15]\tval-auc:0.70833\tval-aucpr:0.50726\tval-logloss:0.12640\ttrain-auc:1.00000\ttrain-aucpr:1.00000\ttrain-logloss:0.11093\n",
      "[16]\tval-auc:0.70581\tval-aucpr:0.50713\tval-logloss:0.11642\ttrain-auc:1.00000\ttrain-aucpr:1.00000\ttrain-logloss:0.10065\n",
      "[17]\tval-auc:0.70581\tval-aucpr:0.50713\tval-logloss:0.10774\ttrain-auc:1.00000\ttrain-aucpr:1.00000\ttrain-logloss:0.09145\n",
      "[18]\tval-auc:0.70202\tval-aucpr:0.50695\tval-logloss:0.09994\ttrain-auc:1.00000\ttrain-aucpr:1.00000\ttrain-logloss:0.08320\n",
      "[19]\tval-auc:0.69823\tval-aucpr:0.50679\tval-logloss:0.09312\ttrain-auc:1.00000\ttrain-aucpr:1.00000\ttrain-logloss:0.07580\n",
      "[20]\tval-auc:0.69823\tval-aucpr:0.50679\tval-logloss:0.08663\ttrain-auc:1.00000\ttrain-aucpr:1.00000\ttrain-logloss:0.06916\n",
      "[21]\tval-auc:0.69571\tval-aucpr:0.50669\tval-logloss:0.08142\ttrain-auc:1.00000\ttrain-aucpr:1.00000\ttrain-logloss:0.06319\n",
      "[22]\tval-auc:0.68687\tval-aucpr:0.50637\tval-logloss:0.07641\ttrain-auc:1.00000\ttrain-aucpr:1.00000\ttrain-logloss:0.05773\n",
      "[23]\tval-auc:0.66793\tval-aucpr:0.50583\tval-logloss:0.07165\ttrain-auc:1.00000\ttrain-aucpr:1.00000\ttrain-logloss:0.05262\n",
      "[24]\tval-auc:0.66793\tval-aucpr:0.50583\tval-logloss:0.06741\ttrain-auc:1.00000\ttrain-aucpr:1.00000\ttrain-logloss:0.04802\n",
      "[25]\tval-auc:0.65783\tval-aucpr:0.50560\tval-logloss:0.06399\ttrain-auc:1.00000\ttrain-aucpr:1.00000\ttrain-logloss:0.04403\n",
      "[26]\tval-auc:0.65783\tval-aucpr:0.50560\tval-logloss:0.06058\ttrain-auc:1.00000\ttrain-aucpr:1.00000\ttrain-logloss:0.04027\n",
      "[27]\tval-auc:0.65783\tval-aucpr:0.50560\tval-logloss:0.05755\ttrain-auc:1.00000\ttrain-aucpr:1.00000\ttrain-logloss:0.03687\n",
      "[28]\tval-auc:0.65783\tval-aucpr:0.50560\tval-logloss:0.05481\ttrain-auc:1.00000\ttrain-aucpr:1.00000\ttrain-logloss:0.03381\n",
      "[29]\tval-auc:0.64899\tval-aucpr:0.50541\tval-logloss:0.05260\ttrain-auc:1.00000\ttrain-aucpr:1.00000\ttrain-logloss:0.03123\n",
      "[30]\tval-auc:0.64899\tval-aucpr:0.50541\tval-logloss:0.05044\ttrain-auc:1.00000\ttrain-aucpr:1.00000\ttrain-logloss:0.02869\n",
      "[31]\tval-auc:0.64899\tval-aucpr:0.50541\tval-logloss:0.04849\ttrain-auc:1.00000\ttrain-aucpr:1.00000\ttrain-logloss:0.02639\n",
      "[32]\tval-auc:0.64268\tval-aucpr:0.50530\tval-logloss:0.04700\ttrain-auc:1.00000\ttrain-aucpr:1.00000\ttrain-logloss:0.02448\n",
      "[33]\tval-auc:0.64268\tval-aucpr:0.50530\tval-logloss:0.04538\ttrain-auc:1.00000\ttrain-aucpr:1.00000\ttrain-logloss:0.02256\n",
      "[34]\tval-auc:0.64268\tval-aucpr:0.50530\tval-logloss:0.04403\ttrain-auc:1.00000\ttrain-aucpr:1.00000\ttrain-logloss:0.02082\n",
      "[35]\tval-auc:0.63258\tval-aucpr:0.50512\tval-logloss:0.04302\ttrain-auc:1.00000\ttrain-aucpr:1.00000\ttrain-logloss:0.01940\n",
      "[36]\tval-auc:0.63258\tval-aucpr:0.50512\tval-logloss:0.04193\ttrain-auc:1.00000\ttrain-aucpr:1.00000\ttrain-logloss:0.01795\n",
      "[37]\tval-auc:0.63258\tval-aucpr:0.50512\tval-logloss:0.04093\ttrain-auc:1.00000\ttrain-aucpr:1.00000\ttrain-logloss:0.01663\n",
      "[38]\tval-auc:0.61490\tval-aucpr:0.50485\tval-logloss:0.04030\ttrain-auc:1.00000\ttrain-aucpr:1.00000\ttrain-logloss:0.01556\n",
      "[39]\tval-auc:0.61490\tval-aucpr:0.50485\tval-logloss:0.03957\ttrain-auc:1.00000\ttrain-aucpr:1.00000\ttrain-logloss:0.01444\n",
      "[40]\tval-auc:0.61490\tval-aucpr:0.50485\tval-logloss:0.03889\ttrain-auc:1.00000\ttrain-aucpr:1.00000\ttrain-logloss:0.01343\n",
      "[41]\tval-auc:0.58965\tval-aucpr:0.50453\tval-logloss:0.03828\ttrain-auc:1.00000\ttrain-aucpr:1.00000\ttrain-logloss:0.01249\n",
      "[42]\tval-auc:0.69571\tval-aucpr:0.50612\tval-logloss:0.03761\ttrain-auc:1.00000\ttrain-aucpr:1.00000\ttrain-logloss:0.01164\n",
      "[43]\tval-auc:0.69571\tval-aucpr:0.50612\tval-logloss:0.03722\ttrain-auc:1.00000\ttrain-aucpr:1.00000\ttrain-logloss:0.01087\n",
      "[44]\tval-auc:0.68561\tval-aucpr:0.50592\tval-logloss:0.03686\ttrain-auc:1.00000\ttrain-aucpr:1.00000\ttrain-logloss:0.01016\n",
      "[45]\tval-auc:0.73864\tval-aucpr:0.50711\tval-logloss:0.03629\ttrain-auc:1.00000\ttrain-aucpr:1.00000\ttrain-logloss:0.00962\n",
      "[46]\tval-auc:0.73864\tval-aucpr:0.50711\tval-logloss:0.03618\ttrain-auc:1.00000\ttrain-aucpr:1.00000\ttrain-logloss:0.00913\n",
      "[47]\tval-auc:0.73864\tval-aucpr:0.50711\tval-logloss:0.03612\ttrain-auc:1.00000\ttrain-aucpr:1.00000\ttrain-logloss:0.00868\n",
      "[48]\tval-auc:0.72854\tval-aucpr:0.50685\tval-logloss:0.03607\ttrain-auc:1.00000\ttrain-aucpr:1.00000\ttrain-logloss:0.00826\n",
      "[49]\tval-auc:0.76389\tval-aucpr:0.50785\tval-logloss:0.03561\ttrain-auc:1.00000\ttrain-aucpr:1.00000\ttrain-logloss:0.00787\n",
      "[50]\tval-auc:0.72601\tval-aucpr:0.50678\tval-logloss:0.03562\ttrain-auc:1.00000\ttrain-aucpr:1.00000\ttrain-logloss:0.00751\n",
      "[51]\tval-auc:0.71591\tval-aucpr:0.50655\tval-logloss:0.03564\ttrain-auc:1.00000\ttrain-aucpr:1.00000\ttrain-logloss:0.00718\n",
      "[52]\tval-auc:0.71591\tval-aucpr:0.50655\tval-logloss:0.03570\ttrain-auc:1.00000\ttrain-aucpr:1.00000\ttrain-logloss:0.00687\n",
      "[53]\tval-auc:0.70833\tval-aucpr:0.50639\tval-logloss:0.03575\ttrain-auc:1.00000\ttrain-aucpr:1.00000\ttrain-logloss:0.00658\n",
      "[54]\tval-auc:0.75379\tval-aucpr:0.50755\tval-logloss:0.03537\ttrain-auc:1.00000\ttrain-aucpr:1.00000\ttrain-logloss:0.00631\n",
      "[55]\tval-auc:0.71843\tval-aucpr:0.50661\tval-logloss:0.03546\ttrain-auc:1.00000\ttrain-aucpr:1.00000\ttrain-logloss:0.00606\n",
      "[56]\tval-auc:0.71086\tval-aucpr:0.50644\tval-logloss:0.03556\ttrain-auc:1.00000\ttrain-aucpr:1.00000\ttrain-logloss:0.00582\n",
      "[57]\tval-auc:0.71086\tval-aucpr:0.50644\tval-logloss:0.03567\ttrain-auc:1.00000\ttrain-aucpr:1.00000\ttrain-logloss:0.00560\n",
      "[58]\tval-auc:0.70833\tval-aucpr:0.50639\tval-logloss:0.03578\ttrain-auc:1.00000\ttrain-aucpr:1.00000\ttrain-logloss:0.00539\n",
      "[59]\tval-auc:0.76136\tval-aucpr:0.50778\tval-logloss:0.03547\ttrain-auc:1.00000\ttrain-aucpr:1.00000\ttrain-logloss:0.00520\n",
      "[60]\tval-auc:0.75379\tval-aucpr:0.50755\tval-logloss:0.03559\ttrain-auc:1.00000\ttrain-aucpr:1.00000\ttrain-logloss:0.00502\n",
      "[61]\tval-auc:0.75126\tval-aucpr:0.50747\tval-logloss:0.03573\ttrain-auc:1.00000\ttrain-aucpr:1.00000\ttrain-logloss:0.00484\n",
      "[62]\tval-auc:0.75126\tval-aucpr:0.50747\tval-logloss:0.03587\ttrain-auc:1.00000\ttrain-aucpr:1.00000\ttrain-logloss:0.00468\n",
      "[63]\tval-auc:0.76136\tval-aucpr:0.50778\tval-logloss:0.03559\ttrain-auc:1.00000\ttrain-aucpr:1.00000\ttrain-logloss:0.00452\n",
      "[64]\tval-auc:0.76136\tval-aucpr:0.50778\tval-logloss:0.03574\ttrain-auc:1.00000\ttrain-aucpr:1.00000\ttrain-logloss:0.00438\n"
     ]
    },
    {
     "name": "stdout",
     "output_type": "stream",
     "text": [
      "[65]\tval-auc:0.75379\tval-aucpr:0.50755\tval-logloss:0.03588\ttrain-auc:1.00000\ttrain-aucpr:1.00000\ttrain-logloss:0.00424\n",
      "[66]\tval-auc:0.75379\tval-aucpr:0.50755\tval-logloss:0.03603\ttrain-auc:1.00000\ttrain-aucpr:1.00000\ttrain-logloss:0.00411\n",
      "[67]\tval-auc:0.75379\tval-aucpr:0.50755\tval-logloss:0.03620\ttrain-auc:1.00000\ttrain-aucpr:1.00000\ttrain-logloss:0.00398\n",
      "[68]\tval-auc:0.72601\tval-aucpr:0.50680\tval-logloss:0.03635\ttrain-auc:1.00000\ttrain-aucpr:1.00000\ttrain-logloss:0.00387\n",
      "[69]\tval-auc:0.75884\tval-aucpr:0.50771\tval-logloss:0.03610\ttrain-auc:1.00000\ttrain-aucpr:1.00000\ttrain-logloss:0.00375\n",
      "[70]\tval-auc:0.75379\tval-aucpr:0.50755\tval-logloss:0.03626\ttrain-auc:1.00000\ttrain-aucpr:1.00000\ttrain-logloss:0.00365\n",
      "[71]\tval-auc:0.75126\tval-aucpr:0.50748\tval-logloss:0.03642\ttrain-auc:1.00000\ttrain-aucpr:1.00000\ttrain-logloss:0.00354\n",
      "[72]\tval-auc:0.72854\tval-aucpr:0.50686\tval-logloss:0.03658\ttrain-auc:1.00000\ttrain-aucpr:1.00000\ttrain-logloss:0.00345\n",
      "[73]\tval-auc:0.72854\tval-aucpr:0.50686\tval-logloss:0.03674\ttrain-auc:1.00000\ttrain-aucpr:1.00000\ttrain-logloss:0.00335\n",
      "[74]\tval-auc:0.72601\tval-aucpr:0.50680\tval-logloss:0.03690\ttrain-auc:1.00000\ttrain-aucpr:1.00000\ttrain-logloss:0.00326\n",
      "[75]\tval-auc:0.72601\tval-aucpr:0.50680\tval-logloss:0.03706\ttrain-auc:1.00000\ttrain-aucpr:1.00000\ttrain-logloss:0.00318\n",
      "[76]\tval-auc:0.73106\tval-aucpr:0.50692\tval-logloss:0.03684\ttrain-auc:1.00000\ttrain-aucpr:1.00000\ttrain-logloss:0.00310\n",
      "[77]\tval-auc:0.73106\tval-aucpr:0.50692\tval-logloss:0.03700\ttrain-auc:1.00000\ttrain-aucpr:1.00000\ttrain-logloss:0.00302\n",
      "[78]\tval-auc:0.73106\tval-aucpr:0.50692\tval-logloss:0.03717\ttrain-auc:1.00000\ttrain-aucpr:1.00000\ttrain-logloss:0.00295\n",
      "[79]\tval-auc:0.73106\tval-aucpr:0.50692\tval-logloss:0.03725\ttrain-auc:1.00000\ttrain-aucpr:1.00000\ttrain-logloss:0.00294\n",
      "[80]\tval-auc:0.73106\tval-aucpr:0.50692\tval-logloss:0.03734\ttrain-auc:1.00000\ttrain-aucpr:1.00000\ttrain-logloss:0.00293\n",
      "[81]\tval-auc:0.73106\tval-aucpr:0.50692\tval-logloss:0.03742\ttrain-auc:1.00000\ttrain-aucpr:1.00000\ttrain-logloss:0.00292\n",
      "[82]\tval-auc:0.73106\tval-aucpr:0.50692\tval-logloss:0.03749\ttrain-auc:1.00000\ttrain-aucpr:1.00000\ttrain-logloss:0.00291\n",
      "[83]\tval-auc:0.73106\tval-aucpr:0.50692\tval-logloss:0.03756\ttrain-auc:1.00000\ttrain-aucpr:1.00000\ttrain-logloss:0.00290\n",
      "[84]\tval-auc:0.73106\tval-aucpr:0.50692\tval-logloss:0.03763\ttrain-auc:1.00000\ttrain-aucpr:1.00000\ttrain-logloss:0.00290\n",
      "[85]\tval-auc:0.73106\tval-aucpr:0.50692\tval-logloss:0.03769\ttrain-auc:1.00000\ttrain-aucpr:1.00000\ttrain-logloss:0.00289\n",
      "[86]\tval-auc:0.73106\tval-aucpr:0.50692\tval-logloss:0.03775\ttrain-auc:1.00000\ttrain-aucpr:1.00000\ttrain-logloss:0.00289\n",
      "[87]\tval-auc:0.73106\tval-aucpr:0.50692\tval-logloss:0.03781\ttrain-auc:1.00000\ttrain-aucpr:1.00000\ttrain-logloss:0.00288\n",
      "[88]\tval-auc:0.73106\tval-aucpr:0.50692\tval-logloss:0.03786\ttrain-auc:1.00000\ttrain-aucpr:1.00000\ttrain-logloss:0.00288\n",
      "[89]\tval-auc:0.73106\tval-aucpr:0.50692\tval-logloss:0.03791\ttrain-auc:1.00000\ttrain-aucpr:1.00000\ttrain-logloss:0.00287\n",
      "[90]\tval-auc:0.73106\tval-aucpr:0.50692\tval-logloss:0.03796\ttrain-auc:1.00000\ttrain-aucpr:1.00000\ttrain-logloss:0.00287\n",
      "[91]\tval-auc:0.73106\tval-aucpr:0.50692\tval-logloss:0.03801\ttrain-auc:1.00000\ttrain-aucpr:1.00000\ttrain-logloss:0.00287\n",
      "[92]\tval-auc:0.73106\tval-aucpr:0.50692\tval-logloss:0.03805\ttrain-auc:1.00000\ttrain-aucpr:1.00000\ttrain-logloss:0.00287\n",
      "[93]\tval-auc:0.73106\tval-aucpr:0.50692\tval-logloss:0.03809\ttrain-auc:1.00000\ttrain-aucpr:1.00000\ttrain-logloss:0.00287\n",
      "[94]\tval-auc:0.73106\tval-aucpr:0.50692\tval-logloss:0.03812\ttrain-auc:1.00000\ttrain-aucpr:1.00000\ttrain-logloss:0.00286\n",
      "[95]\tval-auc:0.73106\tval-aucpr:0.50692\tval-logloss:0.03816\ttrain-auc:1.00000\ttrain-aucpr:1.00000\ttrain-logloss:0.00286\n",
      "[96]\tval-auc:0.73106\tval-aucpr:0.50692\tval-logloss:0.03819\ttrain-auc:1.00000\ttrain-aucpr:1.00000\ttrain-logloss:0.00286\n",
      "[97]\tval-auc:0.73106\tval-aucpr:0.50692\tval-logloss:0.03823\ttrain-auc:1.00000\ttrain-aucpr:1.00000\ttrain-logloss:0.00286\n",
      "[98]\tval-auc:0.73106\tval-aucpr:0.50692\tval-logloss:0.03825\ttrain-auc:1.00000\ttrain-aucpr:1.00000\ttrain-logloss:0.00286\n",
      "[99]\tval-auc:0.73106\tval-aucpr:0.50692\tval-logloss:0.03828\ttrain-auc:1.00000\ttrain-aucpr:1.00000\ttrain-logloss:0.00286\n",
      "[100]\tval-auc:0.73106\tval-aucpr:0.50692\tval-logloss:0.03831\ttrain-auc:1.00000\ttrain-aucpr:1.00000\ttrain-logloss:0.00286\n",
      "[101]\tval-auc:0.73106\tval-aucpr:0.50692\tval-logloss:0.03833\ttrain-auc:1.00000\ttrain-aucpr:1.00000\ttrain-logloss:0.00286\n",
      "[102]\tval-auc:0.73106\tval-aucpr:0.50692\tval-logloss:0.03836\ttrain-auc:1.00000\ttrain-aucpr:1.00000\ttrain-logloss:0.00286\n",
      "[103]\tval-auc:0.73106\tval-aucpr:0.50692\tval-logloss:0.03838\ttrain-auc:1.00000\ttrain-aucpr:1.00000\ttrain-logloss:0.00286\n",
      "[104]\tval-auc:0.73106\tval-aucpr:0.50692\tval-logloss:0.03840\ttrain-auc:1.00000\ttrain-aucpr:1.00000\ttrain-logloss:0.00286\n",
      "[105]\tval-auc:0.73106\tval-aucpr:0.50692\tval-logloss:0.03842\ttrain-auc:1.00000\ttrain-aucpr:1.00000\ttrain-logloss:0.00286\n",
      "[106]\tval-auc:0.73106\tval-aucpr:0.50692\tval-logloss:0.03843\ttrain-auc:1.00000\ttrain-aucpr:1.00000\ttrain-logloss:0.00285\n",
      "[107]\tval-auc:0.73106\tval-aucpr:0.50692\tval-logloss:0.03845\ttrain-auc:1.00000\ttrain-aucpr:1.00000\ttrain-logloss:0.00285\n",
      "[108]\tval-auc:0.73106\tval-aucpr:0.50692\tval-logloss:0.03847\ttrain-auc:1.00000\ttrain-aucpr:1.00000\ttrain-logloss:0.00285\n",
      "[109]\tval-auc:0.73106\tval-aucpr:0.50692\tval-logloss:0.03848\ttrain-auc:1.00000\ttrain-aucpr:1.00000\ttrain-logloss:0.00285\n",
      "[110]\tval-auc:0.73106\tval-aucpr:0.50692\tval-logloss:0.03849\ttrain-auc:1.00000\ttrain-aucpr:1.00000\ttrain-logloss:0.00285\n",
      "[111]\tval-auc:0.73106\tval-aucpr:0.50692\tval-logloss:0.03851\ttrain-auc:1.00000\ttrain-aucpr:1.00000\ttrain-logloss:0.00285\n",
      "[112]\tval-auc:0.73106\tval-aucpr:0.50692\tval-logloss:0.03852\ttrain-auc:1.00000\ttrain-aucpr:1.00000\ttrain-logloss:0.00285\n",
      "[113]\tval-auc:0.73106\tval-aucpr:0.50692\tval-logloss:0.03853\ttrain-auc:1.00000\ttrain-aucpr:1.00000\ttrain-logloss:0.00285\n",
      "[114]\tval-auc:0.73106\tval-aucpr:0.50692\tval-logloss:0.03854\ttrain-auc:1.00000\ttrain-aucpr:1.00000\ttrain-logloss:0.00285\n",
      "[115]\tval-auc:0.73106\tval-aucpr:0.50692\tval-logloss:0.03855\ttrain-auc:1.00000\ttrain-aucpr:1.00000\ttrain-logloss:0.00285\n",
      "[116]\tval-auc:0.73106\tval-aucpr:0.50692\tval-logloss:0.03856\ttrain-auc:1.00000\ttrain-aucpr:1.00000\ttrain-logloss:0.00285\n",
      "[117]\tval-auc:0.73106\tval-aucpr:0.50692\tval-logloss:0.03857\ttrain-auc:1.00000\ttrain-aucpr:1.00000\ttrain-logloss:0.00285\n",
      "[118]\tval-auc:0.73106\tval-aucpr:0.50692\tval-logloss:0.03858\ttrain-auc:1.00000\ttrain-aucpr:1.00000\ttrain-logloss:0.00285\n",
      "[119]\tval-auc:0.73106\tval-aucpr:0.50692\tval-logloss:0.03859\ttrain-auc:1.00000\ttrain-aucpr:1.00000\ttrain-logloss:0.00285\n",
      "[120]\tval-auc:0.73106\tval-aucpr:0.50692\tval-logloss:0.03859\ttrain-auc:1.00000\ttrain-aucpr:1.00000\ttrain-logloss:0.00285\n",
      "[121]\tval-auc:0.73106\tval-aucpr:0.50692\tval-logloss:0.03860\ttrain-auc:1.00000\ttrain-aucpr:1.00000\ttrain-logloss:0.00285\n",
      "[122]\tval-auc:0.73106\tval-aucpr:0.50692\tval-logloss:0.03861\ttrain-auc:1.00000\ttrain-aucpr:1.00000\ttrain-logloss:0.00285\n",
      "[123]\tval-auc:0.73106\tval-aucpr:0.50692\tval-logloss:0.03861\ttrain-auc:1.00000\ttrain-aucpr:1.00000\ttrain-logloss:0.00285\n",
      "[124]\tval-auc:0.73106\tval-aucpr:0.50692\tval-logloss:0.03862\ttrain-auc:1.00000\ttrain-aucpr:1.00000\ttrain-logloss:0.00285\n",
      "[125]\tval-auc:0.73106\tval-aucpr:0.50692\tval-logloss:0.03862\ttrain-auc:1.00000\ttrain-aucpr:1.00000\ttrain-logloss:0.00285\n",
      "[126]\tval-auc:0.73106\tval-aucpr:0.50692\tval-logloss:0.03863\ttrain-auc:1.00000\ttrain-aucpr:1.00000\ttrain-logloss:0.00285\n",
      "[127]\tval-auc:0.73106\tval-aucpr:0.50692\tval-logloss:0.03863\ttrain-auc:1.00000\ttrain-aucpr:1.00000\ttrain-logloss:0.00285\n",
      "[128]\tval-auc:0.73106\tval-aucpr:0.50692\tval-logloss:0.03864\ttrain-auc:1.00000\ttrain-aucpr:1.00000\ttrain-logloss:0.00285\n",
      "[129]\tval-auc:0.73106\tval-aucpr:0.50692\tval-logloss:0.03864\ttrain-auc:1.00000\ttrain-aucpr:1.00000\ttrain-logloss:0.00285\n",
      "[130]\tval-auc:0.73106\tval-aucpr:0.50692\tval-logloss:0.03865\ttrain-auc:1.00000\ttrain-aucpr:1.00000\ttrain-logloss:0.00285\n",
      "[131]\tval-auc:0.73106\tval-aucpr:0.50692\tval-logloss:0.03865\ttrain-auc:1.00000\ttrain-aucpr:1.00000\ttrain-logloss:0.00285\n",
      "[132]\tval-auc:0.73106\tval-aucpr:0.50692\tval-logloss:0.03865\ttrain-auc:1.00000\ttrain-aucpr:1.00000\ttrain-logloss:0.00285\n",
      "[133]\tval-auc:0.73106\tval-aucpr:0.50692\tval-logloss:0.03866\ttrain-auc:1.00000\ttrain-aucpr:1.00000\ttrain-logloss:0.00285\n"
     ]
    },
    {
     "name": "stdout",
     "output_type": "stream",
     "text": [
      "[134]\tval-auc:0.73106\tval-aucpr:0.50692\tval-logloss:0.03866\ttrain-auc:1.00000\ttrain-aucpr:1.00000\ttrain-logloss:0.00285\n",
      "[135]\tval-auc:0.73106\tval-aucpr:0.50692\tval-logloss:0.03866\ttrain-auc:1.00000\ttrain-aucpr:1.00000\ttrain-logloss:0.00285\n",
      "[136]\tval-auc:0.73106\tval-aucpr:0.50692\tval-logloss:0.03866\ttrain-auc:1.00000\ttrain-aucpr:1.00000\ttrain-logloss:0.00285\n",
      "[137]\tval-auc:0.73106\tval-aucpr:0.50692\tval-logloss:0.03867\ttrain-auc:1.00000\ttrain-aucpr:1.00000\ttrain-logloss:0.00285\n",
      "[138]\tval-auc:0.73106\tval-aucpr:0.50692\tval-logloss:0.03867\ttrain-auc:1.00000\ttrain-aucpr:1.00000\ttrain-logloss:0.00285\n",
      "[139]\tval-auc:0.73106\tval-aucpr:0.50692\tval-logloss:0.03867\ttrain-auc:1.00000\ttrain-aucpr:1.00000\ttrain-logloss:0.00285\n",
      "[140]\tval-auc:0.73106\tval-aucpr:0.50692\tval-logloss:0.03867\ttrain-auc:1.00000\ttrain-aucpr:1.00000\ttrain-logloss:0.00285\n",
      "[141]\tval-auc:0.73106\tval-aucpr:0.50692\tval-logloss:0.03868\ttrain-auc:1.00000\ttrain-aucpr:1.00000\ttrain-logloss:0.00285\n",
      "[142]\tval-auc:0.73106\tval-aucpr:0.50692\tval-logloss:0.03868\ttrain-auc:1.00000\ttrain-aucpr:1.00000\ttrain-logloss:0.00285\n",
      "[143]\tval-auc:0.73106\tval-aucpr:0.50692\tval-logloss:0.03868\ttrain-auc:1.00000\ttrain-aucpr:1.00000\ttrain-logloss:0.00285\n",
      "[144]\tval-auc:0.73106\tval-aucpr:0.50692\tval-logloss:0.03868\ttrain-auc:1.00000\ttrain-aucpr:1.00000\ttrain-logloss:0.00285\n",
      "[145]\tval-auc:0.73106\tval-aucpr:0.50692\tval-logloss:0.03868\ttrain-auc:1.00000\ttrain-aucpr:1.00000\ttrain-logloss:0.00285\n",
      "[146]\tval-auc:0.73106\tval-aucpr:0.50692\tval-logloss:0.03868\ttrain-auc:1.00000\ttrain-aucpr:1.00000\ttrain-logloss:0.00285\n",
      "[147]\tval-auc:0.73106\tval-aucpr:0.50692\tval-logloss:0.03868\ttrain-auc:1.00000\ttrain-aucpr:1.00000\ttrain-logloss:0.00285\n",
      "[148]\tval-auc:0.73106\tval-aucpr:0.50692\tval-logloss:0.03868\ttrain-auc:1.00000\ttrain-aucpr:1.00000\ttrain-logloss:0.00285\n",
      "[149]\tval-auc:0.73106\tval-aucpr:0.50692\tval-logloss:0.03869\ttrain-auc:1.00000\ttrain-aucpr:1.00000\ttrain-logloss:0.00285\n",
      "[150]\tval-auc:0.73106\tval-aucpr:0.50692\tval-logloss:0.03869\ttrain-auc:1.00000\ttrain-aucpr:1.00000\ttrain-logloss:0.00285\n",
      "[151]\tval-auc:0.73106\tval-aucpr:0.50692\tval-logloss:0.03869\ttrain-auc:1.00000\ttrain-aucpr:1.00000\ttrain-logloss:0.00285\n",
      "[152]\tval-auc:0.73106\tval-aucpr:0.50692\tval-logloss:0.03869\ttrain-auc:1.00000\ttrain-aucpr:1.00000\ttrain-logloss:0.00285\n",
      "[153]\tval-auc:0.73106\tval-aucpr:0.50692\tval-logloss:0.03869\ttrain-auc:1.00000\ttrain-aucpr:1.00000\ttrain-logloss:0.00285\n",
      "[154]\tval-auc:0.73106\tval-aucpr:0.50692\tval-logloss:0.03869\ttrain-auc:1.00000\ttrain-aucpr:1.00000\ttrain-logloss:0.00285\n",
      "[155]\tval-auc:0.73106\tval-aucpr:0.50692\tval-logloss:0.03869\ttrain-auc:1.00000\ttrain-aucpr:1.00000\ttrain-logloss:0.00285\n",
      "[156]\tval-auc:0.73106\tval-aucpr:0.50692\tval-logloss:0.03869\ttrain-auc:1.00000\ttrain-aucpr:1.00000\ttrain-logloss:0.00285\n",
      "[157]\tval-auc:0.73106\tval-aucpr:0.50692\tval-logloss:0.03869\ttrain-auc:1.00000\ttrain-aucpr:1.00000\ttrain-logloss:0.00285\n",
      "[158]\tval-auc:0.73106\tval-aucpr:0.50692\tval-logloss:0.03869\ttrain-auc:1.00000\ttrain-aucpr:1.00000\ttrain-logloss:0.00285\n",
      "[159]\tval-auc:0.73106\tval-aucpr:0.50692\tval-logloss:0.03869\ttrain-auc:1.00000\ttrain-aucpr:1.00000\ttrain-logloss:0.00285\n",
      "[160]\tval-auc:0.73106\tval-aucpr:0.50692\tval-logloss:0.03870\ttrain-auc:1.00000\ttrain-aucpr:1.00000\ttrain-logloss:0.00285\n",
      "[161]\tval-auc:0.73106\tval-aucpr:0.50692\tval-logloss:0.03870\ttrain-auc:1.00000\ttrain-aucpr:1.00000\ttrain-logloss:0.00285\n",
      "[162]\tval-auc:0.73106\tval-aucpr:0.50692\tval-logloss:0.03870\ttrain-auc:1.00000\ttrain-aucpr:1.00000\ttrain-logloss:0.00285\n",
      "[163]\tval-auc:0.73106\tval-aucpr:0.50692\tval-logloss:0.03870\ttrain-auc:1.00000\ttrain-aucpr:1.00000\ttrain-logloss:0.00285\n",
      "[164]\tval-auc:0.73106\tval-aucpr:0.50692\tval-logloss:0.03870\ttrain-auc:1.00000\ttrain-aucpr:1.00000\ttrain-logloss:0.00285\n",
      "[165]\tval-auc:0.73106\tval-aucpr:0.50692\tval-logloss:0.03870\ttrain-auc:1.00000\ttrain-aucpr:1.00000\ttrain-logloss:0.00285\n",
      "[166]\tval-auc:0.73106\tval-aucpr:0.50692\tval-logloss:0.03870\ttrain-auc:1.00000\ttrain-aucpr:1.00000\ttrain-logloss:0.00285\n",
      "[167]\tval-auc:0.73106\tval-aucpr:0.50692\tval-logloss:0.03870\ttrain-auc:1.00000\ttrain-aucpr:1.00000\ttrain-logloss:0.00285\n",
      "[168]\tval-auc:0.73106\tval-aucpr:0.50692\tval-logloss:0.03870\ttrain-auc:1.00000\ttrain-aucpr:1.00000\ttrain-logloss:0.00285\n",
      "[169]\tval-auc:0.73106\tval-aucpr:0.50692\tval-logloss:0.03870\ttrain-auc:1.00000\ttrain-aucpr:1.00000\ttrain-logloss:0.00285\n",
      "[170]\tval-auc:0.73106\tval-aucpr:0.50692\tval-logloss:0.03870\ttrain-auc:1.00000\ttrain-aucpr:1.00000\ttrain-logloss:0.00285\n",
      "[171]\tval-auc:0.73106\tval-aucpr:0.50692\tval-logloss:0.03870\ttrain-auc:1.00000\ttrain-aucpr:1.00000\ttrain-logloss:0.00285\n",
      "[172]\tval-auc:0.73106\tval-aucpr:0.50692\tval-logloss:0.03870\ttrain-auc:1.00000\ttrain-aucpr:1.00000\ttrain-logloss:0.00285\n",
      "[173]\tval-auc:0.73106\tval-aucpr:0.50692\tval-logloss:0.03870\ttrain-auc:1.00000\ttrain-aucpr:1.00000\ttrain-logloss:0.00285\n",
      "[174]\tval-auc:0.73106\tval-aucpr:0.50692\tval-logloss:0.03870\ttrain-auc:1.00000\ttrain-aucpr:1.00000\ttrain-logloss:0.00285\n",
      "[175]\tval-auc:0.73106\tval-aucpr:0.50692\tval-logloss:0.03870\ttrain-auc:1.00000\ttrain-aucpr:1.00000\ttrain-logloss:0.00285\n",
      "[176]\tval-auc:0.73106\tval-aucpr:0.50692\tval-logloss:0.03870\ttrain-auc:1.00000\ttrain-aucpr:1.00000\ttrain-logloss:0.00285\n",
      "[177]\tval-auc:0.73106\tval-aucpr:0.50692\tval-logloss:0.03870\ttrain-auc:1.00000\ttrain-aucpr:1.00000\ttrain-logloss:0.00285\n",
      "[178]\tval-auc:0.73106\tval-aucpr:0.50692\tval-logloss:0.03870\ttrain-auc:1.00000\ttrain-aucpr:1.00000\ttrain-logloss:0.00285\n",
      "[179]\tval-auc:0.73106\tval-aucpr:0.50692\tval-logloss:0.03870\ttrain-auc:1.00000\ttrain-aucpr:1.00000\ttrain-logloss:0.00285\n",
      "[180]\tval-auc:0.73106\tval-aucpr:0.50692\tval-logloss:0.03870\ttrain-auc:1.00000\ttrain-aucpr:1.00000\ttrain-logloss:0.00285\n",
      "[181]\tval-auc:0.73106\tval-aucpr:0.50692\tval-logloss:0.03870\ttrain-auc:1.00000\ttrain-aucpr:1.00000\ttrain-logloss:0.00285\n",
      "[182]\tval-auc:0.73106\tval-aucpr:0.50692\tval-logloss:0.03870\ttrain-auc:1.00000\ttrain-aucpr:1.00000\ttrain-logloss:0.00285\n",
      "[183]\tval-auc:0.73106\tval-aucpr:0.50692\tval-logloss:0.03870\ttrain-auc:1.00000\ttrain-aucpr:1.00000\ttrain-logloss:0.00285\n",
      "[184]\tval-auc:0.73106\tval-aucpr:0.50692\tval-logloss:0.03870\ttrain-auc:1.00000\ttrain-aucpr:1.00000\ttrain-logloss:0.00285\n",
      "[185]\tval-auc:0.73106\tval-aucpr:0.50692\tval-logloss:0.03870\ttrain-auc:1.00000\ttrain-aucpr:1.00000\ttrain-logloss:0.00285\n",
      "[186]\tval-auc:0.73106\tval-aucpr:0.50692\tval-logloss:0.03870\ttrain-auc:1.00000\ttrain-aucpr:1.00000\ttrain-logloss:0.00285\n",
      "[187]\tval-auc:0.73106\tval-aucpr:0.50692\tval-logloss:0.03870\ttrain-auc:1.00000\ttrain-aucpr:1.00000\ttrain-logloss:0.00285\n",
      "[188]\tval-auc:0.73106\tval-aucpr:0.50692\tval-logloss:0.03870\ttrain-auc:1.00000\ttrain-aucpr:1.00000\ttrain-logloss:0.00285\n",
      "[189]\tval-auc:0.73106\tval-aucpr:0.50692\tval-logloss:0.03870\ttrain-auc:1.00000\ttrain-aucpr:1.00000\ttrain-logloss:0.00285\n",
      "[190]\tval-auc:0.73106\tval-aucpr:0.50692\tval-logloss:0.03870\ttrain-auc:1.00000\ttrain-aucpr:1.00000\ttrain-logloss:0.00285\n",
      "[191]\tval-auc:0.73106\tval-aucpr:0.50692\tval-logloss:0.03870\ttrain-auc:1.00000\ttrain-aucpr:1.00000\ttrain-logloss:0.00285\n",
      "[192]\tval-auc:0.73106\tval-aucpr:0.50692\tval-logloss:0.03870\ttrain-auc:1.00000\ttrain-aucpr:1.00000\ttrain-logloss:0.00285\n",
      "[193]\tval-auc:0.73106\tval-aucpr:0.50692\tval-logloss:0.03870\ttrain-auc:1.00000\ttrain-aucpr:1.00000\ttrain-logloss:0.00285\n",
      "[194]\tval-auc:0.73106\tval-aucpr:0.50692\tval-logloss:0.03870\ttrain-auc:1.00000\ttrain-aucpr:1.00000\ttrain-logloss:0.00285\n",
      "[195]\tval-auc:0.73106\tval-aucpr:0.50692\tval-logloss:0.03870\ttrain-auc:1.00000\ttrain-aucpr:1.00000\ttrain-logloss:0.00285\n",
      "[196]\tval-auc:0.73106\tval-aucpr:0.50692\tval-logloss:0.03870\ttrain-auc:1.00000\ttrain-aucpr:1.00000\ttrain-logloss:0.00285\n",
      "[197]\tval-auc:0.73106\tval-aucpr:0.50692\tval-logloss:0.03870\ttrain-auc:1.00000\ttrain-aucpr:1.00000\ttrain-logloss:0.00285\n",
      "[198]\tval-auc:0.73106\tval-aucpr:0.50692\tval-logloss:0.03870\ttrain-auc:1.00000\ttrain-aucpr:1.00000\ttrain-logloss:0.00285\n",
      "[199]\tval-auc:0.73106\tval-aucpr:0.50692\tval-logloss:0.03870\ttrain-auc:1.00000\ttrain-aucpr:1.00000\ttrain-logloss:0.00285\n",
      "[200]\tval-auc:0.73106\tval-aucpr:0.50692\tval-logloss:0.03870\ttrain-auc:1.00000\ttrain-aucpr:1.00000\ttrain-logloss:0.00285\n",
      "[201]\tval-auc:0.73106\tval-aucpr:0.50692\tval-logloss:0.03870\ttrain-auc:1.00000\ttrain-aucpr:1.00000\ttrain-logloss:0.00285\n",
      "[202]\tval-auc:0.73106\tval-aucpr:0.50692\tval-logloss:0.03870\ttrain-auc:1.00000\ttrain-aucpr:1.00000\ttrain-logloss:0.00285\n"
     ]
    },
    {
     "name": "stdout",
     "output_type": "stream",
     "text": [
      "[203]\tval-auc:0.73106\tval-aucpr:0.50692\tval-logloss:0.03870\ttrain-auc:1.00000\ttrain-aucpr:1.00000\ttrain-logloss:0.00285\n",
      "[204]\tval-auc:0.73106\tval-aucpr:0.50692\tval-logloss:0.03870\ttrain-auc:1.00000\ttrain-aucpr:1.00000\ttrain-logloss:0.00285\n",
      "[205]\tval-auc:0.73106\tval-aucpr:0.50692\tval-logloss:0.03870\ttrain-auc:1.00000\ttrain-aucpr:1.00000\ttrain-logloss:0.00285\n",
      "[206]\tval-auc:0.73106\tval-aucpr:0.50692\tval-logloss:0.03870\ttrain-auc:1.00000\ttrain-aucpr:1.00000\ttrain-logloss:0.00285\n",
      "[207]\tval-auc:0.73106\tval-aucpr:0.50692\tval-logloss:0.03870\ttrain-auc:1.00000\ttrain-aucpr:1.00000\ttrain-logloss:0.00285\n",
      "[208]\tval-auc:0.73106\tval-aucpr:0.50692\tval-logloss:0.03870\ttrain-auc:1.00000\ttrain-aucpr:1.00000\ttrain-logloss:0.00285\n",
      "[209]\tval-auc:0.73106\tval-aucpr:0.50692\tval-logloss:0.03870\ttrain-auc:1.00000\ttrain-aucpr:1.00000\ttrain-logloss:0.00285\n",
      "[210]\tval-auc:0.73106\tval-aucpr:0.50692\tval-logloss:0.03870\ttrain-auc:1.00000\ttrain-aucpr:1.00000\ttrain-logloss:0.00285\n",
      "[211]\tval-auc:0.73106\tval-aucpr:0.50692\tval-logloss:0.03870\ttrain-auc:1.00000\ttrain-aucpr:1.00000\ttrain-logloss:0.00285\n",
      "[212]\tval-auc:0.73106\tval-aucpr:0.50692\tval-logloss:0.03870\ttrain-auc:1.00000\ttrain-aucpr:1.00000\ttrain-logloss:0.00285\n",
      "[213]\tval-auc:0.73106\tval-aucpr:0.50692\tval-logloss:0.03870\ttrain-auc:1.00000\ttrain-aucpr:1.00000\ttrain-logloss:0.00285\n",
      "[214]\tval-auc:0.73106\tval-aucpr:0.50692\tval-logloss:0.03870\ttrain-auc:1.00000\ttrain-aucpr:1.00000\ttrain-logloss:0.00285\n",
      "[215]\tval-auc:0.73106\tval-aucpr:0.50692\tval-logloss:0.03870\ttrain-auc:1.00000\ttrain-aucpr:1.00000\ttrain-logloss:0.00285\n",
      "[216]\tval-auc:0.73106\tval-aucpr:0.50692\tval-logloss:0.03870\ttrain-auc:1.00000\ttrain-aucpr:1.00000\ttrain-logloss:0.00285\n",
      "[217]\tval-auc:0.73106\tval-aucpr:0.50692\tval-logloss:0.03870\ttrain-auc:1.00000\ttrain-aucpr:1.00000\ttrain-logloss:0.00285\n",
      "[218]\tval-auc:0.73106\tval-aucpr:0.50692\tval-logloss:0.03870\ttrain-auc:1.00000\ttrain-aucpr:1.00000\ttrain-logloss:0.00285\n",
      "[219]\tval-auc:0.73106\tval-aucpr:0.50692\tval-logloss:0.03870\ttrain-auc:1.00000\ttrain-aucpr:1.00000\ttrain-logloss:0.00285\n",
      "[220]\tval-auc:0.73106\tval-aucpr:0.50692\tval-logloss:0.03870\ttrain-auc:1.00000\ttrain-aucpr:1.00000\ttrain-logloss:0.00285\n",
      "[221]\tval-auc:0.73106\tval-aucpr:0.50692\tval-logloss:0.03870\ttrain-auc:1.00000\ttrain-aucpr:1.00000\ttrain-logloss:0.00285\n",
      "[222]\tval-auc:0.73106\tval-aucpr:0.50692\tval-logloss:0.03870\ttrain-auc:1.00000\ttrain-aucpr:1.00000\ttrain-logloss:0.00285\n",
      "[223]\tval-auc:0.73106\tval-aucpr:0.50692\tval-logloss:0.03870\ttrain-auc:1.00000\ttrain-aucpr:1.00000\ttrain-logloss:0.00285\n",
      "[224]\tval-auc:0.73106\tval-aucpr:0.50692\tval-logloss:0.03870\ttrain-auc:1.00000\ttrain-aucpr:1.00000\ttrain-logloss:0.00285\n",
      "[225]\tval-auc:0.73106\tval-aucpr:0.50692\tval-logloss:0.03870\ttrain-auc:1.00000\ttrain-aucpr:1.00000\ttrain-logloss:0.00285\n",
      "[226]\tval-auc:0.73106\tval-aucpr:0.50692\tval-logloss:0.03870\ttrain-auc:1.00000\ttrain-aucpr:1.00000\ttrain-logloss:0.00285\n",
      "[227]\tval-auc:0.73106\tval-aucpr:0.50692\tval-logloss:0.03870\ttrain-auc:1.00000\ttrain-aucpr:1.00000\ttrain-logloss:0.00285\n",
      "[228]\tval-auc:0.73106\tval-aucpr:0.50692\tval-logloss:0.03870\ttrain-auc:1.00000\ttrain-aucpr:1.00000\ttrain-logloss:0.00285\n",
      "[229]\tval-auc:0.73106\tval-aucpr:0.50692\tval-logloss:0.03870\ttrain-auc:1.00000\ttrain-aucpr:1.00000\ttrain-logloss:0.00285\n",
      "[230]\tval-auc:0.73106\tval-aucpr:0.50692\tval-logloss:0.03870\ttrain-auc:1.00000\ttrain-aucpr:1.00000\ttrain-logloss:0.00285\n",
      "[231]\tval-auc:0.73106\tval-aucpr:0.50692\tval-logloss:0.03870\ttrain-auc:1.00000\ttrain-aucpr:1.00000\ttrain-logloss:0.00285\n",
      "[232]\tval-auc:0.73106\tval-aucpr:0.50692\tval-logloss:0.03870\ttrain-auc:1.00000\ttrain-aucpr:1.00000\ttrain-logloss:0.00285\n",
      "[233]\tval-auc:0.73106\tval-aucpr:0.50692\tval-logloss:0.03870\ttrain-auc:1.00000\ttrain-aucpr:1.00000\ttrain-logloss:0.00285\n",
      "[234]\tval-auc:0.73106\tval-aucpr:0.50692\tval-logloss:0.03870\ttrain-auc:1.00000\ttrain-aucpr:1.00000\ttrain-logloss:0.00285\n",
      "[235]\tval-auc:0.73106\tval-aucpr:0.50692\tval-logloss:0.03870\ttrain-auc:1.00000\ttrain-aucpr:1.00000\ttrain-logloss:0.00285\n",
      "[236]\tval-auc:0.73106\tval-aucpr:0.50692\tval-logloss:0.03870\ttrain-auc:1.00000\ttrain-aucpr:1.00000\ttrain-logloss:0.00285\n",
      "[237]\tval-auc:0.73106\tval-aucpr:0.50692\tval-logloss:0.03870\ttrain-auc:1.00000\ttrain-aucpr:1.00000\ttrain-logloss:0.00285\n",
      "[238]\tval-auc:0.73106\tval-aucpr:0.50692\tval-logloss:0.03870\ttrain-auc:1.00000\ttrain-aucpr:1.00000\ttrain-logloss:0.00285\n",
      "[239]\tval-auc:0.73106\tval-aucpr:0.50692\tval-logloss:0.03870\ttrain-auc:1.00000\ttrain-aucpr:1.00000\ttrain-logloss:0.00285\n",
      "[240]\tval-auc:0.73106\tval-aucpr:0.50692\tval-logloss:0.03870\ttrain-auc:1.00000\ttrain-aucpr:1.00000\ttrain-logloss:0.00285\n",
      "[241]\tval-auc:0.73106\tval-aucpr:0.50692\tval-logloss:0.03870\ttrain-auc:1.00000\ttrain-aucpr:1.00000\ttrain-logloss:0.00285\n",
      "[242]\tval-auc:0.73106\tval-aucpr:0.50692\tval-logloss:0.03870\ttrain-auc:1.00000\ttrain-aucpr:1.00000\ttrain-logloss:0.00285\n",
      "[243]\tval-auc:0.73106\tval-aucpr:0.50692\tval-logloss:0.03870\ttrain-auc:1.00000\ttrain-aucpr:1.00000\ttrain-logloss:0.00285\n",
      "[244]\tval-auc:0.73106\tval-aucpr:0.50692\tval-logloss:0.03870\ttrain-auc:1.00000\ttrain-aucpr:1.00000\ttrain-logloss:0.00285\n",
      "[245]\tval-auc:0.73106\tval-aucpr:0.50692\tval-logloss:0.03870\ttrain-auc:1.00000\ttrain-aucpr:1.00000\ttrain-logloss:0.00285\n",
      "[246]\tval-auc:0.73106\tval-aucpr:0.50692\tval-logloss:0.03870\ttrain-auc:1.00000\ttrain-aucpr:1.00000\ttrain-logloss:0.00285\n",
      "[247]\tval-auc:0.73106\tval-aucpr:0.50692\tval-logloss:0.03870\ttrain-auc:1.00000\ttrain-aucpr:1.00000\ttrain-logloss:0.00285\n",
      "[248]\tval-auc:0.73106\tval-aucpr:0.50692\tval-logloss:0.03870\ttrain-auc:1.00000\ttrain-aucpr:1.00000\ttrain-logloss:0.00285\n",
      "[249]\tval-auc:0.73106\tval-aucpr:0.50692\tval-logloss:0.03870\ttrain-auc:1.00000\ttrain-aucpr:1.00000\ttrain-logloss:0.00285\n",
      "[250]\tval-auc:0.73106\tval-aucpr:0.50692\tval-logloss:0.03870\ttrain-auc:1.00000\ttrain-aucpr:1.00000\ttrain-logloss:0.00285\n",
      "[251]\tval-auc:0.73106\tval-aucpr:0.50692\tval-logloss:0.03870\ttrain-auc:1.00000\ttrain-aucpr:1.00000\ttrain-logloss:0.00285\n",
      "[252]\tval-auc:0.73106\tval-aucpr:0.50692\tval-logloss:0.03870\ttrain-auc:1.00000\ttrain-aucpr:1.00000\ttrain-logloss:0.00285\n",
      "[253]\tval-auc:0.73106\tval-aucpr:0.50692\tval-logloss:0.03870\ttrain-auc:1.00000\ttrain-aucpr:1.00000\ttrain-logloss:0.00285\n",
      "[254]\tval-auc:0.73106\tval-aucpr:0.50692\tval-logloss:0.03870\ttrain-auc:1.00000\ttrain-aucpr:1.00000\ttrain-logloss:0.00285\n",
      "[255]\tval-auc:0.73106\tval-aucpr:0.50692\tval-logloss:0.03870\ttrain-auc:1.00000\ttrain-aucpr:1.00000\ttrain-logloss:0.00285\n",
      "[256]\tval-auc:0.73106\tval-aucpr:0.50692\tval-logloss:0.03870\ttrain-auc:1.00000\ttrain-aucpr:1.00000\ttrain-logloss:0.00285\n",
      "[257]\tval-auc:0.73106\tval-aucpr:0.50692\tval-logloss:0.03870\ttrain-auc:1.00000\ttrain-aucpr:1.00000\ttrain-logloss:0.00285\n",
      "[258]\tval-auc:0.73106\tval-aucpr:0.50692\tval-logloss:0.03870\ttrain-auc:1.00000\ttrain-aucpr:1.00000\ttrain-logloss:0.00285\n",
      "[259]\tval-auc:0.73106\tval-aucpr:0.50692\tval-logloss:0.03870\ttrain-auc:1.00000\ttrain-aucpr:1.00000\ttrain-logloss:0.00285\n",
      "[260]\tval-auc:0.73106\tval-aucpr:0.50692\tval-logloss:0.03870\ttrain-auc:1.00000\ttrain-aucpr:1.00000\ttrain-logloss:0.00285\n",
      "[261]\tval-auc:0.73106\tval-aucpr:0.50692\tval-logloss:0.03870\ttrain-auc:1.00000\ttrain-aucpr:1.00000\ttrain-logloss:0.00285\n",
      "[262]\tval-auc:0.73106\tval-aucpr:0.50692\tval-logloss:0.03870\ttrain-auc:1.00000\ttrain-aucpr:1.00000\ttrain-logloss:0.00285\n",
      "[263]\tval-auc:0.73106\tval-aucpr:0.50692\tval-logloss:0.03870\ttrain-auc:1.00000\ttrain-aucpr:1.00000\ttrain-logloss:0.00285\n",
      "[264]\tval-auc:0.73106\tval-aucpr:0.50692\tval-logloss:0.03870\ttrain-auc:1.00000\ttrain-aucpr:1.00000\ttrain-logloss:0.00285\n",
      "[265]\tval-auc:0.73106\tval-aucpr:0.50692\tval-logloss:0.03870\ttrain-auc:1.00000\ttrain-aucpr:1.00000\ttrain-logloss:0.00285\n",
      "[266]\tval-auc:0.73106\tval-aucpr:0.50692\tval-logloss:0.03870\ttrain-auc:1.00000\ttrain-aucpr:1.00000\ttrain-logloss:0.00285\n",
      "[267]\tval-auc:0.73106\tval-aucpr:0.50692\tval-logloss:0.03870\ttrain-auc:1.00000\ttrain-aucpr:1.00000\ttrain-logloss:0.00285\n",
      "Stopping. Best iteration:\n",
      "[117]\tval-auc:0.73106\tval-aucpr:0.50692\tval-logloss:0.03857\ttrain-auc:1.00000\ttrain-aucpr:1.00000\ttrain-logloss:0.00285\n",
      "\n"
     ]
    }
   ],
   "source": [
    "model = xgb.train(xgb_params, dtrain, num_boost_round=xgb_params['n_estimators'], evals=[(dval, 'val'), (dtrain, 'train')], early_stopping_rounds=int(xgb_params['n_estimators']/2))"
   ]
  },
  {
   "cell_type": "code",
   "execution_count": 18,
   "id": "20c0fe51",
   "metadata": {
    "lines_to_next_cell": 2
   },
   "outputs": [],
   "source": [
    "y_pred_proba = model.predict(dtest)"
   ]
  },
  {
   "cell_type": "markdown",
   "id": "ec7e43b2",
   "metadata": {},
   "source": [
    "## Evaluation"
   ]
  },
  {
   "cell_type": "code",
   "execution_count": 19,
   "id": "eb7631aa",
   "metadata": {},
   "outputs": [
    {
     "name": "stdout",
     "output_type": "stream",
     "text": [
      "Average Precision:  0.01\n"
     ]
    }
   ],
   "source": [
    "ap = average_precision_score(y_test, y_pred_proba)\n",
    "print(\"Average Precision: \", np.round(ap,2))"
   ]
  },
  {
   "cell_type": "code",
   "execution_count": 20,
   "id": "55835ec6",
   "metadata": {},
   "outputs": [
    {
     "data": {
      "image/png": "[encoded data removed]",
      "text/plain": [
       "<Figure size 432x288 with 1 Axes>"
      ]
     },
     "metadata": {
      "needs_background": "light"
     },
     "output_type": "display_data"
    }
   ],
   "source": [
    "fig = plot_ap(y_test, y_pred_proba)"
   ]
  },
  {
   "cell_type": "code",
   "execution_count": 21,
   "id": "c2debd1b",
   "metadata": {},
   "outputs": [
    {
     "name": "stdout",
     "output_type": "stream",
     "text": [
      "F1 Score:  0.0178\n"
     ]
    }
   ],
   "source": [
    "optimal_threshold, optimal_f1_score = get_optimal_f1_cutoff(y_test, y_pred_proba)\n",
    "print(\"F1 Score: \", np.round(optimal_f1_score, 4))"
   ]
  },
  {
   "cell_type": "code",
   "execution_count": 22,
   "id": "a24d75b3",
   "metadata": {},
   "outputs": [
    {
     "name": "stdout",
     "output_type": "stream",
     "text": [
      "Confusion Matrix: \n",
      " [[  0 991]\n",
      " [  0   9]]\n"
     ]
    }
   ],
   "source": [
    "cm = get_confusion_matrix(y_test, y_pred_proba, optimal_threshold)\n",
    "print(\"Confusion Matrix: \\n\", cm)"
   ]
  },
  {
   "cell_type": "code",
   "execution_count": null,
   "id": "3f794113",
   "metadata": {},
   "outputs": [],
   "source": []
  }
 ],
 "metadata": {
  "jupytext": {
   "formats": "ipynb,py:light"
  },
  "kernelspec": {
   "display_name": "fucc_env",
   "language": "python",
   "name": "fucc_env"
  },
  "language_info": {
   "codemirror_mode": {
    "name": "ipython",
    "version": 3
   },
   "file_extension": ".py",
   "mimetype": "text/x-python",
   "name": "python",
   "nbconvert_exporter": "python",
   "pygments_lexer": "ipython3",
   "version": "3.6.10"
  },
  "toc": {
   "base_numbering": 1,
   "nav_menu": {},
   "number_sections": true,
   "sideBar": true,
   "skip_h1_title": false,
   "title_cell": "Table of Contents",
   "title_sidebar": "Contents",
   "toc_cell": false,
   "toc_position": {},
   "toc_section_display": true,
   "toc_window_display": false
  }
 },
 "nbformat": 4,
 "nbformat_minor": 5
}
