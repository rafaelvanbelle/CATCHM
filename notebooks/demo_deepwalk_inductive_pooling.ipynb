{
 "cells": [
  {
   "cell_type": "markdown",
   "id": "6c02e356",
   "metadata": {},
   "source": [
    "# Demo"
   ]
  },
  {
   "cell_type": "markdown",
   "id": "bf4f24c7",
   "metadata": {},
   "source": [
    "## Download data from Kaggle"
   ]
  },
  {
   "cell_type": "markdown",
   "id": "091eec46",
   "metadata": {},
   "source": [
    "### Install Kaggle python API"
   ]
  },
  {
   "cell_type": "code",
   "execution_count": 1,
   "id": "097fd7ac",
   "metadata": {},
   "outputs": [
    {
     "name": "stdout",
     "output_type": "stream",
     "text": [
      "Requirement already satisfied: kaggle in /Users/raf/opt/anaconda3/lib/python3.7/site-packages (1.5.12)\n",
      "Requirement already satisfied: python-slugify in /Users/raf/opt/anaconda3/lib/python3.7/site-packages (from kaggle) (5.0.2)\n",
      "Requirement already satisfied: requests in /Users/raf/opt/anaconda3/lib/python3.7/site-packages (from kaggle) (2.25.1)\n",
      "Requirement already satisfied: six>=1.10 in /Users/raf/opt/anaconda3/lib/python3.7/site-packages (from kaggle) (1.16.0)\n",
      "Requirement already satisfied: urllib3 in /Users/raf/opt/anaconda3/lib/python3.7/site-packages (from kaggle) (1.26.4)\n",
      "Requirement already satisfied: certifi in /Users/raf/opt/anaconda3/lib/python3.7/site-packages (from kaggle) (2021.5.30)\n",
      "Requirement already satisfied: python-dateutil in /Users/raf/opt/anaconda3/lib/python3.7/site-packages (from kaggle) (2.8.1)\n",
      "Requirement already satisfied: tqdm in /Users/raf/opt/anaconda3/lib/python3.7/site-packages (from kaggle) (4.59.0)\n",
      "Requirement already satisfied: text-unidecode>=1.3 in /Users/raf/opt/anaconda3/lib/python3.7/site-packages (from python-slugify->kaggle) (1.3)\n",
      "Requirement already satisfied: chardet<5,>=3.0.2 in /Users/raf/opt/anaconda3/lib/python3.7/site-packages (from requests->kaggle) (4.0.0)\n",
      "Requirement already satisfied: idna<3,>=2.5 in /Users/raf/opt/anaconda3/lib/python3.7/site-packages (from requests->kaggle) (2.10)\n"
     ]
    }
   ],
   "source": [
    "! pip install kaggle"
   ]
  },
  {
   "cell_type": "markdown",
   "id": "a1f695f2",
   "metadata": {},
   "source": [
    "### Authenticating with Kaggle "
   ]
  },
  {
   "cell_type": "code",
   "execution_count": 2,
   "id": "1dcff0b6",
   "metadata": {},
   "outputs": [
    {
     "name": "stdout",
     "output_type": "stream",
     "text": [
      "Warning: Your Kaggle API key is readable by other users on this system! To fix this, you can run 'chmod 600 /Users/raf/.kaggle/kaggle.json'\n",
      "fraud-detection-dataset.zip: Skipping, found more recently modified local copy (use --force to force download)\n"
     ]
    }
   ],
   "source": [
    "! kaggle datasets download \"ranjeetshrivastav/fraud-detection-dataset\""
   ]
  },
  {
   "cell_type": "code",
   "execution_count": 3,
   "id": "c8a6e86e",
   "metadata": {},
   "outputs": [
    {
     "name": "stdout",
     "output_type": "stream",
     "text": [
      "Archive:  fraud-detection-dataset.zip\n",
      "  inflating: transactions.gz         \n",
      "  inflating: transactions/transactions.txt  \n"
     ]
    }
   ],
   "source": [
    "! unzip -o fraud-detection-dataset.zip"
   ]
  },
  {
   "cell_type": "code",
   "execution_count": 4,
   "id": "0bf3f5da",
   "metadata": {},
   "outputs": [],
   "source": [
    "import os\n",
    "import numpy as np\n",
    "import pandas as pd\n",
    "import networkx as nx\n",
    "from nodevectors import Node2Vec\n",
    "import xgboost as xgb\n",
    "from fucc.inductive_step import inductive_pooling\n",
    "from fucc.metrics import plot_ap, get_optimal_f1_cutoff, get_confusion_matrix\n",
    "from sklearn.metrics import average_precision_score\n",
    "import logging\n",
    "logging.basicConfig(level=logging.INFO)"
   ]
  },
  {
   "cell_type": "markdown",
   "id": "ec0931ab",
   "metadata": {},
   "source": [
    "Dataset source: https://www.kaggle.com/ranjeetshrivastav/fraud-detection-dataset"
   ]
  },
  {
   "cell_type": "code",
   "execution_count": 5,
   "id": "b4b00310",
   "metadata": {},
   "outputs": [],
   "source": [
    "# Parameters\n",
    "dimensions = 32\n",
    "walk_len = 80\n",
    "walk_num = 10\n",
    "window_size = 5\n",
    "workers = 8"
   ]
  },
  {
   "cell_type": "markdown",
   "id": "d89359ff",
   "metadata": {},
   "source": [
    "## Load Data"
   ]
  },
  {
   "cell_type": "code",
   "execution_count": 6,
   "id": "e9472d30",
   "metadata": {},
   "outputs": [],
   "source": [
    "df = pd.read_json('/Users/raf/Dropbox/DOC/data/fraud_datasets/archive/transactions/transactions.txt',  lines=True, convert_dates=[4])"
   ]
  },
  {
   "cell_type": "code",
   "execution_count": 7,
   "id": "cbbefdde",
   "metadata": {},
   "outputs": [],
   "source": [
    "df.iloc[:, 4] = pd.to_datetime(df.iloc[:, 4])"
   ]
  },
  {
   "cell_type": "code",
   "execution_count": 8,
   "id": "c8cf06ee",
   "metadata": {},
   "outputs": [],
   "source": [
    "df = df.sort_values('transactionDateTime')\n",
    "df.loc[:, 'TX_ID'] = range(df.shape[0])"
   ]
  },
  {
   "cell_type": "code",
   "execution_count": 9,
   "id": "e09b8861",
   "metadata": {},
   "outputs": [],
   "source": [
    "df = df.rename(columns={\"merchantName\":\"TERM_MIDUID\", \"customerId\":\"CARD_PAN_ID\", \"isFraud\": \"TX_FRAUD\" })"
   ]
  },
  {
   "cell_type": "code",
   "execution_count": 10,
   "id": "c4501adf",
   "metadata": {},
   "outputs": [],
   "source": [
    "df_train = df.iloc[:400000]\n",
    "df_test = df.iloc[400000:500000]"
   ]
  },
  {
   "cell_type": "markdown",
   "id": "6abd07c4",
   "metadata": {},
   "source": [
    "## Create network"
   ]
  },
  {
   "cell_type": "code",
   "execution_count": 11,
   "id": "b53b06b1",
   "metadata": {},
   "outputs": [],
   "source": [
    "G = nx.Graph()\n",
    "G.add_nodes_from(df_train.TERM_MIDUID.unique(), type='merchant')\n",
    "G.add_nodes_from(df_train.CARD_PAN_ID.unique(), type='cardholder')\n",
    "G.add_nodes_from(df_train.TX_ID.unique(), type='transaction')\n",
    "\n",
    "G.add_edges_from(zip(df_train.CARD_PAN_ID, df_train.TX_ID))\n",
    "G.add_edges_from(zip(df_train.TX_ID, df_train.TERM_MIDUID))"
   ]
  },
  {
   "cell_type": "code",
   "execution_count": 12,
   "id": "f0816b93",
   "metadata": {},
   "outputs": [
    {
     "name": "stdout",
     "output_type": "stream",
     "text": [
      "Name: \n",
      "Type: Graph\n",
      "Number of nodes: 407337\n",
      "Number of edges: 800000\n",
      "Average degree:   3.9280\n"
     ]
    }
   ],
   "source": [
    "print(nx.info(G))"
   ]
  },
  {
   "cell_type": "markdown",
   "id": "1e73d12c",
   "metadata": {},
   "source": [
    "## Deepwalk"
   ]
  },
  {
   "cell_type": "code",
   "execution_count": null,
   "id": "4a5afc52",
   "metadata": {
    "scrolled": true
   },
   "outputs": [
    {
     "name": "stdout",
     "output_type": "stream",
     "text": [
      "Making walks... Done, T=83.13\n",
      "Mapping Walk Names... "
     ]
    },
    {
     "name": "stderr",
     "output_type": "stream",
     "text": [
      "ERROR:root:Internal Python error in the inspect module.\n",
      "Below is the traceback from this internal error.\n",
      "\n",
      "INFO:root:\n",
      "Unfortunately, your original traceback can not be constructed.\n",
      "\n",
      "ERROR:root:Internal Python error in the inspect module.\n",
      "Below is the traceback from this internal error.\n",
      "\n",
      "INFO:root:\n",
      "Unfortunately, your original traceback can not be constructed.\n",
      "\n"
     ]
    },
    {
     "name": "stdout",
     "output_type": "stream",
     "text": [
      "Traceback (most recent call last):\n",
      "  File \"/Users/raf/opt/anaconda3/envs/RLFRaud/lib/python3.6/site-packages/IPython/core/interactiveshell.py\", line 3343, in run_code\n",
      "    exec(code_obj, self.user_global_ns, self.user_ns)\n",
      "  File \"<ipython-input-13-173df08cb0e2>\", line 9, in <module>\n",
      "    g2v.fit(G)\n",
      "  File \"/Users/raf/opt/anaconda3/envs/RLFRaud/lib/python3.6/site-packages/nodevectors/node2vec.py\", line 117, in fit\n",
      "    self.walks[col] = self.walks[col].map(node_dict).astype(str)\n",
      "  File \"/Users/raf/opt/anaconda3/envs/RLFRaud/lib/python3.6/site-packages/pandas/core/frame.py\", line 3044, in __setitem__\n",
      "    self._set_item(key, value)\n",
      "  File \"/Users/raf/opt/anaconda3/envs/RLFRaud/lib/python3.6/site-packages/pandas/core/frame.py\", line 3121, in _set_item\n",
      "    NDFrame._set_item(self, key, value)\n",
      "  File \"/Users/raf/opt/anaconda3/envs/RLFRaud/lib/python3.6/site-packages/pandas/core/generic.py\", line 3582, in _set_item\n",
      "    NDFrame._iset_item(self, loc, value)\n",
      "  File \"/Users/raf/opt/anaconda3/envs/RLFRaud/lib/python3.6/site-packages/pandas/core/generic.py\", line 3571, in _iset_item\n",
      "    self._mgr.iset(loc, value)\n",
      "  File \"/Users/raf/opt/anaconda3/envs/RLFRaud/lib/python3.6/site-packages/pandas/core/internals/managers.py\", line 1114, in iset\n",
      "    blk.delete(blk_locs)\n",
      "  File \"/Users/raf/opt/anaconda3/envs/RLFRaud/lib/python3.6/site-packages/pandas/core/internals/blocks.py\", line 337, in delete\n",
      "    self.values = np.delete(self.values, loc, 0)\n",
      "  File \"<__array_function__ internals>\", line 6, in delete\n",
      "  File \"/Users/raf/opt/anaconda3/envs/RLFRaud/lib/python3.6/site-packages/numpy/lib/function_base.py\", line 4409, in delete\n",
      "    new = arr[tuple(slobj)]\n",
      "KeyboardInterrupt\n",
      "\n",
      "During handling of the above exception, another exception occurred:\n",
      "\n",
      "Traceback (most recent call last):\n",
      "  File \"/Users/raf/opt/anaconda3/envs/RLFRaud/lib/python3.6/site-packages/IPython/core/interactiveshell.py\", line 2044, in showtraceback\n",
      "    stb = value._render_traceback_()\n",
      "AttributeError: 'KeyboardInterrupt' object has no attribute '_render_traceback_'\n",
      "\n",
      "During handling of the above exception, another exception occurred:\n",
      "\n",
      "Traceback (most recent call last):\n",
      "  File \"/Users/raf/opt/anaconda3/envs/RLFRaud/lib/python3.6/site-packages/IPython/core/ultratb.py\", line 1169, in get_records\n",
      "    return _fixed_getinnerframes(etb, number_of_lines_of_context, tb_offset)\n",
      "  File \"/Users/raf/opt/anaconda3/envs/RLFRaud/lib/python3.6/site-packages/IPython/core/ultratb.py\", line 316, in wrapped\n",
      "    return f(*args, **kwargs)\n",
      "  File \"/Users/raf/opt/anaconda3/envs/RLFRaud/lib/python3.6/site-packages/IPython/core/ultratb.py\", line 350, in _fixed_getinnerframes\n",
      "    records = fix_frame_records_filenames(inspect.getinnerframes(etb, context))\n",
      "  File \"/Users/raf/opt/anaconda3/envs/RLFRaud/lib/python3.6/inspect.py\", line 1490, in getinnerframes\n",
      "    frameinfo = (tb.tb_frame,) + getframeinfo(tb, context)\n",
      "  File \"/Users/raf/opt/anaconda3/envs/RLFRaud/lib/python3.6/inspect.py\", line 1448, in getframeinfo\n",
      "    filename = getsourcefile(frame) or getfile(frame)\n",
      "  File \"/Users/raf/opt/anaconda3/envs/RLFRaud/lib/python3.6/inspect.py\", line 696, in getsourcefile\n",
      "    if getattr(getmodule(object, filename), '__loader__', None) is not None:\n",
      "  File \"/Users/raf/opt/anaconda3/envs/RLFRaud/lib/python3.6/inspect.py\", line 742, in getmodule\n",
      "    os.path.realpath(f)] = module.__name__\n",
      "  File \"/Users/raf/opt/anaconda3/envs/RLFRaud/lib/python3.6/posixpath.py\", line 395, in realpath\n",
      "    path, ok = _joinrealpath(filename[:0], filename, {})\n",
      "KeyboardInterrupt\n",
      "Traceback (most recent call last):\n",
      "  File \"/Users/raf/opt/anaconda3/envs/RLFRaud/lib/python3.6/site-packages/IPython/core/interactiveshell.py\", line 3343, in run_code\n",
      "    exec(code_obj, self.user_global_ns, self.user_ns)\n",
      "  File \"<ipython-input-13-173df08cb0e2>\", line 9, in <module>\n",
      "    g2v.fit(G)\n",
      "  File \"/Users/raf/opt/anaconda3/envs/RLFRaud/lib/python3.6/site-packages/nodevectors/node2vec.py\", line 117, in fit\n",
      "    self.walks[col] = self.walks[col].map(node_dict).astype(str)\n",
      "  File \"/Users/raf/opt/anaconda3/envs/RLFRaud/lib/python3.6/site-packages/pandas/core/frame.py\", line 3044, in __setitem__\n",
      "    self._set_item(key, value)\n",
      "  File \"/Users/raf/opt/anaconda3/envs/RLFRaud/lib/python3.6/site-packages/pandas/core/frame.py\", line 3121, in _set_item\n",
      "    NDFrame._set_item(self, key, value)\n",
      "  File \"/Users/raf/opt/anaconda3/envs/RLFRaud/lib/python3.6/site-packages/pandas/core/generic.py\", line 3582, in _set_item\n",
      "    NDFrame._iset_item(self, loc, value)\n",
      "  File \"/Users/raf/opt/anaconda3/envs/RLFRaud/lib/python3.6/site-packages/pandas/core/generic.py\", line 3571, in _iset_item\n",
      "    self._mgr.iset(loc, value)\n",
      "  File \"/Users/raf/opt/anaconda3/envs/RLFRaud/lib/python3.6/site-packages/pandas/core/internals/managers.py\", line 1114, in iset\n",
      "    blk.delete(blk_locs)\n",
      "  File \"/Users/raf/opt/anaconda3/envs/RLFRaud/lib/python3.6/site-packages/pandas/core/internals/blocks.py\", line 337, in delete\n",
      "    self.values = np.delete(self.values, loc, 0)\n",
      "  File \"<__array_function__ internals>\", line 6, in delete\n",
      "  File \"/Users/raf/opt/anaconda3/envs/RLFRaud/lib/python3.6/site-packages/numpy/lib/function_base.py\", line 4409, in delete\n",
      "    new = arr[tuple(slobj)]\n",
      "KeyboardInterrupt\n",
      "\n",
      "During handling of the above exception, another exception occurred:\n",
      "\n",
      "Traceback (most recent call last):\n",
      "  File \"/Users/raf/opt/anaconda3/envs/RLFRaud/lib/python3.6/site-packages/IPython/core/interactiveshell.py\", line 2044, in showtraceback\n",
      "    stb = value._render_traceback_()\n",
      "AttributeError: 'KeyboardInterrupt' object has no attribute '_render_traceback_'\n",
      "\n",
      "During handling of the above exception, another exception occurred:\n",
      "\n",
      "Traceback (most recent call last):\n",
      "  File \"/Users/raf/opt/anaconda3/envs/RLFRaud/lib/python3.6/site-packages/IPython/core/interactiveshell.py\", line 3263, in run_ast_nodes\n",
      "    if (await self.run_code(code, result,  async_=asy)):\n",
      "  File \"/Users/raf/opt/anaconda3/envs/RLFRaud/lib/python3.6/site-packages/IPython/core/interactiveshell.py\", line 3360, in run_code\n",
      "    self.showtraceback(running_compiled_code=True)\n",
      "  File \"/Users/raf/opt/anaconda3/envs/RLFRaud/lib/python3.6/site-packages/IPython/core/interactiveshell.py\", line 2047, in showtraceback\n",
      "    value, tb, tb_offset=tb_offset)\n",
      "  File \"/Users/raf/opt/anaconda3/envs/RLFRaud/lib/python3.6/site-packages/IPython/core/ultratb.py\", line 1436, in structured_traceback\n",
      "    self, etype, value, tb, tb_offset, number_of_lines_of_context)\n",
      "  File \"/Users/raf/opt/anaconda3/envs/RLFRaud/lib/python3.6/site-packages/IPython/core/ultratb.py\", line 1336, in structured_traceback\n",
      "    self, etype, value, tb, tb_offset, number_of_lines_of_context\n",
      "  File \"/Users/raf/opt/anaconda3/envs/RLFRaud/lib/python3.6/site-packages/IPython/core/ultratb.py\", line 1193, in structured_traceback\n",
      "    tb_offset)\n",
      "  File \"/Users/raf/opt/anaconda3/envs/RLFRaud/lib/python3.6/site-packages/IPython/core/ultratb.py\", line 1150, in format_exception_as_a_whole\n",
      "    last_unique, recursion_repeat = find_recursion(orig_etype, evalue, records)\n",
      "  File \"/Users/raf/opt/anaconda3/envs/RLFRaud/lib/python3.6/site-packages/IPython/core/ultratb.py\", line 451, in find_recursion\n",
      "    return len(records), 0\n",
      "TypeError: object of type 'NoneType' has no len()\n",
      "\n",
      "During handling of the above exception, another exception occurred:\n",
      "\n",
      "Traceback (most recent call last):\n",
      "  File \"/Users/raf/opt/anaconda3/envs/RLFRaud/lib/python3.6/site-packages/IPython/core/interactiveshell.py\", line 2044, in showtraceback\n",
      "    stb = value._render_traceback_()\n",
      "AttributeError: 'TypeError' object has no attribute '_render_traceback_'\n",
      "\n",
      "During handling of the above exception, another exception occurred:\n",
      "\n",
      "Traceback (most recent call last):\n",
      "  File \"/Users/raf/opt/anaconda3/envs/RLFRaud/lib/python3.6/site-packages/IPython/core/ultratb.py\", line 1169, in get_records\n",
      "    return _fixed_getinnerframes(etb, number_of_lines_of_context, tb_offset)\n",
      "  File \"/Users/raf/opt/anaconda3/envs/RLFRaud/lib/python3.6/site-packages/IPython/core/ultratb.py\", line 316, in wrapped\n",
      "    return f(*args, **kwargs)\n",
      "  File \"/Users/raf/opt/anaconda3/envs/RLFRaud/lib/python3.6/site-packages/IPython/core/ultratb.py\", line 350, in _fixed_getinnerframes\n",
      "    records = fix_frame_records_filenames(inspect.getinnerframes(etb, context))\n",
      "  File \"/Users/raf/opt/anaconda3/envs/RLFRaud/lib/python3.6/inspect.py\", line 1490, in getinnerframes\n",
      "    frameinfo = (tb.tb_frame,) + getframeinfo(tb, context)\n",
      "  File \"/Users/raf/opt/anaconda3/envs/RLFRaud/lib/python3.6/inspect.py\", line 1448, in getframeinfo\n",
      "    filename = getsourcefile(frame) or getfile(frame)\n",
      "  File \"/Users/raf/opt/anaconda3/envs/RLFRaud/lib/python3.6/inspect.py\", line 696, in getsourcefile\n",
      "    if getattr(getmodule(object, filename), '__loader__', None) is not None:\n",
      "  File \"/Users/raf/opt/anaconda3/envs/RLFRaud/lib/python3.6/inspect.py\", line 742, in getmodule\n",
      "    os.path.realpath(f)] = module.__name__\n",
      "  File \"/Users/raf/opt/anaconda3/envs/RLFRaud/lib/python3.6/posixpath.py\", line 395, in realpath\n",
      "    path, ok = _joinrealpath(filename[:0], filename, {})\n",
      "  File \"/Users/raf/opt/anaconda3/envs/RLFRaud/lib/python3.6/posixpath.py\", line 429, in _joinrealpath\n",
      "    if not islink(newpath):\n",
      "  File \"/Users/raf/opt/anaconda3/envs/RLFRaud/lib/python3.6/posixpath.py\", line 171, in islink\n",
      "    st = os.lstat(path)\n",
      "KeyboardInterrupt\n"
     ]
    },
    {
     "name": "stderr",
     "output_type": "stream",
     "text": [
      "ERROR:root:Internal Python error in the inspect module.\n",
      "Below is the traceback from this internal error.\n",
      "\n",
      "INFO:root:\n",
      "Unfortunately, your original traceback can not be constructed.\n",
      "\n"
     ]
    },
    {
     "name": "stdout",
     "output_type": "stream",
     "text": [
      "Traceback (most recent call last):\n",
      "  File \"/Users/raf/opt/anaconda3/envs/RLFRaud/lib/python3.6/site-packages/IPython/core/interactiveshell.py\", line 3343, in run_code\n",
      "    exec(code_obj, self.user_global_ns, self.user_ns)\n",
      "  File \"<ipython-input-13-173df08cb0e2>\", line 9, in <module>\n",
      "    g2v.fit(G)\n",
      "  File \"/Users/raf/opt/anaconda3/envs/RLFRaud/lib/python3.6/site-packages/nodevectors/node2vec.py\", line 117, in fit\n",
      "    self.walks[col] = self.walks[col].map(node_dict).astype(str)\n",
      "  File \"/Users/raf/opt/anaconda3/envs/RLFRaud/lib/python3.6/site-packages/pandas/core/frame.py\", line 3044, in __setitem__\n",
      "    self._set_item(key, value)\n",
      "  File \"/Users/raf/opt/anaconda3/envs/RLFRaud/lib/python3.6/site-packages/pandas/core/frame.py\", line 3121, in _set_item\n",
      "    NDFrame._set_item(self, key, value)\n",
      "  File \"/Users/raf/opt/anaconda3/envs/RLFRaud/lib/python3.6/site-packages/pandas/core/generic.py\", line 3582, in _set_item\n",
      "    NDFrame._iset_item(self, loc, value)\n",
      "  File \"/Users/raf/opt/anaconda3/envs/RLFRaud/lib/python3.6/site-packages/pandas/core/generic.py\", line 3571, in _iset_item\n",
      "    self._mgr.iset(loc, value)\n",
      "  File \"/Users/raf/opt/anaconda3/envs/RLFRaud/lib/python3.6/site-packages/pandas/core/internals/managers.py\", line 1114, in iset\n",
      "    blk.delete(blk_locs)\n",
      "  File \"/Users/raf/opt/anaconda3/envs/RLFRaud/lib/python3.6/site-packages/pandas/core/internals/blocks.py\", line 337, in delete\n",
      "    self.values = np.delete(self.values, loc, 0)\n",
      "  File \"<__array_function__ internals>\", line 6, in delete\n",
      "  File \"/Users/raf/opt/anaconda3/envs/RLFRaud/lib/python3.6/site-packages/numpy/lib/function_base.py\", line 4409, in delete\n",
      "    new = arr[tuple(slobj)]\n",
      "KeyboardInterrupt\n",
      "\n",
      "During handling of the above exception, another exception occurred:\n",
      "\n",
      "Traceback (most recent call last):\n",
      "  File \"/Users/raf/opt/anaconda3/envs/RLFRaud/lib/python3.6/site-packages/IPython/core/interactiveshell.py\", line 2044, in showtraceback\n",
      "    stb = value._render_traceback_()\n",
      "AttributeError: 'KeyboardInterrupt' object has no attribute '_render_traceback_'\n",
      "\n",
      "During handling of the above exception, another exception occurred:\n",
      "\n",
      "Traceback (most recent call last):\n",
      "  File \"/Users/raf/opt/anaconda3/envs/RLFRaud/lib/python3.6/site-packages/IPython/core/interactiveshell.py\", line 3263, in run_ast_nodes\n",
      "    if (await self.run_code(code, result,  async_=asy)):\n",
      "  File \"/Users/raf/opt/anaconda3/envs/RLFRaud/lib/python3.6/site-packages/IPython/core/interactiveshell.py\", line 3360, in run_code\n",
      "    self.showtraceback(running_compiled_code=True)\n",
      "  File \"/Users/raf/opt/anaconda3/envs/RLFRaud/lib/python3.6/site-packages/IPython/core/interactiveshell.py\", line 2047, in showtraceback\n",
      "    value, tb, tb_offset=tb_offset)\n",
      "  File \"/Users/raf/opt/anaconda3/envs/RLFRaud/lib/python3.6/site-packages/IPython/core/ultratb.py\", line 1436, in structured_traceback\n",
      "    self, etype, value, tb, tb_offset, number_of_lines_of_context)\n",
      "  File \"/Users/raf/opt/anaconda3/envs/RLFRaud/lib/python3.6/site-packages/IPython/core/ultratb.py\", line 1336, in structured_traceback\n",
      "    self, etype, value, tb, tb_offset, number_of_lines_of_context\n",
      "  File \"/Users/raf/opt/anaconda3/envs/RLFRaud/lib/python3.6/site-packages/IPython/core/ultratb.py\", line 1193, in structured_traceback\n",
      "    tb_offset)\n",
      "  File \"/Users/raf/opt/anaconda3/envs/RLFRaud/lib/python3.6/site-packages/IPython/core/ultratb.py\", line 1150, in format_exception_as_a_whole\n",
      "    last_unique, recursion_repeat = find_recursion(orig_etype, evalue, records)\n",
      "  File \"/Users/raf/opt/anaconda3/envs/RLFRaud/lib/python3.6/site-packages/IPython/core/ultratb.py\", line 451, in find_recursion\n",
      "    return len(records), 0\n",
      "TypeError: object of type 'NoneType' has no len()\n",
      "\n",
      "During handling of the above exception, another exception occurred:\n",
      "\n",
      "Traceback (most recent call last):\n",
      "  File \"/Users/raf/opt/anaconda3/envs/RLFRaud/lib/python3.6/site-packages/IPython/core/interactiveshell.py\", line 2044, in showtraceback\n",
      "    stb = value._render_traceback_()\n",
      "AttributeError: 'TypeError' object has no attribute '_render_traceback_'\n",
      "\n",
      "During handling of the above exception, another exception occurred:\n",
      "\n",
      "Traceback (most recent call last):\n",
      "  File \"/Users/raf/opt/anaconda3/envs/RLFRaud/lib/python3.6/site-packages/IPython/core/interactiveshell.py\", line 2895, in _run_cell\n",
      "    return runner(coro)\n",
      "  File \"/Users/raf/opt/anaconda3/envs/RLFRaud/lib/python3.6/site-packages/IPython/core/async_helpers.py\", line 68, in _pseudo_sync_runner\n",
      "    coro.send(None)\n",
      "  File \"/Users/raf/opt/anaconda3/envs/RLFRaud/lib/python3.6/site-packages/IPython/core/interactiveshell.py\", line 3072, in run_cell_async\n",
      "    interactivity=interactivity, compiler=compiler, result=result)\n",
      "  File \"/Users/raf/opt/anaconda3/envs/RLFRaud/lib/python3.6/site-packages/IPython/core/interactiveshell.py\", line 3282, in run_ast_nodes\n",
      "    self.showtraceback()\n",
      "  File \"/Users/raf/opt/anaconda3/envs/RLFRaud/lib/python3.6/site-packages/IPython/core/interactiveshell.py\", line 2047, in showtraceback\n",
      "    value, tb, tb_offset=tb_offset)\n",
      "  File \"/Users/raf/opt/anaconda3/envs/RLFRaud/lib/python3.6/site-packages/IPython/core/ultratb.py\", line 1436, in structured_traceback\n",
      "    self, etype, value, tb, tb_offset, number_of_lines_of_context)\n",
      "  File \"/Users/raf/opt/anaconda3/envs/RLFRaud/lib/python3.6/site-packages/IPython/core/ultratb.py\", line 1336, in structured_traceback\n",
      "    self, etype, value, tb, tb_offset, number_of_lines_of_context\n",
      "  File \"/Users/raf/opt/anaconda3/envs/RLFRaud/lib/python3.6/site-packages/IPython/core/ultratb.py\", line 1211, in structured_traceback\n",
      "    chained_exceptions_tb_offset)\n",
      "  File \"/Users/raf/opt/anaconda3/envs/RLFRaud/lib/python3.6/site-packages/IPython/core/ultratb.py\", line 1150, in format_exception_as_a_whole\n",
      "    last_unique, recursion_repeat = find_recursion(orig_etype, evalue, records)\n",
      "  File \"/Users/raf/opt/anaconda3/envs/RLFRaud/lib/python3.6/site-packages/IPython/core/ultratb.py\", line 451, in find_recursion\n",
      "    return len(records), 0\n",
      "TypeError: object of type 'NoneType' has no len()\n",
      "\n",
      "During handling of the above exception, another exception occurred:\n",
      "\n",
      "Traceback (most recent call last):\n",
      "  File \"/Users/raf/opt/anaconda3/envs/RLFRaud/lib/python3.6/site-packages/IPython/core/interactiveshell.py\", line 2044, in showtraceback\n",
      "    stb = value._render_traceback_()\n",
      "AttributeError: 'TypeError' object has no attribute '_render_traceback_'\n",
      "\n",
      "During handling of the above exception, another exception occurred:\n",
      "\n",
      "Traceback (most recent call last):\n",
      "  File \"/Users/raf/opt/anaconda3/envs/RLFRaud/lib/python3.6/site-packages/IPython/core/ultratb.py\", line 1169, in get_records\n",
      "    return _fixed_getinnerframes(etb, number_of_lines_of_context, tb_offset)\n",
      "  File \"/Users/raf/opt/anaconda3/envs/RLFRaud/lib/python3.6/site-packages/IPython/core/ultratb.py\", line 316, in wrapped\n",
      "    return f(*args, **kwargs)\n",
      "  File \"/Users/raf/opt/anaconda3/envs/RLFRaud/lib/python3.6/site-packages/IPython/core/ultratb.py\", line 350, in _fixed_getinnerframes\n",
      "    records = fix_frame_records_filenames(inspect.getinnerframes(etb, context))\n",
      "  File \"/Users/raf/opt/anaconda3/envs/RLFRaud/lib/python3.6/inspect.py\", line 1490, in getinnerframes\n",
      "    frameinfo = (tb.tb_frame,) + getframeinfo(tb, context)\n",
      "  File \"/Users/raf/opt/anaconda3/envs/RLFRaud/lib/python3.6/inspect.py\", line 1448, in getframeinfo\n",
      "    filename = getsourcefile(frame) or getfile(frame)\n",
      "  File \"/Users/raf/opt/anaconda3/envs/RLFRaud/lib/python3.6/inspect.py\", line 696, in getsourcefile\n",
      "    if getattr(getmodule(object, filename), '__loader__', None) is not None:\n",
      "  File \"/Users/raf/opt/anaconda3/envs/RLFRaud/lib/python3.6/inspect.py\", line 742, in getmodule\n",
      "    os.path.realpath(f)] = module.__name__\n",
      "  File \"/Users/raf/opt/anaconda3/envs/RLFRaud/lib/python3.6/posixpath.py\", line 395, in realpath\n",
      "    path, ok = _joinrealpath(filename[:0], filename, {})\n",
      "  File \"/Users/raf/opt/anaconda3/envs/RLFRaud/lib/python3.6/posixpath.py\", line 429, in _joinrealpath\n",
      "    if not islink(newpath):\n",
      "  File \"/Users/raf/opt/anaconda3/envs/RLFRaud/lib/python3.6/posixpath.py\", line 171, in islink\n",
      "    st = os.lstat(path)\n",
      "KeyboardInterrupt\n"
     ]
    }
   ],
   "source": [
    "# Fit embedding model to graph\n",
    "g2v = Node2Vec(\n",
    "    n_components=dimensions,\n",
    "    walklen = walk_len,\n",
    "    epochs = walk_num,\n",
    "    w2vparams={'workers': workers, 'window': window_size}\n",
    ")\n",
    "\n",
    "g2v.fit(G)\n",
    "model = g2v.model"
   ]
  },
  {
   "cell_type": "code",
   "execution_count": 13,
   "id": "d59e5bbc",
   "metadata": {
    "lines_to_end_of_cell_marker": 2
   },
   "outputs": [
    {
     "name": "stdout",
     "output_type": "stream",
     "text": [
      "ERROR! Session/line number was not unique in database. History logging moved to new session 4473\n"
     ]
    },
    {
     "ename": "NameError",
     "evalue": "name 'model' is not defined",
     "output_type": "error",
     "traceback": [
      "\u001b[0;31m---------------------------------------------------------------------------\u001b[0m",
      "\u001b[0;31mNameError\u001b[0m                                 Traceback (most recent call last)",
      "\u001b[0;32m<ipython-input-13-99d6e5b2ee7c>\u001b[0m in \u001b[0;36m<module>\u001b[0;34m\u001b[0m\n\u001b[1;32m      1\u001b[0m \u001b[0membeddings\u001b[0m \u001b[0;34m=\u001b[0m \u001b[0;34m{\u001b[0m\u001b[0;34m}\u001b[0m\u001b[0;34m\u001b[0m\u001b[0;34m\u001b[0m\u001b[0m\n\u001b[1;32m      2\u001b[0m \u001b[0;32mfor\u001b[0m \u001b[0mi\u001b[0m \u001b[0;32min\u001b[0m \u001b[0mdf_train\u001b[0m\u001b[0;34m.\u001b[0m\u001b[0mTX_ID\u001b[0m\u001b[0;34m:\u001b[0m\u001b[0;34m\u001b[0m\u001b[0;34m\u001b[0m\u001b[0m\n\u001b[0;32m----> 3\u001b[0;31m     \u001b[0membeddings\u001b[0m\u001b[0;34m[\u001b[0m\u001b[0mi\u001b[0m\u001b[0;34m]\u001b[0m \u001b[0;34m=\u001b[0m \u001b[0mmodel\u001b[0m\u001b[0;34m.\u001b[0m\u001b[0mwv\u001b[0m\u001b[0;34m[\u001b[0m\u001b[0mstr\u001b[0m\u001b[0;34m(\u001b[0m\u001b[0mi\u001b[0m\u001b[0;34m)\u001b[0m\u001b[0;34m]\u001b[0m\u001b[0;34m\u001b[0m\u001b[0;34m\u001b[0m\u001b[0m\n\u001b[0m\u001b[1;32m      4\u001b[0m \u001b[0;34m\u001b[0m\u001b[0m\n\u001b[1;32m      5\u001b[0m \u001b[0;34m\u001b[0m\u001b[0m\n",
      "\u001b[0;31mNameError\u001b[0m: name 'model' is not defined"
     ]
    }
   ],
   "source": [
    "embeddings = {}\n",
    "for i in df_train.TX_ID:\n",
    "    embeddings[i] = model.wv[str(i)]\n",
    "\n",
    "\n",
    "embeddings = pd.DataFrame().from_dict(embeddings, orient='index')"
   ]
  },
  {
   "cell_type": "code",
   "execution_count": null,
   "id": "6b7c734c",
   "metadata": {},
   "outputs": [],
   "source": [
    "df_train = df_train.merge(embeddings, left_on='TX_ID', right_index=True)"
   ]
  },
  {
   "cell_type": "code",
   "execution_count": null,
   "id": "bea0f1ff",
   "metadata": {},
   "outputs": [],
   "source": [
    "df_train.head()"
   ]
  },
  {
   "cell_type": "markdown",
   "id": "ac195605",
   "metadata": {},
   "source": [
    "## Inductive Pooling"
   ]
  },
  {
   "cell_type": "code",
   "execution_count": null,
   "id": "28b4d155",
   "metadata": {},
   "outputs": [],
   "source": [
    "results = inductive_pooling(df=df_test, embeddings=embeddings, G=G, workers=workers)"
   ]
  },
  {
   "cell_type": "code",
   "execution_count": null,
   "id": "bc5f1c64",
   "metadata": {},
   "outputs": [],
   "source": [
    "df_new_embeddings = pd.concat([pd.DataFrame(li).transpose() for li in results])"
   ]
  },
  {
   "cell_type": "code",
   "execution_count": null,
   "id": "ef901f24",
   "metadata": {},
   "outputs": [],
   "source": [
    "df_new_embeddings.index = df_test.TX_ID\n",
    "df_test = df_test.merge(df_new_embeddings, left_on='TX_ID', right_index=True)"
   ]
  },
  {
   "cell_type": "markdown",
   "id": "e57bca2a",
   "metadata": {},
   "source": [
    "## XGBoost Classifier"
   ]
  },
  {
   "cell_type": "code",
   "execution_count": null,
   "id": "9f06a639",
   "metadata": {},
   "outputs": [],
   "source": [
    "embedding_features = [i for i in range(dimensions)]"
   ]
  },
  {
   "cell_type": "code",
   "execution_count": null,
   "id": "c9be8159",
   "metadata": {},
   "outputs": [],
   "source": [
    "X_train = df_train[embedding_features].iloc[:int(df_train.shape[0]*0.8)]\n",
    "X_val = df_train[embedding_features].iloc[int(df_train.shape[0]*0.8):]\n",
    "y_train = df_train.TX_FRAUD.iloc[:int(df_train.shape[0]*0.8)]\n",
    "y_val = df_train.TX_FRAUD.iloc[int(df_train.shape[0]*0.8):]\n",
    "\n",
    "X_test = df_test[embedding_features]\n",
    "y_test = df_test.TX_FRAUD\n",
    "\n",
    "dtrain = xgb.DMatrix(X_train, label=y_train)\n",
    "dval = xgb.DMatrix(X_val, label=y_val)\n",
    "dtest = xgb.DMatrix(X_test, label=y_test)"
   ]
  },
  {
   "cell_type": "code",
   "execution_count": null,
   "id": "b1a3bad7",
   "metadata": {},
   "outputs": [],
   "source": [
    "xgb_params = {\n",
    "    'eval_metric': ['auc','aucpr', 'logloss'],\n",
    "    'objective':'binary:logistic',\n",
    "    'n_estimators': 300,\n",
    "    'n_jobs':8,\n",
    "    'learning_rate':0.1,\n",
    "    'seed':42,\n",
    "    'colsample_bytree':0.6,\n",
    "    'colsample_bylevel':0.9,\n",
    "    'subsample':0.9\n",
    "}"
   ]
  },
  {
   "cell_type": "code",
   "execution_count": null,
   "id": "dbbf83ed",
   "metadata": {
    "scrolled": true
   },
   "outputs": [],
   "source": [
    "model = xgb.train(xgb_params, dtrain, num_boost_round=xgb_params['n_estimators'], evals=[(dval, 'val'), (dtrain, 'train')], early_stopping_rounds=int(xgb_params['n_estimators']/2))"
   ]
  },
  {
   "cell_type": "code",
   "execution_count": null,
   "id": "c8b85481",
   "metadata": {
    "lines_to_next_cell": 2
   },
   "outputs": [],
   "source": [
    "y_pred_proba = model.predict(dtest)"
   ]
  },
  {
   "cell_type": "markdown",
   "id": "97a498fb",
   "metadata": {},
   "source": [
    "## Evaluation"
   ]
  },
  {
   "cell_type": "code",
   "execution_count": null,
   "id": "33eacaf0",
   "metadata": {},
   "outputs": [],
   "source": [
    "ap = average_precision_score(y_test, y_pred_proba)\n",
    "print(\"Average Precision: \", np.round(ap,2))"
   ]
  },
  {
   "cell_type": "code",
   "execution_count": null,
   "id": "a2a49ee2",
   "metadata": {},
   "outputs": [],
   "source": [
    "fig = plot_ap(y_test, y_pred_proba)"
   ]
  },
  {
   "cell_type": "code",
   "execution_count": null,
   "id": "5c8b3da4",
   "metadata": {},
   "outputs": [],
   "source": [
    "optimal_threshold, optimal_f1_score = get_optimal_f1_cutoff(y_test, y_pred_proba)\n",
    "print(\"F1 Score: \", np.round(optimal_f1_score, 4))"
   ]
  },
  {
   "cell_type": "code",
   "execution_count": null,
   "id": "2340fc8b",
   "metadata": {},
   "outputs": [],
   "source": [
    "cm = get_confusion_matrix(y_test, y_pred_proba, optimal_threshold)\n",
    "print(\"Confusion Matrix: \\n\", cm)"
   ]
  },
  {
   "cell_type": "code",
   "execution_count": null,
   "id": "66124bed",
   "metadata": {},
   "outputs": [],
   "source": [
    "from sklearn.metrics import roc_auc_score"
   ]
  },
  {
   "cell_type": "code",
   "execution_count": null,
   "id": "07a1ad1f",
   "metadata": {},
   "outputs": [],
   "source": [
    "roc_auc_score(y_test, y_pred_proba)"
   ]
  },
  {
   "cell_type": "code",
   "execution_count": null,
   "id": "10ba4dbe",
   "metadata": {},
   "outputs": [],
   "source": []
  }
 ],
 "metadata": {
  "kernelspec": {
   "display_name": "RLFraud",
   "language": "python",
   "name": "rlfraud"
  },
  "language_info": {
   "codemirror_mode": {
    "name": "ipython",
    "version": 3
   },
   "file_extension": ".py",
   "mimetype": "text/x-python",
   "name": "python",
   "nbconvert_exporter": "python",
   "pygments_lexer": "ipython3",
   "version": "3.6.13"
  },
  "toc": {
   "base_numbering": 1,
   "nav_menu": {},
   "number_sections": true,
   "sideBar": true,
   "skip_h1_title": false,
   "title_cell": "Table of Contents",
   "title_sidebar": "Contents",
   "toc_cell": false,
   "toc_position": {},
   "toc_section_display": true,
   "toc_window_display": false
  }
 },
 "nbformat": 4,
 "nbformat_minor": 5
}
