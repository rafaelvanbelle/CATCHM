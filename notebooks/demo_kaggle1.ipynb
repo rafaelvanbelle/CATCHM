{
 "cells": [
  {
   "cell_type": "markdown",
   "id": "6c02e356",
   "metadata": {},
   "source": [
    "# Demo"
   ]
  },
  {
   "cell_type": "markdown",
   "id": "bf4f24c7",
   "metadata": {},
   "source": [
    "## Download data from Kaggle"
   ]
  },
  {
   "cell_type": "markdown",
   "id": "091eec46",
   "metadata": {},
   "source": [
    "### Install Kaggle python API"
   ]
  },
  {
   "cell_type": "code",
   "execution_count": 1,
   "id": "097fd7ac",
   "metadata": {},
   "outputs": [
    {
     "name": "stdout",
     "output_type": "stream",
     "text": [
      "Requirement already satisfied: kaggle in /Users/raf/opt/anaconda3/lib/python3.7/site-packages (1.5.12)\r\n",
      "Requirement already satisfied: urllib3 in /Users/raf/opt/anaconda3/lib/python3.7/site-packages (from kaggle) (1.26.4)\r\n",
      "Requirement already satisfied: python-slugify in /Users/raf/opt/anaconda3/lib/python3.7/site-packages (from kaggle) (5.0.2)\r\n",
      "Requirement already satisfied: six>=1.10 in /Users/raf/opt/anaconda3/lib/python3.7/site-packages (from kaggle) (1.16.0)\r\n",
      "Requirement already satisfied: certifi in /Users/raf/opt/anaconda3/lib/python3.7/site-packages (from kaggle) (2021.5.30)\r\n",
      "Requirement already satisfied: tqdm in /Users/raf/opt/anaconda3/lib/python3.7/site-packages (from kaggle) (4.59.0)\r\n",
      "Requirement already satisfied: requests in /Users/raf/opt/anaconda3/lib/python3.7/site-packages (from kaggle) (2.25.1)\r\n",
      "Requirement already satisfied: python-dateutil in /Users/raf/opt/anaconda3/lib/python3.7/site-packages (from kaggle) (2.8.1)\r\n",
      "Requirement already satisfied: text-unidecode>=1.3 in /Users/raf/opt/anaconda3/lib/python3.7/site-packages (from python-slugify->kaggle) (1.3)\r\n",
      "Requirement already satisfied: idna<3,>=2.5 in /Users/raf/opt/anaconda3/lib/python3.7/site-packages (from requests->kaggle) (2.10)\r\n",
      "Requirement already satisfied: chardet<5,>=3.0.2 in /Users/raf/opt/anaconda3/lib/python3.7/site-packages (from requests->kaggle) (4.0.0)\r\n"
     ]
    }
   ],
   "source": [
    "! pip install kaggle"
   ]
  },
  {
   "cell_type": "markdown",
   "id": "a1f695f2",
   "metadata": {},
   "source": [
    "### Authenticating with Kaggle "
   ]
  },
  {
   "cell_type": "code",
   "execution_count": 2,
   "id": "1dcff0b6",
   "metadata": {},
   "outputs": [
    {
     "name": "stdout",
     "output_type": "stream",
     "text": [
      "Warning: Your Kaggle API key is readable by other users on this system! To fix this, you can run 'chmod 600 /Users/raf/.kaggle/kaggle.json'\n",
      "fraud-detection-dataset.zip: Skipping, found more recently modified local copy (use --force to force download)\n"
     ]
    }
   ],
   "source": [
    "! kaggle datasets download \"ranjeetshrivastav/fraud-detection-dataset\""
   ]
  },
  {
   "cell_type": "code",
   "execution_count": 5,
   "id": "c8a6e86e",
   "metadata": {},
   "outputs": [
    {
     "name": "stdout",
     "output_type": "stream",
     "text": [
      "Archive:  fraud-detection-dataset.zip\n",
      "  inflating: transactions.gz         \n",
      "  inflating: transactions/transactions.txt  \n"
     ]
    }
   ],
   "source": [
    "! unzip -o fraud-detection-dataset.zip"
   ]
  },
  {
   "cell_type": "code",
   "execution_count": 6,
   "id": "0bf3f5da",
   "metadata": {},
   "outputs": [],
   "source": [
    "import os\n",
    "import numpy as np\n",
    "import pandas as pd\n",
    "import networkx as nx\n",
    "from nodevectors import Node2Vec\n",
    "import xgboost as xgb\n",
    "from fucc.inductive_step import inductive_pooling\n",
    "from fucc.metrics import plot_ap, get_optimal_f1_cutoff, get_confusion_matrix\n",
    "from sklearn.metrics import average_precision_score\n",
    "import logging\n",
    "logging.basicConfig(level=logging.INFO)"
   ]
  },
  {
   "cell_type": "markdown",
   "id": "ec0931ab",
   "metadata": {},
   "source": [
    "Dataset source: https://www.kaggle.com/ranjeetshrivastav/fraud-detection-dataset"
   ]
  },
  {
   "cell_type": "code",
   "execution_count": 7,
   "id": "b4b00310",
   "metadata": {},
   "outputs": [],
   "source": [
    "# Parameters\n",
    "dimensions = 32\n",
    "walk_len = 80\n",
    "walk_num = 10\n",
    "window_size = 5\n",
    "workers = 8"
   ]
  },
  {
   "cell_type": "markdown",
   "id": "d89359ff",
   "metadata": {},
   "source": [
    "## Load Data"
   ]
  },
  {
   "cell_type": "code",
   "execution_count": 8,
   "id": "e9472d30",
   "metadata": {},
   "outputs": [],
   "source": [
    "df = pd.read_json('/Users/raf/Dropbox/DOC/data/fraud_datasets/archive/transactions/transactions.txt',  lines=True, convert_dates=[4])"
   ]
  },
  {
   "cell_type": "code",
   "execution_count": 9,
   "id": "cbbefdde",
   "metadata": {},
   "outputs": [],
   "source": [
    "df.iloc[:, 4] = pd.to_datetime(df.iloc[:, 4])"
   ]
  },
  {
   "cell_type": "code",
   "execution_count": 10,
   "id": "c8cf06ee",
   "metadata": {},
   "outputs": [],
   "source": [
    "df = df.sort_values('transactionDateTime')\n",
    "df.loc[:, 'TX_ID'] = range(df.shape[0])"
   ]
  },
  {
   "cell_type": "code",
   "execution_count": 11,
   "id": "e09b8861",
   "metadata": {},
   "outputs": [],
   "source": [
    "df = df.rename(columns={\"merchantName\":\"TERM_MIDUID\", \"customerId\":\"CARD_PAN_ID\", \"isFraud\": \"TX_FRAUD\" })"
   ]
  },
  {
   "cell_type": "code",
   "execution_count": 12,
   "id": "c4501adf",
   "metadata": {},
   "outputs": [],
   "source": [
    "df_train = df.iloc[:400000]\n",
    "df_test = df.iloc[400000:500000]"
   ]
  },
  {
   "cell_type": "markdown",
   "id": "6abd07c4",
   "metadata": {},
   "source": [
    "## Create network"
   ]
  },
  {
   "cell_type": "code",
   "execution_count": 13,
   "id": "b53b06b1",
   "metadata": {},
   "outputs": [],
   "source": [
    "G = nx.Graph()\n",
    "G.add_nodes_from(df_train.TERM_MIDUID.unique(), type='merchant')\n",
    "G.add_nodes_from(df_train.CARD_PAN_ID.unique(), type='cardholder')\n",
    "G.add_nodes_from(df_train.TX_ID.unique(), type='transaction')\n",
    "\n",
    "G.add_edges_from(zip(df_train.CARD_PAN_ID, df_train.TX_ID))\n",
    "G.add_edges_from(zip(df_train.TX_ID, df_train.TERM_MIDUID))"
   ]
  },
  {
   "cell_type": "code",
   "execution_count": 14,
   "id": "f0816b93",
   "metadata": {},
   "outputs": [
    {
     "name": "stdout",
     "output_type": "stream",
     "text": [
      "Name: \n",
      "Type: Graph\n",
      "Number of nodes: 407337\n",
      "Number of edges: 800000\n",
      "Average degree:   3.9280\n"
     ]
    }
   ],
   "source": [
    "print(nx.info(G))"
   ]
  },
  {
   "cell_type": "markdown",
   "id": "1e73d12c",
   "metadata": {},
   "source": [
    "## Deepwalk"
   ]
  },
  {
   "cell_type": "code",
   "execution_count": 15,
   "id": "4a5afc52",
   "metadata": {
    "scrolled": true
   },
   "outputs": [
    {
     "name": "stdout",
     "output_type": "stream",
     "text": [
      "Making walks... Done, T=80.57\n",
      "Mapping Walk Names... Done, T=614.17\n",
      "Training W2V... WARNING: gensim word2vec version is unoptimizedTry version 3.6 if on windows, versions 3.7 and 3.8 have had issues\n"
     ]
    },
    {
     "ename": "TypeError",
     "evalue": "__init__() got an unexpected keyword argument 'size'",
     "output_type": "error",
     "traceback": [
      "\u001b[0;31m---------------------------------------------------------------------------\u001b[0m",
      "\u001b[0;31mTypeError\u001b[0m                                 Traceback (most recent call last)",
      "\u001b[0;32m<ipython-input-15-173df08cb0e2>\u001b[0m in \u001b[0;36m<module>\u001b[0;34m\u001b[0m\n\u001b[1;32m      7\u001b[0m )\n\u001b[1;32m      8\u001b[0m \u001b[0;34m\u001b[0m\u001b[0m\n\u001b[0;32m----> 9\u001b[0;31m \u001b[0mg2v\u001b[0m\u001b[0;34m.\u001b[0m\u001b[0mfit\u001b[0m\u001b[0;34m(\u001b[0m\u001b[0mG\u001b[0m\u001b[0;34m)\u001b[0m\u001b[0;34m\u001b[0m\u001b[0;34m\u001b[0m\u001b[0m\n\u001b[0m\u001b[1;32m     10\u001b[0m \u001b[0mmodel\u001b[0m \u001b[0;34m=\u001b[0m \u001b[0mg2v\u001b[0m\u001b[0;34m.\u001b[0m\u001b[0mmodel\u001b[0m\u001b[0;34m\u001b[0m\u001b[0;34m\u001b[0m\u001b[0m\n",
      "\u001b[0;32m~/opt/anaconda3/envs/RLFRaud/lib/python3.6/site-packages/nodevectors/node2vec.py\u001b[0m in \u001b[0;36mfit\u001b[0;34m(self, G)\u001b[0m\n\u001b[1;32m    131\u001b[0m             \u001b[0msentences\u001b[0m\u001b[0;34m=\u001b[0m\u001b[0mself\u001b[0m\u001b[0;34m.\u001b[0m\u001b[0mwalks\u001b[0m\u001b[0;34m,\u001b[0m\u001b[0;34m\u001b[0m\u001b[0;34m\u001b[0m\u001b[0m\n\u001b[1;32m    132\u001b[0m             \u001b[0msize\u001b[0m\u001b[0;34m=\u001b[0m\u001b[0mself\u001b[0m\u001b[0;34m.\u001b[0m\u001b[0mn_components\u001b[0m\u001b[0;34m,\u001b[0m\u001b[0;34m\u001b[0m\u001b[0;34m\u001b[0m\u001b[0m\n\u001b[0;32m--> 133\u001b[0;31m             **self.w2vparams)\n\u001b[0m\u001b[1;32m    134\u001b[0m         \u001b[0;32mif\u001b[0m \u001b[0;32mnot\u001b[0m \u001b[0mself\u001b[0m\u001b[0;34m.\u001b[0m\u001b[0mkeep_walks\u001b[0m\u001b[0;34m:\u001b[0m\u001b[0;34m\u001b[0m\u001b[0;34m\u001b[0m\u001b[0m\n\u001b[1;32m    135\u001b[0m             \u001b[0;32mdel\u001b[0m \u001b[0mself\u001b[0m\u001b[0;34m.\u001b[0m\u001b[0mwalks\u001b[0m\u001b[0;34m\u001b[0m\u001b[0;34m\u001b[0m\u001b[0m\n",
      "\u001b[0;31mTypeError\u001b[0m: __init__() got an unexpected keyword argument 'size'"
     ]
    }
   ],
   "source": [
    "# Fit embedding model to graph\n",
    "g2v = Node2Vec(\n",
    "    n_components=dimensions,\n",
    "    walklen = walk_len,\n",
    "    epochs = walk_num,\n",
    "    w2vparams={'workers': workers, 'window': window_size}\n",
    ")\n",
    "\n",
    "g2v.fit(G)\n",
    "model = g2v.model"
   ]
  },
  {
   "cell_type": "code",
   "execution_count": null,
   "id": "d59e5bbc",
   "metadata": {
    "lines_to_end_of_cell_marker": 2
   },
   "outputs": [],
   "source": [
    "embeddings = {}\n",
    "for i in df_train.TX_ID:\n",
    "    embeddings[i] = model.wv[str(i)]\n",
    "\n",
    "\n",
    "embeddings = pd.DataFrame().from_dict(embeddings, orient='index')"
   ]
  },
  {
   "cell_type": "code",
   "execution_count": null,
   "id": "6b7c734c",
   "metadata": {},
   "outputs": [],
   "source": [
    "df_train = df_train.merge(embeddings, left_on='TX_ID', right_index=True)"
   ]
  },
  {
   "cell_type": "code",
   "execution_count": null,
   "id": "bea0f1ff",
   "metadata": {},
   "outputs": [],
   "source": [
    "df_train.head()"
   ]
  },
  {
   "cell_type": "markdown",
   "id": "ac195605",
   "metadata": {},
   "source": [
    "## Inductive Pooling"
   ]
  },
  {
   "cell_type": "code",
   "execution_count": null,
   "id": "28b4d155",
   "metadata": {},
   "outputs": [],
   "source": [
    "results = inductive_pooling(df=df_test, embeddings=embeddings, G=G, workers=workers)"
   ]
  },
  {
   "cell_type": "code",
   "execution_count": null,
   "id": "bc5f1c64",
   "metadata": {},
   "outputs": [],
   "source": [
    "df_new_embeddings = pd.concat([pd.DataFrame(li).transpose() for li in results])"
   ]
  },
  {
   "cell_type": "code",
   "execution_count": null,
   "id": "ef901f24",
   "metadata": {},
   "outputs": [],
   "source": [
    "df_new_embeddings.index = df_test.TX_ID\n",
    "df_test = df_test.merge(df_new_embeddings, left_on='TX_ID', right_index=True)"
   ]
  },
  {
   "cell_type": "markdown",
   "id": "e57bca2a",
   "metadata": {},
   "source": [
    "## XGBoost Classifier"
   ]
  },
  {
   "cell_type": "code",
   "execution_count": null,
   "id": "9f06a639",
   "metadata": {},
   "outputs": [],
   "source": [
    "embedding_features = [i for i in range(dimensions)]"
   ]
  },
  {
   "cell_type": "code",
   "execution_count": null,
   "id": "c9be8159",
   "metadata": {},
   "outputs": [],
   "source": [
    "X_train = df_train[embedding_features].iloc[:int(df_train.shape[0]*0.8)]\n",
    "X_val = df_train[embedding_features].iloc[int(df_train.shape[0]*0.8):]\n",
    "y_train = df_train.TX_FRAUD.iloc[:int(df_train.shape[0]*0.8)]\n",
    "y_val = df_train.TX_FRAUD.iloc[int(df_train.shape[0]*0.8):]\n",
    "\n",
    "X_test = df_test[embedding_features]\n",
    "y_test = df_test.TX_FRAUD\n",
    "\n",
    "dtrain = xgb.DMatrix(X_train, label=y_train)\n",
    "dval = xgb.DMatrix(X_val, label=y_val)\n",
    "dtest = xgb.DMatrix(X_test, label=y_test)"
   ]
  },
  {
   "cell_type": "code",
   "execution_count": null,
   "id": "b1a3bad7",
   "metadata": {},
   "outputs": [],
   "source": [
    "xgb_params = {\n",
    "    'eval_metric': ['auc','aucpr', 'logloss'],\n",
    "    'objective':'binary:logistic',\n",
    "    'n_estimators': 300,\n",
    "    'n_jobs':8,\n",
    "    'learning_rate':0.1,\n",
    "    'seed':42,\n",
    "    'colsample_bytree':0.6,\n",
    "    'colsample_bylevel':0.9,\n",
    "    'subsample':0.9\n",
    "}"
   ]
  },
  {
   "cell_type": "code",
   "execution_count": null,
   "id": "dbbf83ed",
   "metadata": {
    "scrolled": true
   },
   "outputs": [],
   "source": [
    "model = xgb.train(xgb_params, dtrain, num_boost_round=xgb_params['n_estimators'], evals=[(dval, 'val'), (dtrain, 'train')], early_stopping_rounds=int(xgb_params['n_estimators']/2))"
   ]
  },
  {
   "cell_type": "code",
   "execution_count": null,
   "id": "c8b85481",
   "metadata": {
    "lines_to_next_cell": 2
   },
   "outputs": [],
   "source": [
    "y_pred_proba = model.predict(dtest)"
   ]
  },
  {
   "cell_type": "markdown",
   "id": "97a498fb",
   "metadata": {},
   "source": [
    "## Evaluation"
   ]
  },
  {
   "cell_type": "code",
   "execution_count": null,
   "id": "33eacaf0",
   "metadata": {},
   "outputs": [],
   "source": [
    "ap = average_precision_score(y_test, y_pred_proba)\n",
    "print(\"Average Precision: \", np.round(ap,2))"
   ]
  },
  {
   "cell_type": "code",
   "execution_count": null,
   "id": "a2a49ee2",
   "metadata": {},
   "outputs": [],
   "source": [
    "fig = plot_ap(y_test, y_pred_proba)"
   ]
  },
  {
   "cell_type": "code",
   "execution_count": null,
   "id": "5c8b3da4",
   "metadata": {},
   "outputs": [],
   "source": [
    "optimal_threshold, optimal_f1_score = get_optimal_f1_cutoff(y_test, y_pred_proba)\n",
    "print(\"F1 Score: \", np.round(optimal_f1_score, 4))"
   ]
  },
  {
   "cell_type": "code",
   "execution_count": null,
   "id": "2340fc8b",
   "metadata": {},
   "outputs": [],
   "source": [
    "cm = get_confusion_matrix(y_test, y_pred_proba, optimal_threshold)\n",
    "print(\"Confusion Matrix: \\n\", cm)"
   ]
  },
  {
   "cell_type": "code",
   "execution_count": null,
   "id": "66124bed",
   "metadata": {},
   "outputs": [],
   "source": [
    "from sklearn.metrics import roc_auc_score"
   ]
  },
  {
   "cell_type": "code",
   "execution_count": null,
   "id": "07a1ad1f",
   "metadata": {},
   "outputs": [],
   "source": [
    "roc_auc_score(y_test, y_pred_proba)"
   ]
  },
  {
   "cell_type": "code",
   "execution_count": null,
   "id": "10ba4dbe",
   "metadata": {},
   "outputs": [],
   "source": []
  }
 ],
 "metadata": {
  "jupytext": {
   "formats": "ipynb,py:light"
  },
  "kernelspec": {
   "display_name": "RLFraud",
   "language": "python",
   "name": "rlfraud"
  },
  "language_info": {
   "codemirror_mode": {
    "name": "ipython",
    "version": 3
   },
   "file_extension": ".py",
   "mimetype": "text/x-python",
   "name": "python",
   "nbconvert_exporter": "python",
   "pygments_lexer": "ipython3",
   "version": "3.6.13"
  },
  "toc": {
   "base_numbering": 1,
   "nav_menu": {},
   "number_sections": true,
   "sideBar": true,
   "skip_h1_title": false,
   "title_cell": "Table of Contents",
   "title_sidebar": "Contents",
   "toc_cell": false,
   "toc_position": {},
   "toc_section_display": true,
   "toc_window_display": false
  }
 },
 "nbformat": 4,
 "nbformat_minor": 5
}
