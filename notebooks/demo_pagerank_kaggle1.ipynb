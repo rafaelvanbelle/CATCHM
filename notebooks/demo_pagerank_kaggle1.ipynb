{
 "cells": [
  {
   "cell_type": "markdown",
   "id": "375e868f",
   "metadata": {},
   "source": [
    "# Demo"
   ]
  },
  {
   "cell_type": "markdown",
   "id": "6246d553",
   "metadata": {},
   "source": [
    "Dataset source: https://www.kaggle.com/ranjeetshrivastav/fraud-detection-dataset"
   ]
  },
  {
   "cell_type": "code",
   "execution_count": 1,
   "id": "ad7ff434",
   "metadata": {},
   "outputs": [],
   "source": [
    "import os\n",
    "import numpy as np\n",
    "import pandas as pd\n",
    "import networkx as nx\n",
    "from nodevectors import Node2Vec\n",
    "import xgboost as xgb\n",
    "from fucc.inductive_step import inductive_pooling\n",
    "from fucc.metrics import plot_ap, get_optimal_f1_cutoff, get_confusion_matrix\n",
    "from sklearn.metrics import average_precision_score\n",
    "import logging\n",
    "logging.basicConfig(level=logging.INFO)"
   ]
  },
  {
   "cell_type": "code",
   "execution_count": 2,
   "id": "04a71e3e",
   "metadata": {},
   "outputs": [],
   "source": [
    "from fucc.pagerank import get_pagerank_suspicion_scores, inductive_step, splitDataFrameIntoSmaller, postprocessing_historical_edges\n",
    "from fucc.utils import get_filename, export_suspicion_scores, import_suspicion_scores, multiprocessing\n",
    "from tqdm import tqdm\n",
    "from functools import partial\n",
    "import datetime\n",
    "import pickle"
   ]
  },
  {
   "cell_type": "code",
   "execution_count": 3,
   "id": "f1e84cb7",
   "metadata": {},
   "outputs": [],
   "source": [
    "# Parameters\n",
    "weighted = True\n",
    "WORKERS = 12\n",
    "lambdas = {'ST': 0.03, 'MT': 0.004, 'LT': 0.0001}\n",
    "#lambdas = {'LT': 0.0001}\n",
    "chunksize = 5000"
   ]
  },
  {
   "cell_type": "code",
   "execution_count": 4,
   "id": "b6ecae2e",
   "metadata": {},
   "outputs": [],
   "source": [
    "output_path = ''"
   ]
  },
  {
   "cell_type": "markdown",
   "id": "a9cd4b18",
   "metadata": {},
   "source": [
    "## Load Data"
   ]
  },
  {
   "cell_type": "code",
   "execution_count": 5,
   "id": "d2460d57",
   "metadata": {},
   "outputs": [],
   "source": [
    "df = pd.read_json('/Users/raf/Dropbox/DOC/data/fraud_datasets/archive/transactions/transactions.txt',  lines=True, convert_dates=[4])"
   ]
  },
  {
   "cell_type": "code",
   "execution_count": 6,
   "id": "45132da4",
   "metadata": {},
   "outputs": [],
   "source": [
    "df.iloc[:, 4] = pd.to_datetime(df.iloc[:, 4])"
   ]
  },
  {
   "cell_type": "code",
   "execution_count": 7,
   "id": "bc023f95",
   "metadata": {},
   "outputs": [],
   "source": [
    "df = df.sort_values('transactionDateTime')\n",
    "df.loc[:, 'TX_ID'] = range(df.shape[0])"
   ]
  },
  {
   "cell_type": "code",
   "execution_count": 8,
   "id": "97a0ca0d",
   "metadata": {},
   "outputs": [],
   "source": [
    "df = df.rename(columns={\"merchantName\":\"TERM_MIDUID\", \"customerId\":\"CARD_PAN_ID\", \"isFraud\": \"TX_FRAUD\", \"transactionDateTime\":\"TX_DATETIME\"})"
   ]
  },
  {
   "cell_type": "code",
   "execution_count": 9,
   "id": "63304c30",
   "metadata": {},
   "outputs": [],
   "source": [
    "df_train = df.iloc[:320000]\n",
    "df_val = df.iloc[320000:400000]\n",
    "df_test = df.iloc[400000:500000]"
   ]
  },
  {
   "cell_type": "code",
   "execution_count": 10,
   "id": "c167670e",
   "metadata": {},
   "outputs": [],
   "source": [
    "personalization_nodes = list(df_train.index)"
   ]
  },
  {
   "cell_type": "markdown",
   "id": "f67d57af",
   "metadata": {},
   "source": [
    "## Pagerank"
   ]
  },
  {
   "cell_type": "code",
   "execution_count": 11,
   "id": "edd16f93",
   "metadata": {},
   "outputs": [
    {
     "name": "stderr",
     "output_type": "stream",
     "text": [
      "INFO:root:Building network\n",
      "INFO:root:Calculating edge weights for ST\n",
      "INFO:root:Calculating some weights\n",
      "INFO:root:ok, ST\n",
      "INFO:root:Personalization\n",
      "INFO:root:Building graph ST\n",
      "INFO:root:Pagerank started\n"
     ]
    },
    {
     "name": "stdout",
     "output_type": "stream",
     "text": [
      "327266\n",
      "5350\n"
     ]
    },
    {
     "name": "stderr",
     "output_type": "stream",
     "text": [
      "INFO:root:Pagerank finished\n",
      "INFO:root:Building network\n",
      "INFO:root:Calculating edge weights for MT\n",
      "INFO:root:Calculating some weights\n",
      "INFO:root:ok, MT\n",
      "INFO:root:Personalization\n",
      "INFO:root:Building graph MT\n",
      "INFO:root:Pagerank started\n"
     ]
    },
    {
     "name": "stdout",
     "output_type": "stream",
     "text": [
      "327266\n",
      "5350\n"
     ]
    },
    {
     "name": "stderr",
     "output_type": "stream",
     "text": [
      "INFO:root:Pagerank finished\n",
      "INFO:root:Building network\n",
      "INFO:root:Calculating edge weights for LT\n",
      "INFO:root:Calculating some weights\n",
      "INFO:root:ok, LT\n",
      "INFO:root:Personalization\n",
      "INFO:root:Building graph LT\n",
      "INFO:root:Pagerank started\n"
     ]
    },
    {
     "name": "stdout",
     "output_type": "stream",
     "text": [
      "327266\n",
      "5350\n"
     ]
    },
    {
     "name": "stderr",
     "output_type": "stream",
     "text": [
      "INFO:root:Pagerank finished\n"
     ]
    },
    {
     "name": "stdout",
     "output_type": "stream",
     "text": [
      "CPU times: user 1min 24s, sys: 3.95 s, total: 1min 28s\n",
      "Wall time: 1min 30s\n"
     ]
    }
   ],
   "source": [
    "%%time\n",
    "\n",
    "dict_suspicion_scores = {}\n",
    "dict_G = {}\n",
    "\n",
    "for t, lambd in lambdas.items():\n",
    "    suspicion_scores, G = get_pagerank_suspicion_scores(\n",
    "                              df_train,\n",
    "                              t=t,\n",
    "                              lambd=lambd,\n",
    "                              alpha=0.000085,\n",
    "                              n_jobs=WORKERS,\n",
    "                              personalization_nodes=personalization_nodes,\n",
    "                              weighted=weighted)\n",
    "\n",
    "\n",
    "    dict_suspicion_scores[t] = suspicion_scores\n",
    "    dict_G[t] = G"
   ]
  },
  {
   "cell_type": "code",
   "execution_count": 12,
   "id": "88c79bc4",
   "metadata": {},
   "outputs": [
    {
     "name": "stderr",
     "output_type": "stream",
     "text": [
      "  0%|          | 0/41 [00:00<?, ?it/s]INFO:root:post processing started\n",
      "INFO:root:post processing started\n",
      "INFO:root:post processing started\n",
      "INFO:root:post processing started\n",
      "INFO:root:post processing started\n",
      "INFO:root:post processing started\n",
      "INFO:root:post processing started\n",
      "INFO:root:post processing started\n",
      "  5%|▍         | 2/41 [01:14<20:09, 31.02s/it]INFO:root:post processing started\n",
      " 20%|█▉        | 8/41 [01:27<02:39,  4.84s/it]INFO:root:post processing started\n",
      "INFO:root:post processing started\n",
      "INFO:root:post processing started\n",
      "INFO:root:post processing started\n",
      "INFO:root:post processing started\n",
      "\n",
      "INFO:root:post processing startedINFO:root:post processing started\n",
      " 24%|██▍       | 10/41 [02:38<07:54, 15.30s/it]INFO:root:post processing started\n",
      " 34%|███▍      | 14/41 [02:44<03:10,  7.05s/it]INFO:root:post processing started\n",
      "INFO:root:post processing started\n",
      " 39%|███▉      | 16/41 [02:48<02:10,  5.22s/it]INFO:root:post processing started\n",
      "INFO:root:post processing started\n",
      "INFO:root:post processing started\n",
      "INFO:root:post processing started\n",
      "INFO:root:post processing started\n",
      " 41%|████▏     | 17/41 [03:41<06:01, 15.05s/it]INFO:root:post processing started\n",
      " 44%|████▍     | 18/41 [03:47<04:55, 12.86s/it]INFO:root:post processing started\n",
      " 49%|████▉     | 20/41 [03:51<03:01,  8.65s/it]INFO:root:post processing started\n",
      "INFO:root:post processing started\n",
      " 56%|█████▌    | 23/41 [03:54<01:23,  4.64s/it]INFO:root:post processing started\n",
      "INFO:root:post processing started\n",
      " 59%|█████▊    | 24/41 [03:59<01:21,  4.77s/it]INFO:root:post processing started\n",
      "INFO:root:post processing started\n",
      " 61%|██████    | 25/41 [04:44<03:45, 14.10s/it]INFO:root:post processing started\n",
      " 68%|██████▊   | 28/41 [04:52<01:37,  7.53s/it]INFO:root:post processing started\n",
      " 71%|███████   | 29/41 [04:56<01:19,  6.66s/it]INFO:root:post processing started\n",
      "INFO:root:post processing started\n",
      " 73%|███████▎  | 30/41 [04:59<01:01,  5.62s/it]INFO:root:post processing started\n",
      " 76%|███████▌  | 31/41 [05:01<00:48,  4.84s/it]INFO:root:post processing started\n",
      "INFO:root:post processing started\n",
      "INFO:root:post processing started\n",
      " 80%|████████  | 33/41 [05:40<01:28, 11.09s/it]INFO:root:post processing started\n",
      "100%|██████████| 41/41 [05:53<00:00,  8.61s/it]\n",
      "  0%|          | 0/41 [00:00<?, ?it/s]INFO:root:post processing startedINFO:root:post processing started\n",
      "\n",
      "INFO:root:post processing started\n",
      "INFO:root:post processing started\n",
      "INFO:root:post processing started\n",
      "INFO:root:post processing started\n",
      "INFO:root:post processing started\n",
      "INFO:root:post processing started\n",
      "  5%|▍         | 2/41 [00:54<14:42, 22.63s/it]INFO:root:post processing started\n",
      "  7%|▋         | 3/41 [00:58<08:59, 14.20s/it]INFO:root:post processing started\n",
      " 12%|█▏        | 5/41 [01:01<04:03,  6.76s/it]INFO:root:post processing started\n",
      " 15%|█▍        | 6/41 [01:03<03:09,  5.41s/it]INFO:root:post processing started\n",
      " 17%|█▋        | 7/41 [01:04<02:27,  4.33s/it]INFO:root:post processing started\n",
      "INFO:root:post processing started\n",
      " 20%|█▉        | 8/41 [01:06<02:01,  3.67s/it]INFO:root:post processing started\n",
      "INFO:root:post processing started\n",
      " 24%|██▍       | 10/41 [01:52<05:55, 11.46s/it]INFO:root:post processing started\n",
      " 29%|██▉       | 12/41 [01:54<02:58,  6.17s/it]INFO:root:post processing started\n",
      " 32%|███▏      | 13/41 [01:57<02:19,  4.98s/it]INFO:root:post processing started\n",
      " 34%|███▍      | 14/41 [01:58<01:49,  4.04s/it]INFO:root:post processing started\n",
      " 37%|███▋      | 15/41 [02:00<01:26,  3.35s/it]INFO:root:post processing started\n",
      " 39%|███▉      | 16/41 [02:02<01:11,  2.88s/it]INFO:root:post processing started\n",
      "INFO:root:post processing started\n",
      "INFO:root:post processing started\n",
      " 41%|████▏     | 17/41 [02:48<06:18, 15.75s/it]INFO:root:post processing started\n",
      " 46%|████▋     | 19/41 [02:51<03:04,  8.40s/it]INFO:root:post processing started\n",
      " 51%|█████     | 21/41 [02:55<01:42,  5.10s/it]INFO:root:post processing started\n",
      " 54%|█████▎    | 22/41 [02:59<01:31,  4.82s/it]INFO:root:post processing started\n",
      "INFO:root:post processing started\n",
      "INFO:root:post processing started\n",
      " 59%|█████▊    | 24/41 [03:04<01:04,  3.80s/it]INFO:root:post processing started\n",
      "INFO:root:post processing started\n",
      " 63%|██████▎   | 26/41 [03:58<03:07, 12.48s/it]INFO:root:post processing started\n",
      " 71%|███████   | 29/41 [04:03<01:14,  6.23s/it]INFO:root:post processing started\n",
      "INFO:root:post processing started\n",
      " 73%|███████▎  | 30/41 [04:05<00:58,  5.35s/it]INFO:root:post processing started\n",
      " 78%|███████▊  | 32/41 [04:12<00:37,  4.13s/it]INFO:root:post processing started\n",
      "INFO:root:post processing started\n",
      "INFO:root:post processing started\n",
      "INFO:root:post processing started\n",
      " 83%|████████▎ | 34/41 [05:08<01:36, 13.75s/it]INFO:root:post processing started\n",
      "100%|██████████| 41/41 [05:17<00:00,  7.75s/it]\n",
      "  0%|          | 0/41 [00:00<?, ?it/s]INFO:root:post processing started\n",
      "INFO:root:post processing started\n",
      "INFO:root:post processing started\n",
      "INFO:root:post processing started\n",
      "INFO:root:post processing started\n",
      "INFO:root:post processing started\n",
      "INFO:root:post processing started\n",
      "INFO:root:post processing started\n",
      "  5%|▍         | 2/41 [01:06<17:55, 27.57s/it]INFO:root:post processing started\n",
      " 12%|█▏        | 5/41 [01:13<04:48,  8.02s/it]INFO:root:post processing started\n",
      " 15%|█▍        | 6/41 [01:15<03:39,  6.28s/it]INFO:root:post processing started\n",
      " 20%|█▉        | 8/41 [01:17<02:06,  3.84s/it]INFO:root:post processing started\n",
      "INFO:root:post processing started\n",
      "INFO:root:post processing started\n",
      "INFO:root:post processing started\n",
      "INFO:root:post processing started\n",
      " 24%|██▍       | 10/41 [02:11<06:20, 12.27s/it]INFO:root:post processing started\n",
      " 32%|███▏      | 13/41 [02:21<03:04,  6.60s/it]INFO:root:post processing started\n",
      " 34%|███▍      | 14/41 [02:23<02:23,  5.32s/it]INFO:root:post processing started\n",
      " 37%|███▋      | 15/41 [02:25<01:54,  4.41s/it]INFO:root:post processing started\n",
      " 39%|███▉      | 16/41 [02:27<01:33,  3.75s/it]INFO:root:post processing started\n",
      "INFO:root:post processing started\n",
      "INFO:root:post processing started\n",
      "INFO:root:post processing started\n",
      " 41%|████▏     | 17/41 [03:18<07:08, 17.87s/it]INFO:root:post processing started\n",
      " 54%|█████▎    | 22/41 [03:30<01:47,  5.67s/it]INFO:root:post processing started\n",
      "INFO:root:post processing started\n",
      " 56%|█████▌    | 23/41 [03:32<01:27,  4.84s/it]INFO:root:post processing started\n",
      " 59%|█████▊    | 24/41 [03:35<01:17,  4.54s/it]INFO:root:post processing started\n",
      "INFO:root:post processing started\n",
      "INFO:root:post processing started\n",
      "INFO:root:post processing started\n",
      " 61%|██████    | 25/41 [04:27<04:25, 16.56s/it]INFO:root:post processing started\n",
      " 63%|██████▎   | 26/41 [04:37<03:43, 14.87s/it]INFO:root:post processing started\n",
      " 71%|███████   | 29/41 [04:43<01:34,  7.90s/it]INFO:root:post processing started\n",
      "INFO:root:post processing started\n",
      "INFO:root:post processing started\n",
      " 76%|███████▌  | 31/41 [04:47<01:00,  6.04s/it]INFO:root:post processing started\n",
      "INFO:root:post processing started\n",
      "INFO:root:post processing started\n",
      " 80%|████████  | 33/41 [05:36<01:35, 11.99s/it]INFO:root:post processing started\n",
      "100%|██████████| 41/41 [05:51<00:00,  8.57s/it]\n"
     ]
    },
    {
     "name": "stdout",
     "output_type": "stream",
     "text": [
      "CPU times: user 3min 6s, sys: 40 s, total: 3min 46s\n",
      "Wall time: 17min 15s\n"
     ]
    }
   ],
   "source": [
    "%%time\n",
    "## Get suspicion scores for the validation part of the training data\n",
    "data = df_val.set_index('TX_ID')\n",
    "data = data.loc[:, ['CARD_PAN_ID', 'TERM_MIDUID']]\n",
    "\n",
    "# We only need these columns from historical data\n",
    "historical_data = df_train.set_index('TX_ID')\n",
    "historical_data = historical_data.loc[:, ['CARD_PAN_ID', 'TERM_MIDUID']]\n",
    "\n",
    "# Inductive val set processing\n",
    "\n",
    "dict_results = {}\n",
    "for t,lamb in lambdas.items():\n",
    "\n",
    "    suspicion_scores, G = dict_suspicion_scores[t], dict_G[t]\n",
    "\n",
    "    # split df in smaller chunks\n",
    "    chunks = splitDataFrameIntoSmaller(data, chunkSize=2000)\n",
    "    partial_inductive_step = partial(inductive_step, historical_edges=historical_data, suspicion_scores=suspicion_scores, G=G, t=t)\n",
    "\n",
    "    result = multiprocessing(function=partial_inductive_step, chunks=chunks)\n",
    "    #f#ilename = get_filename(filename_elements=[subset_name, t])\n",
    "    \n",
    "    dict_results[t] = result\n",
    "    #result.to_csv(os.path.join(output_path, filename + '_output_val.csv'))\n",
    "\n",
    "df_val_pagerank = df_val.copy()\n",
    "for t, lamb in lambdas.items():\n",
    "    #filename = get_filename(filename_elements=[subset_name, t])\n",
    "    df_pagerank = dict_results[t]\n",
    "    #df_pagerank = df_pagerank.set_index('TX_ID')\n",
    "    df_pagerank = df_pagerank.filter(regex='SC_*')\n",
    "    df_val_pagerank = df_val_pagerank.merge(df_pagerank, left_on='TX_ID', right_index=True) \n",
    "\n",
    "#filename = get_filename(filename_elements=[subset_name])\n",
    "#df_val_pagerank.to_csv(os.path.join(output_path, subset_name + '_val_pagerank_inductive.csv'))"
   ]
  },
  {
   "cell_type": "code",
   "execution_count": 13,
   "id": "19853d68",
   "metadata": {
    "lines_to_next_cell": 2
   },
   "outputs": [
    {
     "name": "stderr",
     "output_type": "stream",
     "text": [
      "  0%|          | 0/51 [00:00<?, ?it/s]INFO:root:post processing started\n",
      "INFO:root:post processing started\n",
      "INFO:root:post processing started\n",
      "INFO:root:post processing started\n",
      "INFO:root:post processing started\n",
      "INFO:root:post processing started\n",
      "INFO:root:post processing started\n",
      "INFO:root:post processing started\n",
      "  6%|▌         | 3/51 [01:09<14:20, 17.93s/it]INFO:root:post processing started\n",
      " 12%|█▏        | 6/51 [01:14<05:40,  7.56s/it]INFO:root:post processing started\n",
      " 14%|█▎        | 7/51 [01:16<04:18,  5.88s/it]INFO:root:post processing started\n",
      "\n",
      "INFO:root:post processing startedINFO:root:post processing started\n",
      "INFO:root:post processing started\n",
      "INFO:root:post processing started\n",
      "INFO:root:post processing started\n",
      " 18%|█▊        | 9/51 [02:05<09:54, 14.15s/it]INFO:root:post processing started\n",
      " 22%|██▏       | 11/51 [02:12<06:10,  9.27s/it]INFO:root:post processing started\n",
      " 24%|██▎       | 12/51 [02:16<05:05,  7.84s/it]INFO:root:post processing started\n",
      " 25%|██▌       | 13/51 [02:18<03:55,  6.21s/it]INFO:root:post processing started\n",
      " 27%|██▋       | 14/51 [02:20<03:10,  5.14s/it]INFO:root:post processing started\n",
      " 29%|██▉       | 15/51 [02:22<02:31,  4.20s/it]INFO:root:post processing started\n",
      "INFO:root:post processing started\n",
      "INFO:root:post processing started\n",
      " 33%|███▎      | 17/51 [03:07<07:02, 12.42s/it]INFO:root:post processing started\n",
      " 37%|███▋      | 19/51 [03:15<04:33,  8.54s/it]INFO:root:post processing started\n",
      " 41%|████      | 21/51 [03:20<02:46,  5.56s/it]INFO:root:post processing started\n",
      " 43%|████▎     | 22/51 [03:22<02:11,  4.53s/it]INFO:root:post processing started\n",
      "INFO:root:post processing started\n",
      " 45%|████▌     | 23/51 [03:28<02:22,  5.08s/it]INFO:root:post processing started\n",
      "INFO:root:post processing started\n",
      "INFO:root:post processing started\n",
      " 49%|████▉     | 25/51 [04:16<05:52, 13.56s/it]INFO:root:post processing started\n",
      " 53%|█████▎    | 27/51 [04:26<03:52,  9.69s/it]INFO:root:post processing started\n",
      "INFO:root:post processing started\n",
      " 57%|█████▋    | 29/51 [04:31<02:24,  6.58s/it]INFO:root:post processing started\n",
      " 61%|██████    | 31/51 [04:35<01:29,  4.49s/it]INFO:root:post processing started\n",
      "INFO:root:post processing started\n",
      " 63%|██████▎   | 32/51 [04:39<01:22,  4.35s/it]INFO:root:post processing started\n",
      "INFO:root:post processing started\n",
      " 65%|██████▍   | 33/51 [05:19<04:15, 14.21s/it]INFO:root:post processing started\n",
      " 69%|██████▊   | 35/51 [05:29<02:31,  9.49s/it]INFO:root:post processing started\n",
      " 71%|███████   | 36/51 [05:33<01:57,  7.83s/it]INFO:root:post processing started\n",
      " 73%|███████▎  | 37/51 [05:35<01:27,  6.28s/it]INFO:root:post processing started\n",
      " 75%|███████▍  | 38/51 [05:38<01:07,  5.20s/it]INFO:root:post processing started\n",
      " 76%|███████▋  | 39/51 [05:40<00:53,  4.42s/it]INFO:root:post processing started\n",
      " 78%|███████▊  | 40/51 [05:43<00:42,  3.84s/it]INFO:root:post processing started\n",
      "INFO:root:post processing started\n",
      " 80%|████████  | 41/51 [06:23<02:28, 14.81s/it]INFO:root:post processing started\n",
      " 84%|████████▍ | 43/51 [06:35<01:18,  9.86s/it]INFO:root:post processing started\n",
      " 86%|████████▋ | 44/51 [06:36<00:52,  7.44s/it]INFO:root:post processing started\n",
      "100%|██████████| 51/51 [07:12<00:00,  8.49s/it]\n",
      "  0%|          | 0/51 [00:00<?, ?it/s]INFO:root:post processing startedINFO:root:post processing started\n",
      "\n",
      "INFO:root:post processing started\n",
      "INFO:root:post processing started\n",
      "INFO:root:post processing started\n",
      "INFO:root:post processing started\n",
      "INFO:root:post processing started\n",
      "INFO:root:post processing started\n",
      "  6%|▌         | 3/51 [01:06<12:16, 15.35s/it]INFO:root:post processing started\n",
      "  8%|▊         | 4/51 [01:07<07:46,  9.93s/it]INFO:root:post processing started\n",
      "INFO:root:post processing started\n",
      " 10%|▉         | 5/51 [01:09<05:19,  6.94s/it]INFO:root:post processing started\n",
      " 14%|█▎        | 7/51 [01:13<03:01,  4.12s/it]INFO:root:post processing started\n",
      " 16%|█▌        | 8/51 [01:14<02:22,  3.32s/it]\n",
      "INFO:root:post processing started\n",
      "INFO:root:post processing started\n",
      " 20%|█▉        | 10/51 [02:07<09:02, 13.24s/it]INFO:root:post processing started\n",
      " 22%|██▏       | 11/51 [02:10<06:38,  9.95s/it]INFO:root:post processing started\n",
      " 24%|██▎       | 12/51 [02:12<04:58,  7.65s/it]INFO:root:post processing started\n",
      " 25%|██▌       | 13/51 [02:15<03:58,  6.28s/it]INFO:root:post processing started\n",
      " 29%|██▉       | 15/51 [02:18<02:22,  3.96s/it]INFO:root:post processing started\n",
      " 31%|███▏      | 16/51 [02:20<02:03,  3.52s/it]INFO:root:post processing started\n",
      "INFO:root:post processing started\n",
      "INFO:root:post processing started\n",
      " 35%|███▌      | 18/51 [03:12<06:35, 11.97s/it]INFO:root:post processing started\n",
      " 37%|███▋      | 19/51 [03:15<05:03,  9.50s/it]INFO:root:post processing started\n",
      " 39%|███▉      | 20/51 [03:17<03:54,  7.57s/it]INFO:root:post processing started\n",
      " 41%|████      | 21/51 [03:20<03:02,  6.09s/it]INFO:root:post processing started\n",
      " 43%|████▎     | 22/51 [03:23<02:30,  5.18s/it]INFO:root:post processing started\n",
      " 45%|████▌     | 23/51 [03:26<02:04,  4.44s/it]INFO:root:post processing started\n",
      "INFO:root:post processing started\n",
      "INFO:root:post processing started\n",
      " 51%|█████     | 26/51 [04:19<04:41, 11.27s/it]INFO:root:post processing started\n",
      " 53%|█████▎    | 27/51 [04:22<03:35,  8.99s/it]INFO:root:post processing started\n",
      " 55%|█████▍    | 28/51 [04:24<02:46,  7.25s/it]INFO:root:post processing started\n",
      " 57%|█████▋    | 29/51 [04:27<02:10,  5.95s/it]INFO:root:post processing started\n",
      " 59%|█████▉    | 30/51 [04:29<01:42,  4.90s/it]INFO:root:post processing started\n",
      " 61%|██████    | 31/51 [04:31<01:23,  4.17s/it]INFO:root:post processing started\n",
      " 63%|██████▎   | 32/51 [04:34<01:09,  3.64s/it]INFO:root:post processing started\n",
      "INFO:root:post processing started\n",
      " 67%|██████▋   | 34/51 [05:26<03:43, 13.15s/it]INFO:root:post processing started\n",
      " 69%|██████▊   | 35/51 [05:29<02:39, 10.00s/it]INFO:root:post processing started\n",
      " 71%|███████   | 36/51 [05:32<01:57,  7.86s/it]INFO:root:post processing started\n",
      " 73%|███████▎  | 37/51 [05:34<01:26,  6.16s/it]INFO:root:post processing started\n",
      " 76%|███████▋  | 39/51 [05:39<00:51,  4.27s/it]INFO:root:post processing started\n",
      " 78%|███████▊  | 40/51 [05:40<00:36,  3.28s/it]INFO:root:post processing started\n",
      "INFO:root:post processing started\n",
      "INFO:root:post processing started\n",
      " 82%|████████▏ | 42/51 [06:28<01:47, 11.98s/it]INFO:root:post processing started\n",
      " 86%|████████▋ | 44/51 [06:32<00:48,  6.92s/it]INFO:root:post processing started\n",
      "INFO:root:post processing started\n",
      "100%|██████████| 51/51 [07:07<00:00,  8.38s/it]\n",
      "  0%|          | 0/51 [00:00<?, ?it/s]INFO:root:post processing started\n",
      "INFO:root:post processing started\n",
      "INFO:root:post processing started\n",
      "INFO:root:post processing started\n",
      "INFO:root:post processing started\n",
      "INFO:root:post processing started\n",
      "INFO:root:post processing started\n",
      "INFO:root:post processing started\n",
      "  6%|▌         | 3/51 [01:08<14:14, 17.81s/it]INFO:root:post processing started\n",
      "  8%|▊         | 4/51 [01:11<09:53, 12.63s/it]INFO:root:post processing started\n",
      " 12%|█▏        | 6/51 [01:14<05:20,  7.13s/it]INFO:root:post processing started\n",
      "INFO:root:post processing started\n",
      " 16%|█▌        | 8/51 [01:15<03:12,  4.48s/it]INFO:root:post processing started\n",
      "INFO:root:post processing started\n",
      "INFO:root:post processing started\n",
      "INFO:root:post processing started\n",
      " 22%|██▏       | 11/51 [02:29<07:52, 11.81s/it]INFO:root:post processing started\n",
      " 24%|██▎       | 12/51 [02:32<06:02,  9.28s/it]INFO:root:post processing started\n",
      " 25%|██▌       | 13/51 [02:36<04:52,  7.69s/it]INFO:root:post processing started\n",
      " 29%|██▉       | 15/51 [02:38<02:53,  4.82s/it]INFO:root:post processing started\n",
      " 31%|███▏      | 16/51 [02:40<02:23,  4.11s/it]INFO:root:post processing started\n",
      "INFO:root:post processing started\n",
      "INFO:root:post processing started\n",
      "INFO:root:post processing started\n",
      " 37%|███▋      | 19/51 [03:49<06:12, 11.63s/it]INFO:root:post processing started\n",
      " 41%|████      | 21/51 [03:53<03:42,  7.40s/it]INFO:root:post processing started\n",
      " 43%|████▎     | 22/51 [03:55<02:56,  6.09s/it]INFO:root:post processing started\n",
      "INFO:root:post processing started\n",
      " 47%|████▋     | 24/51 [03:59<01:59,  4.44s/it]INFO:root:post processing started\n",
      "INFO:root:post processing started\n",
      "INFO:root:post processing started\n"
     ]
    },
    {
     "name": "stderr",
     "output_type": "stream",
     "text": [
      "INFO:root:post processing started\n",
      " 49%|████▉     | 25/51 [05:01<07:29, 17.28s/it]INFO:root:post processing started\n",
      " 59%|█████▉    | 30/51 [05:14<02:09,  6.15s/it]INFO:root:post processing started\n",
      " 61%|██████    | 31/51 [05:15<01:40,  5.02s/it]INFO:root:post processing started\n",
      " 63%|██████▎   | 32/51 [05:17<01:19,  4.16s/it]INFO:root:post processing started\n",
      "INFO:root:post processing started\n",
      "INFO:root:post processing started\n",
      "INFO:root:post processing started\n",
      "INFO:root:post processing started\n",
      " 65%|██████▍   | 33/51 [06:01<04:35, 15.31s/it]INFO:root:post processing started\n",
      " 71%|███████   | 36/51 [06:16<02:00,  8.00s/it]INFO:root:post processing started\n",
      " 75%|███████▍  | 38/51 [06:21<01:07,  5.16s/it]INFO:root:post processing started\n",
      " 76%|███████▋  | 39/51 [06:23<00:51,  4.29s/it]INFO:root:post processing started\n",
      " 78%|███████▊  | 40/51 [06:28<00:47,  4.32s/it]INFO:root:post processing started\n",
      "INFO:root:post processing started\n",
      "INFO:root:post processing started\n",
      "INFO:root:post processing started\n",
      " 80%|████████  | 41/51 [07:21<03:08, 18.86s/it]INFO:root:post processing started\n",
      " 86%|████████▋ | 44/51 [07:32<01:04,  9.21s/it]INFO:root:post processing started\n",
      "INFO:root:post processing started\n",
      "100%|██████████| 51/51 [08:10<00:00,  9.62s/it]\n"
     ]
    },
    {
     "name": "stdout",
     "output_type": "stream",
     "text": [
      "CPU times: user 3min 59s, sys: 45.6 s, total: 4min 44s\n",
      "Wall time: 22min 47s\n"
     ]
    }
   ],
   "source": [
    "%%time\n",
    "# We only need these columns from data\n",
    "data = df_test.set_index('TX_ID')\n",
    "data = data.loc[:, ['CARD_PAN_ID', 'TERM_MIDUID']]\n",
    "\n",
    "# We only need these columns from historical data\n",
    "historical_data = df_train.set_index('TX_ID')\n",
    "historical_data = historical_data.loc[:, ['CARD_PAN_ID', 'TERM_MIDUID']]\n",
    "\n",
    "# Inductive test set processing\n",
    "\n",
    "dict_results = {}\n",
    "for t,lamb in lambdas.items():\n",
    "\n",
    "    suspicion_scores, G = dict_suspicion_scores[t], dict_G[t]\n",
    "\n",
    "\n",
    "    # split df in smaller chunks\n",
    "    chunks = splitDataFrameIntoSmaller(data, chunkSize=2000)\n",
    "    partial_inductive_step = partial(inductive_step, historical_edges=historical_data, suspicion_scores=suspicion_scores, G=G, t=t)\n",
    "\n",
    "    result = multiprocessing(function=partial_inductive_step, chunks=chunks)\n",
    "    dict_results[t] = result\n",
    "\n",
    "\n",
    "df_test_pagerank = df_test.copy()\n",
    "for t, lamb in lambdas.items():\n",
    "    \n",
    "    df_pagerank =  dict_results[t] \n",
    "    df_pagerank = df_pagerank.filter(regex='SC_*')\n",
    "    df_test_pagerank = df_test_pagerank.merge(df_pagerank, left_on='TX_ID', right_index=True)\n"
   ]
  },
  {
   "cell_type": "code",
   "execution_count": 14,
   "id": "b826512c",
   "metadata": {
    "lines_to_end_of_cell_marker": 2
   },
   "outputs": [
    {
     "name": "stdout",
     "output_type": "stream",
     "text": [
      "ST\n"
     ]
    },
    {
     "name": "stderr",
     "output_type": "stream",
     "text": [
      "100%|██████████| 65/65 [02:03<00:00,  1.90s/it]\n"
     ]
    },
    {
     "name": "stdout",
     "output_type": "stream",
     "text": [
      "MT\n"
     ]
    },
    {
     "name": "stderr",
     "output_type": "stream",
     "text": [
      "100%|██████████| 65/65 [01:47<00:00,  1.66s/it]"
     ]
    },
    {
     "name": "stdout",
     "output_type": "stream",
     "text": [
      "LT\n"
     ]
    },
    {
     "name": "stderr",
     "output_type": "stream",
     "text": [
      "\n",
      "100%|██████████| 65/65 [01:56<00:00,  1.79s/it]\n"
     ]
    },
    {
     "name": "stdout",
     "output_type": "stream",
     "text": [
      "CPU times: user 12.5 s, sys: 7 s, total: 19.5 s\n",
      "Wall time: 5min 53s\n"
     ]
    }
   ],
   "source": [
    "%%time\n",
    "# We only need these columns from data\n",
    "data = df_test.set_index('TX_ID')\n",
    "data = data.loc[:, ['CARD_PAN_ID', 'TERM_MIDUID']]\n",
    "\n",
    "# We only need these columns from historical data\n",
    "historical_data = df_train.set_index('TX_ID')\n",
    "historical_data = historical_data.loc[:, ['CARD_PAN_ID', 'TERM_MIDUID']]\n",
    "\n",
    "\n",
    "# transductive train set processing\n",
    "dict_results = {}\n",
    "for t, lamb in lambdas.items():\n",
    "    print(t)\n",
    "    suspicion_scores, G = dict_suspicion_scores[t], dict_G[t]\n",
    "\n",
    "\n",
    "    #Split historical dataset into smaller chunks\n",
    "    chunks = splitDataFrameIntoSmaller(historical_data, chunkSize=5000)\n",
    "    partial_postprocessing_historical_edges = partial(postprocessing_historical_edges, suspicion_scores=suspicion_scores, t=t)\n",
    "    #partial_inductive_step = partial(inductive_step, historical_edges=historical_data, suspicion_scores=suspicion_scores, G=G, t=t)\n",
    "    \n",
    "    result = multiprocessing(function=partial_postprocessing_historical_edges, chunks=chunks)\n",
    "    dict_results[t] = result\n",
    "\n",
    "df_train_pagerank = df_train.copy()\n",
    "# Load and join ST, MT, LT data for df_train and df_train\n",
    "for t, lamb in lambdas.items():\n",
    "    df_pagerank = dict_results[t]\n",
    "    df_pagerank = df_pagerank.filter(regex='SC_*')\n",
    "    df_train_pagerank = df_train_pagerank.merge(df_pagerank, left_on='TX_ID', right_index=True)"
   ]
  },
  {
   "cell_type": "markdown",
   "id": "cb0bb214",
   "metadata": {},
   "source": [
    "## XGBoost Classifier"
   ]
  },
  {
   "cell_type": "code",
   "execution_count": 15,
   "id": "271136f9",
   "metadata": {},
   "outputs": [],
   "source": [
    "df_train = df_train_pagerank\n",
    "df_val = df_val_pagerank\n",
    "df_test = df_test_pagerank"
   ]
  },
  {
   "cell_type": "code",
   "execution_count": 16,
   "id": "d8da5362",
   "metadata": {},
   "outputs": [],
   "source": [
    "pagerank_features = list(df_train.filter(regex='SC').columns)"
   ]
  },
  {
   "cell_type": "code",
   "execution_count": 17,
   "id": "cca4b005",
   "metadata": {},
   "outputs": [],
   "source": [
    "X_train = df_train[pagerank_features]\n",
    "X_val = df_val[pagerank_features]\n",
    "y_train = df_train.TX_FRAUD\n",
    "y_val = df_val.TX_FRAUD\n",
    "\n",
    "X_test = df_test[pagerank_features]\n",
    "y_test = df_test.TX_FRAUD\n",
    "\n",
    "dtrain = xgb.DMatrix(X_train, label=y_train)\n",
    "dval = xgb.DMatrix(X_val, label=y_val)\n",
    "dtest = xgb.DMatrix(X_test, label=y_test)"
   ]
  },
  {
   "cell_type": "code",
   "execution_count": 18,
   "id": "f1d4c0d0",
   "metadata": {},
   "outputs": [],
   "source": [
    "xgb_params = {\n",
    "    'eval_metric': ['auc','aucpr', 'logloss'],\n",
    "    'objective':'binary:logistic',\n",
    "    'n_estimators': 300,\n",
    "    'n_jobs':8,\n",
    "    'learning_rate':0.1,\n",
    "    'seed':42,\n",
    "    'colsample_bytree':0.6,\n",
    "    'colsample_bylevel':0.9,\n",
    "    'subsample':0.9\n",
    "}"
   ]
  },
  {
   "cell_type": "code",
   "execution_count": 19,
   "id": "c3ea7144",
   "metadata": {
    "scrolled": true
   },
   "outputs": [
    {
     "name": "stdout",
     "output_type": "stream",
     "text": [
      "[14:53:13] WARNING: /Users/travis/build/dmlc/xgboost/src/learner.cc:573: \n",
      "Parameters: { \"n_estimators\" } might not be used.\n",
      "\n",
      "  This may not be accurate due to some parameters are only used in language bindings but\n",
      "  passed down to XGBoost core.  Or some parameters are not used but slip through this\n",
      "  verification. Please open an issue if you find above cases.\n",
      "\n",
      "\n",
      "[0]\tval-auc:0.59999\tval-aucpr:0.02466\tval-logloss:0.63629\ttrain-auc:1.00000\ttrain-aucpr:1.00000\ttrain-logloss:0.59783\n",
      "[1]\tval-auc:0.67345\tval-aucpr:0.03429\tval-logloss:0.56901\ttrain-auc:1.00000\ttrain-aucpr:1.00000\ttrain-logloss:0.52519\n",
      "[2]\tval-auc:0.68053\tval-aucpr:0.04282\tval-logloss:0.50525\ttrain-auc:1.00000\ttrain-aucpr:1.00000\ttrain-logloss:0.46464\n",
      "[3]\tval-auc:0.68053\tval-aucpr:0.04282\tval-logloss:0.47984\ttrain-auc:1.00000\ttrain-aucpr:1.00000\ttrain-logloss:0.40830\n",
      "[4]\tval-auc:0.68053\tval-aucpr:0.04282\tval-logloss:0.46087\ttrain-auc:1.00000\ttrain-aucpr:1.00000\ttrain-logloss:0.36024\n",
      "[5]\tval-auc:0.68730\tval-aucpr:0.04915\tval-logloss:0.41706\ttrain-auc:1.00000\ttrain-aucpr:1.00000\ttrain-logloss:0.32273\n",
      "[6]\tval-auc:0.69003\tval-aucpr:0.05114\tval-logloss:0.37868\ttrain-auc:1.00000\ttrain-aucpr:1.00000\ttrain-logloss:0.29039\n",
      "[7]\tval-auc:0.69003\tval-aucpr:0.05114\tval-logloss:0.37345\ttrain-auc:1.00000\ttrain-aucpr:1.00000\ttrain-logloss:0.25813\n",
      "[8]\tval-auc:0.69003\tval-aucpr:0.05114\tval-logloss:0.37122\ttrain-auc:1.00000\ttrain-aucpr:1.00000\ttrain-logloss:0.22998\n",
      "[9]\tval-auc:0.68934\tval-aucpr:0.05111\tval-logloss:0.37149\ttrain-auc:1.00000\ttrain-aucpr:1.00000\ttrain-logloss:0.20531\n",
      "[10]\tval-auc:0.69047\tval-aucpr:0.05194\tval-logloss:0.34300\ttrain-auc:1.00000\ttrain-aucpr:1.00000\ttrain-logloss:0.18625\n",
      "[11]\tval-auc:0.69065\tval-aucpr:0.05205\tval-logloss:0.34742\ttrain-auc:1.00000\ttrain-aucpr:1.00000\ttrain-logloss:0.16671\n",
      "[12]\tval-auc:0.69065\tval-aucpr:0.05205\tval-logloss:0.35341\ttrain-auc:1.00000\ttrain-aucpr:1.00000\ttrain-logloss:0.14938\n",
      "[13]\tval-auc:0.69484\tval-aucpr:0.05088\tval-logloss:0.33667\ttrain-auc:1.00000\ttrain-aucpr:1.00000\ttrain-logloss:0.13616\n",
      "[14]\tval-auc:0.69673\tval-aucpr:0.05188\tval-logloss:0.31471\ttrain-auc:1.00000\ttrain-aucpr:1.00000\ttrain-logloss:0.12447\n",
      "[15]\tval-auc:0.69673\tval-aucpr:0.05188\tval-logloss:0.32468\ttrain-auc:1.00000\ttrain-aucpr:1.00000\ttrain-logloss:0.11176\n",
      "[16]\tval-auc:0.69403\tval-aucpr:0.05135\tval-logloss:0.31307\ttrain-auc:1.00000\ttrain-aucpr:1.00000\ttrain-logloss:0.10255\n",
      "[17]\tval-auc:0.69706\tval-aucpr:0.04937\tval-logloss:0.29544\ttrain-auc:1.00000\ttrain-aucpr:1.00000\ttrain-logloss:0.09441\n",
      "[18]\tval-auc:0.69706\tval-aucpr:0.04937\tval-logloss:0.30691\ttrain-auc:1.00000\ttrain-aucpr:1.00000\ttrain-logloss:0.08487\n",
      "[19]\tval-auc:0.69706\tval-aucpr:0.04937\tval-logloss:0.32025\ttrain-auc:1.00000\ttrain-aucpr:1.00000\ttrain-logloss:0.07635\n",
      "[20]\tval-auc:0.69546\tval-aucpr:0.04940\tval-logloss:0.31169\ttrain-auc:1.00000\ttrain-aucpr:1.00000\ttrain-logloss:0.07056\n",
      "[21]\tval-auc:0.69745\tval-aucpr:0.04936\tval-logloss:0.29695\ttrain-auc:1.00000\ttrain-aucpr:1.00000\ttrain-logloss:0.06548\n",
      "[22]\tval-auc:0.69721\tval-aucpr:0.04681\tval-logloss:0.31200\ttrain-auc:1.00000\ttrain-aucpr:1.00000\ttrain-logloss:0.05894\n",
      "[23]\tval-auc:0.69721\tval-aucpr:0.04681\tval-logloss:0.32749\ttrain-auc:1.00000\ttrain-aucpr:1.00000\ttrain-logloss:0.05307\n",
      "[24]\tval-auc:0.69721\tval-aucpr:0.04681\tval-logloss:0.34333\ttrain-auc:1.00000\ttrain-aucpr:1.00000\ttrain-logloss:0.04783\n",
      "[25]\tval-auc:0.70028\tval-aucpr:0.04765\tval-logloss:0.32960\ttrain-auc:1.00000\ttrain-aucpr:1.00000\ttrain-logloss:0.04456\n",
      "[26]\tval-auc:0.70396\tval-aucpr:0.04645\tval-logloss:0.31681\ttrain-auc:1.00000\ttrain-aucpr:1.00000\ttrain-logloss:0.04171\n",
      "[27]\tval-auc:0.70198\tval-aucpr:0.04864\tval-logloss:0.30588\ttrain-auc:1.00000\ttrain-aucpr:1.00000\ttrain-logloss:0.03914\n",
      "[28]\tval-auc:0.70198\tval-aucpr:0.04864\tval-logloss:0.32281\ttrain-auc:1.00000\ttrain-aucpr:1.00000\ttrain-logloss:0.03526\n",
      "[29]\tval-auc:0.70120\tval-aucpr:0.04845\tval-logloss:0.31652\ttrain-auc:1.00000\ttrain-aucpr:1.00000\ttrain-logloss:0.03324\n",
      "[30]\tval-auc:0.70124\tval-aucpr:0.04844\tval-logloss:0.33409\ttrain-auc:1.00000\ttrain-aucpr:1.00000\ttrain-logloss:0.02995\n",
      "[31]\tval-auc:0.70124\tval-aucpr:0.04844\tval-logloss:0.35164\ttrain-auc:1.00000\ttrain-aucpr:1.00000\ttrain-logloss:0.02700\n",
      "[32]\tval-auc:0.70124\tval-aucpr:0.04844\tval-logloss:0.36930\ttrain-auc:1.00000\ttrain-aucpr:1.00000\ttrain-logloss:0.02435\n",
      "[33]\tval-auc:0.70124\tval-aucpr:0.04844\tval-logloss:0.38710\ttrain-auc:1.00000\ttrain-aucpr:1.00000\ttrain-logloss:0.02197\n",
      "[34]\tval-auc:0.69996\tval-aucpr:0.04918\tval-logloss:0.37428\ttrain-auc:1.00000\ttrain-aucpr:1.00000\ttrain-logloss:0.02079\n",
      "[35]\tval-auc:0.69995\tval-aucpr:0.04918\tval-logloss:0.39228\ttrain-auc:1.00000\ttrain-aucpr:1.00000\ttrain-logloss:0.01876\n",
      "[36]\tval-auc:0.69994\tval-aucpr:0.04918\tval-logloss:0.41039\ttrain-auc:1.00000\ttrain-aucpr:1.00000\ttrain-logloss:0.01693\n",
      "[37]\tval-auc:0.69994\tval-aucpr:0.04918\tval-logloss:0.42853\ttrain-auc:1.00000\ttrain-aucpr:1.00000\ttrain-logloss:0.01529\n",
      "[38]\tval-auc:0.69884\tval-aucpr:0.05058\tval-logloss:0.41571\ttrain-auc:1.00000\ttrain-aucpr:1.00000\ttrain-logloss:0.01453\n",
      "[39]\tval-auc:0.69883\tval-aucpr:0.05058\tval-logloss:0.43400\ttrain-auc:1.00000\ttrain-aucpr:1.00000\ttrain-logloss:0.01312\n",
      "[40]\tval-auc:0.69883\tval-aucpr:0.05058\tval-logloss:0.45231\ttrain-auc:1.00000\ttrain-aucpr:1.00000\ttrain-logloss:0.01185\n",
      "[41]\tval-auc:0.69883\tval-aucpr:0.05058\tval-logloss:0.47069\ttrain-auc:1.00000\ttrain-aucpr:1.00000\ttrain-logloss:0.01070\n",
      "[42]\tval-auc:0.69790\tval-aucpr:0.05053\tval-logloss:0.45826\ttrain-auc:1.00001\ttrain-aucpr:1.00000\ttrain-logloss:0.01022\n",
      "[43]\tval-auc:0.69790\tval-aucpr:0.05053\tval-logloss:0.47671\ttrain-auc:1.00001\ttrain-aucpr:1.00000\ttrain-logloss:0.00923\n",
      "[44]\tval-auc:0.69868\tval-aucpr:0.05133\tval-logloss:0.46670\ttrain-auc:1.00001\ttrain-aucpr:1.00000\ttrain-logloss:0.00884\n",
      "[45]\tval-auc:0.69768\tval-aucpr:0.05128\tval-logloss:0.46176\ttrain-auc:1.00001\ttrain-aucpr:1.00000\ttrain-logloss:0.00853\n",
      "[46]\tval-auc:0.69768\tval-aucpr:0.05128\tval-logloss:0.48030\ttrain-auc:1.00001\ttrain-aucpr:1.00000\ttrain-logloss:0.00770\n",
      "[47]\tval-auc:0.69768\tval-aucpr:0.05128\tval-logloss:0.49889\ttrain-auc:1.00001\ttrain-aucpr:1.00000\ttrain-logloss:0.00696\n",
      "[48]\tval-auc:0.69793\tval-aucpr:0.05197\tval-logloss:0.48854\ttrain-auc:1.00001\ttrain-aucpr:1.00000\ttrain-logloss:0.00672\n",
      "[49]\tval-auc:0.69862\tval-aucpr:0.05202\tval-logloss:0.48363\ttrain-auc:1.00001\ttrain-aucpr:1.00000\ttrain-logloss:0.00652\n",
      "[50]\tval-auc:0.69739\tval-aucpr:0.05193\tval-logloss:0.47902\ttrain-auc:1.00002\ttrain-aucpr:1.00000\ttrain-logloss:0.00635\n",
      "[51]\tval-auc:0.69664\tval-aucpr:0.05227\tval-logloss:0.46853\ttrain-auc:1.00002\ttrain-aucpr:1.00000\ttrain-logloss:0.00618\n",
      "[52]\tval-auc:0.69664\tval-aucpr:0.05227\tval-logloss:0.48711\ttrain-auc:1.00002\ttrain-aucpr:1.00000\ttrain-logloss:0.00558\n",
      "[53]\tval-auc:0.69651\tval-aucpr:0.05233\tval-logloss:0.48269\ttrain-auc:1.00002\ttrain-aucpr:1.00000\ttrain-logloss:0.00547\n",
      "[54]\tval-auc:0.69652\tval-aucpr:0.05233\tval-logloss:0.50125\ttrain-auc:1.00002\ttrain-aucpr:1.00000\ttrain-logloss:0.00494\n",
      "[55]\tval-auc:0.69652\tval-aucpr:0.05233\tval-logloss:0.51986\ttrain-auc:1.00002\ttrain-aucpr:1.00000\ttrain-logloss:0.00446\n",
      "[56]\tval-auc:0.69652\tval-aucpr:0.05233\tval-logloss:0.53853\ttrain-auc:1.00002\ttrain-aucpr:1.00000\ttrain-logloss:0.00403\n",
      "[57]\tval-auc:0.69652\tval-aucpr:0.05233\tval-logloss:0.55720\ttrain-auc:1.00002\ttrain-aucpr:1.00000\ttrain-logloss:0.00364\n",
      "[58]\tval-auc:0.69652\tval-aucpr:0.05233\tval-logloss:0.57590\ttrain-auc:1.00002\ttrain-aucpr:1.00000\ttrain-logloss:0.00329\n",
      "[59]\tval-auc:0.69652\tval-aucpr:0.05233\tval-logloss:0.59464\ttrain-auc:1.00002\ttrain-aucpr:1.00000\ttrain-logloss:0.00298\n",
      "[60]\tval-auc:0.69652\tval-aucpr:0.05233\tval-logloss:0.61340\ttrain-auc:1.00002\ttrain-aucpr:1.00000\ttrain-logloss:0.00269\n",
      "[61]\tval-auc:0.69652\tval-aucpr:0.05233\tval-logloss:0.63214\ttrain-auc:1.00002\ttrain-aucpr:1.00000\ttrain-logloss:0.00243\n",
      "[62]\tval-auc:0.69687\tval-aucpr:0.05250\tval-logloss:0.62363\ttrain-auc:1.00002\ttrain-aucpr:1.00000\ttrain-logloss:0.00238\n",
      "[63]\tval-auc:0.69687\tval-aucpr:0.05250\tval-logloss:0.64240\ttrain-auc:1.00002\ttrain-aucpr:1.00000\ttrain-logloss:0.00216\n",
      "[64]\tval-auc:0.69687\tval-aucpr:0.05250\tval-logloss:0.66117\ttrain-auc:1.00002\ttrain-aucpr:1.00000\ttrain-logloss:0.00195\n",
      "[65]\tval-auc:0.69687\tval-aucpr:0.05250\tval-logloss:0.67996\ttrain-auc:1.00002\ttrain-aucpr:1.00000\ttrain-logloss:0.00176\n"
     ]
    },
    {
     "name": "stdout",
     "output_type": "stream",
     "text": [
      "[66]\tval-auc:0.69687\tval-aucpr:0.05250\tval-logloss:0.69873\ttrain-auc:1.00002\ttrain-aucpr:1.00000\ttrain-logloss:0.00160\n",
      "[67]\tval-auc:0.69692\tval-aucpr:0.05281\tval-logloss:0.69009\ttrain-auc:1.00003\ttrain-aucpr:1.00000\ttrain-logloss:0.00157\n",
      "[68]\tval-auc:0.69728\tval-aucpr:0.05314\tval-logloss:0.68315\ttrain-auc:1.00004\ttrain-aucpr:1.00000\ttrain-logloss:0.00155\n",
      "[69]\tval-auc:0.69703\tval-aucpr:0.05392\tval-logloss:0.67485\ttrain-auc:1.00004\ttrain-aucpr:1.00000\ttrain-logloss:0.00153\n",
      "[70]\tval-auc:0.69703\tval-aucpr:0.05392\tval-logloss:0.69360\ttrain-auc:1.00004\ttrain-aucpr:1.00000\ttrain-logloss:0.00138\n",
      "[71]\tval-auc:0.69679\tval-aucpr:0.05389\tval-logloss:0.68509\ttrain-auc:1.00005\ttrain-aucpr:1.00000\ttrain-logloss:0.00136\n",
      "[72]\tval-auc:0.69679\tval-aucpr:0.05388\tval-logloss:0.70384\ttrain-auc:1.00005\ttrain-aucpr:1.00000\ttrain-logloss:0.00123\n",
      "[73]\tval-auc:0.69681\tval-aucpr:0.05389\tval-logloss:0.72213\ttrain-auc:1.00005\ttrain-aucpr:1.00000\ttrain-logloss:0.00112\n",
      "[74]\tval-auc:0.69873\tval-aucpr:0.05491\tval-logloss:0.71684\ttrain-auc:1.00006\ttrain-aucpr:1.00000\ttrain-logloss:0.00111\n",
      "[75]\tval-auc:0.69872\tval-aucpr:0.05492\tval-logloss:0.73543\ttrain-auc:1.00006\ttrain-aucpr:1.00000\ttrain-logloss:0.00100\n",
      "[76]\tval-auc:0.70010\tval-aucpr:0.05556\tval-logloss:0.72725\ttrain-auc:1.00008\ttrain-aucpr:1.00000\ttrain-logloss:0.00100\n",
      "[77]\tval-auc:0.70010\tval-aucpr:0.05556\tval-logloss:0.74598\ttrain-auc:1.00008\ttrain-aucpr:1.00000\ttrain-logloss:0.00090\n",
      "[78]\tval-auc:0.70044\tval-aucpr:0.05614\tval-logloss:0.74041\ttrain-auc:1.00009\ttrain-aucpr:1.00000\ttrain-logloss:0.00089\n",
      "[79]\tval-auc:0.70054\tval-aucpr:0.05620\tval-logloss:0.73549\ttrain-auc:1.00010\ttrain-aucpr:1.00000\ttrain-logloss:0.00089\n",
      "[80]\tval-auc:0.70054\tval-aucpr:0.05620\tval-logloss:0.75418\ttrain-auc:1.00010\ttrain-aucpr:1.00000\ttrain-logloss:0.00080\n",
      "[81]\tval-auc:0.69998\tval-aucpr:0.05627\tval-logloss:0.74778\ttrain-auc:1.00010\ttrain-aucpr:1.00000\ttrain-logloss:0.00080\n",
      "[82]\tval-auc:0.70000\tval-aucpr:0.05628\tval-logloss:0.76596\ttrain-auc:1.00010\ttrain-aucpr:1.00000\ttrain-logloss:0.00072\n",
      "[83]\tval-auc:0.70000\tval-aucpr:0.05628\tval-logloss:0.78467\ttrain-auc:1.00010\ttrain-aucpr:1.00000\ttrain-logloss:0.00065\n",
      "[84]\tval-auc:0.70001\tval-aucpr:0.05630\tval-logloss:0.80314\ttrain-auc:1.00010\ttrain-aucpr:1.00000\ttrain-logloss:0.00059\n",
      "[85]\tval-auc:0.69993\tval-aucpr:0.05626\tval-logloss:0.79756\ttrain-auc:1.00011\ttrain-aucpr:1.00000\ttrain-logloss:0.00059\n",
      "[86]\tval-auc:0.69993\tval-aucpr:0.05626\tval-logloss:0.81624\ttrain-auc:1.00011\ttrain-aucpr:1.00000\ttrain-logloss:0.00053\n",
      "[87]\tval-auc:0.69993\tval-aucpr:0.05626\tval-logloss:0.83490\ttrain-auc:1.00011\ttrain-aucpr:1.00000\ttrain-logloss:0.00048\n",
      "[88]\tval-auc:0.70013\tval-aucpr:0.05640\tval-logloss:0.82958\ttrain-auc:1.00011\ttrain-aucpr:1.00000\ttrain-logloss:0.00048\n",
      "[89]\tval-auc:0.70013\tval-aucpr:0.05640\tval-logloss:0.84821\ttrain-auc:1.00011\ttrain-aucpr:1.00000\ttrain-logloss:0.00044\n",
      "[90]\tval-auc:0.69960\tval-aucpr:0.05647\tval-logloss:0.84358\ttrain-auc:1.00012\ttrain-aucpr:1.00000\ttrain-logloss:0.00043\n",
      "[91]\tval-auc:0.69960\tval-aucpr:0.05647\tval-logloss:0.86218\ttrain-auc:1.00012\ttrain-aucpr:1.00000\ttrain-logloss:0.00039\n",
      "[92]\tval-auc:0.69968\tval-aucpr:0.05639\tval-logloss:0.85867\ttrain-auc:1.00013\ttrain-aucpr:1.00000\ttrain-logloss:0.00039\n",
      "[93]\tval-auc:0.69968\tval-aucpr:0.05639\tval-logloss:0.87725\ttrain-auc:1.00013\ttrain-aucpr:1.00000\ttrain-logloss:0.00035\n",
      "[94]\tval-auc:0.69930\tval-aucpr:0.05656\tval-logloss:0.87138\ttrain-auc:1.00013\ttrain-aucpr:1.00000\ttrain-logloss:0.00035\n",
      "[95]\tval-auc:0.69930\tval-aucpr:0.05656\tval-logloss:0.88994\ttrain-auc:1.00013\ttrain-aucpr:1.00000\ttrain-logloss:0.00032\n",
      "[96]\tval-auc:0.69930\tval-aucpr:0.05655\tval-logloss:0.90846\ttrain-auc:1.00013\ttrain-aucpr:1.00000\ttrain-logloss:0.00029\n",
      "[97]\tval-auc:0.69930\tval-aucpr:0.05656\tval-logloss:0.92696\ttrain-auc:1.00013\ttrain-aucpr:1.00000\ttrain-logloss:0.00026\n",
      "[98]\tval-auc:0.69930\tval-aucpr:0.05656\tval-logloss:0.94541\ttrain-auc:1.00013\ttrain-aucpr:1.00000\ttrain-logloss:0.00024\n",
      "[99]\tval-auc:0.69938\tval-aucpr:0.05661\tval-logloss:0.96235\ttrain-auc:1.00013\ttrain-aucpr:1.00000\ttrain-logloss:0.00022\n",
      "[100]\tval-auc:0.69938\tval-aucpr:0.05661\tval-logloss:0.98070\ttrain-auc:1.00013\ttrain-aucpr:1.00000\ttrain-logloss:0.00020\n",
      "[101]\tval-auc:0.69938\tval-aucpr:0.05661\tval-logloss:0.99901\ttrain-auc:1.00013\ttrain-aucpr:1.00000\ttrain-logloss:0.00018\n",
      "[102]\tval-auc:0.69903\tval-aucpr:0.05659\tval-logloss:0.99591\ttrain-auc:1.00014\ttrain-aucpr:1.00000\ttrain-logloss:0.00018\n",
      "[103]\tval-auc:0.69903\tval-aucpr:0.05659\tval-logloss:1.01415\ttrain-auc:1.00014\ttrain-aucpr:1.00000\ttrain-logloss:0.00016\n",
      "[104]\tval-auc:0.69903\tval-aucpr:0.05659\tval-logloss:1.03233\ttrain-auc:1.00014\ttrain-aucpr:1.00000\ttrain-logloss:0.00015\n",
      "[105]\tval-auc:0.69917\tval-aucpr:0.05662\tval-logloss:1.03058\ttrain-auc:1.00014\ttrain-aucpr:1.00000\ttrain-logloss:0.00015\n",
      "[106]\tval-auc:0.69953\tval-aucpr:0.05661\tval-logloss:1.03963\ttrain-auc:1.00016\ttrain-aucpr:1.00000\ttrain-logloss:0.00014\n",
      "[107]\tval-auc:0.69953\tval-aucpr:0.05661\tval-logloss:1.05766\ttrain-auc:1.00016\ttrain-aucpr:1.00000\ttrain-logloss:0.00012\n",
      "[108]\tval-auc:0.69953\tval-aucpr:0.05661\tval-logloss:1.07560\ttrain-auc:1.00016\ttrain-aucpr:1.00000\ttrain-logloss:0.00011\n",
      "[109]\tval-auc:0.69953\tval-aucpr:0.05663\tval-logloss:1.07374\ttrain-auc:1.00016\ttrain-aucpr:1.00000\ttrain-logloss:0.00011\n",
      "[110]\tval-auc:0.69931\tval-aucpr:0.05659\tval-logloss:1.07138\ttrain-auc:1.00017\ttrain-aucpr:1.00000\ttrain-logloss:0.00011\n",
      "[111]\tval-auc:0.69956\tval-aucpr:0.05675\tval-logloss:1.08681\ttrain-auc:1.00017\ttrain-aucpr:1.00000\ttrain-logloss:0.00010\n",
      "[112]\tval-auc:0.69966\tval-aucpr:0.05683\tval-logloss:1.08467\ttrain-auc:1.00017\ttrain-aucpr:1.00000\ttrain-logloss:0.00010\n",
      "[113]\tval-auc:0.69965\tval-aucpr:0.05704\tval-logloss:1.09899\ttrain-auc:1.00018\ttrain-aucpr:1.00000\ttrain-logloss:0.00009\n",
      "[114]\tval-auc:0.69976\tval-aucpr:0.05706\tval-logloss:1.09726\ttrain-auc:1.00018\ttrain-aucpr:1.00000\ttrain-logloss:0.00009\n",
      "[115]\tval-auc:0.69974\tval-aucpr:0.05714\tval-logloss:1.09578\ttrain-auc:1.00019\ttrain-aucpr:1.00000\ttrain-logloss:0.00009\n",
      "[116]\tval-auc:0.69974\tval-aucpr:0.05718\tval-logloss:1.09356\ttrain-auc:1.00020\ttrain-aucpr:1.00000\ttrain-logloss:0.00009\n",
      "[117]\tval-auc:0.69994\tval-aucpr:0.05737\tval-logloss:1.10881\ttrain-auc:1.00021\ttrain-aucpr:1.00000\ttrain-logloss:0.00009\n",
      "[118]\tval-auc:0.69968\tval-aucpr:0.05736\tval-logloss:1.12364\ttrain-auc:1.00021\ttrain-aucpr:1.00000\ttrain-logloss:0.00008\n",
      "[119]\tval-auc:0.69947\tval-aucpr:0.05729\tval-logloss:1.12197\ttrain-auc:1.00021\ttrain-aucpr:1.00000\ttrain-logloss:0.00008\n",
      "[120]\tval-auc:0.69947\tval-aucpr:0.05729\tval-logloss:1.13938\ttrain-auc:1.00021\ttrain-aucpr:1.00000\ttrain-logloss:0.00007\n",
      "[121]\tval-auc:0.69950\tval-aucpr:0.05733\tval-logloss:1.13803\ttrain-auc:1.00021\ttrain-aucpr:1.00000\ttrain-logloss:0.00007\n",
      "[122]\tval-auc:0.69962\tval-aucpr:0.05750\tval-logloss:1.15274\ttrain-auc:1.00021\ttrain-aucpr:1.00000\ttrain-logloss:0.00006\n",
      "[123]\tval-auc:0.70021\tval-aucpr:0.05814\tval-logloss:1.15147\ttrain-auc:1.00020\ttrain-aucpr:1.00000\ttrain-logloss:0.00006\n",
      "[124]\tval-auc:0.70021\tval-aucpr:0.05813\tval-logloss:1.16846\ttrain-auc:1.00020\ttrain-aucpr:1.00000\ttrain-logloss:0.00006\n",
      "[125]\tval-auc:0.70007\tval-aucpr:0.05822\tval-logloss:1.16709\ttrain-auc:1.00020\ttrain-aucpr:1.00000\ttrain-logloss:0.00006\n",
      "[126]\tval-auc:0.70007\tval-aucpr:0.05823\tval-logloss:1.18392\ttrain-auc:1.00020\ttrain-aucpr:1.00000\ttrain-logloss:0.00005\n",
      "[127]\tval-auc:0.69988\tval-aucpr:0.05825\tval-logloss:1.18255\ttrain-auc:1.00021\ttrain-aucpr:1.00000\ttrain-logloss:0.00005\n",
      "[128]\tval-auc:0.69987\tval-aucpr:0.05830\tval-logloss:1.18162\ttrain-auc:1.00022\ttrain-aucpr:1.00000\ttrain-logloss:0.00005\n",
      "[129]\tval-auc:0.69987\tval-aucpr:0.05830\tval-logloss:1.19827\ttrain-auc:1.00022\ttrain-aucpr:1.00000\ttrain-logloss:0.00005\n",
      "[130]\tval-auc:0.69987\tval-aucpr:0.05829\tval-logloss:1.21475\ttrain-auc:1.00022\ttrain-aucpr:1.00000\ttrain-logloss:0.00004\n",
      "[131]\tval-auc:0.69987\tval-aucpr:0.05829\tval-logloss:1.23103\ttrain-auc:1.00022\ttrain-aucpr:1.00000\ttrain-logloss:0.00004\n",
      "[132]\tval-auc:0.69987\tval-aucpr:0.05829\tval-logloss:1.24710\ttrain-auc:1.00022\ttrain-aucpr:1.00000\ttrain-logloss:0.00003\n",
      "[133]\tval-auc:0.69712\tval-aucpr:0.05826\tval-logloss:1.24991\ttrain-auc:1.00021\ttrain-aucpr:1.00000\ttrain-logloss:0.00003\n",
      "[134]\tval-auc:0.69712\tval-aucpr:0.05826\tval-logloss:1.26565\ttrain-auc:1.00021\ttrain-aucpr:1.00000\ttrain-logloss:0.00003\n"
     ]
    },
    {
     "name": "stdout",
     "output_type": "stream",
     "text": [
      "[135]\tval-auc:0.69719\tval-aucpr:0.05821\tval-logloss:1.26524\ttrain-auc:1.00021\ttrain-aucpr:1.00000\ttrain-logloss:0.00003\n",
      "[136]\tval-auc:0.69719\tval-aucpr:0.05819\tval-logloss:1.28070\ttrain-auc:1.00021\ttrain-aucpr:1.00000\ttrain-logloss:0.00003\n",
      "[137]\tval-auc:0.69718\tval-aucpr:0.05828\tval-logloss:1.27990\ttrain-auc:1.00021\ttrain-aucpr:1.00000\ttrain-logloss:0.00003\n",
      "[138]\tval-auc:0.69599\tval-aucpr:0.05820\tval-logloss:1.28896\ttrain-auc:1.00021\ttrain-aucpr:1.00000\ttrain-logloss:0.00003\n",
      "[139]\tval-auc:0.69592\tval-aucpr:0.05826\tval-logloss:1.28817\ttrain-auc:1.00021\ttrain-aucpr:1.00000\ttrain-logloss:0.00003\n",
      "[140]\tval-auc:0.69592\tval-aucpr:0.05827\tval-logloss:1.30321\ttrain-auc:1.00021\ttrain-aucpr:1.00000\ttrain-logloss:0.00003\n",
      "[141]\tval-auc:0.69592\tval-aucpr:0.05826\tval-logloss:1.31802\ttrain-auc:1.00021\ttrain-aucpr:1.00000\ttrain-logloss:0.00002\n",
      "[142]\tval-auc:0.69592\tval-aucpr:0.05827\tval-logloss:1.33260\ttrain-auc:1.00021\ttrain-aucpr:1.00000\ttrain-logloss:0.00002\n",
      "[143]\tval-auc:0.69592\tval-aucpr:0.05826\tval-logloss:1.34689\ttrain-auc:1.00021\ttrain-aucpr:1.00000\ttrain-logloss:0.00002\n",
      "[144]\tval-auc:0.69591\tval-aucpr:0.05825\tval-logloss:1.34648\ttrain-auc:1.00022\ttrain-aucpr:1.00000\ttrain-logloss:0.00002\n",
      "[145]\tval-auc:0.69600\tval-aucpr:0.05826\tval-logloss:1.34613\ttrain-auc:1.00022\ttrain-aucpr:1.00000\ttrain-logloss:0.00002\n",
      "[146]\tval-auc:0.69609\tval-aucpr:0.05826\tval-logloss:1.34574\ttrain-auc:1.00023\ttrain-aucpr:1.00000\ttrain-logloss:0.00002\n",
      "[147]\tval-auc:0.69611\tval-aucpr:0.05828\tval-logloss:1.34541\ttrain-auc:1.00023\ttrain-aucpr:1.00000\ttrain-logloss:0.00002\n",
      "[148]\tval-auc:0.69619\tval-aucpr:0.05828\tval-logloss:1.34511\ttrain-auc:1.00023\ttrain-aucpr:1.00000\ttrain-logloss:0.00002\n",
      "[149]\tval-auc:0.69619\tval-aucpr:0.05828\tval-logloss:1.35912\ttrain-auc:1.00023\ttrain-aucpr:1.00000\ttrain-logloss:0.00002\n",
      "[150]\tval-auc:0.69609\tval-aucpr:0.05810\tval-logloss:1.36995\ttrain-auc:1.00023\ttrain-aucpr:1.00000\ttrain-logloss:0.00002\n",
      "[151]\tval-auc:0.69609\tval-aucpr:0.05810\tval-logloss:1.38346\ttrain-auc:1.00023\ttrain-aucpr:1.00000\ttrain-logloss:0.00002\n",
      "[152]\tval-auc:0.69611\tval-aucpr:0.05808\tval-logloss:1.38319\ttrain-auc:1.00023\ttrain-aucpr:1.00000\ttrain-logloss:0.00002\n",
      "[153]\tval-auc:0.69611\tval-aucpr:0.05810\tval-logloss:1.39643\ttrain-auc:1.00023\ttrain-aucpr:1.00000\ttrain-logloss:0.00002\n",
      "[154]\tval-auc:0.69611\tval-aucpr:0.05809\tval-logloss:1.40935\ttrain-auc:1.00023\ttrain-aucpr:1.00000\ttrain-logloss:0.00001\n",
      "[155]\tval-auc:0.69611\tval-aucpr:0.05809\tval-logloss:1.42201\ttrain-auc:1.00023\ttrain-aucpr:1.00000\ttrain-logloss:0.00001\n",
      "[156]\tval-auc:0.69611\tval-aucpr:0.05808\tval-logloss:1.43442\ttrain-auc:1.00023\ttrain-aucpr:1.00000\ttrain-logloss:0.00001\n",
      "[157]\tval-auc:0.69608\tval-aucpr:0.05811\tval-logloss:1.43408\ttrain-auc:1.00023\ttrain-aucpr:1.00000\ttrain-logloss:0.00001\n",
      "[158]\tval-auc:0.69687\tval-aucpr:0.05890\tval-logloss:1.43822\ttrain-auc:1.00023\ttrain-aucpr:1.00000\ttrain-logloss:0.00001\n",
      "[159]\tval-auc:0.69687\tval-aucpr:0.05890\tval-logloss:1.45019\ttrain-auc:1.00023\ttrain-aucpr:1.00000\ttrain-logloss:0.00001\n",
      "[160]\tval-auc:0.69687\tval-aucpr:0.05898\tval-logloss:1.44993\ttrain-auc:1.00023\ttrain-aucpr:1.00000\ttrain-logloss:0.00001\n",
      "[161]\tval-auc:0.69701\tval-aucpr:0.05897\tval-logloss:1.44960\ttrain-auc:1.00023\ttrain-aucpr:1.00000\ttrain-logloss:0.00001\n",
      "[162]\tval-auc:0.69701\tval-aucpr:0.05901\tval-logloss:1.46130\ttrain-auc:1.00023\ttrain-aucpr:1.00000\ttrain-logloss:0.00001\n",
      "[163]\tval-auc:0.69710\tval-aucpr:0.05899\tval-logloss:1.46103\ttrain-auc:1.00023\ttrain-aucpr:1.00000\ttrain-logloss:0.00001\n",
      "[164]\tval-auc:0.69705\tval-aucpr:0.05901\tval-logloss:1.46080\ttrain-auc:1.00023\ttrain-aucpr:1.00000\ttrain-logloss:0.00001\n",
      "[165]\tval-auc:0.69705\tval-aucpr:0.05901\tval-logloss:1.47218\ttrain-auc:1.00023\ttrain-aucpr:1.00000\ttrain-logloss:0.00001\n",
      "[166]\tval-auc:0.69705\tval-aucpr:0.05898\tval-logloss:1.48335\ttrain-auc:1.00023\ttrain-aucpr:1.00000\ttrain-logloss:0.00001\n",
      "[167]\tval-auc:0.69700\tval-aucpr:0.05905\tval-logloss:1.48315\ttrain-auc:1.00023\ttrain-aucpr:1.00000\ttrain-logloss:0.00001\n",
      "[168]\tval-auc:0.69700\tval-aucpr:0.05907\tval-logloss:1.49402\ttrain-auc:1.00023\ttrain-aucpr:1.00000\ttrain-logloss:0.00001\n",
      "[169]\tval-auc:0.69694\tval-aucpr:0.05908\tval-logloss:1.49383\ttrain-auc:1.00023\ttrain-aucpr:1.00000\ttrain-logloss:0.00001\n",
      "[170]\tval-auc:0.69690\tval-aucpr:0.05914\tval-logloss:1.49368\ttrain-auc:1.00023\ttrain-aucpr:1.00000\ttrain-logloss:0.00001\n",
      "[171]\tval-auc:0.69693\tval-aucpr:0.05911\tval-logloss:1.49362\ttrain-auc:1.00023\ttrain-aucpr:1.00000\ttrain-logloss:0.00001\n",
      "[172]\tval-auc:0.69688\tval-aucpr:0.05911\tval-logloss:1.49344\ttrain-auc:1.00023\ttrain-aucpr:1.00000\ttrain-logloss:0.00001\n",
      "[173]\tval-auc:0.69688\tval-aucpr:0.05911\tval-logloss:1.50408\ttrain-auc:1.00023\ttrain-aucpr:1.00000\ttrain-logloss:0.00001\n",
      "[174]\tval-auc:0.69683\tval-aucpr:0.05914\tval-logloss:1.50391\ttrain-auc:1.00023\ttrain-aucpr:1.00000\ttrain-logloss:0.00001\n",
      "[175]\tval-auc:0.69676\tval-aucpr:0.05914\tval-logloss:1.50398\ttrain-auc:1.00023\ttrain-aucpr:1.00000\ttrain-logloss:0.00001\n",
      "[176]\tval-auc:0.69676\tval-aucpr:0.05915\tval-logloss:1.51435\ttrain-auc:1.00023\ttrain-aucpr:1.00000\ttrain-logloss:0.00001\n",
      "[177]\tval-auc:0.69680\tval-aucpr:0.05910\tval-logloss:1.51432\ttrain-auc:1.00023\ttrain-aucpr:1.00000\ttrain-logloss:0.00001\n",
      "[178]\tval-auc:0.69680\tval-aucpr:0.05909\tval-logloss:1.52440\ttrain-auc:1.00023\ttrain-aucpr:1.00000\ttrain-logloss:0.00001\n",
      "[179]\tval-auc:0.69680\tval-aucpr:0.05912\tval-logloss:1.53424\ttrain-auc:1.00023\ttrain-aucpr:1.00000\ttrain-logloss:0.00001\n",
      "[180]\tval-auc:0.69680\tval-aucpr:0.05910\tval-logloss:1.54386\ttrain-auc:1.00023\ttrain-aucpr:1.00000\ttrain-logloss:0.00001\n",
      "[181]\tval-auc:0.69680\tval-aucpr:0.05911\tval-logloss:1.54381\ttrain-auc:1.00023\ttrain-aucpr:1.00000\ttrain-logloss:0.00001\n",
      "[182]\tval-auc:0.69680\tval-aucpr:0.05911\tval-logloss:1.54373\ttrain-auc:1.00023\ttrain-aucpr:1.00000\ttrain-logloss:0.00001\n",
      "[183]\tval-auc:0.69680\tval-aucpr:0.05909\tval-logloss:1.54365\ttrain-auc:1.00023\ttrain-aucpr:1.00000\ttrain-logloss:0.00001\n",
      "[184]\tval-auc:0.69680\tval-aucpr:0.05912\tval-logloss:1.54353\ttrain-auc:1.00023\ttrain-aucpr:1.00000\ttrain-logloss:0.00001\n",
      "[185]\tval-auc:0.69680\tval-aucpr:0.05912\tval-logloss:1.54348\ttrain-auc:1.00023\ttrain-aucpr:1.00000\ttrain-logloss:0.00001\n",
      "[186]\tval-auc:0.69680\tval-aucpr:0.05910\tval-logloss:1.54341\ttrain-auc:1.00023\ttrain-aucpr:1.00000\ttrain-logloss:0.00001\n",
      "[187]\tval-auc:0.69680\tval-aucpr:0.05910\tval-logloss:1.54340\ttrain-auc:1.00023\ttrain-aucpr:1.00000\ttrain-logloss:0.00001\n",
      "[188]\tval-auc:0.69680\tval-aucpr:0.05911\tval-logloss:1.54337\ttrain-auc:1.00023\ttrain-aucpr:1.00000\ttrain-logloss:0.00001\n",
      "[189]\tval-auc:0.69680\tval-aucpr:0.05911\tval-logloss:1.54333\ttrain-auc:1.00023\ttrain-aucpr:1.00000\ttrain-logloss:0.00001\n",
      "[190]\tval-auc:0.69680\tval-aucpr:0.05913\tval-logloss:1.54330\ttrain-auc:1.00023\ttrain-aucpr:1.00000\ttrain-logloss:0.00001\n",
      "[191]\tval-auc:0.69680\tval-aucpr:0.05913\tval-logloss:1.54323\ttrain-auc:1.00023\ttrain-aucpr:1.00000\ttrain-logloss:0.00001\n",
      "[192]\tval-auc:0.69680\tval-aucpr:0.05913\tval-logloss:1.54321\ttrain-auc:1.00023\ttrain-aucpr:1.00000\ttrain-logloss:0.00001\n",
      "[193]\tval-auc:0.69680\tval-aucpr:0.05913\tval-logloss:1.54316\ttrain-auc:1.00023\ttrain-aucpr:1.00000\ttrain-logloss:0.00001\n",
      "[194]\tval-auc:0.69680\tval-aucpr:0.05913\tval-logloss:1.54310\ttrain-auc:1.00023\ttrain-aucpr:1.00000\ttrain-logloss:0.00001\n",
      "[195]\tval-auc:0.69680\tval-aucpr:0.05912\tval-logloss:1.54308\ttrain-auc:1.00023\ttrain-aucpr:1.00000\ttrain-logloss:0.00001\n",
      "[196]\tval-auc:0.69680\tval-aucpr:0.05913\tval-logloss:1.54303\ttrain-auc:1.00023\ttrain-aucpr:1.00000\ttrain-logloss:0.00001\n",
      "[197]\tval-auc:0.69680\tval-aucpr:0.05911\tval-logloss:1.54299\ttrain-auc:1.00023\ttrain-aucpr:1.00000\ttrain-logloss:0.00001\n",
      "[198]\tval-auc:0.69680\tval-aucpr:0.05911\tval-logloss:1.54298\ttrain-auc:1.00023\ttrain-aucpr:1.00000\ttrain-logloss:0.00001\n",
      "[199]\tval-auc:0.69680\tval-aucpr:0.05911\tval-logloss:1.54298\ttrain-auc:1.00023\ttrain-aucpr:1.00000\ttrain-logloss:0.00001\n",
      "[200]\tval-auc:0.69680\tval-aucpr:0.05911\tval-logloss:1.54295\ttrain-auc:1.00023\ttrain-aucpr:1.00000\ttrain-logloss:0.00001\n",
      "[201]\tval-auc:0.69680\tval-aucpr:0.05911\tval-logloss:1.54291\ttrain-auc:1.00023\ttrain-aucpr:1.00000\ttrain-logloss:0.00001\n",
      "[202]\tval-auc:0.69680\tval-aucpr:0.05912\tval-logloss:1.54288\ttrain-auc:1.00023\ttrain-aucpr:1.00000\ttrain-logloss:0.00001\n",
      "[203]\tval-auc:0.69680\tval-aucpr:0.05911\tval-logloss:1.54291\ttrain-auc:1.00023\ttrain-aucpr:1.00000\ttrain-logloss:0.00001\n"
     ]
    },
    {
     "name": "stdout",
     "output_type": "stream",
     "text": [
      "[204]\tval-auc:0.69680\tval-aucpr:0.05912\tval-logloss:1.54288\ttrain-auc:1.00023\ttrain-aucpr:1.00000\ttrain-logloss:0.00001\n",
      "[205]\tval-auc:0.69680\tval-aucpr:0.05912\tval-logloss:1.54284\ttrain-auc:1.00023\ttrain-aucpr:1.00000\ttrain-logloss:0.00001\n",
      "[206]\tval-auc:0.69680\tval-aucpr:0.05912\tval-logloss:1.54283\ttrain-auc:1.00023\ttrain-aucpr:1.00000\ttrain-logloss:0.00001\n",
      "[207]\tval-auc:0.69680\tval-aucpr:0.05912\tval-logloss:1.54287\ttrain-auc:1.00023\ttrain-aucpr:1.00000\ttrain-logloss:0.00001\n",
      "[208]\tval-auc:0.69680\tval-aucpr:0.05912\tval-logloss:1.54285\ttrain-auc:1.00023\ttrain-aucpr:1.00000\ttrain-logloss:0.00001\n",
      "[209]\tval-auc:0.69680\tval-aucpr:0.05913\tval-logloss:1.54286\ttrain-auc:1.00023\ttrain-aucpr:1.00000\ttrain-logloss:0.00001\n",
      "[210]\tval-auc:0.69680\tval-aucpr:0.05912\tval-logloss:1.54284\ttrain-auc:1.00023\ttrain-aucpr:1.00000\ttrain-logloss:0.00001\n",
      "[211]\tval-auc:0.69680\tval-aucpr:0.05912\tval-logloss:1.54280\ttrain-auc:1.00023\ttrain-aucpr:1.00000\ttrain-logloss:0.00001\n",
      "[212]\tval-auc:0.69680\tval-aucpr:0.05912\tval-logloss:1.54280\ttrain-auc:1.00023\ttrain-aucpr:1.00000\ttrain-logloss:0.00001\n",
      "[213]\tval-auc:0.69680\tval-aucpr:0.05912\tval-logloss:1.54280\ttrain-auc:1.00023\ttrain-aucpr:1.00000\ttrain-logloss:0.00001\n",
      "[214]\tval-auc:0.69680\tval-aucpr:0.05912\tval-logloss:1.54283\ttrain-auc:1.00023\ttrain-aucpr:1.00000\ttrain-logloss:0.00001\n",
      "[215]\tval-auc:0.69680\tval-aucpr:0.05912\tval-logloss:1.54285\ttrain-auc:1.00023\ttrain-aucpr:1.00000\ttrain-logloss:0.00001\n",
      "[216]\tval-auc:0.69680\tval-aucpr:0.05913\tval-logloss:1.54286\ttrain-auc:1.00023\ttrain-aucpr:1.00000\ttrain-logloss:0.00001\n",
      "[217]\tval-auc:0.69680\tval-aucpr:0.05912\tval-logloss:1.54288\ttrain-auc:1.00023\ttrain-aucpr:1.00000\ttrain-logloss:0.00001\n",
      "[218]\tval-auc:0.69680\tval-aucpr:0.05912\tval-logloss:1.54288\ttrain-auc:1.00023\ttrain-aucpr:1.00000\ttrain-logloss:0.00001\n",
      "[219]\tval-auc:0.69680\tval-aucpr:0.05912\tval-logloss:1.54280\ttrain-auc:1.00023\ttrain-aucpr:1.00000\ttrain-logloss:0.00001\n",
      "[220]\tval-auc:0.69680\tval-aucpr:0.05911\tval-logloss:1.54277\ttrain-auc:1.00023\ttrain-aucpr:1.00000\ttrain-logloss:0.00001\n",
      "[221]\tval-auc:0.69680\tval-aucpr:0.05912\tval-logloss:1.54279\ttrain-auc:1.00023\ttrain-aucpr:1.00000\ttrain-logloss:0.00001\n",
      "[222]\tval-auc:0.69680\tval-aucpr:0.05912\tval-logloss:1.54279\ttrain-auc:1.00023\ttrain-aucpr:1.00000\ttrain-logloss:0.00001\n",
      "[223]\tval-auc:0.69680\tval-aucpr:0.05912\tval-logloss:1.54280\ttrain-auc:1.00023\ttrain-aucpr:1.00000\ttrain-logloss:0.00001\n",
      "[224]\tval-auc:0.69680\tval-aucpr:0.05910\tval-logloss:1.54276\ttrain-auc:1.00023\ttrain-aucpr:1.00000\ttrain-logloss:0.00001\n",
      "[225]\tval-auc:0.69680\tval-aucpr:0.05909\tval-logloss:1.54275\ttrain-auc:1.00023\ttrain-aucpr:1.00000\ttrain-logloss:0.00001\n",
      "[226]\tval-auc:0.69680\tval-aucpr:0.05912\tval-logloss:1.54276\ttrain-auc:1.00023\ttrain-aucpr:1.00000\ttrain-logloss:0.00001\n",
      "[227]\tval-auc:0.69680\tval-aucpr:0.05910\tval-logloss:1.54271\ttrain-auc:1.00023\ttrain-aucpr:1.00000\ttrain-logloss:0.00001\n",
      "[228]\tval-auc:0.69680\tval-aucpr:0.05911\tval-logloss:1.54268\ttrain-auc:1.00023\ttrain-aucpr:1.00000\ttrain-logloss:0.00001\n",
      "[229]\tval-auc:0.69680\tval-aucpr:0.05911\tval-logloss:1.54267\ttrain-auc:1.00023\ttrain-aucpr:1.00000\ttrain-logloss:0.00001\n",
      "[230]\tval-auc:0.69680\tval-aucpr:0.05909\tval-logloss:1.54264\ttrain-auc:1.00023\ttrain-aucpr:1.00000\ttrain-logloss:0.00001\n",
      "[231]\tval-auc:0.69680\tval-aucpr:0.05909\tval-logloss:1.54263\ttrain-auc:1.00023\ttrain-aucpr:1.00000\ttrain-logloss:0.00001\n",
      "[232]\tval-auc:0.69680\tval-aucpr:0.05909\tval-logloss:1.54261\ttrain-auc:1.00023\ttrain-aucpr:1.00000\ttrain-logloss:0.00001\n",
      "[233]\tval-auc:0.69680\tval-aucpr:0.05906\tval-logloss:1.54258\ttrain-auc:1.00023\ttrain-aucpr:1.00000\ttrain-logloss:0.00001\n",
      "[234]\tval-auc:0.69680\tval-aucpr:0.05906\tval-logloss:1.54259\ttrain-auc:1.00023\ttrain-aucpr:1.00000\ttrain-logloss:0.00001\n",
      "[235]\tval-auc:0.69680\tval-aucpr:0.05909\tval-logloss:1.54260\ttrain-auc:1.00023\ttrain-aucpr:1.00000\ttrain-logloss:0.00001\n",
      "[236]\tval-auc:0.69680\tval-aucpr:0.05906\tval-logloss:1.54259\ttrain-auc:1.00023\ttrain-aucpr:1.00000\ttrain-logloss:0.00001\n",
      "[237]\tval-auc:0.69680\tval-aucpr:0.05909\tval-logloss:1.54262\ttrain-auc:1.00023\ttrain-aucpr:1.00000\ttrain-logloss:0.00001\n",
      "[238]\tval-auc:0.69680\tval-aucpr:0.05909\tval-logloss:1.54262\ttrain-auc:1.00023\ttrain-aucpr:1.00000\ttrain-logloss:0.00001\n",
      "[239]\tval-auc:0.69680\tval-aucpr:0.05909\tval-logloss:1.54261\ttrain-auc:1.00023\ttrain-aucpr:1.00000\ttrain-logloss:0.00001\n",
      "[240]\tval-auc:0.69680\tval-aucpr:0.05909\tval-logloss:1.54260\ttrain-auc:1.00023\ttrain-aucpr:1.00000\ttrain-logloss:0.00001\n",
      "[241]\tval-auc:0.69680\tval-aucpr:0.05906\tval-logloss:1.54258\ttrain-auc:1.00023\ttrain-aucpr:1.00000\ttrain-logloss:0.00001\n",
      "[242]\tval-auc:0.69680\tval-aucpr:0.05907\tval-logloss:1.54256\ttrain-auc:1.00023\ttrain-aucpr:1.00000\ttrain-logloss:0.00001\n",
      "[243]\tval-auc:0.69680\tval-aucpr:0.05906\tval-logloss:1.54258\ttrain-auc:1.00023\ttrain-aucpr:1.00000\ttrain-logloss:0.00001\n",
      "[244]\tval-auc:0.69680\tval-aucpr:0.05906\tval-logloss:1.54259\ttrain-auc:1.00023\ttrain-aucpr:1.00000\ttrain-logloss:0.00001\n",
      "[245]\tval-auc:0.69680\tval-aucpr:0.05906\tval-logloss:1.54259\ttrain-auc:1.00023\ttrain-aucpr:1.00000\ttrain-logloss:0.00001\n",
      "[246]\tval-auc:0.69680\tval-aucpr:0.05906\tval-logloss:1.54259\ttrain-auc:1.00023\ttrain-aucpr:1.00000\ttrain-logloss:0.00001\n",
      "[247]\tval-auc:0.69680\tval-aucpr:0.05909\tval-logloss:1.54262\ttrain-auc:1.00023\ttrain-aucpr:1.00000\ttrain-logloss:0.00001\n",
      "[248]\tval-auc:0.69680\tval-aucpr:0.05906\tval-logloss:1.54258\ttrain-auc:1.00023\ttrain-aucpr:1.00000\ttrain-logloss:0.00001\n",
      "[249]\tval-auc:0.69680\tval-aucpr:0.05909\tval-logloss:1.54263\ttrain-auc:1.00023\ttrain-aucpr:1.00000\ttrain-logloss:0.00001\n",
      "[250]\tval-auc:0.69680\tval-aucpr:0.05909\tval-logloss:1.54261\ttrain-auc:1.00023\ttrain-aucpr:1.00000\ttrain-logloss:0.00001\n",
      "[251]\tval-auc:0.69680\tval-aucpr:0.05906\tval-logloss:1.54258\ttrain-auc:1.00023\ttrain-aucpr:1.00000\ttrain-logloss:0.00001\n",
      "[252]\tval-auc:0.69680\tval-aucpr:0.05909\tval-logloss:1.54261\ttrain-auc:1.00023\ttrain-aucpr:1.00000\ttrain-logloss:0.00001\n",
      "[253]\tval-auc:0.69680\tval-aucpr:0.05911\tval-logloss:1.54268\ttrain-auc:1.00023\ttrain-aucpr:1.00000\ttrain-logloss:0.00001\n",
      "[254]\tval-auc:0.69680\tval-aucpr:0.05910\tval-logloss:1.54270\ttrain-auc:1.00023\ttrain-aucpr:1.00000\ttrain-logloss:0.00001\n",
      "[255]\tval-auc:0.69680\tval-aucpr:0.05910\tval-logloss:1.54273\ttrain-auc:1.00023\ttrain-aucpr:1.00000\ttrain-logloss:0.00001\n",
      "[256]\tval-auc:0.69680\tval-aucpr:0.05912\tval-logloss:1.54277\ttrain-auc:1.00023\ttrain-aucpr:1.00000\ttrain-logloss:0.00001\n",
      "[257]\tval-auc:0.69680\tval-aucpr:0.05912\tval-logloss:1.54284\ttrain-auc:1.00023\ttrain-aucpr:1.00000\ttrain-logloss:0.00001\n",
      "[258]\tval-auc:0.69680\tval-aucpr:0.05912\tval-logloss:1.54284\ttrain-auc:1.00023\ttrain-aucpr:1.00000\ttrain-logloss:0.00001\n",
      "[259]\tval-auc:0.69680\tval-aucpr:0.05912\tval-logloss:1.54289\ttrain-auc:1.00023\ttrain-aucpr:1.00000\ttrain-logloss:0.00001\n",
      "[260]\tval-auc:0.69680\tval-aucpr:0.05912\tval-logloss:1.54288\ttrain-auc:1.00023\ttrain-aucpr:1.00000\ttrain-logloss:0.00001\n",
      "[261]\tval-auc:0.69680\tval-aucpr:0.05912\tval-logloss:1.54285\ttrain-auc:1.00023\ttrain-aucpr:1.00000\ttrain-logloss:0.00001\n",
      "[262]\tval-auc:0.69680\tval-aucpr:0.05912\tval-logloss:1.54282\ttrain-auc:1.00023\ttrain-aucpr:1.00000\ttrain-logloss:0.00001\n",
      "[263]\tval-auc:0.69680\tval-aucpr:0.05912\tval-logloss:1.54277\ttrain-auc:1.00023\ttrain-aucpr:1.00000\ttrain-logloss:0.00001\n",
      "[264]\tval-auc:0.69680\tval-aucpr:0.05909\tval-logloss:1.54274\ttrain-auc:1.00023\ttrain-aucpr:1.00000\ttrain-logloss:0.00001\n",
      "[265]\tval-auc:0.69680\tval-aucpr:0.05912\tval-logloss:1.54278\ttrain-auc:1.00023\ttrain-aucpr:1.00000\ttrain-logloss:0.00001\n",
      "[266]\tval-auc:0.69680\tval-aucpr:0.05912\tval-logloss:1.54277\ttrain-auc:1.00023\ttrain-aucpr:1.00000\ttrain-logloss:0.00001\n",
      "[267]\tval-auc:0.69680\tval-aucpr:0.05910\tval-logloss:1.54273\ttrain-auc:1.00023\ttrain-aucpr:1.00000\ttrain-logloss:0.00001\n",
      "[268]\tval-auc:0.69680\tval-aucpr:0.05909\tval-logloss:1.54275\ttrain-auc:1.00023\ttrain-aucpr:1.00000\ttrain-logloss:0.00001\n",
      "[269]\tval-auc:0.69680\tval-aucpr:0.05910\tval-logloss:1.54270\ttrain-auc:1.00023\ttrain-aucpr:1.00000\ttrain-logloss:0.00001\n",
      "[270]\tval-auc:0.69680\tval-aucpr:0.05910\tval-logloss:1.54270\ttrain-auc:1.00023\ttrain-aucpr:1.00000\ttrain-logloss:0.00001\n",
      "[271]\tval-auc:0.69680\tval-aucpr:0.05909\tval-logloss:1.54265\ttrain-auc:1.00023\ttrain-aucpr:1.00000\ttrain-logloss:0.00001\n",
      "[272]\tval-auc:0.69680\tval-aucpr:0.05911\tval-logloss:1.54268\ttrain-auc:1.00023\ttrain-aucpr:1.00000\ttrain-logloss:0.00001\n"
     ]
    },
    {
     "name": "stdout",
     "output_type": "stream",
     "text": [
      "[273]\tval-auc:0.69680\tval-aucpr:0.05909\tval-logloss:1.54262\ttrain-auc:1.00023\ttrain-aucpr:1.00000\ttrain-logloss:0.00001\n",
      "[274]\tval-auc:0.69680\tval-aucpr:0.05911\tval-logloss:1.54267\ttrain-auc:1.00023\ttrain-aucpr:1.00000\ttrain-logloss:0.00001\n",
      "[275]\tval-auc:0.69680\tval-aucpr:0.05910\tval-logloss:1.54269\ttrain-auc:1.00023\ttrain-aucpr:1.00000\ttrain-logloss:0.00001\n",
      "[276]\tval-auc:0.69680\tval-aucpr:0.05909\tval-logloss:1.54274\ttrain-auc:1.00023\ttrain-aucpr:1.00000\ttrain-logloss:0.00001\n",
      "[277]\tval-auc:0.69680\tval-aucpr:0.05912\tval-logloss:1.54279\ttrain-auc:1.00023\ttrain-aucpr:1.00000\ttrain-logloss:0.00001\n",
      "[278]\tval-auc:0.69680\tval-aucpr:0.05912\tval-logloss:1.54284\ttrain-auc:1.00023\ttrain-aucpr:1.00000\ttrain-logloss:0.00001\n",
      "[279]\tval-auc:0.69680\tval-aucpr:0.05912\tval-logloss:1.54284\ttrain-auc:1.00023\ttrain-aucpr:1.00000\ttrain-logloss:0.00001\n",
      "[280]\tval-auc:0.69680\tval-aucpr:0.05912\tval-logloss:1.54280\ttrain-auc:1.00023\ttrain-aucpr:1.00000\ttrain-logloss:0.00001\n",
      "[281]\tval-auc:0.69680\tval-aucpr:0.05913\tval-logloss:1.54286\ttrain-auc:1.00023\ttrain-aucpr:1.00000\ttrain-logloss:0.00001\n",
      "[282]\tval-auc:0.69680\tval-aucpr:0.05912\tval-logloss:1.54287\ttrain-auc:1.00023\ttrain-aucpr:1.00000\ttrain-logloss:0.00001\n",
      "[283]\tval-auc:0.69680\tval-aucpr:0.05912\tval-logloss:1.54287\ttrain-auc:1.00023\ttrain-aucpr:1.00000\ttrain-logloss:0.00001\n",
      "[284]\tval-auc:0.69680\tval-aucpr:0.05912\tval-logloss:1.54285\ttrain-auc:1.00023\ttrain-aucpr:1.00000\ttrain-logloss:0.00001\n",
      "[285]\tval-auc:0.69680\tval-aucpr:0.05912\tval-logloss:1.54285\ttrain-auc:1.00023\ttrain-aucpr:1.00000\ttrain-logloss:0.00001\n",
      "[286]\tval-auc:0.69680\tval-aucpr:0.05912\tval-logloss:1.54284\ttrain-auc:1.00023\ttrain-aucpr:1.00000\ttrain-logloss:0.00001\n",
      "[287]\tval-auc:0.69680\tval-aucpr:0.05912\tval-logloss:1.54279\ttrain-auc:1.00023\ttrain-aucpr:1.00000\ttrain-logloss:0.00001\n",
      "[288]\tval-auc:0.69680\tval-aucpr:0.05912\tval-logloss:1.54281\ttrain-auc:1.00023\ttrain-aucpr:1.00000\ttrain-logloss:0.00001\n",
      "[289]\tval-auc:0.69680\tval-aucpr:0.05909\tval-logloss:1.54274\ttrain-auc:1.00023\ttrain-aucpr:1.00000\ttrain-logloss:0.00001\n",
      "[290]\tval-auc:0.69680\tval-aucpr:0.05912\tval-logloss:1.54279\ttrain-auc:1.00023\ttrain-aucpr:1.00000\ttrain-logloss:0.00001\n",
      "[291]\tval-auc:0.69680\tval-aucpr:0.05912\tval-logloss:1.54276\ttrain-auc:1.00023\ttrain-aucpr:1.00000\ttrain-logloss:0.00001\n",
      "[292]\tval-auc:0.69680\tval-aucpr:0.05912\tval-logloss:1.54278\ttrain-auc:1.00023\ttrain-aucpr:1.00000\ttrain-logloss:0.00001\n",
      "[293]\tval-auc:0.69680\tval-aucpr:0.05912\tval-logloss:1.54280\ttrain-auc:1.00023\ttrain-aucpr:1.00000\ttrain-logloss:0.00001\n",
      "[294]\tval-auc:0.69680\tval-aucpr:0.05912\tval-logloss:1.54287\ttrain-auc:1.00023\ttrain-aucpr:1.00000\ttrain-logloss:0.00001\n",
      "[295]\tval-auc:0.69680\tval-aucpr:0.05912\tval-logloss:1.54281\ttrain-auc:1.00023\ttrain-aucpr:1.00000\ttrain-logloss:0.00001\n",
      "[296]\tval-auc:0.69680\tval-aucpr:0.05912\tval-logloss:1.54278\ttrain-auc:1.00023\ttrain-aucpr:1.00000\ttrain-logloss:0.00001\n",
      "[297]\tval-auc:0.69680\tval-aucpr:0.05912\tval-logloss:1.54280\ttrain-auc:1.00023\ttrain-aucpr:1.00000\ttrain-logloss:0.00001\n",
      "[298]\tval-auc:0.69680\tval-aucpr:0.05912\tval-logloss:1.54279\ttrain-auc:1.00023\ttrain-aucpr:1.00000\ttrain-logloss:0.00001\n",
      "[299]\tval-auc:0.69680\tval-aucpr:0.05910\tval-logloss:1.54272\ttrain-auc:1.00023\ttrain-aucpr:1.00000\ttrain-logloss:0.00001\n"
     ]
    }
   ],
   "source": [
    "model = xgb.train(xgb_params, dtrain, num_boost_round=xgb_params['n_estimators'], evals=[(dval, 'val'), (dtrain, 'train')], early_stopping_rounds=int(xgb_params['n_estimators']/2))"
   ]
  },
  {
   "cell_type": "code",
   "execution_count": 20,
   "id": "20c0fe51",
   "metadata": {
    "lines_to_next_cell": 2
   },
   "outputs": [],
   "source": [
    "y_pred_proba = model.predict(dtest)"
   ]
  },
  {
   "cell_type": "markdown",
   "id": "ec7e43b2",
   "metadata": {},
   "source": [
    "## Evaluation"
   ]
  },
  {
   "cell_type": "code",
   "execution_count": 21,
   "id": "eb7631aa",
   "metadata": {},
   "outputs": [
    {
     "name": "stdout",
     "output_type": "stream",
     "text": [
      "Average Precision:  0.06\n"
     ]
    }
   ],
   "source": [
    "ap = average_precision_score(y_test, y_pred_proba)\n",
    "print(\"Average Precision: \", np.round(ap,2))"
   ]
  },
  {
   "cell_type": "code",
   "execution_count": 22,
   "id": "55835ec6",
   "metadata": {},
   "outputs": [
    {
     "data": {
      "image/png": "[encoded data removed]",
      "text/plain": [
       "<Figure size 432x288 with 1 Axes>"
      ]
     },
     "metadata": {
      "needs_background": "light"
     },
     "output_type": "display_data"
    }
   ],
   "source": [
    "fig = plot_ap(y_test, y_pred_proba)"
   ]
  },
  {
   "cell_type": "code",
   "execution_count": 23,
   "id": "c2debd1b",
   "metadata": {},
   "outputs": [
    {
     "name": "stdout",
     "output_type": "stream",
     "text": [
      "F1 Score:  0.0706\n"
     ]
    }
   ],
   "source": [
    "optimal_threshold, optimal_f1_score = get_optimal_f1_cutoff(y_test, y_pred_proba)\n",
    "print(\"F1 Score: \", np.round(optimal_f1_score, 4))"
   ]
  },
  {
   "cell_type": "code",
   "execution_count": 24,
   "id": "a24d75b3",
   "metadata": {},
   "outputs": [
    {
     "name": "stdout",
     "output_type": "stream",
     "text": [
      "Confusion Matrix: \n",
      " [[83475 14980]\n",
      " [  940   605]]\n"
     ]
    }
   ],
   "source": [
    "cm = get_confusion_matrix(y_test, y_pred_proba, optimal_threshold)\n",
    "print(\"Confusion Matrix: \\n\", cm)"
   ]
  },
  {
   "cell_type": "code",
   "execution_count": 25,
   "id": "3f794113",
   "metadata": {},
   "outputs": [],
   "source": [
    "from sklearn.metrics import roc_auc_score"
   ]
  },
  {
   "cell_type": "code",
   "execution_count": 26,
   "id": "114c759b",
   "metadata": {},
   "outputs": [
    {
     "data": {
      "text/plain": [
       "0.7178016865425187"
      ]
     },
     "execution_count": 26,
     "metadata": {},
     "output_type": "execute_result"
    }
   ],
   "source": [
    "roc_auc_score(y_test, y_pred_proba)"
   ]
  },
  {
   "cell_type": "code",
   "execution_count": null,
   "id": "36928829",
   "metadata": {},
   "outputs": [],
   "source": []
  }
 ],
 "metadata": {
  "jupytext": {
   "formats": "ipynb,py:light"
  },
  "kernelspec": {
   "display_name": "RLFraud",
   "language": "python",
   "name": "rlfraud"
  },
  "language_info": {
   "codemirror_mode": {
    "name": "ipython",
    "version": 3
   },
   "file_extension": ".py",
   "mimetype": "text/x-python",
   "name": "python",
   "nbconvert_exporter": "python",
   "pygments_lexer": "ipython3",
   "version": "3.6.13"
  },
  "toc": {
   "base_numbering": 1,
   "nav_menu": {},
   "number_sections": true,
   "sideBar": true,
   "skip_h1_title": false,
   "title_cell": "Table of Contents",
   "title_sidebar": "Contents",
   "toc_cell": false,
   "toc_position": {},
   "toc_section_display": true,
   "toc_window_display": false
  }
 },
 "nbformat": 4,
 "nbformat_minor": 5
}
