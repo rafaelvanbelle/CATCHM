{
 "cells": [
  {
   "cell_type": "markdown",
   "id": "375e868f",
   "metadata": {},
   "source": [
    "# Demo"
   ]
  },
  {
   "cell_type": "markdown",
   "id": "6246d553",
   "metadata": {},
   "source": [
    "Dataset source: https://www.kaggle.com/ranjeetshrivastav/fraud-detection-dataset"
   ]
  },
  {
   "cell_type": "code",
   "execution_count": 1,
   "id": "ad7ff434",
   "metadata": {},
   "outputs": [],
   "source": [
    "import os\n",
    "import numpy as np\n",
    "import pandas as pd\n",
    "import networkx as nx\n",
    "from nodevectors import Node2Vec\n",
    "import xgboost as xgb\n",
    "from fucc.inductive_step import inductive_pooling\n",
    "from fucc.metrics import plot_ap, get_optimal_f1_cutoff, get_confusion_matrix\n",
    "from sklearn.metrics import average_precision_score\n",
    "import logging\n",
    "logging.basicConfig(level=logging.INFO)"
   ]
  },
  {
   "cell_type": "code",
   "execution_count": 2,
   "id": "04a71e3e",
   "metadata": {},
   "outputs": [],
   "source": [
    "from fucc.pagerank import get_pagerank_suspicion_scores, inductive_step, splitDataFrameIntoSmaller, postprocessing_historical_edges\n",
    "from fucc.utils import get_filename, export_suspicion_scores, import_suspicion_scores, multiprocessing\n",
    "from tqdm import tqdm\n",
    "from functools import partial\n",
    "import datetime\n",
    "import pickle"
   ]
  },
  {
   "cell_type": "code",
   "execution_count": 3,
   "id": "f1e84cb7",
   "metadata": {},
   "outputs": [],
   "source": [
    "# Parameters\n",
    "weighted = True\n",
    "WORKERS = 12\n",
    "lambdas = {'ST': 0.03, 'MT': 0.004, 'LT': 0.0001}\n",
    "#lambdas = {'LT': 0.0001}\n",
    "chunksize = 5000"
   ]
  },
  {
   "cell_type": "code",
   "execution_count": 4,
   "id": "b6ecae2e",
   "metadata": {},
   "outputs": [],
   "source": [
    "output_path = ''"
   ]
  },
  {
   "cell_type": "markdown",
   "id": "a9cd4b18",
   "metadata": {},
   "source": [
    "## Load Data"
   ]
  },
  {
   "cell_type": "code",
   "execution_count": 5,
   "id": "d2460d57",
   "metadata": {},
   "outputs": [],
   "source": [
    "df = pd.read_json('/Users/raf/Dropbox/DOC/data/fraud_datasets/archive/transactions/transactions.txt',  lines=True, convert_dates=[4])"
   ]
  },
  {
   "cell_type": "code",
   "execution_count": 6,
   "id": "45132da4",
   "metadata": {},
   "outputs": [],
   "source": [
    "df.iloc[:, 4] = pd.to_datetime(df.iloc[:, 4])"
   ]
  },
  {
   "cell_type": "code",
   "execution_count": 7,
   "id": "bc023f95",
   "metadata": {},
   "outputs": [],
   "source": [
    "df = df.sort_values('transactionDateTime')\n",
    "df.loc[:, 'TX_ID'] = range(df.shape[0])"
   ]
  },
  {
   "cell_type": "code",
   "execution_count": 8,
   "id": "97a0ca0d",
   "metadata": {},
   "outputs": [],
   "source": [
    "df = df.rename(columns={\"merchantName\":\"TERM_MIDUID\", \"customerId\":\"CARD_PAN_ID\", \"isFraud\": \"TX_FRAUD\", \"transactionDateTime\":\"TX_DATETIME\"})"
   ]
  },
  {
   "cell_type": "code",
   "execution_count": 9,
   "id": "63304c30",
   "metadata": {},
   "outputs": [],
   "source": [
    "df_train = df.iloc[:320000]\n",
    "df_val = df.iloc[320000:400000]\n",
    "df_test = df.iloc[400000:500000]"
   ]
  },
  {
   "cell_type": "code",
   "execution_count": 10,
   "id": "c167670e",
   "metadata": {},
   "outputs": [],
   "source": [
    "personalization_nodes = list(df_train.index)"
   ]
  },
  {
   "cell_type": "markdown",
   "id": "f67d57af",
   "metadata": {},
   "source": [
    "## Pagerank"
   ]
  },
  {
   "cell_type": "code",
   "execution_count": 11,
   "id": "edd16f93",
   "metadata": {},
   "outputs": [
    {
     "name": "stderr",
     "output_type": "stream",
     "text": [
      "INFO:root:Building network\n",
      "INFO:root:Calculating edge weights for ST\n",
      "INFO:root:Calculating some weights\n",
      "INFO:root:ok, ST\n",
      "INFO:root:Personalization\n",
      "INFO:root:Building graph ST\n",
      "INFO:root:Pagerank started\n"
     ]
    },
    {
     "name": "stdout",
     "output_type": "stream",
     "text": [
      "327266\n",
      "5350\n"
     ]
    },
    {
     "name": "stderr",
     "output_type": "stream",
     "text": [
      "INFO:root:Pagerank finished\n",
      "INFO:root:Building network\n",
      "INFO:root:Calculating edge weights for MT\n",
      "INFO:root:Calculating some weights\n",
      "INFO:root:ok, MT\n",
      "INFO:root:Personalization\n",
      "INFO:root:Building graph MT\n",
      "INFO:root:Pagerank started\n"
     ]
    },
    {
     "name": "stdout",
     "output_type": "stream",
     "text": [
      "327266\n",
      "5350\n"
     ]
    },
    {
     "name": "stderr",
     "output_type": "stream",
     "text": [
      "INFO:root:Pagerank finished\n",
      "INFO:root:Building network\n",
      "INFO:root:Calculating edge weights for LT\n",
      "INFO:root:Calculating some weights\n",
      "INFO:root:ok, LT\n",
      "INFO:root:Personalization\n",
      "INFO:root:Building graph LT\n",
      "INFO:root:Pagerank started\n"
     ]
    },
    {
     "name": "stdout",
     "output_type": "stream",
     "text": [
      "327266\n",
      "5350\n"
     ]
    },
    {
     "name": "stderr",
     "output_type": "stream",
     "text": [
      "INFO:root:Pagerank finished\n"
     ]
    },
    {
     "name": "stdout",
     "output_type": "stream",
     "text": [
      "CPU times: user 1min 20s, sys: 3.32 s, total: 1min 24s\n",
      "Wall time: 1min 25s\n"
     ]
    }
   ],
   "source": [
    "%%time\n",
    "\n",
    "dict_suspicion_scores = {}\n",
    "dict_G = {}\n",
    "\n",
    "for t, lambd in lambdas.items():\n",
    "    suspicion_scores, G = get_pagerank_suspicion_scores(\n",
    "                              df_train,\n",
    "                              t=t,\n",
    "                              lambd=lambd,\n",
    "                              alpha=0.000085,\n",
    "                              n_jobs=WORKERS,\n",
    "                              personalization_nodes=personalization_nodes,\n",
    "                              weighted=weighted)\n",
    "\n",
    "\n",
    "    dict_suspicion_scores[t] = suspicion_scores\n",
    "    dict_G[t] = G"
   ]
  },
  {
   "cell_type": "code",
   "execution_count": 12,
   "id": "88c79bc4",
   "metadata": {},
   "outputs": [
    {
     "name": "stderr",
     "output_type": "stream",
     "text": [
      "  0%|          | 0/41 [00:00<?, ?it/s]INFO:root:post processing started\n",
      "INFO:root:post processing started\n",
      "INFO:root:post processing started\n",
      "INFO:root:post processing started\n",
      "INFO:root:post processing started\n",
      "INFO:root:post processing started\n",
      "INFO:root:post processing started\n",
      "INFO:root:post processing started\n",
      "  2%|▏         | 1/41 [00:56<37:49, 56.75s/it]INFO:root:post processing started\n",
      " 12%|█▏        | 5/41 [01:05<12:22, 20.62s/it]INFO:root:post processing started\n",
      " 17%|█▋        | 7/41 [01:08<08:27, 14.92s/it]INFO:root:post processing started\n",
      "INFO:root:post processing started\n",
      "INFO:root:post processing started\n",
      "INFO:root:post processing started\n",
      "INFO:root:post processing started\n",
      "INFO:root:post processing started\n",
      " 24%|██▍       | 10/41 [02:02<07:25, 14.37s/it]INFO:root:post processing started\n",
      " 27%|██▋       | 11/41 [02:05<05:31, 11.03s/it]INFO:root:post processing started\n",
      "INFO:root:post processing started\n",
      " 32%|███▏      | 13/41 [02:10<03:57,  8.49s/it]INFO:root:post processing started\n",
      " 37%|███▋      | 15/41 [02:13<02:46,  6.41s/it]INFO:root:post processing started\n",
      "INFO:root:post processing started\n",
      "INFO:root:post processing started\n",
      "INFO:root:post processing started\n",
      " 41%|████▏     | 17/41 [03:05<04:53, 12.22s/it]INFO:root:post processing started\n",
      " 46%|████▋     | 19/41 [03:14<02:59,  8.17s/it]INFO:root:post processing started\n",
      " 51%|█████     | 21/41 [03:19<02:08,  6.42s/it]INFO:root:post processing started\n",
      " 54%|█████▎    | 22/41 [03:22<01:43,  5.47s/it]INFO:root:post processing started\n",
      "INFO:root:post processing started\n",
      "INFO:root:post processing started\n",
      " 59%|█████▊    | 24/41 [03:27<01:18,  4.64s/it]INFO:root:post processing started\n",
      "INFO:root:post processing started\n",
      " 61%|██████    | 25/41 [04:10<04:16, 16.01s/it]INFO:root:post processing started\n",
      " 66%|██████▌   | 27/41 [04:19<02:21, 10.12s/it]INFO:root:post processing started\n",
      " 68%|██████▊   | 28/41 [04:23<01:47,  8.25s/it]INFO:root:post processing started\n",
      " 71%|███████   | 29/41 [04:24<01:12,  6.08s/it]INFO:root:post processing started\n",
      " 73%|███████▎  | 30/41 [04:29<01:01,  5.63s/it]INFO:root:post processing started\n",
      "INFO:root:post processing started\n",
      " 78%|███████▊  | 32/41 [04:34<00:42,  4.70s/it]INFO:root:post processing started\n",
      "INFO:root:post processing started\n",
      " 80%|████████  | 33/41 [05:25<02:28, 18.61s/it]INFO:root:post processing started\n",
      "100%|██████████| 41/41 [05:37<00:00,  8.23s/it]\n",
      "  0%|          | 0/41 [00:00<?, ?it/s]INFO:root:post processing started\n",
      "INFO:root:post processing started\n",
      "INFO:root:post processing started\n",
      "INFO:root:post processing started\n",
      "INFO:root:post processing started\n",
      "INFO:root:post processing started\n",
      "INFO:root:post processing started\n",
      "INFO:root:post processing started\n",
      "  5%|▍         | 2/41 [01:03<28:09, 43.31s/it]INFO:root:post processing started\n",
      " 10%|▉         | 4/41 [01:07<19:00, 30.83s/it]INFO:root:post processing started\n",
      " 12%|█▏        | 5/41 [01:09<13:18, 22.19s/it]INFO:root:post processing started\n",
      " 17%|█▋        | 7/41 [01:13<06:48, 12.02s/it]INFO:root:post processing started\n",
      "INFO:root:post processing started\n",
      " 20%|█▉        | 8/41 [01:18<05:22,  9.77s/it]INFO:root:post processing started\n",
      "INFO:root:post processing started\n",
      "INFO:root:post processing started\n",
      " 24%|██▍       | 10/41 [02:07<07:57, 15.42s/it]INFO:root:post processing started\n",
      " 27%|██▋       | 11/41 [02:10<05:49, 11.64s/it]INFO:root:post processing started\n",
      " 29%|██▉       | 12/41 [02:13<04:19,  8.96s/it]INFO:root:post processing started\n",
      " 32%|███▏      | 13/41 [02:15<03:19,  7.13s/it]INFO:root:post processing started\n",
      " 37%|███▋      | 15/41 [02:17<02:17,  5.29s/it]INFO:root:post processing started\n",
      " 39%|███▉      | 16/41 [02:22<02:04,  4.99s/it]INFO:root:post processing started\n",
      "INFO:root:post processing started\n",
      "INFO:root:post processing started\n",
      " 44%|████▍     | 18/41 [03:16<05:24, 14.13s/it]INFO:root:post processing started\n",
      " 46%|████▋     | 19/41 [03:19<03:59, 10.88s/it]INFO:root:post processing started\n",
      " 49%|████▉     | 20/41 [03:22<02:58,  8.49s/it]INFO:root:post processing started\n",
      " 51%|█████     | 21/41 [03:25<02:16,  6.81s/it]INFO:root:post processing started\n",
      "INFO:root:post processing started\n",
      " 54%|█████▎    | 22/41 [03:28<01:46,  5.58s/it]INFO:root:post processing started\n",
      " 59%|█████▊    | 24/41 [03:32<01:16,  4.53s/it]INFO:root:post processing started\n",
      "INFO:root:post processing started\n",
      " 63%|██████▎   | 26/41 [04:21<03:11, 12.78s/it]INFO:root:post processing started\n",
      " 66%|██████▌   | 27/41 [04:23<02:17,  9.84s/it]INFO:root:post processing started\n",
      " 68%|██████▊   | 28/41 [04:26<01:39,  7.69s/it]INFO:root:post processing started\n",
      " 71%|███████   | 29/41 [04:29<01:14,  6.20s/it]INFO:root:post processing started\n",
      " 76%|███████▌  | 31/41 [04:33<00:39,  3.97s/it]INFO:root:post processing started\n",
      " 78%|███████▊  | 32/41 [04:35<00:30,  3.42s/it]INFO:root:post processing started\n",
      "INFO:root:post processing started\n",
      "INFO:root:post processing started\n",
      " 85%|████████▌ | 35/41 [05:29<00:56,  9.40s/it]INFO:root:post processing started\n",
      "100%|██████████| 41/41 [05:37<00:00,  8.24s/it]\n",
      "  0%|          | 0/41 [00:00<?, ?it/s]INFO:root:post processing started"
     ]
    }
   ],
   "source": [
    "%%time\n",
    "## Get suspicion scores for the validation part of the training data\n",
    "data = df_val.set_index('TX_ID')\n",
    "data = data.loc[:, ['CARD_PAN_ID', 'TERM_MIDUID']]\n",
    "\n",
    "# We only need these columns from historical data\n",
    "historical_data = df_train.set_index('TX_ID')\n",
    "historical_data = historical_data.loc[:, ['CARD_PAN_ID', 'TERM_MIDUID']]\n",
    "\n",
    "# Inductive val set processing\n",
    "\n",
    "dict_results = {}\n",
    "for t,lamb in lambdas.items():\n",
    "\n",
    "    suspicion_scores, G = dict_suspicion_scores[t], dict_G[t]\n",
    "\n",
    "    # split df in smaller chunks\n",
    "    chunks = splitDataFrameIntoSmaller(data, chunkSize=2000)\n",
    "    partial_inductive_step = partial(inductive_step, historical_edges=historical_data, suspicion_scores=suspicion_scores, G=G, t=t)\n",
    "\n",
    "    result = multiprocessing(function=partial_inductive_step, chunks=chunks)\n",
    "    #f#ilename = get_filename(filename_elements=[subset_name, t])\n",
    "    \n",
    "    dict_results[t] = result\n",
    "    #result.to_csv(os.path.join(output_path, filename + '_output_val.csv'))\n",
    "\n",
    "df_val_pagerank = df_val.copy()\n",
    "for t, lamb in lambdas.items():\n",
    "    #filename = get_filename(filename_elements=[subset_name, t])\n",
    "    df_pagerank = dict_results[t]\n",
    "    #df_pagerank = df_pagerank.set_index('TX_ID')\n",
    "    df_pagerank = df_pagerank.filter(regex='SC_*')\n",
    "    df_val_pagerank = df_val_pagerank.merge(df_pagerank, left_on='TX_ID', right_index=True) \n",
    "\n",
    "#filename = get_filename(filename_elements=[subset_name])\n",
    "#df_val_pagerank.to_csv(os.path.join(output_path, subset_name + '_val_pagerank_inductive.csv'))"
   ]
  },
  {
   "cell_type": "code",
   "execution_count": 13,
   "id": "19853d68",
   "metadata": {
    "lines_to_next_cell": 2
   },
   "outputs": [],
   "source": [
    "%%time\n",
    "# We only need these columns from data\n",
    "data = df_test.set_index('TX_ID')\n",
    "data = data.loc[:, ['CARD_PAN_ID', 'TERM_MIDUID']]\n",
    "\n",
    "# We only need these columns from historical data\n",
    "historical_data = df_train.set_index('TX_ID')\n",
    "historical_data = historical_data.loc[:, ['CARD_PAN_ID', 'TERM_MIDUID']]\n",
    "\n",
    "# Inductive test set processing\n",
    "\n",
    "dict_results = {}\n",
    "for t,lamb in lambdas.items():\n",
    "\n",
    "    suspicion_scores, G = dict_suspicion_scores[t], dict_G[t]\n",
    "\n",
    "\n",
    "    # split df in smaller chunks\n",
    "    chunks = splitDataFrameIntoSmaller(data, chunkSize=2000)\n",
    "    partial_inductive_step = partial(inductive_step, historical_edges=historical_data, suspicion_scores=suspicion_scores, G=G, t=t)\n",
    "\n",
    "    result = multiprocessing(function=partial_inductive_step, chunks=chunks)\n",
    "    dict_results[t] = result\n",
    "\n",
    "\n",
    "df_test_pagerank = df_test.copy()\n",
    "for t, lamb in lambdas.items():\n",
    "    \n",
    "    df_pagerank =  dict_results[t] \n",
    "    df_pagerank = df_pagerank.filter(regex='SC_*')\n",
    "    df_test_pagerank = df_test_pagerank.merge(df_pagerank, left_on='TX_ID', right_index=True)\n"
   ]
  },
  {
   "cell_type": "code",
   "execution_count": 14,
   "id": "b826512c",
   "metadata": {
    "lines_to_end_of_cell_marker": 2
   },
   "outputs": [],
   "source": [
    "%%time\n",
    "# We only need these columns from data\n",
    "data = df_test.set_index('TX_ID')\n",
    "data = data.loc[:, ['CARD_PAN_ID', 'TERM_MIDUID']]\n",
    "\n",
    "# We only need these columns from historical data\n",
    "historical_data = df_train.set_index('TX_ID')\n",
    "historical_data = historical_data.loc[:, ['CARD_PAN_ID', 'TERM_MIDUID']]\n",
    "\n",
    "\n",
    "# transductive train set processing\n",
    "dict_results = {}\n",
    "for t, lamb in lambdas.items():\n",
    "    print(t)\n",
    "    suspicion_scores, G = dict_suspicion_scores[t], dict_G[t]\n",
    "\n",
    "\n",
    "    #Split historical dataset into smaller chunks\n",
    "    chunks = splitDataFrameIntoSmaller(historical_data, chunkSize=5000)\n",
    "    partial_postprocessing_historical_edges = partial(postprocessing_historical_edges, suspicion_scores=suspicion_scores, t=t)\n",
    "    #partial_inductive_step = partial(inductive_step, historical_edges=historical_data, suspicion_scores=suspicion_scores, G=G, t=t)\n",
    "    \n",
    "    result = multiprocessing(function=partial_postprocessing_historical_edges, chunks=chunks)\n",
    "    dict_results[t] = result\n",
    "\n",
    "df_train_pagerank = df_train.copy()\n",
    "# Load and join ST, MT, LT data for df_train and df_train\n",
    "for t, lamb in lambdas.items():\n",
    "    df_pagerank = dict_results[t]\n",
    "    df_pagerank = df_pagerank.filter(regex='SC_*')\n",
    "    df_train_pagerank = df_train_pagerank.merge(df_pagerank, left_on='TX_ID', right_index=True)"
   ]
  },
  {
   "cell_type": "markdown",
   "id": "cb0bb214",
   "metadata": {},
   "source": [
    "## XGBoost Classifier"
   ]
  },
  {
   "cell_type": "code",
   "execution_count": 15,
   "id": "271136f9",
   "metadata": {},
   "outputs": [],
   "source": [
    "df_train = df_train_pagerank\n",
    "df_val = df_val_pagerank\n",
    "df_test = df_test_pagerank"
   ]
  },
  {
   "cell_type": "code",
   "execution_count": 16,
   "id": "d8da5362",
   "metadata": {},
   "outputs": [],
   "source": [
    "pagerank_features = list(df_train.filter(regex='SC').columns)"
   ]
  },
  {
   "cell_type": "code",
   "execution_count": 17,
   "id": "cca4b005",
   "metadata": {},
   "outputs": [],
   "source": [
    "X_train = df_train[pagerank_features]\n",
    "X_val = df_val[pagerank_features]\n",
    "y_train = df_train.TX_FRAUD\n",
    "y_val = df_val.TX_FRAUD\n",
    "\n",
    "X_test = df_test[pagerank_features]\n",
    "y_test = df_test.TX_FRAUD\n",
    "\n",
    "dtrain = xgb.DMatrix(X_train, label=y_train)\n",
    "dval = xgb.DMatrix(X_val, label=y_val)\n",
    "dtest = xgb.DMatrix(X_test, label=y_test)"
   ]
  },
  {
   "cell_type": "code",
   "execution_count": 18,
   "id": "f1d4c0d0",
   "metadata": {},
   "outputs": [],
   "source": [
    "xgb_params = {\n",
    "    'eval_metric': ['auc','aucpr', 'logloss'],\n",
    "    'objective':'binary:logistic',\n",
    "    'n_estimators': 300,\n",
    "    'n_jobs':8,\n",
    "    'learning_rate':0.1,\n",
    "    'seed':42,\n",
    "    'colsample_bytree':0.6,\n",
    "    'colsample_bylevel':0.9,\n",
    "    'subsample':0.9\n",
    "}"
   ]
  },
  {
   "cell_type": "code",
   "execution_count": 19,
   "id": "c3ea7144",
   "metadata": {
    "scrolled": true
   },
   "outputs": [],
   "source": [
    "model = xgb.train(xgb_params, dtrain, num_boost_round=xgb_params['n_estimators'], evals=[(dval, 'val'), (dtrain, 'train')], early_stopping_rounds=int(xgb_params['n_estimators']/2))"
   ]
  },
  {
   "cell_type": "code",
   "execution_count": 27,
   "id": "20c0fe51",
   "metadata": {
    "lines_to_next_cell": 2
   },
   "outputs": [],
   "source": [
    "y_pred_proba = model.predict(dtest)"
   ]
  },
  {
   "cell_type": "markdown",
   "id": "ec7e43b2",
   "metadata": {},
   "source": [
    "## Evaluation"
   ]
  },
  {
   "cell_type": "code",
   "execution_count": 28,
   "id": "eb7631aa",
   "metadata": {},
   "outputs": [
    {
     "name": "stdout",
     "output_type": "stream",
     "text": [
      "Average Precision:  0.06\n"
     ]
    }
   ],
   "source": [
    "ap = average_precision_score(y_test, y_pred_proba)\n",
    "print(\"Average Precision: \", np.round(ap,2))"
   ]
  },
  {
   "cell_type": "code",
   "execution_count": 29,
   "id": "55835ec6",
   "metadata": {},
   "outputs": [
    {
     "data": {
      "image/png": "[encoded data removed]",
      "text/plain": [
       "<Figure size 432x288 with 1 Axes>"
      ]
     },
     "metadata": {
      "needs_background": "light"
     },
     "output_type": "display_data"
    }
   ],
   "source": [
    "fig = plot_ap(y_test, y_pred_proba)"
   ]
  },
  {
   "cell_type": "code",
   "execution_count": 30,
   "id": "c2debd1b",
   "metadata": {},
   "outputs": [
    {
     "name": "stdout",
     "output_type": "stream",
     "text": [
      "F1 Score:  0.0706\n"
     ]
    }
   ],
   "source": [
    "optimal_threshold, optimal_f1_score = get_optimal_f1_cutoff(y_test, y_pred_proba)\n",
    "print(\"F1 Score: \", np.round(optimal_f1_score, 4))"
   ]
  },
  {
   "cell_type": "code",
   "execution_count": 31,
   "id": "a24d75b3",
   "metadata": {},
   "outputs": [
    {
     "name": "stdout",
     "output_type": "stream",
     "text": [
      "Confusion Matrix: \n",
      " [[83475 14980]\n",
      " [  940   605]]\n"
     ]
    }
   ],
   "source": [
    "cm = get_confusion_matrix(y_test, y_pred_proba, optimal_threshold)\n",
    "print(\"Confusion Matrix: \\n\", cm)"
   ]
  },
  {
   "cell_type": "code",
   "execution_count": 32,
   "id": "3f794113",
   "metadata": {},
   "outputs": [],
   "source": [
    "from sklearn.metrics import roc_auc_score"
   ]
  },
  {
   "cell_type": "code",
   "execution_count": 33,
   "id": "114c759b",
   "metadata": {},
   "outputs": [
    {
     "data": {
      "text/plain": [
       "0.7178016865425187"
      ]
     },
     "execution_count": 33,
     "metadata": {},
     "output_type": "execute_result"
    }
   ],
   "source": [
    "roc_auc_score(y_test, y_pred_proba)"
   ]
  },
  {
   "cell_type": "code",
   "execution_count": null,
   "id": "36928829",
   "metadata": {},
   "outputs": [],
   "source": []
  }
 ],
 "metadata": {
  "jupytext": {
   "formats": "ipynb,py:light"
  },
  "kernelspec": {
   "display_name": "fucc_env",
   "language": "python",
   "name": "fucc_env"
  },
  "language_info": {
   "codemirror_mode": {
    "name": "ipython",
    "version": 3
   },
   "file_extension": ".py",
   "mimetype": "text/x-python",
   "name": "python",
   "nbconvert_exporter": "python",
   "pygments_lexer": "ipython3",
   "version": "3.6.10"
  },
  "toc": {
   "base_numbering": 1,
   "nav_menu": {},
   "number_sections": true,
   "sideBar": true,
   "skip_h1_title": false,
   "title_cell": "Table of Contents",
   "title_sidebar": "Contents",
   "toc_cell": false,
   "toc_position": {},
   "toc_section_display": true,
   "toc_window_display": false
  }
 },
 "nbformat": 4,
 "nbformat_minor": 5
}
