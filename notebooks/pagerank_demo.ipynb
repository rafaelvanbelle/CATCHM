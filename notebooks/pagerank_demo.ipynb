{
 "cells": [
  {
   "cell_type": "markdown",
   "metadata": {},
   "source": [
    "# Inductive Pagerank [DEMO]"
   ]
  },
  {
   "cell_type": "markdown",
   "metadata": {},
   "source": [
    "The Inductive Pagerank technique is based on the APATE technique by Van Vlasselaer et al. (2016).\n",
    "This technique is an important benchmark for network-based fraud detection. Hence, performance obtained in this notebook can be compared with performance of the CATCHM technique.\n",
    "\n",
    "Before running the demo, please download the demo dataset from Kaggle:\n",
    "https://www.kaggle.com/ranjeetshrivastav/fraud-detection-dataset\n"
   ]
  },
  {
   "cell_type": "code",
   "execution_count": 1,
   "metadata": {},
   "outputs": [],
   "source": [
    "import os\n",
    "import numpy as np\n",
    "import pandas as pd\n",
    "import networkx as nx\n",
    "import xgboost as xgb\n",
    "from fucc.metrics import plot_ap, get_optimal_f1_cutoff, get_confusion_matrix\n",
    "from sklearn.metrics import average_precision_score\n",
    "import logging\n",
    "logging.basicConfig(level=logging.INFO)"
   ]
  },
  {
   "cell_type": "code",
   "execution_count": 2,
   "metadata": {},
   "outputs": [],
   "source": [
    "from fucc.pagerank import get_pagerank_suspicion_scores, inductive_step, splitDataFrameIntoSmaller, postprocessing_historical_edges\n",
    "from fucc.utils import get_filename, export_suspicion_scores, import_suspicion_scores, multiprocessing\n",
    "from tqdm import tqdm\n",
    "from functools import partial\n",
    "import datetime\n",
    "import pickle"
   ]
  },
  {
   "cell_type": "code",
   "execution_count": 3,
   "metadata": {},
   "outputs": [],
   "source": [
    "# Parameters\n",
    "weighted = True\n",
    "lambdas = {'ST': 0.03, 'MT': 0.004, 'LT': 0.0001}\n",
    "chunksize = 5000\n",
    "# the 'workers' parameter is used for multi-processing.\n",
    "WORKERS = 12"
   ]
  },
  {
   "cell_type": "code",
   "execution_count": 4,
   "metadata": {},
   "outputs": [],
   "source": [
    "output_path = ''"
   ]
  },
  {
   "cell_type": "markdown",
   "metadata": {},
   "source": [
    "## Load Data"
   ]
  },
  {
   "cell_type": "code",
   "execution_count": 5,
   "metadata": {},
   "outputs": [],
   "source": [
    "### PATH TO DEMO DATA ###\n",
    "demo_data_path = './transactions/transactions.txt'"
   ]
  },
  {
   "cell_type": "code",
   "execution_count": 6,
   "metadata": {},
   "outputs": [],
   "source": [
    "df = pd.read_json(demo_data_path,  lines=True, convert_dates=[4])"
   ]
  },
  {
   "cell_type": "code",
   "execution_count": 7,
   "metadata": {},
   "outputs": [],
   "source": [
    "# Transform fourth column to datetime format\n",
    "df.iloc[:, 4] = pd.to_datetime(df.iloc[:, 4])"
   ]
  },
  {
   "cell_type": "code",
   "execution_count": 8,
   "metadata": {},
   "outputs": [],
   "source": [
    "# Sort dataframe by datetime\n",
    "df = df.sort_values('transactionDateTime')\n",
    "# Create a transaction ID\n",
    "df.loc[:, 'TX_ID'] = range(df.shape[0])"
   ]
  },
  {
   "cell_type": "code",
   "execution_count": 9,
   "metadata": {},
   "outputs": [],
   "source": [
    "# Rename columns to work with hard-coded feature names in our code\n",
    "df = df.rename(columns={\"merchantName\":\"TERM_MIDUID\", \"customerId\":\"CARD_PAN_ID\", \"isFraud\": \"TX_FRAUD\", \"transactionDateTime\":\"TX_DATETIME\"})"
   ]
  },
  {
   "cell_type": "code",
   "execution_count": 10,
   "metadata": {},
   "outputs": [],
   "source": [
    "# Split into train, validation and test set\n",
    "df_train = df.iloc[:320000]\n",
    "df_val = df.iloc[320000:400000]\n",
    "df_test = df.iloc[400000:500000]"
   ]
  },
  {
   "cell_type": "code",
   "execution_count": 11,
   "metadata": {},
   "outputs": [],
   "source": [
    "# The 'personalization_nodes' are confirmed fraud cases that pagerank will use to assign suspicion scores to each node in the transaction network.\n",
    "personalization_nodes = list(df_train.index)"
   ]
  },
  {
   "cell_type": "markdown",
   "metadata": {},
   "source": [
    "## Pagerank"
   ]
  },
  {
   "cell_type": "markdown",
   "metadata": {},
   "source": [
    "Pagerank is ran three times with different parameter values. \n",
    "- Short term\n",
    "- Mid term\n",
    "- Long term"
   ]
  },
  {
   "cell_type": "code",
   "execution_count": 12,
   "metadata": {},
   "outputs": [
    {
     "name": "stderr",
     "output_type": "stream",
     "text": [
      "INFO:root:Building network\n",
      "INFO:root:Calculating edge weights for ST\n",
      "INFO:root:Calculating some weights\n",
      "INFO:root:ok, ST\n",
      "INFO:root:Personalization\n",
      "INFO:root:Building graph ST\n",
      "INFO:root:Pagerank started\n"
     ]
    },
    {
     "name": "stdout",
     "output_type": "stream",
     "text": [
      "327266\n",
      "5350\n"
     ]
    },
    {
     "name": "stderr",
     "output_type": "stream",
     "text": [
      "INFO:root:Pagerank finished\n",
      "INFO:root:Building network\n",
      "INFO:root:Calculating edge weights for MT\n",
      "INFO:root:Calculating some weights\n",
      "INFO:root:ok, MT\n",
      "INFO:root:Personalization\n",
      "INFO:root:Building graph MT\n",
      "INFO:root:Pagerank started\n"
     ]
    },
    {
     "name": "stdout",
     "output_type": "stream",
     "text": [
      "327266\n",
      "5350\n"
     ]
    },
    {
     "name": "stderr",
     "output_type": "stream",
     "text": [
      "INFO:root:Pagerank finished\n",
      "INFO:root:Building network\n",
      "INFO:root:Calculating edge weights for LT\n",
      "INFO:root:Calculating some weights\n",
      "INFO:root:ok, LT\n",
      "INFO:root:Personalization\n",
      "INFO:root:Building graph LT\n",
      "INFO:root:Pagerank started\n"
     ]
    },
    {
     "name": "stdout",
     "output_type": "stream",
     "text": [
      "327266\n",
      "5350\n"
     ]
    },
    {
     "name": "stderr",
     "output_type": "stream",
     "text": [
      "INFO:root:Pagerank finished\n"
     ]
    },
    {
     "name": "stdout",
     "output_type": "stream",
     "text": [
      "CPU times: user 3min 28s, sys: 10.9 s, total: 3min 39s\n",
      "Wall time: 4min 11s\n"
     ]
    }
   ],
   "source": [
    "%%time\n",
    "\n",
    "dict_suspicion_scores = {}\n",
    "dict_G = {}\n",
    "\n",
    "for t, lambd in lambdas.items():\n",
    "    suspicion_scores, G = get_pagerank_suspicion_scores(\n",
    "                              df_train,\n",
    "                              t=t,\n",
    "                              lambd=lambd,\n",
    "                              alpha=0.85,\n",
    "                              n_jobs=WORKERS,\n",
    "                              personalization_nodes=personalization_nodes,\n",
    "                              weighted=weighted)\n",
    "\n",
    "\n",
    "    dict_suspicion_scores[t] = suspicion_scores\n",
    "    dict_G[t] = G"
   ]
  },
  {
   "cell_type": "code",
   "execution_count": 13,
   "metadata": {},
   "outputs": [
    {
     "name": "stderr",
     "output_type": "stream",
     "text": [
      "  0%|          | 0/41 [00:00<?, ?it/s]INFO:root:post processing started\n",
      "INFO:root:post processing started\n",
      "INFO:root:post processing started\n",
      "INFO:root:post processing started\n",
      "INFO:root:post processing started\n",
      "INFO:root:post processing started\n",
      "INFO:root:post processing started\n",
      "INFO:root:post processing started\n",
      "  2%|▏         | 1/41 [01:39<1:06:28, 99.71s/it]INFO:root:post processing started\n",
      "INFO:root:post processing started\n",
      " 15%|█▍        | 6/41 [01:49<41:04, 70.41s/it]  INFO:root:post processing started\n",
      "INFO:root:post processing started\n",
      "INFO:root:post processing started\n",
      "INFO:root:post processing started\n",
      "INFO:root:post processing started\n",
      "INFO:root:post processing started\n",
      " 22%|██▏       | 9/41 [02:58<29:57, 56.19s/it]INFO:root:post processing started\n",
      " 24%|██▍       | 10/41 [03:07<21:39, 41.92s/it]INFO:root:post processing started\n",
      " 29%|██▉       | 12/41 [03:16<14:48, 30.63s/it]INFO:root:post processing started\n",
      " 32%|███▏      | 13/41 [03:39<13:19, 28.55s/it]INFO:root:post processing started\n",
      " 39%|███▉      | 16/41 [03:49<08:44, 20.96s/it]INFO:root:post processing started\n",
      "INFO:root:post processing started\n",
      "INFO:root:post processing started\n",
      "INFO:root:post processing started\n",
      " 41%|████▏     | 17/41 [04:20<09:35, 23.97s/it]INFO:root:post processing started\n",
      "INFO:root:post processing started\n",
      " 44%|████▍     | 18/41 [05:07<11:49, 30.85s/it]INFO:root:post processing started\n",
      " 51%|█████     | 21/41 [05:25<07:47, 23.39s/it]INFO:root:post processing started\n",
      "INFO:root:post processing started\n",
      "INFO:root:post processing started\n",
      "INFO:root:post processing started\n",
      "INFO:root:post processing started\n",
      "INFO:root:post processing started\n",
      " 66%|██████▌   | 27/41 [06:36<03:44, 16.00s/it]INFO:root:post processing started\n",
      " 71%|███████   | 29/41 [06:47<02:04, 10.41s/it]INFO:root:post processing started\n",
      " 73%|███████▎  | 30/41 [06:57<01:52, 10.21s/it]INFO:root:post processing started\n",
      "INFO:root:post processing started\n",
      "INFO:root:post processing started\n",
      " 76%|███████▌  | 31/41 [07:08<01:45, 10.52s/it]INFO:root:post processing started\n",
      " 78%|███████▊  | 32/41 [07:19<01:33, 10.44s/it]INFO:root:post processing started\n",
      " 83%|████████▎ | 34/41 [07:54<01:31, 13.06s/it]INFO:root:post processing started\n",
      "100%|██████████| 41/41 [08:24<00:00, 12.30s/it]\n",
      "  0%|          | 0/41 [00:00<?, ?it/s]INFO:root:post processing started\n",
      "INFO:root:post processing started\n",
      "INFO:root:post processing started\n",
      "INFO:root:post processing started\n",
      "INFO:root:post processing started\n",
      "INFO:root:post processing started\n",
      "INFO:root:post processing started\n",
      "INFO:root:post processing started\n",
      " 15%|█▍        | 6/41 [01:38<18:24, 31.55s/it]INFO:root:post processing started\n",
      " 20%|█▉        | 8/41 [01:44<12:40, 23.06s/it]INFO:root:post processing started\n",
      "INFO:root:post processing started\n",
      "INFO:root:post processing started\n",
      "INFO:root:post processing started\n",
      "INFO:root:post processing started\n",
      "INFO:root:post processing started\n",
      "INFO:root:post processing started\n",
      " 32%|███▏      | 13/41 [03:00<08:45, 18.77s/it]INFO:root:post processing started\n",
      "INFO:root:post processing started\n",
      "INFO:root:post processing started\n",
      "INFO:root:post processing started\n",
      "INFO:root:post processing started\n",
      "INFO:root:post processing started\n",
      "INFO:root:post processing started\n",
      "INFO:root:post processing started\n",
      " 44%|████▍     | 18/41 [04:17<05:12, 13.58s/it]INFO:root:post processing started\n",
      " 51%|█████     | 21/41 [04:27<02:55,  8.78s/it]INFO:root:post processing started\n",
      "INFO:root:post processing started\n",
      "INFO:root:post processing started\n",
      "INFO:root:post processing started\n",
      "INFO:root:post processing started\n",
      "INFO:root:post processing started\n",
      "INFO:root:post processing started\n",
      " 63%|██████▎   | 26/41 [05:28<01:53,  7.54s/it]INFO:root:post processing started\n",
      " 66%|██████▌   | 27/41 [05:36<01:47,  7.66s/it]INFO:root:post processing started\n",
      "INFO:root:post processing started\n",
      " 68%|██████▊   | 28/41 [05:50<02:04,  9.61s/it]INFO:root:post processing started\n",
      "INFO:root:post processing started\n",
      "INFO:root:post processing started\n",
      "INFO:root:post processing started\n",
      "INFO:root:post processing started\n",
      " 83%|████████▎ | 34/41 [06:48<01:08,  9.74s/it]INFO:root:post processing started\n",
      "100%|██████████| 41/41 [06:59<00:00, 10.23s/it]\n",
      "  0%|          | 0/41 [00:00<?, ?it/s]INFO:root:post processing started\n",
      "INFO:root:post processing started\n",
      "INFO:root:post processing startedINFO:root:post processing started\n",
      "\n",
      "INFO:root:post processing started\n",
      "INFO:root:post processing started\n",
      "INFO:root:post processing started\n",
      "INFO:root:post processing started\n",
      " 15%|█▍        | 6/41 [01:18<21:38, 37.11s/it]INFO:root:post processing started\n",
      "INFO:root:post processing started\n",
      "INFO:root:post processing started\n",
      "INFO:root:post processing started\n",
      "INFO:root:post processing started\n",
      "INFO:root:post processing started\n",
      "INFO:root:post processing started\n",
      "INFO:root:post processing started\n",
      " 22%|██▏       | 9/41 [02:30<17:39, 33.11s/it]INFO:root:post processing started\n",
      " 39%|███▉      | 16/41 [02:42<07:36, 18.27s/it]INFO:root:post processing started\n",
      "INFO:root:post processing started\n",
      "INFO:root:post processing started\n",
      "INFO:root:post processing started\n",
      "INFO:root:post processing started\n",
      "INFO:root:post processing started\n",
      "INFO:root:post processing started\n",
      "INFO:root:post processing started\n",
      " 54%|█████▎    | 22/41 [05:15<08:27, 26.70s/it]INFO:root:post processing started\n",
      "INFO:root:post processing started\n",
      "INFO:root:post processing started\n",
      "INFO:root:post processing started\n",
      "INFO:root:post processing started\n",
      " 61%|██████    | 25/41 [06:20<06:44, 25.26s/it]INFO:root:post processing started\n",
      " 63%|██████▎   | 26/41 [06:37<05:40, 22.68s/it]INFO:root:post processing started\n",
      "INFO:root:post processing started\n",
      " 68%|██████▊   | 28/41 [06:54<03:20, 15.42s/it]INFO:root:post processing started\n",
      " 71%|███████   | 29/41 [07:08<03:02, 15.25s/it]INFO:root:post processing started\n",
      "INFO:root:post processing started\n",
      " 73%|███████▎  | 30/41 [07:23<02:43, 14.89s/it]INFO:root:post processing started\n",
      "INFO:root:post processing started\n",
      " 80%|████████  | 33/41 [08:12<02:04, 15.53s/it]INFO:root:post processing started\n",
      "INFO:root:post processing started\n",
      " 85%|████████▌ | 35/41 [08:29<01:10, 11.80s/it]INFO:root:post processing started\n",
      "100%|██████████| 41/41 [09:07<00:00, 13.36s/it]\n"
     ]
    },
    {
     "name": "stdout",
     "output_type": "stream",
     "text": [
      "CPU times: user 3min 27s, sys: 3min 21s, total: 6min 48s\n",
      "Wall time: 24min 50s\n"
     ]
    }
   ],
   "source": [
    "%%time\n",
    "## Get suspicion scores for the validation part of the training data\n",
    "data = df_val.set_index('TX_ID')\n",
    "data = data.loc[:, ['CARD_PAN_ID', 'TERM_MIDUID']]\n",
    "\n",
    "# We only need these columns from historical data\n",
    "historical_data = df_train.set_index('TX_ID')\n",
    "historical_data = historical_data.loc[:, ['CARD_PAN_ID', 'TERM_MIDUID']]\n",
    "\n",
    "# Inductive val set processing\n",
    "\n",
    "dict_results = {}\n",
    "for t,lamb in lambdas.items():\n",
    "\n",
    "    suspicion_scores, G = dict_suspicion_scores[t], dict_G[t]\n",
    "\n",
    "    # split df in smaller chunks\n",
    "    chunks = splitDataFrameIntoSmaller(data, chunkSize=2000)\n",
    "    partial_inductive_step = partial(inductive_step, historical_edges=historical_data, suspicion_scores=suspicion_scores, G=G, t=t)\n",
    "\n",
    "    result = multiprocessing(function=partial_inductive_step, chunks=chunks)\n",
    "    #f#ilename = get_filename(filename_elements=[subset_name, t])\n",
    "    \n",
    "    dict_results[t] = result\n",
    "    #result.to_csv(os.path.join(output_path, filename + '_output_val.csv'))\n",
    "\n",
    "df_val_pagerank = df_val.copy()\n",
    "for t, lamb in lambdas.items():\n",
    "    #filename = get_filename(filename_elements=[subset_name, t])\n",
    "    df_pagerank = dict_results[t]\n",
    "    #df_pagerank = df_pagerank.set_index('TX_ID')\n",
    "    df_pagerank = df_pagerank.filter(regex='SC_*')\n",
    "    df_val_pagerank = df_val_pagerank.merge(df_pagerank, left_on='TX_ID', right_index=True) \n",
    "\n",
    "#filename = get_filename(filename_elements=[subset_name])\n",
    "#df_val_pagerank.to_csv(os.path.join(output_path, subset_name + '_val_pagerank_inductive.csv'))"
   ]
  },
  {
   "cell_type": "code",
   "execution_count": 14,
   "metadata": {
    "lines_to_next_cell": 2
   },
   "outputs": [
    {
     "name": "stderr",
     "output_type": "stream",
     "text": [
      "  0%|          | 0/51 [00:00<?, ?it/s]INFO:root:post processing started\n",
      "INFO:root:post processing started\n",
      "INFO:root:post processing started\n",
      "INFO:root:post processing started\n",
      "INFO:root:post processing started\n",
      "INFO:root:post processing started\n",
      "INFO:root:post processing started\n",
      "INFO:root:post processing started\n",
      "  4%|▍         | 2/51 [02:32<1:18:02, 95.57s/it] INFO:root:post processing started\n",
      " 12%|█▏        | 6/51 [03:11<38:47, 51.73s/it]  INFO:root:post processing started\n",
      "INFO:root:post processing started\n",
      " 16%|█▌        | 8/51 [03:35<28:28, 39.74s/it]INFO:root:post processing started\n",
      "INFO:root:post processing started\n",
      " 18%|█▊        | 9/51 [04:08<26:25, 37.74s/it]INFO:root:post processing started\n",
      " 20%|█▉        | 10/51 [04:24<21:20, 31.24s/it]INFO:root:post processing started\n",
      " 22%|██▏       | 11/51 [04:38<17:26, 26.16s/it]INFO:root:post processing started\n",
      " 24%|██▎       | 12/51 [04:56<15:17, 23.52s/it]INFO:root:post processing started\n",
      " 25%|██▌       | 13/51 [05:12<13:36, 21.50s/it]INFO:root:post processing started\n",
      "INFO:root:post processing started\n",
      "INFO:root:post processing started\n",
      "INFO:root:post processing started\n",
      " 27%|██▋       | 14/51 [05:27<11:58, 19.43s/it]INFO:root:post processing started\n",
      " 29%|██▉       | 15/51 [05:34<09:24, 15.68s/it]INFO:root:post processing started\n",
      " 31%|███▏      | 16/51 [05:50<09:08, 15.66s/it]INFO:root:post processing started\n",
      " 33%|███▎      | 17/51 [06:02<08:18, 14.67s/it]INFO:root:post processing started\n",
      " 37%|███▋      | 19/51 [06:16<05:34, 10.46s/it]INFO:root:post processing started\n",
      " 41%|████      | 21/51 [06:19<03:50,  7.68s/it]INFO:root:post processing started\n",
      "INFO:root:post processing started\n",
      "INFO:root:post processing started\n",
      " 43%|████▎     | 22/51 [06:29<04:07,  8.53s/it]INFO:root:post processing started\n",
      " 45%|████▌     | 23/51 [06:36<03:40,  7.87s/it]INFO:root:post processing started\n",
      " 47%|████▋     | 24/51 [06:51<04:31, 10.07s/it]INFO:root:post processing started\n",
      " 49%|████▉     | 25/51 [07:00<04:12,  9.70s/it]INFO:root:post processing started\n",
      " 55%|█████▍    | 28/51 [07:16<02:25,  6.33s/it]INFO:root:post processing started\n",
      "INFO:root:post processing started\n",
      " 57%|█████▋    | 29/51 [07:18<01:53,  5.16s/it]INFO:root:post processing started\n",
      "INFO:root:post processing started\n",
      " 59%|█████▉    | 30/51 [07:26<02:04,  5.94s/it]INFO:root:post processing started\n",
      " 61%|██████    | 31/51 [07:32<02:00,  6.03s/it]INFO:root:post processing started\n",
      " 63%|██████▎   | 32/51 [07:48<02:47,  8.83s/it]INFO:root:post processing started\n",
      " 65%|██████▍   | 33/51 [07:58<02:45,  9.21s/it]INFO:root:post processing started\n",
      " 69%|██████▊   | 35/51 [08:11<02:00,  7.56s/it]INFO:root:post processing started\n",
      " 71%|███████   | 36/51 [08:14<01:30,  6.03s/it]INFO:root:post processing started\n",
      " 73%|███████▎  | 37/51 [08:17<01:09,  4.97s/it]INFO:root:post processing started\n",
      "INFO:root:post processing started\n",
      " 75%|███████▍  | 38/51 [08:25<01:17,  5.96s/it]INFO:root:post processing started\n",
      " 76%|███████▋  | 39/51 [08:31<01:11,  5.95s/it]INFO:root:post processing started\n",
      " 78%|███████▊  | 40/51 [08:47<01:38,  8.99s/it]INFO:root:post processing started\n",
      " 80%|████████  | 41/51 [08:55<01:28,  8.88s/it]INFO:root:post processing started\n",
      " 86%|████████▋ | 44/51 [09:12<00:41,  5.87s/it]INFO:root:post processing started\n",
      " 88%|████████▊ | 45/51 [09:13<00:27,  4.65s/it]INFO:root:post processing started\n",
      "100%|██████████| 51/51 [09:46<00:00, 11.50s/it]\n",
      "  0%|          | 0/51 [00:00<?, ?it/s]INFO:root:post processing started\n",
      "INFO:root:post processing started\n",
      "INFO:root:post processing started\n",
      "INFO:root:post processing started\n",
      "INFO:root:post processing started\n",
      "INFO:root:post processing started\n",
      "INFO:root:post processing started\n",
      "INFO:root:post processing started\n",
      "  6%|▌         | 3/51 [00:59<32:27, 40.58s/it]INFO:root:post processing started\n",
      "  8%|▊         | 4/51 [01:01<22:39, 28.92s/it]INFO:root:post processing started\n",
      " 10%|▉         | 5/51 [01:03<15:55, 20.76s/it]INFO:root:post processing started\n",
      " 12%|█▏        | 6/51 [01:05<11:18, 15.08s/it]INFO:root:post processing started\n",
      " 14%|█▎        | 7/51 [01:06<08:06, 11.06s/it]INFO:root:post processing started\n",
      " 16%|█▌        | 8/51 [01:08<05:56,  8.29s/it]INFO:root:post processing started\n",
      "INFO:root:post processing started\n",
      "INFO:root:post processing started\n",
      " 20%|█▉        | 10/51 [01:55<09:37, 14.10s/it]INFO:root:post processing started\n",
      " 25%|██▌       | 13/51 [01:59<03:40,  5.81s/it]INFO:root:post processing started\n",
      "INFO:root:post processing started\n",
      "INFO:root:post processing started\n",
      " 27%|██▋       | 14/51 [02:03<03:07,  5.07s/it]INFO:root:post processing started\n",
      " 29%|██▉       | 15/51 [02:05<02:31,  4.21s/it]INFO:root:post processing started\n",
      "INFO:root:post processing started\n",
      "INFO:root:post processing started\n",
      " 35%|███▌      | 18/51 [02:53<04:08,  7.54s/it]INFO:root:post processing started\n",
      " 37%|███▋      | 19/51 [02:55<03:12,  6.01s/it]INFO:root:post processing started\n",
      " 39%|███▉      | 20/51 [02:58<02:31,  4.88s/it]INFO:root:post processing started\n",
      " 41%|████      | 21/51 [03:00<02:01,  4.05s/it]INFO:root:post processing started\n",
      " 45%|████▌     | 23/51 [03:02<01:11,  2.55s/it]INFO:root:post processing started\n",
      "INFO:root:post processing started\n",
      " 47%|████▋     | 24/51 [03:06<01:15,  2.79s/it]INFO:root:post processing started\n",
      "INFO:root:post processing started\n",
      " 49%|████▉     | 25/51 [03:47<06:11, 14.27s/it]INFO:root:post processing started\n",
      " 53%|█████▎    | 27/51 [03:51<03:10,  7.92s/it]INFO:root:post processing started\n",
      " 55%|█████▍    | 28/51 [03:54<02:30,  6.56s/it]INFO:root:post processing started\n",
      " 57%|█████▋    | 29/51 [03:56<01:55,  5.23s/it]INFO:root:post processing started\n",
      " 59%|█████▉    | 30/51 [03:58<01:27,  4.16s/it]INFO:root:post processing started\n",
      " 61%|██████    | 31/51 [04:00<01:13,  3.66s/it]INFO:root:post processing started\n",
      " 63%|██████▎   | 32/51 [04:03<01:01,  3.26s/it]INFO:root:post processing started\n",
      "INFO:root:post processing started\n",
      " 65%|██████▍   | 33/51 [04:46<04:34, 15.24s/it]INFO:root:post processing started\n",
      " 71%|███████   | 36/51 [04:52<01:34,  6.28s/it]INFO:root:post processing started\n",
      "INFO:root:post processing started\n",
      " 75%|███████▍  | 38/51 [04:58<01:00,  4.65s/it]INFO:root:post processing started\n",
      "INFO:root:post processing started\n",
      " 76%|███████▋  | 39/51 [05:00<00:47,  3.95s/it]INFO:root:post processing started\n",
      " 78%|███████▊  | 40/51 [05:02<00:37,  3.39s/it]INFO:root:post processing started\n",
      "INFO:root:post processing started\n",
      " 82%|████████▏ | 42/51 [05:44<01:36, 10.69s/it]INFO:root:post processing started\n",
      " 84%|████████▍ | 43/51 [05:47<01:07,  8.42s/it]INFO:root:post processing started\n",
      " 88%|████████▊ | 45/51 [05:50<00:28,  4.78s/it]INFO:root:post processing started\n",
      "100%|██████████| 51/51 [06:23<00:00,  7.52s/it]\n",
      "  0%|          | 0/51 [00:00<?, ?it/s]INFO:root:post processing startedINFO:root:post processing started\n",
      "\n",
      "INFO:root:post processing started\n",
      "INFO:root:post processing started\n",
      "INFO:root:post processing started\n",
      "INFO:root:post processing started\n",
      "INFO:root:post processing started\n",
      "INFO:root:post processing started\n",
      "  6%|▌         | 3/51 [00:58<22:24, 28.02s/it]INFO:root:post processing started\n",
      "  8%|▊         | 4/51 [00:59<15:44, 20.09s/it]INFO:root:post processing started\n",
      " 10%|▉         | 5/51 [01:01<11:07, 14.51s/it]INFO:root:post processing started\n",
      " 12%|█▏        | 6/51 [01:02<08:01, 10.71s/it]INFO:root:post processing started\n",
      " 14%|█▎        | 7/51 [01:04<05:50,  7.96s/it]INFO:root:post processing started\n",
      " 16%|█▌        | 8/51 [01:06<04:20,  6.06s/it]INFO:root:post processing started\n",
      "INFO:root:post processing started\n",
      "INFO:root:post processing started\n",
      " 20%|█▉        | 10/51 [01:50<08:31, 12.48s/it]INFO:root:post processing started\n",
      " 22%|██▏       | 11/51 [01:52<06:15,  9.40s/it]INFO:root:post processing started\n",
      " 25%|██▌       | 13/51 [01:55<03:16,  5.17s/it]INFO:root:post processing started\n",
      " 27%|██▋       | 14/51 [01:56<02:33,  4.15s/it]INFO:root:post processing started\n",
      "INFO:root:post processing started\n",
      " 31%|███▏      | 16/51 [02:00<01:38,  2.81s/it]INFO:root:post processing started\n",
      "INFO:root:post processing started\n",
      "INFO:root:post processing started\n",
      " 35%|███▌      | 18/51 [02:46<06:09, 11.20s/it]INFO:root:post processing started\n",
      " 37%|███▋      | 19/51 [02:49<04:37,  8.67s/it]INFO:root:post processing started\n"
     ]
    },
    {
     "name": "stderr",
     "output_type": "stream",
     "text": [
      " 39%|███▉      | 20/51 [02:51<03:29,  6.77s/it]INFO:root:post processing started\n",
      " 43%|████▎     | 22/51 [02:53<01:52,  3.87s/it]INFO:root:post processing started\n",
      "INFO:root:post processing started\n",
      " 45%|████▌     | 23/51 [02:57<01:43,  3.71s/it]INFO:root:post processing started\n",
      " 47%|████▋     | 24/51 [02:59<01:26,  3.20s/it]INFO:root:post processing started\n",
      "INFO:root:post processing started\n",
      " 49%|████▉     | 25/51 [03:39<06:15, 14.46s/it]INFO:root:post processing started\n",
      " 51%|█████     | 26/51 [03:42<04:30, 10.82s/it]INFO:root:post processing started\n",
      " 55%|█████▍    | 28/51 [03:46<02:24,  6.29s/it]INFO:root:post processing started\n",
      " 57%|█████▋    | 29/51 [03:48<01:51,  5.05s/it]INFO:root:post processing started\n",
      " 59%|█████▉    | 30/51 [03:50<01:27,  4.17s/it]INFO:root:post processing started\n",
      " 63%|██████▎   | 32/51 [03:53<00:51,  2.68s/it]INFO:root:post processing started\n",
      "INFO:root:post processing started\n",
      "INFO:root:post processing started\n",
      " 67%|██████▋   | 34/51 [04:38<03:07, 11.03s/it]INFO:root:post processing started\n",
      " 69%|██████▊   | 35/51 [04:40<02:14,  8.40s/it]INFO:root:post processing started\n",
      " 71%|███████   | 36/51 [04:43<01:39,  6.65s/it]INFO:root:post processing started\n",
      " 73%|███████▎  | 37/51 [04:45<01:14,  5.35s/it]INFO:root:post processing started\n",
      " 75%|███████▍  | 38/51 [04:47<00:57,  4.42s/it]INFO:root:post processing started\n",
      " 76%|███████▋  | 39/51 [04:50<00:45,  3.77s/it]INFO:root:post processing started\n",
      " 78%|███████▊  | 40/51 [04:52<00:35,  3.26s/it]INFO:root:post processing started\n",
      "INFO:root:post processing started\n",
      " 82%|████████▏ | 42/51 [05:33<01:33, 10.44s/it]INFO:root:post processing started\n",
      "INFO:root:post processing started\n",
      " 86%|████████▋ | 44/51 [05:38<00:44,  6.30s/it]INFO:root:post processing started\n",
      "100%|██████████| 51/51 [06:13<00:00,  7.32s/it]\n"
     ]
    },
    {
     "name": "stdout",
     "output_type": "stream",
     "text": [
      "CPU times: user 3min 57s, sys: 2min 28s, total: 6min 26s\n",
      "Wall time: 22min 47s\n"
     ]
    }
   ],
   "source": [
    "%%time\n",
    "# We only need these columns from data\n",
    "data = df_test.set_index('TX_ID')\n",
    "data = data.loc[:, ['CARD_PAN_ID', 'TERM_MIDUID']]\n",
    "\n",
    "# We only need these columns from historical data\n",
    "historical_data = df_train.set_index('TX_ID')\n",
    "historical_data = historical_data.loc[:, ['CARD_PAN_ID', 'TERM_MIDUID']]\n",
    "\n",
    "# Inductive test set processing\n",
    "\n",
    "dict_results = {}\n",
    "for t,lamb in lambdas.items():\n",
    "\n",
    "    suspicion_scores, G = dict_suspicion_scores[t], dict_G[t]\n",
    "\n",
    "\n",
    "    # split df in smaller chunks\n",
    "    chunks = splitDataFrameIntoSmaller(data, chunkSize=2000)\n",
    "    partial_inductive_step = partial(inductive_step, historical_edges=historical_data, suspicion_scores=suspicion_scores, G=G, t=t)\n",
    "\n",
    "    result = multiprocessing(function=partial_inductive_step, chunks=chunks)\n",
    "    dict_results[t] = result\n",
    "\n",
    "\n",
    "df_test_pagerank = df_test.copy()\n",
    "for t, lamb in lambdas.items():\n",
    "    \n",
    "    df_pagerank =  dict_results[t] \n",
    "    df_pagerank = df_pagerank.filter(regex='SC_*')\n",
    "    df_test_pagerank = df_test_pagerank.merge(df_pagerank, left_on='TX_ID', right_index=True)\n"
   ]
  },
  {
   "cell_type": "code",
   "execution_count": 15,
   "metadata": {
    "lines_to_end_of_cell_marker": 2
   },
   "outputs": [
    {
     "name": "stdout",
     "output_type": "stream",
     "text": [
      "ST\n"
     ]
    },
    {
     "name": "stderr",
     "output_type": "stream",
     "text": [
      "100%|██████████| 65/65 [01:55<00:00,  1.77s/it]\n"
     ]
    },
    {
     "name": "stdout",
     "output_type": "stream",
     "text": [
      "MT\n"
     ]
    },
    {
     "name": "stderr",
     "output_type": "stream",
     "text": [
      "100%|██████████| 65/65 [02:10<00:00,  2.01s/it]\n"
     ]
    },
    {
     "name": "stdout",
     "output_type": "stream",
     "text": [
      "LT\n"
     ]
    },
    {
     "name": "stderr",
     "output_type": "stream",
     "text": [
      "100%|██████████| 65/65 [02:10<00:00,  2.00s/it]\n"
     ]
    },
    {
     "name": "stdout",
     "output_type": "stream",
     "text": [
      "CPU times: user 12.3 s, sys: 5.49 s, total: 17.8 s\n",
      "Wall time: 6min 21s\n"
     ]
    }
   ],
   "source": [
    "%%time\n",
    "# We only need these columns from data\n",
    "data = df_test.set_index('TX_ID')\n",
    "data = data.loc[:, ['CARD_PAN_ID', 'TERM_MIDUID']]\n",
    "\n",
    "# We only need these columns from historical data\n",
    "historical_data = df_train.set_index('TX_ID')\n",
    "historical_data = historical_data.loc[:, ['CARD_PAN_ID', 'TERM_MIDUID']]\n",
    "\n",
    "\n",
    "# transductive train set processing\n",
    "dict_results = {}\n",
    "for t, lamb in lambdas.items():\n",
    "    print(t)\n",
    "    suspicion_scores, G = dict_suspicion_scores[t], dict_G[t]\n",
    "\n",
    "\n",
    "    #Split historical dataset into smaller chunks\n",
    "    chunks = splitDataFrameIntoSmaller(historical_data, chunkSize=5000)\n",
    "    partial_postprocessing_historical_edges = partial(postprocessing_historical_edges, suspicion_scores=suspicion_scores, t=t)\n",
    "    #partial_inductive_step = partial(inductive_step, historical_edges=historical_data, suspicion_scores=suspicion_scores, G=G, t=t)\n",
    "    \n",
    "    result = multiprocessing(function=partial_postprocessing_historical_edges, chunks=chunks)\n",
    "    dict_results[t] = result\n",
    "\n",
    "df_train_pagerank = df_train.copy()\n",
    "# Load and join ST, MT, LT data for df_train and df_train\n",
    "for t, lamb in lambdas.items():\n",
    "    df_pagerank = dict_results[t]\n",
    "    df_pagerank = df_pagerank.filter(regex='SC_*')\n",
    "    df_train_pagerank = df_train_pagerank.merge(df_pagerank, left_on='TX_ID', right_index=True)"
   ]
  },
  {
   "cell_type": "markdown",
   "metadata": {},
   "source": [
    "## XGBoost Classifier"
   ]
  },
  {
   "cell_type": "code",
   "execution_count": 16,
   "metadata": {},
   "outputs": [],
   "source": [
    "df_train = df_train_pagerank\n",
    "df_val = df_val_pagerank\n",
    "df_test = df_test_pagerank"
   ]
  },
  {
   "cell_type": "code",
   "execution_count": 17,
   "metadata": {},
   "outputs": [],
   "source": [
    "pagerank_features = list(df_train.filter(regex='SC').columns)"
   ]
  },
  {
   "cell_type": "code",
   "execution_count": 18,
   "metadata": {},
   "outputs": [],
   "source": [
    "X_train = df_train[pagerank_features]\n",
    "X_val = df_val[pagerank_features]\n",
    "y_train = df_train.TX_FRAUD\n",
    "y_val = df_val.TX_FRAUD\n",
    "\n",
    "X_test = df_test[pagerank_features]\n",
    "y_test = df_test.TX_FRAUD\n",
    "\n",
    "dtrain = xgb.DMatrix(X_train, label=y_train)\n",
    "dval = xgb.DMatrix(X_val, label=y_val)\n",
    "dtest = xgb.DMatrix(X_test, label=y_test)"
   ]
  },
  {
   "cell_type": "code",
   "execution_count": 19,
   "metadata": {},
   "outputs": [],
   "source": [
    "xgb_params = {\n",
    "    'eval_metric': ['auc','aucpr', 'logloss'],\n",
    "    'objective':'binary:logistic',\n",
    "    'n_estimators': 300,\n",
    "    'n_jobs':8,\n",
    "    'learning_rate':0.1,\n",
    "    'seed':42,\n",
    "    'colsample_bytree':0.6,\n",
    "    'colsample_bylevel':0.9,\n",
    "    'subsample':0.9\n",
    "}"
   ]
  },
  {
   "cell_type": "code",
   "execution_count": 20,
   "metadata": {
    "scrolled": true
   },
   "outputs": [
    {
     "name": "stdout",
     "output_type": "stream",
     "text": [
      "[13:02:01] WARNING: /Users/runner/miniforge3/conda-bld/xgboost_1593723618214/work/src/learner.cc:480: \n",
      "Parameters: { n_estimators } might not be used.\n",
      "\n",
      "  This may not be accurate due to some parameters are only used in language bindings but\n",
      "  passed down to XGBoost core.  Or some parameters are not used but slip through this\n",
      "  verification. Please open an issue if you find above cases.\n",
      "\n",
      "\n",
      "[0]\tval-auc:0.68548\tval-aucpr:0.06875\tval-logloss:0.60422\ttrain-auc:0.75759\ttrain-aucpr:0.18928\ttrain-logloss:0.60348\n",
      "Multiple eval metrics have been passed: 'train-logloss' will be used for early stopping.\n",
      "\n",
      "Will train until train-logloss hasn't improved in 150 rounds.\n",
      "[1]\tval-auc:0.70612\tval-aucpr:0.10293\tval-logloss:0.53334\ttrain-auc:0.76711\ttrain-aucpr:0.24243\ttrain-logloss:0.53062\n",
      "[2]\tval-auc:0.71811\tval-aucpr:0.11471\tval-logloss:0.47251\ttrain-auc:0.77107\ttrain-aucpr:0.25921\ttrain-logloss:0.46990\n",
      "[3]\tval-auc:0.70730\tval-aucpr:0.11572\tval-logloss:0.42155\ttrain-auc:0.78992\ttrain-aucpr:0.30336\ttrain-logloss:0.41788\n",
      "[4]\tval-auc:0.69351\tval-aucpr:0.11494\tval-logloss:0.37827\ttrain-auc:0.80442\ttrain-aucpr:0.31688\ttrain-logloss:0.37358\n",
      "[5]\tval-auc:0.71502\tval-aucpr:0.12237\tval-logloss:0.34043\ttrain-auc:0.79864\ttrain-aucpr:0.32410\ttrain-logloss:0.33621\n",
      "[6]\tval-auc:0.72162\tval-aucpr:0.12417\tval-logloss:0.30762\ttrain-auc:0.79320\ttrain-aucpr:0.32747\ttrain-logloss:0.30386\n",
      "[7]\tval-auc:0.71444\tval-aucpr:0.12369\tval-logloss:0.27909\ttrain-auc:0.80270\ttrain-aucpr:0.33052\ttrain-logloss:0.27530\n",
      "[8]\tval-auc:0.70676\tval-aucpr:0.13099\tval-logloss:0.25432\ttrain-auc:0.82369\ttrain-aucpr:0.35201\ttrain-logloss:0.25009\n",
      "[9]\tval-auc:0.71588\tval-aucpr:0.12907\tval-logloss:0.23411\ttrain-auc:0.82154\ttrain-aucpr:0.34993\ttrain-logloss:0.22846\n",
      "[10]\tval-auc:0.72562\tval-aucpr:0.14479\tval-logloss:0.21484\ttrain-auc:0.82010\ttrain-aucpr:0.35357\ttrain-logloss:0.20965\n",
      "[11]\tval-auc:0.72195\tval-aucpr:0.14384\tval-logloss:0.20113\ttrain-auc:0.81931\ttrain-aucpr:0.35140\ttrain-logloss:0.19296\n",
      "[12]\tval-auc:0.72310\tval-aucpr:0.14334\tval-logloss:0.18729\ttrain-auc:0.81776\ttrain-aucpr:0.34871\ttrain-logloss:0.17823\n",
      "[13]\tval-auc:0.72330\tval-aucpr:0.14129\tval-logloss:0.17450\ttrain-auc:0.81719\ttrain-aucpr:0.34809\ttrain-logloss:0.16543\n",
      "[14]\tval-auc:0.72543\tval-aucpr:0.14409\tval-logloss:0.16245\ttrain-auc:0.81592\ttrain-aucpr:0.34955\ttrain-logloss:0.15403\n",
      "[15]\tval-auc:0.71753\tval-aucpr:0.14227\tval-logloss:0.15502\ttrain-auc:0.81654\ttrain-aucpr:0.34687\ttrain-logloss:0.14385\n",
      "[16]\tval-auc:0.71684\tval-aucpr:0.14117\tval-logloss:0.14606\ttrain-auc:0.81379\ttrain-aucpr:0.34809\ttrain-logloss:0.13495\n",
      "[17]\tval-auc:0.71796\tval-aucpr:0.14332\tval-logloss:0.13744\ttrain-auc:0.81223\ttrain-aucpr:0.35096\ttrain-logloss:0.12710\n",
      "[18]\tval-auc:0.71851\tval-aucpr:0.14506\tval-logloss:0.13031\ttrain-auc:0.81700\ttrain-aucpr:0.36128\ttrain-logloss:0.11939\n",
      "[19]\tval-auc:0.71475\tval-aucpr:0.14417\tval-logloss:0.12604\ttrain-auc:0.81834\ttrain-aucpr:0.35971\ttrain-logloss:0.11310\n",
      "[20]\tval-auc:0.71681\tval-aucpr:0.14981\tval-logloss:0.11952\ttrain-auc:0.81879\ttrain-aucpr:0.36746\ttrain-logloss:0.10746\n",
      "[21]\tval-auc:0.71779\tval-aucpr:0.15156\tval-logloss:0.11400\ttrain-auc:0.81723\ttrain-aucpr:0.36778\ttrain-logloss:0.10269\n",
      "[22]\tval-auc:0.71897\tval-aucpr:0.15237\tval-logloss:0.10970\ttrain-auc:0.82382\ttrain-aucpr:0.37374\ttrain-logloss:0.09767\n",
      "[23]\tval-auc:0.71805\tval-aucpr:0.15219\tval-logloss:0.10612\ttrain-auc:0.82510\ttrain-aucpr:0.37201\ttrain-logloss:0.09370\n",
      "[24]\tval-auc:0.71524\tval-aucpr:0.15124\tval-logloss:0.10463\ttrain-auc:0.82478\ttrain-aucpr:0.37100\ttrain-logloss:0.09021\n",
      "[25]\tval-auc:0.71936\tval-aucpr:0.15588\tval-logloss:0.10096\ttrain-auc:0.82378\ttrain-aucpr:0.37383\ttrain-logloss:0.08717\n",
      "[26]\tval-auc:0.72226\tval-aucpr:0.15686\tval-logloss:0.09771\ttrain-auc:0.82283\ttrain-aucpr:0.37454\ttrain-logloss:0.08461\n",
      "[27]\tval-auc:0.72328\tval-aucpr:0.15328\tval-logloss:0.09463\ttrain-auc:0.82312\ttrain-aucpr:0.37684\ttrain-logloss:0.08234\n",
      "[28]\tval-auc:0.72144\tval-aucpr:0.15686\tval-logloss:0.09254\ttrain-auc:0.82784\ttrain-aucpr:0.38122\ttrain-logloss:0.07969\n",
      "[29]\tval-auc:0.72180\tval-aucpr:0.15705\tval-logloss:0.09031\ttrain-auc:0.82730\ttrain-aucpr:0.38260\ttrain-logloss:0.07785\n",
      "[30]\tval-auc:0.72033\tval-aucpr:0.15633\tval-logloss:0.08894\ttrain-auc:0.82811\ttrain-aucpr:0.38226\ttrain-logloss:0.07611\n",
      "[31]\tval-auc:0.71610\tval-aucpr:0.15557\tval-logloss:0.08819\ttrain-auc:0.82908\ttrain-aucpr:0.38083\ttrain-logloss:0.07459\n",
      "[32]\tval-auc:0.71306\tval-aucpr:0.15525\tval-logloss:0.08753\ttrain-auc:0.83035\ttrain-aucpr:0.37939\ttrain-logloss:0.07323\n",
      "[33]\tval-auc:0.70987\tval-aucpr:0.15548\tval-logloss:0.08694\ttrain-auc:0.83313\ttrain-aucpr:0.38276\ttrain-logloss:0.07159\n",
      "[34]\tval-auc:0.71137\tval-aucpr:0.15857\tval-logloss:0.08566\ttrain-auc:0.83381\ttrain-aucpr:0.38410\ttrain-logloss:0.07054\n",
      "[35]\tval-auc:0.71171\tval-aucpr:0.15837\tval-logloss:0.08580\ttrain-auc:0.83413\ttrain-aucpr:0.38327\ttrain-logloss:0.06956\n",
      "[36]\tval-auc:0.71117\tval-aucpr:0.15781\tval-logloss:0.08628\ttrain-auc:0.83343\ttrain-aucpr:0.38252\ttrain-logloss:0.06871\n",
      "[37]\tval-auc:0.70968\tval-aucpr:0.15828\tval-logloss:0.08604\ttrain-auc:0.83561\ttrain-aucpr:0.38438\ttrain-logloss:0.06755\n",
      "[38]\tval-auc:0.71391\tval-aucpr:0.16008\tval-logloss:0.08516\ttrain-auc:0.83659\ttrain-aucpr:0.38575\ttrain-logloss:0.06693\n",
      "[39]\tval-auc:0.71164\tval-aucpr:0.16029\tval-logloss:0.08522\ttrain-auc:0.83804\ttrain-aucpr:0.38769\ttrain-logloss:0.06597\n",
      "[40]\tval-auc:0.71410\tval-aucpr:0.16031\tval-logloss:0.08572\ttrain-auc:0.83810\ttrain-aucpr:0.38695\ttrain-logloss:0.06543\n",
      "[41]\tval-auc:0.71143\tval-aucpr:0.16008\tval-logloss:0.08612\ttrain-auc:0.84020\ttrain-aucpr:0.38793\ttrain-logloss:0.06468\n",
      "[42]\tval-auc:0.71362\tval-aucpr:0.16247\tval-logloss:0.08558\ttrain-auc:0.84092\ttrain-aucpr:0.38876\ttrain-logloss:0.06423\n",
      "[43]\tval-auc:0.71027\tval-aucpr:0.16280\tval-logloss:0.08608\ttrain-auc:0.84302\ttrain-aucpr:0.38996\ttrain-logloss:0.06360\n",
      "[44]\tval-auc:0.70882\tval-aucpr:0.16194\tval-logloss:0.08543\ttrain-auc:0.84522\ttrain-aucpr:0.39237\ttrain-logloss:0.06323\n",
      "[45]\tval-auc:0.70753\tval-aucpr:0.16169\tval-logloss:0.08487\ttrain-auc:0.84690\ttrain-aucpr:0.39345\ttrain-logloss:0.06295\n",
      "[46]\tval-auc:0.70431\tval-aucpr:0.16141\tval-logloss:0.08584\ttrain-auc:0.84835\ttrain-aucpr:0.39460\ttrain-logloss:0.06240\n",
      "[47]\tval-auc:0.70028\tval-aucpr:0.16145\tval-logloss:0.08666\ttrain-auc:0.84956\ttrain-aucpr:0.39533\ttrain-logloss:0.06197\n",
      "[48]\tval-auc:0.70064\tval-aucpr:0.16417\tval-logloss:0.08622\ttrain-auc:0.85094\ttrain-aucpr:0.39654\ttrain-logloss:0.06169\n",
      "[49]\tval-auc:0.70010\tval-aucpr:0.16638\tval-logloss:0.08583\ttrain-auc:0.85251\ttrain-aucpr:0.39770\ttrain-logloss:0.06142\n",
      "[50]\tval-auc:0.69931\tval-aucpr:0.16523\tval-logloss:0.08559\ttrain-auc:0.85281\ttrain-aucpr:0.39814\ttrain-logloss:0.06125\n",
      "[51]\tval-auc:0.70111\tval-aucpr:0.16947\tval-logloss:0.08533\ttrain-auc:0.85398\ttrain-aucpr:0.39931\ttrain-logloss:0.06101\n",
      "[52]\tval-auc:0.69783\tval-aucpr:0.16916\tval-logloss:0.08595\ttrain-auc:0.85375\ttrain-aucpr:0.39948\ttrain-logloss:0.06082\n",
      "[53]\tval-auc:0.69824\tval-aucpr:0.16716\tval-logloss:0.08578\ttrain-auc:0.85424\ttrain-aucpr:0.39955\ttrain-logloss:0.06072\n",
      "[54]\tval-auc:0.69907\tval-aucpr:0.16646\tval-logloss:0.08648\ttrain-auc:0.85515\ttrain-aucpr:0.40090\ttrain-logloss:0.06051\n",
      "[55]\tval-auc:0.69671\tval-aucpr:0.16722\tval-logloss:0.08751\ttrain-auc:0.85566\ttrain-aucpr:0.40074\ttrain-logloss:0.06020\n",
      "[56]\tval-auc:0.69755\tval-aucpr:0.16644\tval-logloss:0.08828\ttrain-auc:0.85615\ttrain-aucpr:0.40201\ttrain-logloss:0.06001\n",
      "[57]\tval-auc:0.69454\tval-aucpr:0.16590\tval-logloss:0.08894\ttrain-auc:0.85614\ttrain-aucpr:0.40218\ttrain-logloss:0.05988\n",
      "[58]\tval-auc:0.69196\tval-aucpr:0.16648\tval-logloss:0.09006\ttrain-auc:0.85662\ttrain-aucpr:0.40223\ttrain-logloss:0.05966\n",
      "[59]\tval-auc:0.69028\tval-aucpr:0.16729\tval-logloss:0.09120\ttrain-auc:0.85687\ttrain-aucpr:0.40248\ttrain-logloss:0.05944\n",
      "[60]\tval-auc:0.68867\tval-aucpr:0.16733\tval-logloss:0.09231\ttrain-auc:0.85732\ttrain-aucpr:0.40285\ttrain-logloss:0.05923\n",
      "[61]\tval-auc:0.68725\tval-aucpr:0.16765\tval-logloss:0.09334\ttrain-auc:0.85738\ttrain-aucpr:0.40339\ttrain-logloss:0.05903\n",
      "[62]\tval-auc:0.68707\tval-aucpr:0.16754\tval-logloss:0.09323\ttrain-auc:0.85798\ttrain-aucpr:0.40452\ttrain-logloss:0.05894\n",
      "[63]\tval-auc:0.68563\tval-aucpr:0.16831\tval-logloss:0.09424\ttrain-auc:0.85808\ttrain-aucpr:0.40464\ttrain-logloss:0.05881\n",
      "[64]\tval-auc:0.68522\tval-aucpr:0.16826\tval-logloss:0.09541\ttrain-auc:0.85834\ttrain-aucpr:0.40508\ttrain-logloss:0.05865\n"
     ]
    },
    {
     "name": "stdout",
     "output_type": "stream",
     "text": [
      "[65]\tval-auc:0.68161\tval-aucpr:0.16886\tval-logloss:0.09620\ttrain-auc:0.85853\ttrain-aucpr:0.40537\ttrain-logloss:0.05857\n",
      "[66]\tval-auc:0.67861\tval-aucpr:0.16818\tval-logloss:0.09704\ttrain-auc:0.85869\ttrain-aucpr:0.40559\ttrain-logloss:0.05850\n",
      "[67]\tval-auc:0.67918\tval-aucpr:0.16803\tval-logloss:0.09697\ttrain-auc:0.85893\ttrain-aucpr:0.40601\ttrain-logloss:0.05844\n",
      "[68]\tval-auc:0.67898\tval-aucpr:0.16988\tval-logloss:0.09700\ttrain-auc:0.86005\ttrain-aucpr:0.40757\ttrain-logloss:0.05832\n",
      "[69]\tval-auc:0.67865\tval-aucpr:0.17044\tval-logloss:0.09693\ttrain-auc:0.86061\ttrain-aucpr:0.40807\ttrain-logloss:0.05824\n",
      "[70]\tval-auc:0.67898\tval-aucpr:0.16994\tval-logloss:0.09756\ttrain-auc:0.86204\ttrain-aucpr:0.40949\ttrain-logloss:0.05812\n",
      "[71]\tval-auc:0.67980\tval-aucpr:0.17035\tval-logloss:0.09751\ttrain-auc:0.86264\ttrain-aucpr:0.41005\ttrain-logloss:0.05801\n",
      "[72]\tval-auc:0.67855\tval-aucpr:0.17043\tval-logloss:0.09875\ttrain-auc:0.86326\ttrain-aucpr:0.41086\ttrain-logloss:0.05788\n",
      "[73]\tval-auc:0.67751\tval-aucpr:0.17051\tval-logloss:0.10006\ttrain-auc:0.86326\ttrain-aucpr:0.41111\ttrain-logloss:0.05777\n",
      "[74]\tval-auc:0.67825\tval-aucpr:0.17220\tval-logloss:0.09999\ttrain-auc:0.86514\ttrain-aucpr:0.41409\ttrain-logloss:0.05760\n",
      "[75]\tval-auc:0.67744\tval-aucpr:0.17244\tval-logloss:0.10132\ttrain-auc:0.86519\ttrain-aucpr:0.41397\ttrain-logloss:0.05752\n",
      "[76]\tval-auc:0.67732\tval-aucpr:0.17369\tval-logloss:0.10133\ttrain-auc:0.86625\ttrain-aucpr:0.41525\ttrain-logloss:0.05741\n",
      "[77]\tval-auc:0.67545\tval-aucpr:0.17257\tval-logloss:0.10270\ttrain-auc:0.86654\ttrain-aucpr:0.41613\ttrain-logloss:0.05731\n",
      "[78]\tval-auc:0.67577\tval-aucpr:0.17274\tval-logloss:0.10272\ttrain-auc:0.86722\ttrain-aucpr:0.41729\ttrain-logloss:0.05723\n",
      "[79]\tval-auc:0.67592\tval-aucpr:0.17662\tval-logloss:0.10272\ttrain-auc:0.86789\ttrain-aucpr:0.41825\ttrain-logloss:0.05712\n",
      "[80]\tval-auc:0.67464\tval-aucpr:0.17585\tval-logloss:0.10413\ttrain-auc:0.86801\ttrain-aucpr:0.41862\ttrain-logloss:0.05704\n",
      "[81]\tval-auc:0.67480\tval-aucpr:0.17631\tval-logloss:0.10417\ttrain-auc:0.86892\ttrain-aucpr:0.41945\ttrain-logloss:0.05697\n",
      "[82]\tval-auc:0.67436\tval-aucpr:0.17706\tval-logloss:0.10556\ttrain-auc:0.86904\ttrain-aucpr:0.41990\ttrain-logloss:0.05688\n",
      "[83]\tval-auc:0.67282\tval-aucpr:0.17736\tval-logloss:0.10642\ttrain-auc:0.86933\ttrain-aucpr:0.42031\ttrain-logloss:0.05683\n",
      "[84]\tval-auc:0.67248\tval-aucpr:0.17702\tval-logloss:0.10782\ttrain-auc:0.86940\ttrain-aucpr:0.42025\ttrain-logloss:0.05678\n",
      "[85]\tval-auc:0.67313\tval-aucpr:0.17670\tval-logloss:0.10783\ttrain-auc:0.86970\ttrain-aucpr:0.42076\ttrain-logloss:0.05673\n",
      "[86]\tval-auc:0.67213\tval-aucpr:0.17644\tval-logloss:0.10921\ttrain-auc:0.86981\ttrain-aucpr:0.42089\ttrain-logloss:0.05668\n",
      "[87]\tval-auc:0.67196\tval-aucpr:0.17625\tval-logloss:0.11060\ttrain-auc:0.86988\ttrain-aucpr:0.42096\ttrain-logloss:0.05664\n",
      "[88]\tval-auc:0.67275\tval-aucpr:0.17689\tval-logloss:0.11063\ttrain-auc:0.87114\ttrain-aucpr:0.42212\ttrain-logloss:0.05652\n",
      "[89]\tval-auc:0.67239\tval-aucpr:0.17663\tval-logloss:0.11175\ttrain-auc:0.87134\ttrain-aucpr:0.42220\ttrain-logloss:0.05648\n",
      "[90]\tval-auc:0.67246\tval-aucpr:0.17706\tval-logloss:0.11176\ttrain-auc:0.87159\ttrain-aucpr:0.42252\ttrain-logloss:0.05644\n",
      "[91]\tval-auc:0.67281\tval-aucpr:0.17705\tval-logloss:0.11302\ttrain-auc:0.87163\ttrain-aucpr:0.42292\ttrain-logloss:0.05639\n",
      "[92]\tval-auc:0.67355\tval-aucpr:0.17636\tval-logloss:0.11301\ttrain-auc:0.87227\ttrain-aucpr:0.42356\ttrain-logloss:0.05634\n",
      "[93]\tval-auc:0.67373\tval-aucpr:0.17832\tval-logloss:0.11306\ttrain-auc:0.87279\ttrain-aucpr:0.42388\ttrain-logloss:0.05629\n",
      "[94]\tval-auc:0.67431\tval-aucpr:0.17874\tval-logloss:0.11302\ttrain-auc:0.87429\ttrain-aucpr:0.42545\ttrain-logloss:0.05616\n",
      "[95]\tval-auc:0.67495\tval-aucpr:0.17675\tval-logloss:0.11356\ttrain-auc:0.87452\ttrain-aucpr:0.42605\ttrain-logloss:0.05611\n",
      "[96]\tval-auc:0.67533\tval-aucpr:0.17587\tval-logloss:0.11415\ttrain-auc:0.87490\ttrain-aucpr:0.42677\ttrain-logloss:0.05605\n",
      "[97]\tval-auc:0.67493\tval-aucpr:0.17640\tval-logloss:0.11445\ttrain-auc:0.87534\ttrain-aucpr:0.42758\ttrain-logloss:0.05597\n",
      "[98]\tval-auc:0.67463\tval-aucpr:0.17641\tval-logloss:0.11569\ttrain-auc:0.87531\ttrain-aucpr:0.42754\ttrain-logloss:0.05594\n",
      "[99]\tval-auc:0.67427\tval-aucpr:0.17573\tval-logloss:0.11639\ttrain-auc:0.87575\ttrain-aucpr:0.42820\ttrain-logloss:0.05588\n",
      "[100]\tval-auc:0.67401\tval-aucpr:0.17657\tval-logloss:0.11724\ttrain-auc:0.87575\ttrain-aucpr:0.42827\ttrain-logloss:0.05586\n",
      "[101]\tval-auc:0.67256\tval-aucpr:0.17646\tval-logloss:0.11818\ttrain-auc:0.87585\ttrain-aucpr:0.42861\ttrain-logloss:0.05582\n",
      "[102]\tval-auc:0.67283\tval-aucpr:0.17704\tval-logloss:0.11811\ttrain-auc:0.87697\ttrain-aucpr:0.43016\ttrain-logloss:0.05572\n",
      "[103]\tval-auc:0.67143\tval-aucpr:0.17710\tval-logloss:0.11804\ttrain-auc:0.87757\ttrain-aucpr:0.43078\ttrain-logloss:0.05567\n",
      "[104]\tval-auc:0.67133\tval-aucpr:0.17661\tval-logloss:0.11836\ttrain-auc:0.87777\ttrain-aucpr:0.43102\ttrain-logloss:0.05564\n",
      "[105]\tval-auc:0.67180\tval-aucpr:0.17717\tval-logloss:0.11834\ttrain-auc:0.87853\ttrain-aucpr:0.43186\ttrain-logloss:0.05557\n",
      "[106]\tval-auc:0.67180\tval-aucpr:0.17767\tval-logloss:0.11927\ttrain-auc:0.87903\ttrain-aucpr:0.43220\ttrain-logloss:0.05552\n",
      "[107]\tval-auc:0.67083\tval-aucpr:0.17736\tval-logloss:0.11918\ttrain-auc:0.87957\ttrain-aucpr:0.43264\ttrain-logloss:0.05547\n",
      "[108]\tval-auc:0.67003\tval-aucpr:0.17737\tval-logloss:0.12052\ttrain-auc:0.87969\ttrain-aucpr:0.43306\ttrain-logloss:0.05543\n",
      "[109]\tval-auc:0.66968\tval-aucpr:0.17746\tval-logloss:0.12053\ttrain-auc:0.88001\ttrain-aucpr:0.43352\ttrain-logloss:0.05539\n",
      "[110]\tval-auc:0.67001\tval-aucpr:0.17762\tval-logloss:0.12048\ttrain-auc:0.88099\ttrain-aucpr:0.43467\ttrain-logloss:0.05531\n",
      "[111]\tval-auc:0.66910\tval-aucpr:0.17844\tval-logloss:0.12142\ttrain-auc:0.88109\ttrain-aucpr:0.43482\ttrain-logloss:0.05528\n",
      "[112]\tval-auc:0.66939\tval-aucpr:0.17827\tval-logloss:0.12141\ttrain-auc:0.88151\ttrain-aucpr:0.43575\ttrain-logloss:0.05522\n",
      "[113]\tval-auc:0.66911\tval-aucpr:0.17860\tval-logloss:0.12150\ttrain-auc:0.88211\ttrain-aucpr:0.43620\ttrain-logloss:0.05516\n",
      "[114]\tval-auc:0.66974\tval-aucpr:0.18049\tval-logloss:0.12148\ttrain-auc:0.88277\ttrain-aucpr:0.43691\ttrain-logloss:0.05507\n",
      "[115]\tval-auc:0.66929\tval-aucpr:0.18108\tval-logloss:0.12150\ttrain-auc:0.88313\ttrain-aucpr:0.43790\ttrain-logloss:0.05497\n",
      "[116]\tval-auc:0.66905\tval-aucpr:0.18131\tval-logloss:0.12156\ttrain-auc:0.88356\ttrain-aucpr:0.43878\ttrain-logloss:0.05492\n",
      "[117]\tval-auc:0.66924\tval-aucpr:0.18143\tval-logloss:0.12173\ttrain-auc:0.88446\ttrain-aucpr:0.43962\ttrain-logloss:0.05485\n",
      "[118]\tval-auc:0.66895\tval-aucpr:0.18137\tval-logloss:0.12292\ttrain-auc:0.88456\ttrain-aucpr:0.44004\ttrain-logloss:0.05481\n",
      "[119]\tval-auc:0.66901\tval-aucpr:0.18135\tval-logloss:0.12296\ttrain-auc:0.88463\ttrain-aucpr:0.44014\ttrain-logloss:0.05481\n",
      "[120]\tval-auc:0.66736\tval-aucpr:0.18089\tval-logloss:0.12404\ttrain-auc:0.88473\ttrain-aucpr:0.44050\ttrain-logloss:0.05477\n",
      "[121]\tval-auc:0.66785\tval-aucpr:0.18113\tval-logloss:0.12408\ttrain-auc:0.88491\ttrain-aucpr:0.44085\ttrain-logloss:0.05474\n",
      "[122]\tval-auc:0.66783\tval-aucpr:0.18108\tval-logloss:0.12410\ttrain-auc:0.88539\ttrain-aucpr:0.44157\ttrain-logloss:0.05470\n",
      "[123]\tval-auc:0.66801\tval-aucpr:0.18123\tval-logloss:0.12408\ttrain-auc:0.88607\ttrain-aucpr:0.44232\ttrain-logloss:0.05460\n",
      "[124]\tval-auc:0.66724\tval-aucpr:0.18120\tval-logloss:0.12408\ttrain-auc:0.88635\ttrain-aucpr:0.44271\ttrain-logloss:0.05457\n",
      "[125]\tval-auc:0.66782\tval-aucpr:0.18168\tval-logloss:0.12405\ttrain-auc:0.88732\ttrain-aucpr:0.44350\ttrain-logloss:0.05449\n",
      "[126]\tval-auc:0.66703\tval-aucpr:0.18111\tval-logloss:0.12522\ttrain-auc:0.88745\ttrain-aucpr:0.44371\ttrain-logloss:0.05446\n",
      "[127]\tval-auc:0.66718\tval-aucpr:0.18145\tval-logloss:0.12530\ttrain-auc:0.88762\ttrain-aucpr:0.44391\ttrain-logloss:0.05445\n",
      "[128]\tval-auc:0.66745\tval-aucpr:0.18175\tval-logloss:0.12530\ttrain-auc:0.88790\ttrain-aucpr:0.44440\ttrain-logloss:0.05440\n",
      "[129]\tval-auc:0.66742\tval-aucpr:0.18194\tval-logloss:0.12564\ttrain-auc:0.88792\ttrain-aucpr:0.44447\ttrain-logloss:0.05439\n",
      "[130]\tval-auc:0.66817\tval-aucpr:0.18218\tval-logloss:0.12561\ttrain-auc:0.88893\ttrain-aucpr:0.44585\ttrain-logloss:0.05430\n",
      "[131]\tval-auc:0.66755\tval-aucpr:0.18134\tval-logloss:0.12671\ttrain-auc:0.88894\ttrain-aucpr:0.44592\ttrain-logloss:0.05429\n",
      "[132]\tval-auc:0.66799\tval-aucpr:0.18127\tval-logloss:0.12707\ttrain-auc:0.88963\ttrain-aucpr:0.44662\ttrain-logloss:0.05423\n",
      "[133]\tval-auc:0.66720\tval-aucpr:0.18112\tval-logloss:0.12705\ttrain-auc:0.89007\ttrain-aucpr:0.44713\ttrain-logloss:0.05418\n"
     ]
    },
    {
     "name": "stdout",
     "output_type": "stream",
     "text": [
      "[134]\tval-auc:0.66711\tval-aucpr:0.18104\tval-logloss:0.12720\ttrain-auc:0.89056\ttrain-aucpr:0.44759\ttrain-logloss:0.05414\n",
      "[135]\tval-auc:0.66751\tval-aucpr:0.18082\tval-logloss:0.12718\ttrain-auc:0.89099\ttrain-aucpr:0.44786\ttrain-logloss:0.05411\n",
      "[136]\tval-auc:0.66735\tval-aucpr:0.18087\tval-logloss:0.12809\ttrain-auc:0.89106\ttrain-aucpr:0.44803\ttrain-logloss:0.05409\n",
      "[137]\tval-auc:0.66742\tval-aucpr:0.18089\tval-logloss:0.12809\ttrain-auc:0.89133\ttrain-aucpr:0.44839\ttrain-logloss:0.05406\n",
      "[138]\tval-auc:0.66725\tval-aucpr:0.18090\tval-logloss:0.12809\ttrain-auc:0.89184\ttrain-aucpr:0.44892\ttrain-logloss:0.05402\n",
      "[139]\tval-auc:0.66730\tval-aucpr:0.18093\tval-logloss:0.12806\ttrain-auc:0.89189\ttrain-aucpr:0.44903\ttrain-logloss:0.05402\n",
      "[140]\tval-auc:0.66687\tval-aucpr:0.18016\tval-logloss:0.12823\ttrain-auc:0.89219\ttrain-aucpr:0.44928\ttrain-logloss:0.05399\n",
      "[141]\tval-auc:0.66672\tval-aucpr:0.18049\tval-logloss:0.12822\ttrain-auc:0.89264\ttrain-aucpr:0.45078\ttrain-logloss:0.05393\n",
      "[142]\tval-auc:0.66672\tval-aucpr:0.18036\tval-logloss:0.12813\ttrain-auc:0.89309\ttrain-aucpr:0.45139\ttrain-logloss:0.05387\n",
      "[143]\tval-auc:0.66668\tval-aucpr:0.17923\tval-logloss:0.12854\ttrain-auc:0.89315\ttrain-aucpr:0.45140\ttrain-logloss:0.05387\n",
      "[144]\tval-auc:0.66707\tval-aucpr:0.17960\tval-logloss:0.12857\ttrain-auc:0.89354\ttrain-aucpr:0.45195\ttrain-logloss:0.05381\n",
      "[145]\tval-auc:0.66677\tval-aucpr:0.17974\tval-logloss:0.12857\ttrain-auc:0.89367\ttrain-aucpr:0.45204\ttrain-logloss:0.05379\n",
      "[146]\tval-auc:0.66667\tval-aucpr:0.18057\tval-logloss:0.12853\ttrain-auc:0.89398\ttrain-aucpr:0.45229\ttrain-logloss:0.05377\n",
      "[147]\tval-auc:0.66705\tval-aucpr:0.18087\tval-logloss:0.12855\ttrain-auc:0.89454\ttrain-aucpr:0.45284\ttrain-logloss:0.05372\n",
      "[148]\tval-auc:0.66796\tval-aucpr:0.18076\tval-logloss:0.12855\ttrain-auc:0.89480\ttrain-aucpr:0.45312\ttrain-logloss:0.05369\n",
      "[149]\tval-auc:0.66836\tval-aucpr:0.18134\tval-logloss:0.12857\ttrain-auc:0.89571\ttrain-aucpr:0.45469\ttrain-logloss:0.05360\n",
      "[150]\tval-auc:0.66918\tval-aucpr:0.18249\tval-logloss:0.12859\ttrain-auc:0.89635\ttrain-aucpr:0.45593\ttrain-logloss:0.05351\n",
      "[151]\tval-auc:0.66875\tval-aucpr:0.18202\tval-logloss:0.12979\ttrain-auc:0.89643\ttrain-aucpr:0.45603\ttrain-logloss:0.05350\n",
      "[152]\tval-auc:0.66954\tval-aucpr:0.18098\tval-logloss:0.12985\ttrain-auc:0.89699\ttrain-aucpr:0.45748\ttrain-logloss:0.05339\n",
      "[153]\tval-auc:0.66908\tval-aucpr:0.18054\tval-logloss:0.13083\ttrain-auc:0.89712\ttrain-aucpr:0.45776\ttrain-logloss:0.05337\n",
      "[154]\tval-auc:0.66905\tval-aucpr:0.18053\tval-logloss:0.13083\ttrain-auc:0.89752\ttrain-aucpr:0.45840\ttrain-logloss:0.05333\n",
      "[155]\tval-auc:0.66918\tval-aucpr:0.18065\tval-logloss:0.13083\ttrain-auc:0.89827\ttrain-aucpr:0.45915\ttrain-logloss:0.05327\n",
      "[156]\tval-auc:0.66898\tval-aucpr:0.18088\tval-logloss:0.13088\ttrain-auc:0.89848\ttrain-aucpr:0.45946\ttrain-logloss:0.05325\n",
      "[157]\tval-auc:0.66886\tval-aucpr:0.18096\tval-logloss:0.13095\ttrain-auc:0.89860\ttrain-aucpr:0.45975\ttrain-logloss:0.05321\n",
      "[158]\tval-auc:0.66905\tval-aucpr:0.18127\tval-logloss:0.13118\ttrain-auc:0.89916\ttrain-aucpr:0.46080\ttrain-logloss:0.05314\n",
      "[159]\tval-auc:0.66830\tval-aucpr:0.17990\tval-logloss:0.13215\ttrain-auc:0.89957\ttrain-aucpr:0.46128\ttrain-logloss:0.05309\n",
      "[160]\tval-auc:0.66827\tval-aucpr:0.18069\tval-logloss:0.13210\ttrain-auc:0.89977\ttrain-aucpr:0.46152\ttrain-logloss:0.05307\n",
      "[161]\tval-auc:0.66882\tval-aucpr:0.18108\tval-logloss:0.13209\ttrain-auc:0.90048\ttrain-aucpr:0.46325\ttrain-logloss:0.05297\n",
      "[162]\tval-auc:0.66886\tval-aucpr:0.18109\tval-logloss:0.13209\ttrain-auc:0.90054\ttrain-aucpr:0.46328\ttrain-logloss:0.05296\n",
      "[163]\tval-auc:0.66898\tval-aucpr:0.18148\tval-logloss:0.13209\ttrain-auc:0.90109\ttrain-aucpr:0.46408\ttrain-logloss:0.05290\n",
      "[164]\tval-auc:0.66936\tval-aucpr:0.18177\tval-logloss:0.13208\ttrain-auc:0.90155\ttrain-aucpr:0.46478\ttrain-logloss:0.05285\n",
      "[165]\tval-auc:0.66920\tval-aucpr:0.18177\tval-logloss:0.13213\ttrain-auc:0.90199\ttrain-aucpr:0.46545\ttrain-logloss:0.05280\n",
      "[166]\tval-auc:0.66919\tval-aucpr:0.18167\tval-logloss:0.13240\ttrain-auc:0.90205\ttrain-aucpr:0.46558\ttrain-logloss:0.05280\n",
      "[167]\tval-auc:0.66778\tval-aucpr:0.18229\tval-logloss:0.13236\ttrain-auc:0.90274\ttrain-aucpr:0.46657\ttrain-logloss:0.05272\n",
      "[168]\tval-auc:0.66811\tval-aucpr:0.18268\tval-logloss:0.13321\ttrain-auc:0.90275\ttrain-aucpr:0.46664\ttrain-logloss:0.05272\n",
      "[169]\tval-auc:0.66846\tval-aucpr:0.18261\tval-logloss:0.13320\ttrain-auc:0.90329\ttrain-aucpr:0.46765\ttrain-logloss:0.05265\n",
      "[170]\tval-auc:0.66845\tval-aucpr:0.18266\tval-logloss:0.13320\ttrain-auc:0.90366\ttrain-aucpr:0.46809\ttrain-logloss:0.05262\n",
      "[171]\tval-auc:0.66851\tval-aucpr:0.18371\tval-logloss:0.13323\ttrain-auc:0.90378\ttrain-aucpr:0.46833\ttrain-logloss:0.05259\n",
      "[172]\tval-auc:0.66889\tval-aucpr:0.18424\tval-logloss:0.13321\ttrain-auc:0.90453\ttrain-aucpr:0.46957\ttrain-logloss:0.05251\n",
      "[173]\tval-auc:0.66896\tval-aucpr:0.18454\tval-logloss:0.13322\ttrain-auc:0.90506\ttrain-aucpr:0.47025\ttrain-logloss:0.05246\n",
      "[174]\tval-auc:0.66900\tval-aucpr:0.18415\tval-logloss:0.13399\ttrain-auc:0.90507\ttrain-aucpr:0.47031\ttrain-logloss:0.05245\n",
      "[175]\tval-auc:0.66910\tval-aucpr:0.18416\tval-logloss:0.13398\ttrain-auc:0.90547\ttrain-aucpr:0.47069\ttrain-logloss:0.05242\n",
      "[176]\tval-auc:0.66904\tval-aucpr:0.18428\tval-logloss:0.13479\ttrain-auc:0.90551\ttrain-aucpr:0.47082\ttrain-logloss:0.05241\n",
      "[177]\tval-auc:0.66919\tval-aucpr:0.18452\tval-logloss:0.13478\ttrain-auc:0.90569\ttrain-aucpr:0.47120\ttrain-logloss:0.05238\n",
      "[178]\tval-auc:0.66943\tval-aucpr:0.18459\tval-logloss:0.13477\ttrain-auc:0.90621\ttrain-aucpr:0.47180\ttrain-logloss:0.05234\n",
      "[179]\tval-auc:0.66943\tval-aucpr:0.18277\tval-logloss:0.13491\ttrain-auc:0.90626\ttrain-aucpr:0.47241\ttrain-logloss:0.05230\n",
      "[180]\tval-auc:0.66940\tval-aucpr:0.18276\tval-logloss:0.13492\ttrain-auc:0.90643\ttrain-aucpr:0.47271\ttrain-logloss:0.05229\n",
      "[181]\tval-auc:0.66944\tval-aucpr:0.18277\tval-logloss:0.13490\ttrain-auc:0.90646\ttrain-aucpr:0.47274\ttrain-logloss:0.05228\n",
      "[182]\tval-auc:0.66914\tval-aucpr:0.18339\tval-logloss:0.13486\ttrain-auc:0.90666\ttrain-aucpr:0.47328\ttrain-logloss:0.05225\n",
      "[183]\tval-auc:0.66848\tval-aucpr:0.18337\tval-logloss:0.13485\ttrain-auc:0.90689\ttrain-aucpr:0.47368\ttrain-logloss:0.05223\n",
      "[184]\tval-auc:0.66899\tval-aucpr:0.18272\tval-logloss:0.13552\ttrain-auc:0.90703\ttrain-aucpr:0.47403\ttrain-logloss:0.05221\n",
      "[185]\tval-auc:0.66890\tval-aucpr:0.18205\tval-logloss:0.13625\ttrain-auc:0.90735\ttrain-aucpr:0.47444\ttrain-logloss:0.05218\n",
      "[186]\tval-auc:0.66933\tval-aucpr:0.18297\tval-logloss:0.13645\ttrain-auc:0.90746\ttrain-aucpr:0.47467\ttrain-logloss:0.05216\n",
      "[187]\tval-auc:0.66959\tval-aucpr:0.18293\tval-logloss:0.13639\ttrain-auc:0.90778\ttrain-aucpr:0.47541\ttrain-logloss:0.05212\n",
      "[188]\tval-auc:0.66946\tval-aucpr:0.18270\tval-logloss:0.13644\ttrain-auc:0.90801\ttrain-aucpr:0.47588\ttrain-logloss:0.05209\n",
      "[189]\tval-auc:0.66997\tval-aucpr:0.18384\tval-logloss:0.13640\ttrain-auc:0.90840\ttrain-aucpr:0.47667\ttrain-logloss:0.05201\n",
      "[190]\tval-auc:0.67000\tval-aucpr:0.18386\tval-logloss:0.13640\ttrain-auc:0.90882\ttrain-aucpr:0.47732\ttrain-logloss:0.05198\n",
      "[191]\tval-auc:0.67038\tval-aucpr:0.18397\tval-logloss:0.13646\ttrain-auc:0.90887\ttrain-aucpr:0.47742\ttrain-logloss:0.05196\n",
      "[192]\tval-auc:0.67009\tval-aucpr:0.18374\tval-logloss:0.13650\ttrain-auc:0.90893\ttrain-aucpr:0.47767\ttrain-logloss:0.05193\n",
      "[193]\tval-auc:0.67036\tval-aucpr:0.18414\tval-logloss:0.13656\ttrain-auc:0.90936\ttrain-aucpr:0.47845\ttrain-logloss:0.05188\n",
      "[194]\tval-auc:0.67047\tval-aucpr:0.18414\tval-logloss:0.13653\ttrain-auc:0.90941\ttrain-aucpr:0.47854\ttrain-logloss:0.05187\n",
      "[195]\tval-auc:0.67033\tval-aucpr:0.18440\tval-logloss:0.13652\ttrain-auc:0.91004\ttrain-aucpr:0.47922\ttrain-logloss:0.05181\n",
      "[196]\tval-auc:0.67060\tval-aucpr:0.18453\tval-logloss:0.13649\ttrain-auc:0.91061\ttrain-aucpr:0.48015\ttrain-logloss:0.05175\n",
      "[197]\tval-auc:0.67066\tval-aucpr:0.18440\tval-logloss:0.13656\ttrain-auc:0.91120\ttrain-aucpr:0.48092\ttrain-logloss:0.05170\n",
      "[198]\tval-auc:0.67073\tval-aucpr:0.18440\tval-logloss:0.13755\ttrain-auc:0.91138\ttrain-aucpr:0.48122\ttrain-logloss:0.05168\n",
      "[199]\tval-auc:0.67075\tval-aucpr:0.18444\tval-logloss:0.13756\ttrain-auc:0.91163\ttrain-aucpr:0.48150\ttrain-logloss:0.05165\n",
      "[200]\tval-auc:0.67119\tval-aucpr:0.18421\tval-logloss:0.13760\ttrain-auc:0.91200\ttrain-aucpr:0.48254\ttrain-logloss:0.05158\n",
      "[201]\tval-auc:0.67123\tval-aucpr:0.18423\tval-logloss:0.13761\ttrain-auc:0.91205\ttrain-aucpr:0.48258\ttrain-logloss:0.05158\n",
      "[202]\tval-auc:0.67126\tval-aucpr:0.18423\tval-logloss:0.13760\ttrain-auc:0.91209\ttrain-aucpr:0.48266\ttrain-logloss:0.05157\n"
     ]
    },
    {
     "name": "stdout",
     "output_type": "stream",
     "text": [
      "[203]\tval-auc:0.67129\tval-aucpr:0.18424\tval-logloss:0.13757\ttrain-auc:0.91229\ttrain-aucpr:0.48288\ttrain-logloss:0.05155\n",
      "[204]\tval-auc:0.67100\tval-aucpr:0.18430\tval-logloss:0.13774\ttrain-auc:0.91253\ttrain-aucpr:0.48342\ttrain-logloss:0.05152\n",
      "[205]\tval-auc:0.67096\tval-aucpr:0.18430\tval-logloss:0.13775\ttrain-auc:0.91260\ttrain-aucpr:0.48350\ttrain-logloss:0.05151\n",
      "[206]\tval-auc:0.67127\tval-aucpr:0.18402\tval-logloss:0.13815\ttrain-auc:0.91260\ttrain-aucpr:0.48353\ttrain-logloss:0.05151\n",
      "[207]\tval-auc:0.67094\tval-aucpr:0.18398\tval-logloss:0.13820\ttrain-auc:0.91289\ttrain-aucpr:0.48417\ttrain-logloss:0.05147\n",
      "[208]\tval-auc:0.67099\tval-aucpr:0.18408\tval-logloss:0.13820\ttrain-auc:0.91312\ttrain-aucpr:0.48483\ttrain-logloss:0.05143\n",
      "[209]\tval-auc:0.67040\tval-aucpr:0.18409\tval-logloss:0.13814\ttrain-auc:0.91324\ttrain-aucpr:0.48522\ttrain-logloss:0.05141\n",
      "[210]\tval-auc:0.67093\tval-aucpr:0.18371\tval-logloss:0.13805\ttrain-auc:0.91328\ttrain-aucpr:0.48547\ttrain-logloss:0.05139\n",
      "[211]\tval-auc:0.67107\tval-aucpr:0.18307\tval-logloss:0.13831\ttrain-auc:0.91330\ttrain-aucpr:0.48550\ttrain-logloss:0.05138\n",
      "[212]\tval-auc:0.67129\tval-aucpr:0.18315\tval-logloss:0.13830\ttrain-auc:0.91360\ttrain-aucpr:0.48600\ttrain-logloss:0.05135\n",
      "[213]\tval-auc:0.67127\tval-aucpr:0.18314\tval-logloss:0.13834\ttrain-auc:0.91382\ttrain-aucpr:0.48648\ttrain-logloss:0.05132\n",
      "[214]\tval-auc:0.67100\tval-aucpr:0.18399\tval-logloss:0.13836\ttrain-auc:0.91397\ttrain-aucpr:0.48677\ttrain-logloss:0.05130\n",
      "[215]\tval-auc:0.67028\tval-aucpr:0.18341\tval-logloss:0.13914\ttrain-auc:0.91404\ttrain-aucpr:0.48700\ttrain-logloss:0.05128\n",
      "[216]\tval-auc:0.67020\tval-aucpr:0.18341\tval-logloss:0.13914\ttrain-auc:0.91448\ttrain-aucpr:0.48753\ttrain-logloss:0.05124\n",
      "[217]\tval-auc:0.67032\tval-aucpr:0.18342\tval-logloss:0.13914\ttrain-auc:0.91458\ttrain-aucpr:0.48785\ttrain-logloss:0.05122\n",
      "[218]\tval-auc:0.67035\tval-aucpr:0.18346\tval-logloss:0.13911\ttrain-auc:0.91484\ttrain-aucpr:0.48862\ttrain-logloss:0.05118\n",
      "[219]\tval-auc:0.67066\tval-aucpr:0.18346\tval-logloss:0.13903\ttrain-auc:0.91525\ttrain-aucpr:0.48926\ttrain-logloss:0.05114\n",
      "[220]\tval-auc:0.67079\tval-aucpr:0.18361\tval-logloss:0.13902\ttrain-auc:0.91566\ttrain-aucpr:0.48995\ttrain-logloss:0.05109\n",
      "[221]\tval-auc:0.66928\tval-aucpr:0.18344\tval-logloss:0.13906\ttrain-auc:0.91589\ttrain-aucpr:0.49091\ttrain-logloss:0.05105\n",
      "[222]\tval-auc:0.66848\tval-aucpr:0.18338\tval-logloss:0.14001\ttrain-auc:0.91597\ttrain-aucpr:0.49117\ttrain-logloss:0.05103\n",
      "[223]\tval-auc:0.66827\tval-aucpr:0.18336\tval-logloss:0.13998\ttrain-auc:0.91621\ttrain-aucpr:0.49180\ttrain-logloss:0.05099\n",
      "[224]\tval-auc:0.66821\tval-aucpr:0.18336\tval-logloss:0.13999\ttrain-auc:0.91630\ttrain-aucpr:0.49209\ttrain-logloss:0.05098\n",
      "[225]\tval-auc:0.66857\tval-aucpr:0.18352\tval-logloss:0.13997\ttrain-auc:0.91644\ttrain-aucpr:0.49256\ttrain-logloss:0.05094\n",
      "[226]\tval-auc:0.66893\tval-aucpr:0.18369\tval-logloss:0.14010\ttrain-auc:0.91661\ttrain-aucpr:0.49291\ttrain-logloss:0.05092\n",
      "[227]\tval-auc:0.66895\tval-aucpr:0.18349\tval-logloss:0.14013\ttrain-auc:0.91668\ttrain-aucpr:0.49297\ttrain-logloss:0.05091\n",
      "[228]\tval-auc:0.66870\tval-aucpr:0.18342\tval-logloss:0.14015\ttrain-auc:0.91673\ttrain-aucpr:0.49318\ttrain-logloss:0.05090\n",
      "[229]\tval-auc:0.66841\tval-aucpr:0.18342\tval-logloss:0.14060\ttrain-auc:0.91680\ttrain-aucpr:0.49325\ttrain-logloss:0.05089\n",
      "[230]\tval-auc:0.66809\tval-aucpr:0.18324\tval-logloss:0.14078\ttrain-auc:0.91707\ttrain-aucpr:0.49401\ttrain-logloss:0.05085\n",
      "[231]\tval-auc:0.66802\tval-aucpr:0.18324\tval-logloss:0.14075\ttrain-auc:0.91716\ttrain-aucpr:0.49443\ttrain-logloss:0.05083\n",
      "[232]\tval-auc:0.66813\tval-aucpr:0.18312\tval-logloss:0.14080\ttrain-auc:0.91761\ttrain-aucpr:0.49523\ttrain-logloss:0.05078\n",
      "[233]\tval-auc:0.66803\tval-aucpr:0.18276\tval-logloss:0.14086\ttrain-auc:0.91785\ttrain-aucpr:0.49599\ttrain-logloss:0.05071\n",
      "[234]\tval-auc:0.66822\tval-aucpr:0.18284\tval-logloss:0.14084\ttrain-auc:0.91811\ttrain-aucpr:0.49693\ttrain-logloss:0.05067\n",
      "[235]\tval-auc:0.66841\tval-aucpr:0.18417\tval-logloss:0.14089\ttrain-auc:0.91846\ttrain-aucpr:0.49766\ttrain-logloss:0.05058\n",
      "[236]\tval-auc:0.66862\tval-aucpr:0.18478\tval-logloss:0.14090\ttrain-auc:0.91895\ttrain-aucpr:0.49833\ttrain-logloss:0.05053\n",
      "[237]\tval-auc:0.66883\tval-aucpr:0.18488\tval-logloss:0.14091\ttrain-auc:0.91929\ttrain-aucpr:0.49915\ttrain-logloss:0.05049\n",
      "[238]\tval-auc:0.66880\tval-aucpr:0.18478\tval-logloss:0.14083\ttrain-auc:0.91936\ttrain-aucpr:0.49924\ttrain-logloss:0.05048\n",
      "[239]\tval-auc:0.66877\tval-aucpr:0.18472\tval-logloss:0.14082\ttrain-auc:0.91966\ttrain-aucpr:0.49975\ttrain-logloss:0.05045\n",
      "[240]\tval-auc:0.66926\tval-aucpr:0.18509\tval-logloss:0.14087\ttrain-auc:0.92007\ttrain-aucpr:0.50074\ttrain-logloss:0.05037\n",
      "[241]\tval-auc:0.66930\tval-aucpr:0.18538\tval-logloss:0.14086\ttrain-auc:0.92024\ttrain-aucpr:0.50117\ttrain-logloss:0.05034\n",
      "[242]\tval-auc:0.66910\tval-aucpr:0.18540\tval-logloss:0.14084\ttrain-auc:0.92060\ttrain-aucpr:0.50179\ttrain-logloss:0.05031\n",
      "[243]\tval-auc:0.66911\tval-aucpr:0.18543\tval-logloss:0.14083\ttrain-auc:0.92090\ttrain-aucpr:0.50227\ttrain-logloss:0.05028\n",
      "[244]\tval-auc:0.66912\tval-aucpr:0.18544\tval-logloss:0.14083\ttrain-auc:0.92098\ttrain-aucpr:0.50253\ttrain-logloss:0.05026\n",
      "[245]\tval-auc:0.66913\tval-aucpr:0.18535\tval-logloss:0.14086\ttrain-auc:0.92125\ttrain-aucpr:0.50337\ttrain-logloss:0.05021\n",
      "[246]\tval-auc:0.66871\tval-aucpr:0.18369\tval-logloss:0.14090\ttrain-auc:0.92141\ttrain-aucpr:0.50384\ttrain-logloss:0.05019\n",
      "[247]\tval-auc:0.66864\tval-aucpr:0.18414\tval-logloss:0.14084\ttrain-auc:0.92141\ttrain-aucpr:0.50389\ttrain-logloss:0.05018\n",
      "[248]\tval-auc:0.66826\tval-aucpr:0.18467\tval-logloss:0.14087\ttrain-auc:0.92143\ttrain-aucpr:0.50392\ttrain-logloss:0.05018\n",
      "[249]\tval-auc:0.66835\tval-aucpr:0.18469\tval-logloss:0.14085\ttrain-auc:0.92163\ttrain-aucpr:0.50465\ttrain-logloss:0.05013\n",
      "[250]\tval-auc:0.66849\tval-aucpr:0.18469\tval-logloss:0.14084\ttrain-auc:0.92195\ttrain-aucpr:0.50521\ttrain-logloss:0.05009\n",
      "[251]\tval-auc:0.66876\tval-aucpr:0.18449\tval-logloss:0.14087\ttrain-auc:0.92212\ttrain-aucpr:0.50557\ttrain-logloss:0.05004\n",
      "[252]\tval-auc:0.66891\tval-aucpr:0.18448\tval-logloss:0.14085\ttrain-auc:0.92243\ttrain-aucpr:0.50620\ttrain-logloss:0.04999\n",
      "[253]\tval-auc:0.66898\tval-aucpr:0.18429\tval-logloss:0.14084\ttrain-auc:0.92267\ttrain-aucpr:0.50654\ttrain-logloss:0.04996\n",
      "[254]\tval-auc:0.66852\tval-aucpr:0.18465\tval-logloss:0.14076\ttrain-auc:0.92267\ttrain-aucpr:0.50658\ttrain-logloss:0.04995\n",
      "[255]\tval-auc:0.66859\tval-aucpr:0.18447\tval-logloss:0.14073\ttrain-auc:0.92302\ttrain-aucpr:0.50717\ttrain-logloss:0.04992\n",
      "[256]\tval-auc:0.66862\tval-aucpr:0.18454\tval-logloss:0.14075\ttrain-auc:0.92345\ttrain-aucpr:0.50780\ttrain-logloss:0.04987\n",
      "[257]\tval-auc:0.66920\tval-aucpr:0.18427\tval-logloss:0.14074\ttrain-auc:0.92353\ttrain-aucpr:0.50807\ttrain-logloss:0.04986\n",
      "[258]\tval-auc:0.66929\tval-aucpr:0.18430\tval-logloss:0.14076\ttrain-auc:0.92382\ttrain-aucpr:0.50845\ttrain-logloss:0.04983\n",
      "[259]\tval-auc:0.66916\tval-aucpr:0.18421\tval-logloss:0.14084\ttrain-auc:0.92391\ttrain-aucpr:0.50865\ttrain-logloss:0.04981\n",
      "[260]\tval-auc:0.66964\tval-aucpr:0.18473\tval-logloss:0.14084\ttrain-auc:0.92410\ttrain-aucpr:0.50912\ttrain-logloss:0.04977\n",
      "[261]\tval-auc:0.67038\tval-aucpr:0.18457\tval-logloss:0.14079\ttrain-auc:0.92429\ttrain-aucpr:0.50966\ttrain-logloss:0.04974\n",
      "[262]\tval-auc:0.67041\tval-aucpr:0.18457\tval-logloss:0.14081\ttrain-auc:0.92448\ttrain-aucpr:0.51004\ttrain-logloss:0.04972\n",
      "[263]\tval-auc:0.67047\tval-aucpr:0.18480\tval-logloss:0.14079\ttrain-auc:0.92484\ttrain-aucpr:0.51091\ttrain-logloss:0.04967\n",
      "[264]\tval-auc:0.67080\tval-aucpr:0.18511\tval-logloss:0.14076\ttrain-auc:0.92498\ttrain-aucpr:0.51141\ttrain-logloss:0.04963\n",
      "[265]\tval-auc:0.67070\tval-aucpr:0.18518\tval-logloss:0.14076\ttrain-auc:0.92510\ttrain-aucpr:0.51175\ttrain-logloss:0.04961\n",
      "[266]\tval-auc:0.67079\tval-aucpr:0.18515\tval-logloss:0.14077\ttrain-auc:0.92517\ttrain-aucpr:0.51197\ttrain-logloss:0.04959\n",
      "[267]\tval-auc:0.67046\tval-aucpr:0.18507\tval-logloss:0.14087\ttrain-auc:0.92541\ttrain-aucpr:0.51243\ttrain-logloss:0.04956\n",
      "[268]\tval-auc:0.67105\tval-aucpr:0.18501\tval-logloss:0.14097\ttrain-auc:0.92559\ttrain-aucpr:0.51279\ttrain-logloss:0.04954\n",
      "[269]\tval-auc:0.67123\tval-aucpr:0.18483\tval-logloss:0.14106\ttrain-auc:0.92580\ttrain-aucpr:0.51312\ttrain-logloss:0.04950\n",
      "[270]\tval-auc:0.67106\tval-aucpr:0.18464\tval-logloss:0.14144\ttrain-auc:0.92584\ttrain-aucpr:0.51335\ttrain-logloss:0.04949\n",
      "[271]\tval-auc:0.67101\tval-aucpr:0.18478\tval-logloss:0.14157\ttrain-auc:0.92608\ttrain-aucpr:0.51386\ttrain-logloss:0.04946\n"
     ]
    },
    {
     "name": "stdout",
     "output_type": "stream",
     "text": [
      "[272]\tval-auc:0.67119\tval-aucpr:0.18477\tval-logloss:0.14156\ttrain-auc:0.92623\ttrain-aucpr:0.51430\ttrain-logloss:0.04943\n",
      "[273]\tval-auc:0.67143\tval-aucpr:0.18523\tval-logloss:0.14154\ttrain-auc:0.92637\ttrain-aucpr:0.51499\ttrain-logloss:0.04939\n",
      "[274]\tval-auc:0.67166\tval-aucpr:0.18572\tval-logloss:0.14151\ttrain-auc:0.92659\ttrain-aucpr:0.51525\ttrain-logloss:0.04936\n",
      "[275]\tval-auc:0.67166\tval-aucpr:0.18559\tval-logloss:0.14153\ttrain-auc:0.92673\ttrain-aucpr:0.51606\ttrain-logloss:0.04931\n",
      "[276]\tval-auc:0.67166\tval-aucpr:0.18559\tval-logloss:0.14154\ttrain-auc:0.92674\ttrain-aucpr:0.51612\ttrain-logloss:0.04931\n",
      "[277]\tval-auc:0.67171\tval-aucpr:0.18563\tval-logloss:0.14152\ttrain-auc:0.92683\ttrain-aucpr:0.51651\ttrain-logloss:0.04929\n",
      "[278]\tval-auc:0.67099\tval-aucpr:0.18564\tval-logloss:0.14182\ttrain-auc:0.92707\ttrain-aucpr:0.51682\ttrain-logloss:0.04927\n",
      "[279]\tval-auc:0.67070\tval-aucpr:0.18563\tval-logloss:0.14175\ttrain-auc:0.92734\ttrain-aucpr:0.51748\ttrain-logloss:0.04923\n",
      "[280]\tval-auc:0.67073\tval-aucpr:0.18572\tval-logloss:0.14173\ttrain-auc:0.92762\ttrain-aucpr:0.51812\ttrain-logloss:0.04919\n",
      "[281]\tval-auc:0.67066\tval-aucpr:0.18571\tval-logloss:0.14170\ttrain-auc:0.92799\ttrain-aucpr:0.51891\ttrain-logloss:0.04914\n",
      "[282]\tval-auc:0.67022\tval-aucpr:0.18577\tval-logloss:0.14172\ttrain-auc:0.92834\ttrain-aucpr:0.51959\ttrain-logloss:0.04908\n",
      "[283]\tval-auc:0.66992\tval-aucpr:0.18582\tval-logloss:0.14176\ttrain-auc:0.92871\ttrain-aucpr:0.52050\ttrain-logloss:0.04904\n",
      "[284]\tval-auc:0.67029\tval-aucpr:0.18613\tval-logloss:0.14176\ttrain-auc:0.92907\ttrain-aucpr:0.52147\ttrain-logloss:0.04898\n",
      "[285]\tval-auc:0.67033\tval-aucpr:0.18612\tval-logloss:0.14177\ttrain-auc:0.92924\ttrain-aucpr:0.52184\ttrain-logloss:0.04895\n",
      "[286]\tval-auc:0.67043\tval-aucpr:0.18612\tval-logloss:0.14178\ttrain-auc:0.92928\ttrain-aucpr:0.52206\ttrain-logloss:0.04894\n",
      "[287]\tval-auc:0.67043\tval-aucpr:0.18612\tval-logloss:0.14176\ttrain-auc:0.92939\ttrain-aucpr:0.52222\ttrain-logloss:0.04893\n",
      "[288]\tval-auc:0.67041\tval-aucpr:0.18612\tval-logloss:0.14175\ttrain-auc:0.92956\ttrain-aucpr:0.52265\ttrain-logloss:0.04890\n",
      "[289]\tval-auc:0.67023\tval-aucpr:0.18601\tval-logloss:0.14242\ttrain-auc:0.92959\ttrain-aucpr:0.52291\ttrain-logloss:0.04889\n",
      "[290]\tval-auc:0.67040\tval-aucpr:0.18596\tval-logloss:0.14252\ttrain-auc:0.93002\ttrain-aucpr:0.52359\ttrain-logloss:0.04884\n",
      "[291]\tval-auc:0.67029\tval-aucpr:0.18519\tval-logloss:0.14333\ttrain-auc:0.93029\ttrain-aucpr:0.52401\ttrain-logloss:0.04881\n",
      "[292]\tval-auc:0.67026\tval-aucpr:0.18518\tval-logloss:0.14330\ttrain-auc:0.93041\ttrain-aucpr:0.52431\ttrain-logloss:0.04880\n",
      "[293]\tval-auc:0.67068\tval-aucpr:0.18532\tval-logloss:0.14333\ttrain-auc:0.93067\ttrain-aucpr:0.52488\ttrain-logloss:0.04876\n",
      "[294]\tval-auc:0.67099\tval-aucpr:0.18447\tval-logloss:0.14331\ttrain-auc:0.93095\ttrain-aucpr:0.52568\ttrain-logloss:0.04870\n",
      "[295]\tval-auc:0.67126\tval-aucpr:0.18469\tval-logloss:0.14327\ttrain-auc:0.93120\ttrain-aucpr:0.52641\ttrain-logloss:0.04864\n",
      "[296]\tval-auc:0.67127\tval-aucpr:0.18471\tval-logloss:0.14326\ttrain-auc:0.93130\ttrain-aucpr:0.52678\ttrain-logloss:0.04862\n",
      "[297]\tval-auc:0.67118\tval-aucpr:0.18577\tval-logloss:0.14322\ttrain-auc:0.93155\ttrain-aucpr:0.52722\ttrain-logloss:0.04859\n",
      "[298]\tval-auc:0.67121\tval-aucpr:0.18576\tval-logloss:0.14324\ttrain-auc:0.93184\ttrain-aucpr:0.52794\ttrain-logloss:0.04854\n",
      "[299]\tval-auc:0.67144\tval-aucpr:0.18591\tval-logloss:0.14335\ttrain-auc:0.93192\ttrain-aucpr:0.52852\ttrain-logloss:0.04850\n"
     ]
    }
   ],
   "source": [
    "model = xgb.train(xgb_params, dtrain, num_boost_round=xgb_params['n_estimators'], evals=[(dval, 'val'), (dtrain, 'train')], early_stopping_rounds=int(xgb_params['n_estimators']/2))"
   ]
  },
  {
   "cell_type": "code",
   "execution_count": 21,
   "metadata": {
    "lines_to_next_cell": 2
   },
   "outputs": [],
   "source": [
    "y_pred_proba = model.predict(dtest)"
   ]
  },
  {
   "cell_type": "markdown",
   "metadata": {},
   "source": [
    "## Evaluation"
   ]
  },
  {
   "cell_type": "code",
   "execution_count": 22,
   "metadata": {},
   "outputs": [
    {
     "name": "stdout",
     "output_type": "stream",
     "text": [
      "Average Precision:  0.19\n"
     ]
    }
   ],
   "source": [
    "ap = average_precision_score(y_test, y_pred_proba)\n",
    "print(\"Average Precision: \", np.round(ap,2))"
   ]
  },
  {
   "cell_type": "code",
   "execution_count": 23,
   "metadata": {},
   "outputs": [
    {
     "data": {
      "image/png": "[encoded data removed]",
      "text/plain": [
       "<Figure size 432x288 with 1 Axes>"
      ]
     },
     "metadata": {
      "needs_background": "light"
     },
     "output_type": "display_data"
    }
   ],
   "source": [
    "fig = plot_ap(y_test, y_pred_proba)"
   ]
  },
  {
   "cell_type": "code",
   "execution_count": 24,
   "metadata": {},
   "outputs": [
    {
     "name": "stdout",
     "output_type": "stream",
     "text": [
      "F1 Score:  0.243\n"
     ]
    }
   ],
   "source": [
    "optimal_threshold, optimal_f1_score = get_optimal_f1_cutoff(y_test, y_pred_proba)\n",
    "print(\"F1 Score: \", np.round(optimal_f1_score, 4))"
   ]
  },
  {
   "cell_type": "code",
   "execution_count": 25,
   "metadata": {},
   "outputs": [
    {
     "name": "stdout",
     "output_type": "stream",
     "text": [
      "Confusion Matrix: \n",
      " [[97932   523]\n",
      " [ 1259   286]]\n"
     ]
    }
   ],
   "source": [
    "cm = get_confusion_matrix(y_test, y_pred_proba, optimal_threshold)\n",
    "print(\"Confusion Matrix: \\n\", cm)"
   ]
  },
  {
   "cell_type": "code",
   "execution_count": 26,
   "metadata": {},
   "outputs": [],
   "source": [
    "from sklearn.metrics import roc_auc_score"
   ]
  },
  {
   "cell_type": "code",
   "execution_count": 27,
   "metadata": {},
   "outputs": [
    {
     "data": {
      "text/plain": [
       "0.6695896158759632"
      ]
     },
     "execution_count": 27,
     "metadata": {},
     "output_type": "execute_result"
    }
   ],
   "source": [
    "roc_auc_score(y_test, y_pred_proba)"
   ]
  },
  {
   "cell_type": "code",
   "execution_count": null,
   "metadata": {},
   "outputs": [],
   "source": []
  }
 ],
 "metadata": {
  "kernelspec": {
   "display_name": "fucc_env",
   "language": "python",
   "name": "fucc_env"
  },
  "language_info": {
   "codemirror_mode": {
    "name": "ipython",
    "version": 3
   },
   "file_extension": ".py",
   "mimetype": "text/x-python",
   "name": "python",
   "nbconvert_exporter": "python",
   "pygments_lexer": "ipython3",
   "version": "3.6.10"
  },
  "toc": {
   "base_numbering": 1,
   "nav_menu": {},
   "number_sections": true,
   "sideBar": true,
   "skip_h1_title": false,
   "title_cell": "Table of Contents",
   "title_sidebar": "Contents",
   "toc_cell": false,
   "toc_position": {},
   "toc_section_display": true,
   "toc_window_display": false
  }
 },
 "nbformat": 4,
 "nbformat_minor": 5
}
