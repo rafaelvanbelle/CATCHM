{
 "cells": [
  {
   "cell_type": "markdown",
   "id": "9a953792",
   "metadata": {},
   "source": [
    "# Inductive Pagerank [DEMO]"
   ]
  },
  {
   "cell_type": "markdown",
   "id": "9339d0d0",
   "metadata": {},
   "source": [
    "The Inductive Pagerank technique is based on the APATE technique by Van Vlasselaer et al. (2016).\n",
    "This technique is an important benchmark for network-based fraud detection. Hence, performance obtained in this notebook can be compared with performance of the CATCHM technique.\n",
    "\n",
    "Before running the demo, please download the demo dataset from Kaggle:\n",
    "https://www.kaggle.com/ranjeetshrivastav/fraud-detection-dataset\n"
   ]
  },
  {
   "cell_type": "code",
   "execution_count": 1,
   "id": "45c5df20",
   "metadata": {},
   "outputs": [],
   "source": [
    "import os\n",
    "import numpy as np\n",
    "import pandas as pd\n",
    "import networkx as nx\n",
    "import xgboost as xgb\n",
    "from fucc.metrics import plot_ap, get_optimal_f1_cutoff, get_confusion_matrix\n",
    "from sklearn.metrics import average_precision_score\n",
    "import logging\n",
    "logging.basicConfig(level=logging.INFO)"
   ]
  },
  {
   "cell_type": "code",
   "execution_count": 2,
   "id": "d229ab05",
   "metadata": {},
   "outputs": [],
   "source": [
    "from fucc.pagerank import get_pagerank_suspicion_scores, inductive_step, splitDataFrameIntoSmaller, postprocessing_historical_edges\n",
    "from fucc.utils import get_filename, export_suspicion_scores, import_suspicion_scores, multiprocessing\n",
    "from tqdm import tqdm\n",
    "from functools import partial\n",
    "import datetime\n",
    "import pickle"
   ]
  },
  {
   "cell_type": "code",
   "execution_count": 3,
   "id": "84553527",
   "metadata": {},
   "outputs": [],
   "source": [
    "# Parameters\n",
    "weighted = True\n",
    "lambdas = {'ST': 0.03, 'MT': 0.004, 'LT': 0.0001}\n",
    "chunksize = 5000\n",
    "# the 'workers' parameter is used for multi-processing.\n",
    "WORKERS = 12"
   ]
  },
  {
   "cell_type": "code",
   "execution_count": 4,
   "id": "70ca7a2b",
   "metadata": {},
   "outputs": [],
   "source": [
    "output_path = ''"
   ]
  },
  {
   "cell_type": "markdown",
   "id": "96f20ef1",
   "metadata": {},
   "source": [
    "## Load Data"
   ]
  },
  {
   "cell_type": "code",
   "execution_count": 5,
   "id": "9cd172d6",
   "metadata": {},
   "outputs": [],
   "source": [
    "### PATH TO DEMO DATA ###\n",
    "demo_data_path = './transactions/transactions.txt'\n",
    "\n",
    "df = pd.read_json(demo_data_path,  lines=True, convert_dates=[4])\n",
    "# Transform fourth column to datetime format\n",
    "df.iloc[:, 4] = pd.to_datetime(df.iloc[:, 4])\n",
    "# Sort dataframe by datetime\n",
    "df = df.sort_values('transactionDateTime')\n",
    "# Create a transaction ID\n",
    "df.loc[:, 'TX_ID'] = range(df.shape[0])\n",
    "# Rename columns to work with hard-coded feature names in our code\n",
    "df = df.rename(columns={\"merchantName\":\"TERM_MIDUID\", \"customerId\":\"CARD_PAN_ID\", \"isFraud\": \"TX_FRAUD\", \"transactionDateTime\":\"TX_DATETIME\"})"
   ]
  },
  {
   "cell_type": "code",
   "execution_count": 6,
   "id": "e0904919",
   "metadata": {},
   "outputs": [],
   "source": [
    "# Split into train, validation and test set\n",
    "df_train = df.iloc[:380000]\n",
    "df_val = df.iloc[380000:400000]\n",
    "df_test = df.iloc[400000:500000]"
   ]
  },
  {
   "cell_type": "code",
   "execution_count": 7,
   "id": "b9e2c97c",
   "metadata": {},
   "outputs": [],
   "source": [
    "# The 'personalization_nodes' are confirmed fraud cases that pagerank will use to assign suspicion scores to each node in the transaction network.\n",
    "personalization_nodes = list(df_train.index)"
   ]
  },
  {
   "cell_type": "markdown",
   "id": "c9dce282",
   "metadata": {},
   "source": [
    "## Pagerank"
   ]
  },
  {
   "cell_type": "markdown",
   "id": "ee27d5d8",
   "metadata": {},
   "source": [
    "Pagerank is ran three times with different parameter values. \n",
    "- Short term\n",
    "- Mid term\n",
    "- Long term"
   ]
  },
  {
   "cell_type": "code",
   "execution_count": 8,
   "id": "3e64080b",
   "metadata": {},
   "outputs": [
    {
     "name": "stderr",
     "output_type": "stream",
     "text": [
      "INFO:root:Building network\n",
      "INFO:root:Calculating edge weights for ST\n",
      "INFO:root:Calculating some weights\n",
      "INFO:root:ok, ST\n",
      "INFO:root:Personalization\n",
      "INFO:root:Building graph ST\n",
      "INFO:root:Pagerank started\n"
     ]
    },
    {
     "name": "stdout",
     "output_type": "stream",
     "text": [
      "387323\n",
      "6309\n"
     ]
    },
    {
     "name": "stderr",
     "output_type": "stream",
     "text": [
      "INFO:root:Pagerank finished\n",
      "INFO:root:Building network\n",
      "INFO:root:Calculating edge weights for MT\n",
      "INFO:root:Calculating some weights\n",
      "INFO:root:ok, MT\n",
      "INFO:root:Personalization\n",
      "INFO:root:Building graph MT\n",
      "INFO:root:Pagerank started\n"
     ]
    },
    {
     "name": "stdout",
     "output_type": "stream",
     "text": [
      "387323\n",
      "6309\n"
     ]
    },
    {
     "name": "stderr",
     "output_type": "stream",
     "text": [
      "INFO:root:Pagerank finished\n",
      "INFO:root:Building network\n",
      "INFO:root:Calculating edge weights for LT\n",
      "INFO:root:Calculating some weights\n",
      "INFO:root:ok, LT\n",
      "INFO:root:Personalization\n",
      "INFO:root:Building graph LT\n",
      "INFO:root:Pagerank started\n"
     ]
    },
    {
     "name": "stdout",
     "output_type": "stream",
     "text": [
      "387323\n",
      "6309\n"
     ]
    },
    {
     "name": "stderr",
     "output_type": "stream",
     "text": [
      "INFO:root:Pagerank finished\n"
     ]
    },
    {
     "name": "stdout",
     "output_type": "stream",
     "text": [
      "CPU times: user 2min 55s, sys: 5.15 s, total: 3min\n",
      "Wall time: 3min 2s\n"
     ]
    }
   ],
   "source": [
    "%%time\n",
    "\n",
    "dict_suspicion_scores = {}\n",
    "dict_G = {}\n",
    "\n",
    "for t, lambd in lambdas.items():\n",
    "    suspicion_scores, G = get_pagerank_suspicion_scores(\n",
    "                              df_train,\n",
    "                              t=t,\n",
    "                              lambd=lambd,\n",
    "                              alpha=0.85,\n",
    "                              n_jobs=WORKERS,\n",
    "                              personalization_nodes=personalization_nodes,\n",
    "                              weighted=weighted)\n",
    "\n",
    "\n",
    "    dict_suspicion_scores[t] = suspicion_scores\n",
    "    dict_G[t] = G"
   ]
  },
  {
   "cell_type": "code",
   "execution_count": 9,
   "id": "3facff32",
   "metadata": {},
   "outputs": [
    {
     "name": "stderr",
     "output_type": "stream",
     "text": [
      "  0%|          | 0/11 [00:00<?, ?it/s]INFO:root:post processing started\n",
      "INFO:root:post processing started\n",
      "INFO:root:post processing started\n",
      "INFO:root:post processing started\n",
      "INFO:root:post processing started\n",
      "INFO:root:post processing started\n",
      "INFO:root:post processing started\n",
      "INFO:root:post processing started\n",
      " 18%|█▊        | 2/11 [01:10<07:11, 48.00s/it]INFO:root:post processing started\n",
      " 45%|████▌     | 5/11 [01:15<02:25, 24.27s/it]INFO:root:post processing started\n",
      " 55%|█████▍    | 6/11 [01:17<01:27, 17.53s/it]INFO:root:post processing started\n",
      "100%|██████████| 11/11 [01:53<00:00, 10.31s/it]\n",
      "  0%|          | 0/11 [00:00<?, ?it/s]INFO:root:post processing started\n",
      "INFO:root:post processing started\n",
      "INFO:root:post processing started\n",
      "INFO:root:post processing started\n",
      "INFO:root:post processing started\n",
      "INFO:root:post processing started\n",
      "INFO:root:post processing started\n",
      "INFO:root:post processing started\n",
      " 36%|███▋      | 4/11 [01:10<02:43, 23.36s/it]INFO:root:post processing started\n",
      " 45%|████▌     | 5/11 [01:12<01:42, 17.08s/it]INFO:root:post processing started\n",
      " 55%|█████▍    | 6/11 [01:14<01:02, 12.59s/it]INFO:root:post processing started\n",
      "100%|██████████| 11/11 [01:51<00:00, 10.12s/it]\n",
      "  0%|          | 0/11 [00:00<?, ?it/s]INFO:root:post processing started\n",
      "INFO:root:post processing started\n",
      "INFO:root:post processing started\n",
      "INFO:root:post processing started\n",
      "INFO:root:post processing started\n",
      "INFO:root:post processing started\n",
      "INFO:root:post processing started\n",
      "INFO:root:post processing started\n",
      " 27%|██▋       | 3/11 [01:09<04:24, 33.06s/it]INFO:root:post processing started\n",
      " 45%|████▌     | 5/11 [01:12<01:41, 16.97s/it]INFO:root:post processing started\n",
      " 55%|█████▍    | 6/11 [01:14<01:02, 12.52s/it]INFO:root:post processing started\n",
      "100%|██████████| 11/11 [01:50<00:00, 10.05s/it]\n"
     ]
    },
    {
     "name": "stdout",
     "output_type": "stream",
     "text": [
      "CPU times: user 48.7 s, sys: 11.6 s, total: 1min\n",
      "Wall time: 5min 45s\n"
     ]
    }
   ],
   "source": [
    "%%time\n",
    "## Get suspicion scores for the validation part of the training data\n",
    "data = df_val.set_index('TX_ID')\n",
    "data = data.loc[:, ['CARD_PAN_ID', 'TERM_MIDUID']]\n",
    "\n",
    "# We only need these columns from historical data\n",
    "historical_data = df_train.set_index('TX_ID')\n",
    "historical_data = historical_data.loc[:, ['CARD_PAN_ID', 'TERM_MIDUID']]\n",
    "\n",
    "# Inductive val set processing\n",
    "\n",
    "dict_results = {}\n",
    "for t,lamb in lambdas.items():\n",
    "\n",
    "    suspicion_scores, G = dict_suspicion_scores[t], dict_G[t]\n",
    "\n",
    "    # split df in smaller chunks\n",
    "    chunks = splitDataFrameIntoSmaller(data, chunkSize=2000)\n",
    "    partial_inductive_step = partial(inductive_step, historical_edges=historical_data, suspicion_scores=suspicion_scores, G=G, t=t)\n",
    "\n",
    "    result = multiprocessing(function=partial_inductive_step, chunks=chunks)\n",
    "    #f#ilename = get_filename(filename_elements=[subset_name, t])\n",
    "    \n",
    "    dict_results[t] = result\n",
    "    #result.to_csv(os.path.join(output_path, filename + '_output_val.csv'))\n",
    "\n",
    "df_val_pagerank = df_val.copy()\n",
    "for t, lamb in lambdas.items():\n",
    "    #filename = get_filename(filename_elements=[subset_name, t])\n",
    "    df_pagerank = dict_results[t]\n",
    "    #df_pagerank = df_pagerank.set_index('TX_ID')\n",
    "    df_pagerank = df_pagerank.filter(regex='SC_*')\n",
    "    df_val_pagerank = df_val_pagerank.merge(df_pagerank, left_on='TX_ID', right_index=True) \n",
    "\n",
    "#filename = get_filename(filename_elements=[subset_name])\n",
    "#df_val_pagerank.to_csv(os.path.join(output_path, subset_name + '_val_pagerank_inductive.csv'))"
   ]
  },
  {
   "cell_type": "code",
   "execution_count": 10,
   "id": "795b9775",
   "metadata": {
    "lines_to_next_cell": 2
   },
   "outputs": [
    {
     "name": "stderr",
     "output_type": "stream",
     "text": [
      "  0%|          | 0/51 [00:00<?, ?it/s]INFO:root:post processing started\n",
      "INFO:root:post processing started\n",
      "INFO:root:post processing started\n",
      "INFO:root:post processing started\n",
      "INFO:root:post processing started\n",
      "INFO:root:post processing started\n",
      "INFO:root:post processing started\n",
      "INFO:root:post processing started\n",
      "  4%|▍         | 2/51 [01:10<38:21, 46.97s/it]INFO:root:post processing started\n",
      " 10%|▉         | 5/51 [01:16<18:28, 24.10s/it]INFO:root:post processing started\n",
      " 12%|█▏        | 6/51 [01:18<13:10, 17.56s/it]INFO:root:post processing started\n",
      " 14%|█▎        | 7/51 [01:21<09:32, 13.01s/it]INFO:root:post processing started\n",
      " 16%|█▌        | 8/51 [01:23<06:59,  9.75s/it]INFO:root:post processing started\n",
      "INFO:root:post processing started\n",
      "INFO:root:post processing started\n",
      "INFO:root:post processing started\n",
      " 24%|██▎       | 12/51 [02:22<08:07, 12.49s/it]INFO:root:post processing started\n",
      "INFO:root:post processing started\n",
      " 25%|██▌       | 13/51 [02:27<06:19,  9.99s/it]INFO:root:post processing started\n",
      " 29%|██▉       | 15/51 [02:31<04:33,  7.59s/it]INFO:root:post processing started\n",
      " 31%|███▏      | 16/51 [02:33<03:30,  6.01s/it]INFO:root:post processing started\n",
      "INFO:root:post processing started\n",
      "INFO:root:post processing started\n",
      "INFO:root:post processing started\n",
      " 39%|███▉      | 20/51 [03:43<06:27, 12.50s/it]INFO:root:post processing started\n",
      " 41%|████      | 21/51 [03:45<04:40,  9.34s/it]INFO:root:post processing started\n",
      " 47%|████▋     | 24/51 [03:47<03:02,  6.75s/it]INFO:root:post processing started\n",
      "INFO:root:post processing started\n",
      "INFO:root:post processing started\n",
      "INFO:root:post processing started\n",
      "INFO:root:post processing started\n",
      "INFO:root:post processing started\n",
      " 55%|█████▍    | 28/51 [04:54<06:23, 16.66s/it]INFO:root:post processing started\n",
      "INFO:root:post processing started\n",
      " 59%|█████▉    | 30/51 [04:58<04:17, 12.28s/it]INFO:root:post processing started\n",
      "INFO:root:post processing started\n",
      " 61%|██████    | 31/51 [05:02<03:18,  9.94s/it]INFO:root:post processing started\n",
      "INFO:root:post processing started\n",
      "INFO:root:post processing started\n",
      "INFO:root:post processing started\n",
      " 67%|██████▋   | 34/51 [06:01<03:25, 12.09s/it]INFO:root:post processing started\n",
      " 71%|███████   | 36/51 [06:07<02:18,  9.25s/it]INFO:root:post processing started\n",
      " 76%|███████▋  | 39/51 [06:09<01:20,  6.67s/it]INFO:root:post processing started\n",
      " 78%|███████▊  | 40/51 [06:11<00:57,  5.23s/it]INFO:root:post processing started\n",
      "INFO:root:post processing started\n",
      "INFO:root:post processing started\n",
      "INFO:root:post processing started\n",
      "INFO:root:post processing started\n",
      " 80%|████████  | 41/51 [07:08<03:29, 20.93s/it]INFO:root:post processing started\n",
      " 84%|████████▍ | 43/51 [07:13<01:31, 11.46s/it]INFO:root:post processing started\n",
      " 86%|████████▋ | 44/51 [07:17<01:03,  9.12s/it]INFO:root:post processing started\n",
      "100%|██████████| 51/51 [07:55<00:00,  9.32s/it]\n",
      "  0%|          | 0/51 [00:00<?, ?it/s]INFO:root:post processing started\n",
      "INFO:root:post processing started\n",
      "INFO:root:post processing started\n",
      "INFO:root:post processing started\n",
      "INFO:root:post processing started\n",
      "INFO:root:post processing started\n",
      "INFO:root:post processing started\n",
      "INFO:root:post processing started\n",
      "  6%|▌         | 3/51 [01:11<37:56, 47.44s/it]INFO:root:post processing started\n",
      " 12%|█▏        | 6/51 [01:15<18:02, 24.05s/it]INFO:root:post processing started\n",
      " 14%|█▎        | 7/51 [01:17<12:42, 17.34s/it]INFO:root:post processing started\n",
      " 16%|█▌        | 8/51 [01:19<09:07, 12.72s/it]INFO:root:post processing started\n",
      "INFO:root:post processing started\n",
      "INFO:root:post processing started\n",
      "INFO:root:post processing started\n",
      "INFO:root:post processing started\n",
      " 18%|█▊        | 9/51 [02:10<16:57, 24.23s/it]INFO:root:post processing started\n",
      " 20%|█▉        | 10/51 [02:16<12:55, 18.93s/it]INFO:root:post processing started\n",
      " 24%|██▎       | 12/51 [02:20<09:00, 13.86s/it]INFO:root:post processing started\n",
      "INFO:root:post processing started\n",
      " 27%|██▋       | 14/51 [02:23<06:16, 10.18s/it]INFO:root:post processing started\n",
      " 29%|██▉       | 15/51 [02:28<05:03,  8.42s/it]INFO:root:post processing started\n",
      "INFO:root:post processing started\n",
      "INFO:root:post processing started\n",
      " 33%|███▎      | 17/51 [03:17<07:30, 13.25s/it]INFO:root:post processing started\n",
      " 35%|███▌      | 18/51 [03:22<05:58, 10.87s/it]INFO:root:post processing started\n",
      " 39%|███▉      | 20/51 [03:27<04:18,  8.35s/it]INFO:root:post processing started\n",
      " 41%|████      | 21/51 [03:30<03:21,  6.72s/it]INFO:root:post processing started\n",
      " 47%|████▋     | 24/51 [03:35<01:51,  4.15s/it]INFO:root:post processing started\n",
      "INFO:root:post processing started\n",
      "INFO:root:post processing started\n",
      "INFO:root:post processing started\n",
      " 49%|████▉     | 25/51 [04:20<07:10, 16.56s/it]INFO:root:post processing started\n",
      " 55%|█████▍    | 28/51 [04:32<03:59, 10.40s/it]INFO:root:post processing started\n",
      "INFO:root:post processing started\n",
      " 57%|█████▋    | 29/51 [04:37<03:10,  8.67s/it]INFO:root:post processing started\n",
      " 61%|██████    | 31/51 [04:41<01:43,  5.17s/it]INFO:root:post processing started\n",
      " 63%|██████▎   | 32/51 [04:43<01:21,  4.31s/it]INFO:root:post processing started\n",
      "INFO:root:post processing started\n",
      "INFO:root:post processing started\n",
      " 65%|██████▍   | 33/51 [05:31<05:14, 17.45s/it]INFO:root:post processing started\n",
      " 71%|███████   | 36/51 [05:42<02:38, 10.54s/it]INFO:root:post processing started\n",
      "INFO:root:post processing started\n",
      " 75%|███████▍  | 38/51 [05:45<01:17,  5.96s/it]INFO:root:post processing started\n",
      "INFO:root:post processing started\n",
      " 76%|███████▋  | 39/51 [05:50<01:08,  5.71s/it]INFO:root:post processing started\n",
      " 78%|███████▊  | 40/51 [05:54<00:53,  4.91s/it]INFO:root:post processing started\n",
      "INFO:root:post processing started\n",
      " 80%|████████  | 41/51 [06:35<02:38, 15.85s/it]INFO:root:post processing started\n",
      " 86%|████████▋ | 44/51 [06:46<01:09,  9.86s/it]INFO:root:post processing started\n",
      " 88%|████████▊ | 45/51 [06:48<00:44,  7.46s/it]INFO:root:post processing started\n",
      "100%|██████████| 51/51 [07:25<00:00,  8.73s/it]\n",
      "  0%|          | 0/51 [00:00<?, ?it/s]INFO:root:post processing started\n",
      "INFO:root:post processing started\n",
      "INFO:root:post processing started\n",
      "INFO:root:post processing started\n",
      "INFO:root:post processing started\n",
      "INFO:root:post processing started\n",
      "INFO:root:post processing started\n",
      "INFO:root:post processing started\n",
      "  6%|▌         | 3/51 [01:11<37:38, 47.05s/it]INFO:root:post processing started\n",
      " 12%|█▏        | 6/51 [01:14<17:51, 23.81s/it]INFO:root:post processing started\n",
      " 14%|█▎        | 7/51 [01:16<12:37, 17.22s/it]INFO:root:post processing started\n",
      " 16%|█▌        | 8/51 [01:18<09:00, 12.58s/it]INFO:root:post processing started\n",
      "INFO:root:post processing started\n",
      "INFO:root:post processing started\n",
      "INFO:root:post processing started\n",
      "INFO:root:post processing started\n",
      " 18%|█▊        | 9/51 [02:10<17:10, 24.53s/it]INFO:root:post processing started\n",
      " 20%|█▉        | 10/51 [02:14<12:28, 18.26s/it]INFO:root:post processing started\n",
      " 24%|██▎       | 12/51 [02:19<08:47, 13.52s/it]INFO:root:post processing started\n",
      " 27%|██▋       | 14/51 [02:22<06:05,  9.88s/it]INFO:root:post processing started\n",
      "INFO:root:post processing started\n",
      " 29%|██▉       | 15/51 [02:26<04:59,  8.32s/it]INFO:root:post processing started\n",
      "INFO:root:post processing started\n",
      "INFO:root:post processing started\n",
      " 35%|███▌      | 18/51 [03:20<05:52, 10.70s/it]INFO:root:post processing started\n",
      " 37%|███▋      | 19/51 [03:24<04:34,  8.57s/it]INFO:root:post processing started\n",
      " 41%|████      | 21/51 [03:27<02:27,  4.91s/it]INFO:root:post processing started\n",
      " 43%|████▎     | 22/51 [03:32<02:25,  5.02s/it]INFO:root:post processing started\n",
      "INFO:root:post processing started\n",
      " 47%|████▋     | 24/51 [03:36<01:47,  3.98s/it]INFO:root:post processing started\n",
      "INFO:root:post processing started\n",
      "INFO:root:post processing started\n",
      " 49%|████▉     | 25/51 [04:27<07:49, 18.07s/it]INFO:root:post processing started\n",
      " 51%|█████     | 26/51 [04:37<06:33, 15.74s/it]INFO:root:post processing started\n",
      " 55%|█████▍    | 28/51 [04:42<04:31, 11.81s/it]INFO:root:post processing started\n",
      "INFO:root:post processing started\n",
      " 57%|█████▋    | 29/51 [04:45<03:23,  9.26s/it]INFO:root:post processing started\n",
      " 61%|██████    | 31/51 [04:51<02:24,  7.24s/it]INFO:root:post processing started\n"
     ]
    },
    {
     "name": "stderr",
     "output_type": "stream",
     "text": [
      " 63%|██████▎   | 32/51 [04:54<01:58,  6.25s/it]INFO:root:post processing started\n",
      "INFO:root:post processing started\n",
      " 65%|██████▍   | 33/51 [05:38<05:15, 17.52s/it]INFO:root:post processing started\n",
      " 71%|███████   | 36/51 [05:51<02:44, 10.95s/it]INFO:root:post processing started\n",
      "INFO:root:post processing started\n",
      " 75%|███████▍  | 38/51 [05:55<01:21,  6.28s/it]INFO:root:post processing started\n",
      " 76%|███████▋  | 39/51 [05:58<01:03,  5.25s/it]INFO:root:post processing started\n",
      "\n",
      " 78%|███████▊  | 40/51 [06:03<00:55,  5.06s/it]INFO:root:post processing startedINFO:root:post processing started\n",
      "INFO:root:post processing started\n",
      " 82%|████████▏ | 42/51 [06:51<02:00, 13.35s/it]INFO:root:post processing started\n",
      " 84%|████████▍ | 43/51 [06:57<01:27, 10.97s/it]INFO:root:post processing started\n",
      "INFO:root:post processing started\n",
      "100%|██████████| 51/51 [07:37<00:00,  8.97s/it]\n"
     ]
    },
    {
     "name": "stdout",
     "output_type": "stream",
     "text": [
      "CPU times: user 4min 13s, sys: 47 s, total: 5min\n",
      "Wall time: 23min 13s\n"
     ]
    }
   ],
   "source": [
    "%%time\n",
    "# We only need these columns from data\n",
    "data = df_test.set_index('TX_ID')\n",
    "data = data.loc[:, ['CARD_PAN_ID', 'TERM_MIDUID']]\n",
    "\n",
    "# We only need these columns from historical data\n",
    "historical_data = df_train.set_index('TX_ID')\n",
    "historical_data = historical_data.loc[:, ['CARD_PAN_ID', 'TERM_MIDUID']]\n",
    "\n",
    "# Inductive test set processing\n",
    "\n",
    "dict_results = {}\n",
    "for t,lamb in lambdas.items():\n",
    "\n",
    "    suspicion_scores, G = dict_suspicion_scores[t], dict_G[t]\n",
    "\n",
    "\n",
    "    # split df in smaller chunks\n",
    "    chunks = splitDataFrameIntoSmaller(data, chunkSize=2000)\n",
    "    partial_inductive_step = partial(inductive_step, historical_edges=historical_data, suspicion_scores=suspicion_scores, G=G, t=t)\n",
    "\n",
    "    result = multiprocessing(function=partial_inductive_step, chunks=chunks)\n",
    "    dict_results[t] = result\n",
    "\n",
    "\n",
    "df_test_pagerank = df_test.copy()\n",
    "for t, lamb in lambdas.items():\n",
    "    \n",
    "    df_pagerank =  dict_results[t] \n",
    "    df_pagerank = df_pagerank.filter(regex='SC_*')\n",
    "    df_test_pagerank = df_test_pagerank.merge(df_pagerank, left_on='TX_ID', right_index=True)\n"
   ]
  },
  {
   "cell_type": "code",
   "execution_count": 11,
   "id": "65bc0705",
   "metadata": {
    "lines_to_end_of_cell_marker": 2
   },
   "outputs": [
    {
     "name": "stdout",
     "output_type": "stream",
     "text": [
      "ST\n"
     ]
    },
    {
     "name": "stderr",
     "output_type": "stream",
     "text": [
      "100%|██████████| 77/77 [02:07<00:00,  1.66s/it]\n"
     ]
    },
    {
     "name": "stdout",
     "output_type": "stream",
     "text": [
      "MT\n"
     ]
    },
    {
     "name": "stderr",
     "output_type": "stream",
     "text": [
      "100%|██████████| 77/77 [02:09<00:00,  1.68s/it]"
     ]
    },
    {
     "name": "stdout",
     "output_type": "stream",
     "text": [
      "LT\n"
     ]
    },
    {
     "name": "stderr",
     "output_type": "stream",
     "text": [
      "\n",
      "100%|██████████| 77/77 [02:08<00:00,  1.67s/it]\n"
     ]
    },
    {
     "name": "stdout",
     "output_type": "stream",
     "text": [
      "CPU times: user 14.7 s, sys: 6.41 s, total: 21.1 s\n",
      "Wall time: 6min 30s\n"
     ]
    }
   ],
   "source": [
    "%%time\n",
    "# We only need these columns from data\n",
    "data = df_test.set_index('TX_ID')\n",
    "data = data.loc[:, ['CARD_PAN_ID', 'TERM_MIDUID']]\n",
    "\n",
    "# We only need these columns from historical data\n",
    "historical_data = df_train.set_index('TX_ID')\n",
    "historical_data = historical_data.loc[:, ['CARD_PAN_ID', 'TERM_MIDUID']]\n",
    "\n",
    "\n",
    "# transductive train set processing\n",
    "dict_results = {}\n",
    "for t, lamb in lambdas.items():\n",
    "    print(t)\n",
    "    suspicion_scores, G = dict_suspicion_scores[t], dict_G[t]\n",
    "\n",
    "\n",
    "    #Split historical dataset into smaller chunks\n",
    "    chunks = splitDataFrameIntoSmaller(historical_data, chunkSize=5000)\n",
    "    partial_postprocessing_historical_edges = partial(postprocessing_historical_edges, suspicion_scores=suspicion_scores, t=t)\n",
    "    #partial_inductive_step = partial(inductive_step, historical_edges=historical_data, suspicion_scores=suspicion_scores, G=G, t=t)\n",
    "    \n",
    "    result = multiprocessing(function=partial_postprocessing_historical_edges, chunks=chunks)\n",
    "    dict_results[t] = result\n",
    "\n",
    "df_train_pagerank = df_train.copy()\n",
    "# Load and join ST, MT, LT data for df_train and df_train\n",
    "for t, lamb in lambdas.items():\n",
    "    df_pagerank = dict_results[t]\n",
    "    df_pagerank = df_pagerank.filter(regex='SC_*')\n",
    "    df_train_pagerank = df_train_pagerank.merge(df_pagerank, left_on='TX_ID', right_index=True)"
   ]
  },
  {
   "cell_type": "markdown",
   "id": "3f0d171a",
   "metadata": {},
   "source": [
    "## XGBoost Classifier"
   ]
  },
  {
   "cell_type": "code",
   "execution_count": 12,
   "id": "6179551b",
   "metadata": {},
   "outputs": [],
   "source": [
    "df_train = df_train_pagerank\n",
    "df_val = df_val_pagerank\n",
    "df_test = df_test_pagerank"
   ]
  },
  {
   "cell_type": "code",
   "execution_count": 13,
   "id": "38c6f9e4",
   "metadata": {},
   "outputs": [],
   "source": [
    "pagerank_features = list(df_train.filter(regex='SC').columns)"
   ]
  },
  {
   "cell_type": "code",
   "execution_count": 14,
   "id": "946b8714",
   "metadata": {},
   "outputs": [],
   "source": [
    "X_train = df_train[pagerank_features]\n",
    "X_val = df_val[pagerank_features]\n",
    "y_train = df_train.TX_FRAUD\n",
    "y_val = df_val.TX_FRAUD\n",
    "\n",
    "X_test = df_test[pagerank_features]\n",
    "y_test = df_test.TX_FRAUD\n",
    "\n",
    "dtrain = xgb.DMatrix(X_train, label=y_train)\n",
    "dval = xgb.DMatrix(X_val, label=y_val)\n",
    "dtest = xgb.DMatrix(X_test, label=y_test)"
   ]
  },
  {
   "cell_type": "code",
   "execution_count": 15,
   "id": "f53164c4",
   "metadata": {},
   "outputs": [],
   "source": [
    "xgb_params = {\n",
    "    'eval_metric': ['auc','aucpr', 'logloss'],\n",
    "    'objective':'binary:logistic',\n",
    "    'n_estimators': 300,\n",
    "    'n_jobs':8,\n",
    "    'learning_rate':0.1,\n",
    "    'seed':42,\n",
    "    'colsample_bytree':0.6,\n",
    "    'colsample_bylevel':0.9,\n",
    "    'subsample':0.9\n",
    "}"
   ]
  },
  {
   "cell_type": "code",
   "execution_count": 16,
   "id": "6a35e076",
   "metadata": {
    "scrolled": true
   },
   "outputs": [
    {
     "name": "stdout",
     "output_type": "stream",
     "text": [
      "[18:34:18] WARNING: /Users/runner/miniforge3/conda-bld/xgboost_1593723618214/work/src/learner.cc:480: \n",
      "Parameters: { n_estimators } might not be used.\n",
      "\n",
      "  This may not be accurate due to some parameters are only used in language bindings but\n",
      "  passed down to XGBoost core.  Or some parameters are not used but slip through this\n",
      "  verification. Please open an issue if you find above cases.\n",
      "\n",
      "\n",
      "[0]\tval-auc:0.68166\tval-aucpr:0.07670\tval-logloss:0.60365\ttrain-auc:0.71315\ttrain-aucpr:0.15460\ttrain-logloss:0.60370\n",
      "Multiple eval metrics have been passed: 'train-logloss' will be used for early stopping.\n",
      "\n",
      "Will train until train-logloss hasn't improved in 150 rounds.\n",
      "[1]\tval-auc:0.70357\tval-aucpr:0.13793\tval-logloss:0.53203\ttrain-auc:0.72636\ttrain-aucpr:0.20386\ttrain-logloss:0.53072\n",
      "[2]\tval-auc:0.70306\tval-aucpr:0.14463\tval-logloss:0.47086\ttrain-auc:0.73604\ttrain-aucpr:0.21350\ttrain-logloss:0.47004\n",
      "[3]\tval-auc:0.70129\tval-aucpr:0.14520\tval-logloss:0.41880\ttrain-auc:0.75783\ttrain-aucpr:0.25897\ttrain-logloss:0.41823\n",
      "[4]\tval-auc:0.69252\tval-aucpr:0.14760\tval-logloss:0.37452\ttrain-auc:0.78134\ttrain-aucpr:0.28278\ttrain-logloss:0.37399\n",
      "[5]\tval-auc:0.69244\tval-aucpr:0.14723\tval-logloss:0.33771\ttrain-auc:0.78082\ttrain-aucpr:0.27956\ttrain-logloss:0.33637\n",
      "[6]\tval-auc:0.70604\tval-aucpr:0.15676\tval-logloss:0.30561\ttrain-auc:0.78969\ttrain-aucpr:0.29591\ttrain-logloss:0.30392\n",
      "[7]\tval-auc:0.70770\tval-aucpr:0.16062\tval-logloss:0.27751\ttrain-auc:0.78692\ttrain-aucpr:0.29582\ttrain-logloss:0.27594\n",
      "[8]\tval-auc:0.70679\tval-aucpr:0.16275\tval-logloss:0.25253\ttrain-auc:0.79139\ttrain-aucpr:0.29766\ttrain-logloss:0.25089\n",
      "[9]\tval-auc:0.71210\tval-aucpr:0.16279\tval-logloss:0.23235\ttrain-auc:0.79107\ttrain-aucpr:0.29533\ttrain-logloss:0.22938\n",
      "[10]\tval-auc:0.71059\tval-aucpr:0.16684\tval-logloss:0.21399\ttrain-auc:0.79067\ttrain-aucpr:0.30271\ttrain-logloss:0.21044\n",
      "[11]\tval-auc:0.71308\tval-aucpr:0.16860\tval-logloss:0.19720\ttrain-auc:0.79263\ttrain-aucpr:0.30854\ttrain-logloss:0.19394\n",
      "[12]\tval-auc:0.71071\tval-aucpr:0.17014\tval-logloss:0.18226\ttrain-auc:0.79633\ttrain-aucpr:0.31208\ttrain-logloss:0.17888\n",
      "[13]\tval-auc:0.71489\tval-aucpr:0.16380\tval-logloss:0.16964\ttrain-auc:0.79444\ttrain-aucpr:0.31090\ttrain-logloss:0.16613\n",
      "[14]\tval-auc:0.72166\tval-aucpr:0.16267\tval-logloss:0.15917\ttrain-auc:0.79239\ttrain-aucpr:0.30818\ttrain-logloss:0.15465\n",
      "[15]\tval-auc:0.71980\tval-aucpr:0.16377\tval-logloss:0.14874\ttrain-auc:0.79778\ttrain-aucpr:0.31114\ttrain-logloss:0.14418\n",
      "[16]\tval-auc:0.71632\tval-aucpr:0.16322\tval-logloss:0.13984\ttrain-auc:0.79897\ttrain-aucpr:0.31029\ttrain-logloss:0.13525\n",
      "[17]\tval-auc:0.71394\tval-aucpr:0.16328\tval-logloss:0.13186\ttrain-auc:0.80027\ttrain-aucpr:0.31062\ttrain-logloss:0.12707\n",
      "[18]\tval-auc:0.71678\tval-aucpr:0.16485\tval-logloss:0.12587\ttrain-auc:0.80023\ttrain-aucpr:0.31069\ttrain-logloss:0.11991\n",
      "[19]\tval-auc:0.71715\tval-aucpr:0.16501\tval-logloss:0.11952\ttrain-auc:0.80034\ttrain-aucpr:0.31137\ttrain-logloss:0.11385\n",
      "[20]\tval-auc:0.71696\tval-aucpr:0.16784\tval-logloss:0.11373\ttrain-auc:0.79890\ttrain-aucpr:0.31318\ttrain-logloss:0.10838\n",
      "[21]\tval-auc:0.71796\tval-aucpr:0.16858\tval-logloss:0.10946\ttrain-auc:0.80046\ttrain-aucpr:0.31411\ttrain-logloss:0.10342\n",
      "[22]\tval-auc:0.71851\tval-aucpr:0.16879\tval-logloss:0.10544\ttrain-auc:0.80175\ttrain-aucpr:0.31207\ttrain-logloss:0.09911\n",
      "[23]\tval-auc:0.71468\tval-aucpr:0.16938\tval-logloss:0.10183\ttrain-auc:0.79962\ttrain-aucpr:0.30947\ttrain-logloss:0.09530\n",
      "[24]\tval-auc:0.71987\tval-aucpr:0.17345\tval-logloss:0.09902\ttrain-auc:0.80098\ttrain-aucpr:0.31964\ttrain-logloss:0.09163\n",
      "[25]\tval-auc:0.72279\tval-aucpr:0.17572\tval-logloss:0.09577\ttrain-auc:0.80294\ttrain-aucpr:0.32013\ttrain-logloss:0.08870\n",
      "[26]\tval-auc:0.72127\tval-aucpr:0.17616\tval-logloss:0.09361\ttrain-auc:0.80292\ttrain-aucpr:0.31853\ttrain-logloss:0.08598\n",
      "[27]\tval-auc:0.72385\tval-aucpr:0.17771\tval-logloss:0.09083\ttrain-auc:0.80436\ttrain-aucpr:0.32033\ttrain-logloss:0.08370\n",
      "[28]\tval-auc:0.71907\tval-aucpr:0.17707\tval-logloss:0.08905\ttrain-auc:0.80752\ttrain-aucpr:0.32411\ttrain-logloss:0.08127\n",
      "[29]\tval-auc:0.71987\tval-aucpr:0.17259\tval-logloss:0.08703\ttrain-auc:0.80855\ttrain-aucpr:0.32227\ttrain-logloss:0.07952\n",
      "[30]\tval-auc:0.71470\tval-aucpr:0.17254\tval-logloss:0.08586\ttrain-auc:0.80809\ttrain-aucpr:0.32135\ttrain-logloss:0.07794\n",
      "[31]\tval-auc:0.71800\tval-aucpr:0.18277\tval-logloss:0.08414\ttrain-auc:0.81163\ttrain-aucpr:0.32971\ttrain-logloss:0.07621\n",
      "[32]\tval-auc:0.71849\tval-aucpr:0.18405\tval-logloss:0.08263\ttrain-auc:0.81113\ttrain-aucpr:0.33071\ttrain-logloss:0.07498\n",
      "[33]\tval-auc:0.72268\tval-aucpr:0.18424\tval-logloss:0.08239\ttrain-auc:0.81269\ttrain-aucpr:0.32971\ttrain-logloss:0.07381\n",
      "[34]\tval-auc:0.72545\tval-aucpr:0.18459\tval-logloss:0.08220\ttrain-auc:0.81170\ttrain-aucpr:0.32839\ttrain-logloss:0.07279\n",
      "[35]\tval-auc:0.72537\tval-aucpr:0.18662\tval-logloss:0.08087\ttrain-auc:0.81246\ttrain-aucpr:0.33019\ttrain-logloss:0.07186\n",
      "[36]\tval-auc:0.72612\tval-aucpr:0.18648\tval-logloss:0.08079\ttrain-auc:0.81312\ttrain-aucpr:0.33032\ttrain-logloss:0.07108\n",
      "[37]\tval-auc:0.72618\tval-aucpr:0.18801\tval-logloss:0.08000\ttrain-auc:0.81348\ttrain-aucpr:0.33365\ttrain-logloss:0.07038\n",
      "[38]\tval-auc:0.72303\tval-aucpr:0.18756\tval-logloss:0.08009\ttrain-auc:0.81628\ttrain-aucpr:0.33664\ttrain-logloss:0.06940\n",
      "[39]\tval-auc:0.72377\tval-aucpr:0.19192\tval-logloss:0.07948\ttrain-auc:0.81714\ttrain-aucpr:0.33600\ttrain-logloss:0.06882\n",
      "[40]\tval-auc:0.71902\tval-aucpr:0.19197\tval-logloss:0.07963\ttrain-auc:0.81739\ttrain-aucpr:0.33505\ttrain-logloss:0.06835\n",
      "[41]\tval-auc:0.72196\tval-aucpr:0.19210\tval-logloss:0.07996\ttrain-auc:0.81703\ttrain-aucpr:0.33539\ttrain-logloss:0.06792\n",
      "[42]\tval-auc:0.72023\tval-aucpr:0.19231\tval-logloss:0.07949\ttrain-auc:0.81747\ttrain-aucpr:0.33615\ttrain-logloss:0.06755\n",
      "[43]\tval-auc:0.71589\tval-aucpr:0.19233\tval-logloss:0.07985\ttrain-auc:0.81756\ttrain-aucpr:0.33602\ttrain-logloss:0.06723\n",
      "[44]\tval-auc:0.71886\tval-aucpr:0.20066\tval-logloss:0.07950\ttrain-auc:0.82007\ttrain-aucpr:0.34149\ttrain-logloss:0.06679\n",
      "[45]\tval-auc:0.71745\tval-aucpr:0.20091\tval-logloss:0.07899\ttrain-auc:0.82129\ttrain-aucpr:0.34185\ttrain-logloss:0.06648\n",
      "[46]\tval-auc:0.71686\tval-aucpr:0.19874\tval-logloss:0.07869\ttrain-auc:0.82233\ttrain-aucpr:0.34224\ttrain-logloss:0.06626\n",
      "[47]\tval-auc:0.71317\tval-aucpr:0.19848\tval-logloss:0.07928\ttrain-auc:0.82495\ttrain-aucpr:0.34665\ttrain-logloss:0.06559\n",
      "[48]\tval-auc:0.70868\tval-aucpr:0.19780\tval-logloss:0.08006\ttrain-auc:0.82713\ttrain-aucpr:0.34998\ttrain-logloss:0.06503\n",
      "[49]\tval-auc:0.70608\tval-aucpr:0.19829\tval-logloss:0.08066\ttrain-auc:0.82703\ttrain-aucpr:0.35010\ttrain-logloss:0.06484\n",
      "[50]\tval-auc:0.70746\tval-aucpr:0.20103\tval-logloss:0.08065\ttrain-auc:0.82871\ttrain-aucpr:0.35200\ttrain-logloss:0.06449\n",
      "[51]\tval-auc:0.70556\tval-aucpr:0.20104\tval-logloss:0.08133\ttrain-auc:0.82881\ttrain-aucpr:0.35242\ttrain-logloss:0.06431\n",
      "[52]\tval-auc:0.70124\tval-aucpr:0.20108\tval-logloss:0.08205\ttrain-auc:0.82853\ttrain-aucpr:0.35240\ttrain-logloss:0.06417\n",
      "[53]\tval-auc:0.69898\tval-aucpr:0.20060\tval-logloss:0.08189\ttrain-auc:0.83060\ttrain-aucpr:0.35356\ttrain-logloss:0.06395\n",
      "[54]\tval-auc:0.70082\tval-aucpr:0.20098\tval-logloss:0.08243\ttrain-auc:0.83032\ttrain-aucpr:0.35400\ttrain-logloss:0.06383\n",
      "[55]\tval-auc:0.70369\tval-aucpr:0.20202\tval-logloss:0.08236\ttrain-auc:0.83315\ttrain-aucpr:0.35628\ttrain-logloss:0.06359\n",
      "[56]\tval-auc:0.70574\tval-aucpr:0.20247\tval-logloss:0.08233\ttrain-auc:0.83426\ttrain-aucpr:0.35860\ttrain-logloss:0.06325\n",
      "[57]\tval-auc:0.70318\tval-aucpr:0.20169\tval-logloss:0.08334\ttrain-auc:0.83603\ttrain-aucpr:0.36057\ttrain-logloss:0.06289\n",
      "[58]\tval-auc:0.69884\tval-aucpr:0.20071\tval-logloss:0.08441\ttrain-auc:0.83754\ttrain-aucpr:0.36165\ttrain-logloss:0.06260\n",
      "[59]\tval-auc:0.70069\tval-aucpr:0.20053\tval-logloss:0.08448\ttrain-auc:0.83877\ttrain-aucpr:0.36349\ttrain-logloss:0.06235\n",
      "[60]\tval-auc:0.69764\tval-aucpr:0.19989\tval-logloss:0.08442\ttrain-auc:0.84027\ttrain-aucpr:0.36434\ttrain-logloss:0.06225\n",
      "[61]\tval-auc:0.69462\tval-aucpr:0.20008\tval-logloss:0.08517\ttrain-auc:0.84098\ttrain-aucpr:0.36443\ttrain-logloss:0.06215\n",
      "[62]\tval-auc:0.69227\tval-aucpr:0.19973\tval-logloss:0.08512\ttrain-auc:0.84200\ttrain-aucpr:0.36506\ttrain-logloss:0.06207\n",
      "[63]\tval-auc:0.68934\tval-aucpr:0.19880\tval-logloss:0.08629\ttrain-auc:0.84256\ttrain-aucpr:0.36529\ttrain-logloss:0.06186\n",
      "[64]\tval-auc:0.68780\tval-aucpr:0.19852\tval-logloss:0.08729\ttrain-auc:0.84323\ttrain-aucpr:0.36551\ttrain-logloss:0.06167\n"
     ]
    },
    {
     "name": "stdout",
     "output_type": "stream",
     "text": [
      "[65]\tval-auc:0.68606\tval-aucpr:0.19852\tval-logloss:0.08844\ttrain-auc:0.84360\ttrain-aucpr:0.36586\ttrain-logloss:0.06148\n",
      "[66]\tval-auc:0.68378\tval-aucpr:0.19827\tval-logloss:0.08968\ttrain-auc:0.84401\ttrain-aucpr:0.36640\ttrain-logloss:0.06133\n",
      "[67]\tval-auc:0.68216\tval-aucpr:0.19840\tval-logloss:0.09094\ttrain-auc:0.84417\ttrain-aucpr:0.36659\ttrain-logloss:0.06116\n",
      "[68]\tval-auc:0.68051\tval-aucpr:0.19782\tval-logloss:0.09220\ttrain-auc:0.84441\ttrain-aucpr:0.36678\ttrain-logloss:0.06103\n",
      "[69]\tval-auc:0.67942\tval-aucpr:0.19825\tval-logloss:0.09235\ttrain-auc:0.84569\ttrain-aucpr:0.36775\ttrain-logloss:0.06095\n",
      "[70]\tval-auc:0.67769\tval-aucpr:0.19830\tval-logloss:0.09325\ttrain-auc:0.84570\ttrain-aucpr:0.36775\ttrain-logloss:0.06091\n",
      "[71]\tval-auc:0.67803\tval-aucpr:0.19931\tval-logloss:0.09327\ttrain-auc:0.84686\ttrain-aucpr:0.37197\ttrain-logloss:0.06067\n",
      "[72]\tval-auc:0.67754\tval-aucpr:0.19880\tval-logloss:0.09337\ttrain-auc:0.84732\ttrain-aucpr:0.37297\ttrain-logloss:0.06053\n",
      "[73]\tval-auc:0.67749\tval-aucpr:0.19857\tval-logloss:0.09386\ttrain-auc:0.84769\ttrain-aucpr:0.37329\ttrain-logloss:0.06048\n",
      "[74]\tval-auc:0.67612\tval-aucpr:0.19876\tval-logloss:0.09505\ttrain-auc:0.84782\ttrain-aucpr:0.37425\ttrain-logloss:0.06037\n",
      "[75]\tval-auc:0.67582\tval-aucpr:0.19826\tval-logloss:0.09624\ttrain-auc:0.84814\ttrain-aucpr:0.37459\ttrain-logloss:0.06027\n",
      "[76]\tval-auc:0.67362\tval-aucpr:0.19809\tval-logloss:0.09719\ttrain-auc:0.84814\ttrain-aucpr:0.37467\ttrain-logloss:0.06024\n",
      "[77]\tval-auc:0.67244\tval-aucpr:0.19799\tval-logloss:0.09732\ttrain-auc:0.84858\ttrain-aucpr:0.37544\ttrain-logloss:0.06020\n",
      "[78]\tval-auc:0.67168\tval-aucpr:0.19780\tval-logloss:0.09856\ttrain-auc:0.84879\ttrain-aucpr:0.37565\ttrain-logloss:0.06012\n",
      "[79]\tval-auc:0.67238\tval-aucpr:0.19755\tval-logloss:0.09856\ttrain-auc:0.84932\ttrain-aucpr:0.37631\ttrain-logloss:0.06005\n",
      "[80]\tval-auc:0.67171\tval-aucpr:0.19725\tval-logloss:0.09978\ttrain-auc:0.84939\ttrain-aucpr:0.37655\ttrain-logloss:0.05997\n",
      "[81]\tval-auc:0.67076\tval-aucpr:0.19733\tval-logloss:0.10098\ttrain-auc:0.84999\ttrain-aucpr:0.37656\ttrain-logloss:0.05989\n",
      "[82]\tval-auc:0.66995\tval-aucpr:0.19734\tval-logloss:0.10110\ttrain-auc:0.85015\ttrain-aucpr:0.37663\ttrain-logloss:0.05987\n",
      "[83]\tval-auc:0.66898\tval-aucpr:0.19779\tval-logloss:0.10125\ttrain-auc:0.85166\ttrain-aucpr:0.37821\ttrain-logloss:0.05978\n",
      "[84]\tval-auc:0.66725\tval-aucpr:0.19760\tval-logloss:0.10191\ttrain-auc:0.85206\ttrain-aucpr:0.37860\ttrain-logloss:0.05975\n",
      "[85]\tval-auc:0.66760\tval-aucpr:0.19786\tval-logloss:0.10191\ttrain-auc:0.85254\ttrain-aucpr:0.37927\ttrain-logloss:0.05969\n",
      "[86]\tval-auc:0.66832\tval-aucpr:0.19776\tval-logloss:0.10303\ttrain-auc:0.85249\ttrain-aucpr:0.37941\ttrain-logloss:0.05963\n",
      "[87]\tval-auc:0.66854\tval-aucpr:0.19705\tval-logloss:0.10418\ttrain-auc:0.85256\ttrain-aucpr:0.37948\ttrain-logloss:0.05958\n",
      "[88]\tval-auc:0.66836\tval-aucpr:0.19636\tval-logloss:0.10421\ttrain-auc:0.85362\ttrain-aucpr:0.38092\ttrain-logloss:0.05948\n",
      "[89]\tval-auc:0.66810\tval-aucpr:0.19594\tval-logloss:0.10436\ttrain-auc:0.85385\ttrain-aucpr:0.38127\ttrain-logloss:0.05944\n",
      "[90]\tval-auc:0.66735\tval-aucpr:0.19602\tval-logloss:0.10551\ttrain-auc:0.85384\ttrain-aucpr:0.38121\ttrain-logloss:0.05939\n",
      "[91]\tval-auc:0.66700\tval-aucpr:0.19613\tval-logloss:0.10556\ttrain-auc:0.85418\ttrain-aucpr:0.38149\ttrain-logloss:0.05936\n",
      "[92]\tval-auc:0.66485\tval-aucpr:0.19613\tval-logloss:0.10615\ttrain-auc:0.85457\ttrain-aucpr:0.38178\ttrain-logloss:0.05932\n",
      "[93]\tval-auc:0.66411\tval-aucpr:0.19608\tval-logloss:0.10740\ttrain-auc:0.85458\ttrain-aucpr:0.38193\ttrain-logloss:0.05928\n",
      "[94]\tval-auc:0.66381\tval-aucpr:0.19591\tval-logloss:0.10869\ttrain-auc:0.85474\ttrain-aucpr:0.38209\ttrain-logloss:0.05923\n",
      "[95]\tval-auc:0.66441\tval-aucpr:0.19651\tval-logloss:0.10957\ttrain-auc:0.85480\ttrain-aucpr:0.38214\ttrain-logloss:0.05920\n",
      "[96]\tval-auc:0.66417\tval-aucpr:0.19589\tval-logloss:0.10965\ttrain-auc:0.85524\ttrain-aucpr:0.38287\ttrain-logloss:0.05914\n",
      "[97]\tval-auc:0.66468\tval-aucpr:0.19881\tval-logloss:0.10961\ttrain-auc:0.85641\ttrain-aucpr:0.38526\ttrain-logloss:0.05902\n",
      "[98]\tval-auc:0.66529\tval-aucpr:0.19881\tval-logloss:0.10993\ttrain-auc:0.85667\ttrain-aucpr:0.38561\ttrain-logloss:0.05899\n",
      "[99]\tval-auc:0.66584\tval-aucpr:0.19827\tval-logloss:0.11003\ttrain-auc:0.85704\ttrain-aucpr:0.38627\ttrain-logloss:0.05891\n",
      "[100]\tval-auc:0.66550\tval-aucpr:0.19909\tval-logloss:0.11106\ttrain-auc:0.85718\ttrain-aucpr:0.38640\ttrain-logloss:0.05888\n",
      "[101]\tval-auc:0.66476\tval-aucpr:0.19900\tval-logloss:0.11235\ttrain-auc:0.85735\ttrain-aucpr:0.38644\ttrain-logloss:0.05886\n",
      "[102]\tval-auc:0.66470\tval-aucpr:0.19931\tval-logloss:0.11245\ttrain-auc:0.85777\ttrain-aucpr:0.38677\ttrain-logloss:0.05882\n",
      "[103]\tval-auc:0.66452\tval-aucpr:0.19872\tval-logloss:0.11240\ttrain-auc:0.85796\ttrain-aucpr:0.38710\ttrain-logloss:0.05880\n",
      "[104]\tval-auc:0.66527\tval-aucpr:0.19947\tval-logloss:0.11237\ttrain-auc:0.85866\ttrain-aucpr:0.38739\ttrain-logloss:0.05875\n",
      "[105]\tval-auc:0.66429\tval-aucpr:0.20004\tval-logloss:0.11255\ttrain-auc:0.85907\ttrain-aucpr:0.38827\ttrain-logloss:0.05866\n",
      "[106]\tval-auc:0.66392\tval-aucpr:0.20018\tval-logloss:0.11268\ttrain-auc:0.85950\ttrain-aucpr:0.38876\ttrain-logloss:0.05861\n",
      "[107]\tval-auc:0.66376\tval-aucpr:0.19966\tval-logloss:0.11275\ttrain-auc:0.85953\ttrain-aucpr:0.38882\ttrain-logloss:0.05860\n",
      "[108]\tval-auc:0.66372\tval-aucpr:0.19975\tval-logloss:0.11277\ttrain-auc:0.86033\ttrain-aucpr:0.38953\ttrain-logloss:0.05852\n",
      "[109]\tval-auc:0.66426\tval-aucpr:0.19918\tval-logloss:0.11274\ttrain-auc:0.86058\ttrain-aucpr:0.38975\ttrain-logloss:0.05851\n",
      "[110]\tval-auc:0.66386\tval-aucpr:0.19910\tval-logloss:0.11276\ttrain-auc:0.86148\ttrain-aucpr:0.39099\ttrain-logloss:0.05842\n",
      "[111]\tval-auc:0.66281\tval-aucpr:0.19911\tval-logloss:0.11341\ttrain-auc:0.86177\ttrain-aucpr:0.39115\ttrain-logloss:0.05840\n",
      "[112]\tval-auc:0.66309\tval-aucpr:0.19902\tval-logloss:0.11349\ttrain-auc:0.86262\ttrain-aucpr:0.39199\ttrain-logloss:0.05832\n",
      "[113]\tval-auc:0.66336\tval-aucpr:0.19909\tval-logloss:0.11451\ttrain-auc:0.86279\ttrain-aucpr:0.39204\ttrain-logloss:0.05829\n",
      "[114]\tval-auc:0.66335\tval-aucpr:0.19867\tval-logloss:0.11452\ttrain-auc:0.86305\ttrain-aucpr:0.39267\ttrain-logloss:0.05825\n",
      "[115]\tval-auc:0.66333\tval-aucpr:0.19857\tval-logloss:0.11455\ttrain-auc:0.86342\ttrain-aucpr:0.39314\ttrain-logloss:0.05821\n",
      "[116]\tval-auc:0.66260\tval-aucpr:0.19864\tval-logloss:0.11472\ttrain-auc:0.86363\ttrain-aucpr:0.39343\ttrain-logloss:0.05818\n",
      "[117]\tval-auc:0.66302\tval-aucpr:0.19906\tval-logloss:0.11474\ttrain-auc:0.86492\ttrain-aucpr:0.39585\ttrain-logloss:0.05802\n",
      "[118]\tval-auc:0.66308\tval-aucpr:0.19866\tval-logloss:0.11487\ttrain-auc:0.86531\ttrain-aucpr:0.39610\ttrain-logloss:0.05798\n",
      "[119]\tval-auc:0.66222\tval-aucpr:0.19866\tval-logloss:0.11550\ttrain-auc:0.86552\ttrain-aucpr:0.39626\ttrain-logloss:0.05796\n",
      "[120]\tval-auc:0.66251\tval-aucpr:0.19865\tval-logloss:0.11666\ttrain-auc:0.86555\ttrain-aucpr:0.39647\ttrain-logloss:0.05794\n",
      "[121]\tval-auc:0.66232\tval-aucpr:0.19860\tval-logloss:0.11767\ttrain-auc:0.86567\ttrain-aucpr:0.39663\ttrain-logloss:0.05792\n",
      "[122]\tval-auc:0.66226\tval-aucpr:0.19847\tval-logloss:0.11888\ttrain-auc:0.86581\ttrain-aucpr:0.39674\ttrain-logloss:0.05791\n",
      "[123]\tval-auc:0.66228\tval-aucpr:0.19900\tval-logloss:0.11891\ttrain-auc:0.86609\ttrain-aucpr:0.39704\ttrain-logloss:0.05788\n",
      "[124]\tval-auc:0.66302\tval-aucpr:0.19876\tval-logloss:0.11889\ttrain-auc:0.86712\ttrain-aucpr:0.39893\ttrain-logloss:0.05773\n",
      "[125]\tval-auc:0.66385\tval-aucpr:0.19851\tval-logloss:0.11886\ttrain-auc:0.86782\ttrain-aucpr:0.40030\ttrain-logloss:0.05766\n",
      "[126]\tval-auc:0.66360\tval-aucpr:0.19838\tval-logloss:0.11993\ttrain-auc:0.86804\ttrain-aucpr:0.40072\ttrain-logloss:0.05763\n",
      "[127]\tval-auc:0.66322\tval-aucpr:0.19827\tval-logloss:0.12028\ttrain-auc:0.86829\ttrain-aucpr:0.40095\ttrain-logloss:0.05761\n",
      "[128]\tval-auc:0.66310\tval-aucpr:0.19846\tval-logloss:0.12017\ttrain-auc:0.86845\ttrain-aucpr:0.40130\ttrain-logloss:0.05758\n",
      "[129]\tval-auc:0.66371\tval-aucpr:0.19823\tval-logloss:0.12013\ttrain-auc:0.86921\ttrain-aucpr:0.40372\ttrain-logloss:0.05745\n",
      "[130]\tval-auc:0.66490\tval-aucpr:0.19749\tval-logloss:0.12009\ttrain-auc:0.86971\ttrain-aucpr:0.40469\ttrain-logloss:0.05739\n",
      "[131]\tval-auc:0.66539\tval-aucpr:0.19747\tval-logloss:0.12086\ttrain-auc:0.86983\ttrain-aucpr:0.40477\ttrain-logloss:0.05738\n",
      "[132]\tval-auc:0.66526\tval-aucpr:0.19746\tval-logloss:0.12087\ttrain-auc:0.87018\ttrain-aucpr:0.40510\ttrain-logloss:0.05735\n",
      "[133]\tval-auc:0.66584\tval-aucpr:0.19748\tval-logloss:0.12180\ttrain-auc:0.87029\ttrain-aucpr:0.40511\ttrain-logloss:0.05733\n"
     ]
    },
    {
     "name": "stdout",
     "output_type": "stream",
     "text": [
      "[134]\tval-auc:0.66556\tval-aucpr:0.19728\tval-logloss:0.12298\ttrain-auc:0.87029\ttrain-aucpr:0.40505\ttrain-logloss:0.05732\n",
      "[135]\tval-auc:0.66558\tval-aucpr:0.19734\tval-logloss:0.12295\ttrain-auc:0.87115\ttrain-aucpr:0.40597\ttrain-logloss:0.05725\n",
      "[136]\tval-auc:0.66575\tval-aucpr:0.19739\tval-logloss:0.12287\ttrain-auc:0.87156\ttrain-aucpr:0.40759\ttrain-logloss:0.05715\n",
      "[137]\tval-auc:0.66572\tval-aucpr:0.19735\tval-logloss:0.12294\ttrain-auc:0.87186\ttrain-aucpr:0.40798\ttrain-logloss:0.05712\n",
      "[138]\tval-auc:0.66617\tval-aucpr:0.19747\tval-logloss:0.12296\ttrain-auc:0.87224\ttrain-aucpr:0.40851\ttrain-logloss:0.05708\n",
      "[139]\tval-auc:0.66638\tval-aucpr:0.19802\tval-logloss:0.12295\ttrain-auc:0.87290\ttrain-aucpr:0.40972\ttrain-logloss:0.05700\n",
      "[140]\tval-auc:0.66693\tval-aucpr:0.19654\tval-logloss:0.12307\ttrain-auc:0.87323\ttrain-aucpr:0.41055\ttrain-logloss:0.05693\n",
      "[141]\tval-auc:0.66693\tval-aucpr:0.19613\tval-logloss:0.12402\ttrain-auc:0.87340\ttrain-aucpr:0.41101\ttrain-logloss:0.05691\n",
      "[142]\tval-auc:0.66694\tval-aucpr:0.19612\tval-logloss:0.12402\ttrain-auc:0.87403\ttrain-aucpr:0.41178\ttrain-logloss:0.05686\n",
      "[143]\tval-auc:0.66714\tval-aucpr:0.19608\tval-logloss:0.12404\ttrain-auc:0.87425\ttrain-aucpr:0.41191\ttrain-logloss:0.05685\n",
      "[144]\tval-auc:0.66730\tval-aucpr:0.19617\tval-logloss:0.12401\ttrain-auc:0.87478\ttrain-aucpr:0.41290\ttrain-logloss:0.05678\n",
      "[145]\tval-auc:0.66743\tval-aucpr:0.19618\tval-logloss:0.12401\ttrain-auc:0.87487\ttrain-aucpr:0.41302\ttrain-logloss:0.05677\n",
      "[146]\tval-auc:0.66774\tval-aucpr:0.19651\tval-logloss:0.12400\ttrain-auc:0.87517\ttrain-aucpr:0.41330\ttrain-logloss:0.05674\n",
      "[147]\tval-auc:0.66766\tval-aucpr:0.19650\tval-logloss:0.12441\ttrain-auc:0.87551\ttrain-aucpr:0.41388\ttrain-logloss:0.05670\n",
      "[148]\tval-auc:0.66733\tval-aucpr:0.19599\tval-logloss:0.12441\ttrain-auc:0.87609\ttrain-aucpr:0.41440\ttrain-logloss:0.05665\n",
      "[149]\tval-auc:0.66765\tval-aucpr:0.19599\tval-logloss:0.12438\ttrain-auc:0.87666\ttrain-aucpr:0.41531\ttrain-logloss:0.05659\n",
      "[150]\tval-auc:0.66766\tval-aucpr:0.19604\tval-logloss:0.12473\ttrain-auc:0.87680\ttrain-aucpr:0.41551\ttrain-logloss:0.05658\n",
      "[151]\tval-auc:0.66830\tval-aucpr:0.19608\tval-logloss:0.12568\ttrain-auc:0.87681\ttrain-aucpr:0.41558\ttrain-logloss:0.05657\n",
      "[152]\tval-auc:0.66860\tval-aucpr:0.19621\tval-logloss:0.12565\ttrain-auc:0.87726\ttrain-aucpr:0.41622\ttrain-logloss:0.05652\n",
      "[153]\tval-auc:0.66881\tval-aucpr:0.19618\tval-logloss:0.12662\ttrain-auc:0.87741\ttrain-aucpr:0.41647\ttrain-logloss:0.05650\n",
      "[154]\tval-auc:0.66897\tval-aucpr:0.19632\tval-logloss:0.12663\ttrain-auc:0.87773\ttrain-aucpr:0.41695\ttrain-logloss:0.05647\n",
      "[155]\tval-auc:0.66875\tval-aucpr:0.19661\tval-logloss:0.12665\ttrain-auc:0.87799\ttrain-aucpr:0.41729\ttrain-logloss:0.05645\n",
      "[156]\tval-auc:0.66913\tval-aucpr:0.19627\tval-logloss:0.12666\ttrain-auc:0.87830\ttrain-aucpr:0.41751\ttrain-logloss:0.05641\n",
      "[157]\tval-auc:0.66909\tval-aucpr:0.19622\tval-logloss:0.12667\ttrain-auc:0.87842\ttrain-aucpr:0.41792\ttrain-logloss:0.05640\n",
      "[158]\tval-auc:0.66897\tval-aucpr:0.19622\tval-logloss:0.12664\ttrain-auc:0.87907\ttrain-aucpr:0.41842\ttrain-logloss:0.05636\n",
      "[159]\tval-auc:0.66931\tval-aucpr:0.19631\tval-logloss:0.12759\ttrain-auc:0.87916\ttrain-aucpr:0.41862\ttrain-logloss:0.05634\n",
      "[160]\tval-auc:0.66961\tval-aucpr:0.19626\tval-logloss:0.12761\ttrain-auc:0.87951\ttrain-aucpr:0.41884\ttrain-logloss:0.05631\n",
      "[161]\tval-auc:0.66968\tval-aucpr:0.19618\tval-logloss:0.12760\ttrain-auc:0.87972\ttrain-aucpr:0.41923\ttrain-logloss:0.05629\n",
      "[162]\tval-auc:0.67057\tval-aucpr:0.19653\tval-logloss:0.12753\ttrain-auc:0.88048\ttrain-aucpr:0.41998\ttrain-logloss:0.05622\n",
      "[163]\tval-auc:0.67047\tval-aucpr:0.19685\tval-logloss:0.12754\ttrain-auc:0.88079\ttrain-aucpr:0.42061\ttrain-logloss:0.05617\n",
      "[164]\tval-auc:0.67068\tval-aucpr:0.19541\tval-logloss:0.12754\ttrain-auc:0.88111\ttrain-aucpr:0.42166\ttrain-logloss:0.05611\n",
      "[165]\tval-auc:0.67051\tval-aucpr:0.19558\tval-logloss:0.12760\ttrain-auc:0.88129\ttrain-aucpr:0.42190\ttrain-logloss:0.05609\n",
      "[166]\tval-auc:0.67043\tval-aucpr:0.19562\tval-logloss:0.12761\ttrain-auc:0.88154\ttrain-aucpr:0.42236\ttrain-logloss:0.05607\n",
      "[167]\tval-auc:0.67101\tval-aucpr:0.19603\tval-logloss:0.12758\ttrain-auc:0.88222\ttrain-aucpr:0.42356\ttrain-logloss:0.05599\n",
      "[168]\tval-auc:0.67102\tval-aucpr:0.19604\tval-logloss:0.12758\ttrain-auc:0.88226\ttrain-aucpr:0.42361\ttrain-logloss:0.05598\n",
      "[169]\tval-auc:0.67100\tval-aucpr:0.19606\tval-logloss:0.12789\ttrain-auc:0.88256\ttrain-aucpr:0.42393\ttrain-logloss:0.05596\n",
      "[170]\tval-auc:0.67067\tval-aucpr:0.19594\tval-logloss:0.12791\ttrain-auc:0.88328\ttrain-aucpr:0.42487\ttrain-logloss:0.05589\n",
      "[171]\tval-auc:0.67069\tval-aucpr:0.19593\tval-logloss:0.12791\ttrain-auc:0.88384\ttrain-aucpr:0.42522\ttrain-logloss:0.05585\n",
      "[172]\tval-auc:0.67053\tval-aucpr:0.19652\tval-logloss:0.12790\ttrain-auc:0.88440\ttrain-aucpr:0.42582\ttrain-logloss:0.05580\n",
      "[173]\tval-auc:0.67055\tval-aucpr:0.19660\tval-logloss:0.12793\ttrain-auc:0.88471\ttrain-aucpr:0.42680\ttrain-logloss:0.05573\n",
      "[174]\tval-auc:0.67048\tval-aucpr:0.19660\tval-logloss:0.12793\ttrain-auc:0.88534\ttrain-aucpr:0.42718\ttrain-logloss:0.05569\n",
      "[175]\tval-auc:0.67032\tval-aucpr:0.19662\tval-logloss:0.12793\ttrain-auc:0.88578\ttrain-aucpr:0.42763\ttrain-logloss:0.05565\n",
      "[176]\tval-auc:0.66993\tval-aucpr:0.19592\tval-logloss:0.12780\ttrain-auc:0.88593\ttrain-aucpr:0.42825\ttrain-logloss:0.05561\n",
      "[177]\tval-auc:0.67007\tval-aucpr:0.19602\tval-logloss:0.12780\ttrain-auc:0.88623\ttrain-aucpr:0.42874\ttrain-logloss:0.05558\n",
      "[178]\tval-auc:0.67005\tval-aucpr:0.19609\tval-logloss:0.12780\ttrain-auc:0.88674\ttrain-aucpr:0.42950\ttrain-logloss:0.05554\n",
      "[179]\tval-auc:0.67026\tval-aucpr:0.19610\tval-logloss:0.12778\ttrain-auc:0.88731\ttrain-aucpr:0.42990\ttrain-logloss:0.05548\n",
      "[180]\tval-auc:0.67031\tval-aucpr:0.19611\tval-logloss:0.12777\ttrain-auc:0.88738\ttrain-aucpr:0.42995\ttrain-logloss:0.05547\n",
      "[181]\tval-auc:0.67063\tval-aucpr:0.19675\tval-logloss:0.12775\ttrain-auc:0.88779\ttrain-aucpr:0.43095\ttrain-logloss:0.05540\n",
      "[182]\tval-auc:0.67059\tval-aucpr:0.19652\tval-logloss:0.12878\ttrain-auc:0.88784\ttrain-aucpr:0.43100\ttrain-logloss:0.05539\n",
      "[183]\tval-auc:0.67040\tval-aucpr:0.19695\tval-logloss:0.12885\ttrain-auc:0.88821\ttrain-aucpr:0.43136\ttrain-logloss:0.05536\n",
      "[184]\tval-auc:0.67021\tval-aucpr:0.19674\tval-logloss:0.12890\ttrain-auc:0.88852\ttrain-aucpr:0.43174\ttrain-logloss:0.05531\n",
      "[185]\tval-auc:0.67008\tval-aucpr:0.19674\tval-logloss:0.12892\ttrain-auc:0.88865\ttrain-aucpr:0.43196\ttrain-logloss:0.05529\n",
      "[186]\tval-auc:0.66991\tval-aucpr:0.19672\tval-logloss:0.12911\ttrain-auc:0.88868\ttrain-aucpr:0.43197\ttrain-logloss:0.05529\n",
      "[187]\tval-auc:0.66995\tval-aucpr:0.19670\tval-logloss:0.12944\ttrain-auc:0.88904\ttrain-aucpr:0.43231\ttrain-logloss:0.05526\n",
      "[188]\tval-auc:0.66998\tval-aucpr:0.19687\tval-logloss:0.12942\ttrain-auc:0.88965\ttrain-aucpr:0.43292\ttrain-logloss:0.05521\n",
      "[189]\tval-auc:0.66981\tval-aucpr:0.19702\tval-logloss:0.12943\ttrain-auc:0.89015\ttrain-aucpr:0.43355\ttrain-logloss:0.05515\n",
      "[190]\tval-auc:0.67019\tval-aucpr:0.19703\tval-logloss:0.12941\ttrain-auc:0.89062\ttrain-aucpr:0.43401\ttrain-logloss:0.05511\n",
      "[191]\tval-auc:0.67090\tval-aucpr:0.19687\tval-logloss:0.13023\ttrain-auc:0.89077\ttrain-aucpr:0.43438\ttrain-logloss:0.05509\n",
      "[192]\tval-auc:0.67049\tval-aucpr:0.19669\tval-logloss:0.13128\ttrain-auc:0.89085\ttrain-aucpr:0.43449\ttrain-logloss:0.05507\n",
      "[193]\tval-auc:0.66969\tval-aucpr:0.19673\tval-logloss:0.13203\ttrain-auc:0.89090\ttrain-aucpr:0.43468\ttrain-logloss:0.05506\n",
      "[194]\tval-auc:0.67012\tval-aucpr:0.19679\tval-logloss:0.13283\ttrain-auc:0.89090\ttrain-aucpr:0.43474\ttrain-logloss:0.05505\n",
      "[195]\tval-auc:0.67020\tval-aucpr:0.19661\tval-logloss:0.13282\ttrain-auc:0.89102\ttrain-aucpr:0.43485\ttrain-logloss:0.05504\n",
      "[196]\tval-auc:0.67029\tval-aucpr:0.19675\tval-logloss:0.13282\ttrain-auc:0.89110\ttrain-aucpr:0.43503\ttrain-logloss:0.05503\n",
      "[197]\tval-auc:0.67027\tval-aucpr:0.19720\tval-logloss:0.13269\ttrain-auc:0.89138\ttrain-aucpr:0.43588\ttrain-logloss:0.05498\n",
      "[198]\tval-auc:0.67031\tval-aucpr:0.19739\tval-logloss:0.13268\ttrain-auc:0.89186\ttrain-aucpr:0.43640\ttrain-logloss:0.05494\n",
      "[199]\tval-auc:0.67041\tval-aucpr:0.19845\tval-logloss:0.13278\ttrain-auc:0.89229\ttrain-aucpr:0.43686\ttrain-logloss:0.05490\n",
      "[200]\tval-auc:0.67046\tval-aucpr:0.19836\tval-logloss:0.13277\ttrain-auc:0.89255\ttrain-aucpr:0.43732\ttrain-logloss:0.05488\n",
      "[201]\tval-auc:0.67061\tval-aucpr:0.19764\tval-logloss:0.13264\ttrain-auc:0.89257\ttrain-aucpr:0.43762\ttrain-logloss:0.05486\n",
      "[202]\tval-auc:0.67067\tval-aucpr:0.19760\tval-logloss:0.13264\ttrain-auc:0.89291\ttrain-aucpr:0.43828\ttrain-logloss:0.05482\n"
     ]
    },
    {
     "name": "stdout",
     "output_type": "stream",
     "text": [
      "[203]\tval-auc:0.67111\tval-aucpr:0.19763\tval-logloss:0.13334\ttrain-auc:0.89313\ttrain-aucpr:0.43868\ttrain-logloss:0.05480\n",
      "[204]\tval-auc:0.67105\tval-aucpr:0.19781\tval-logloss:0.13331\ttrain-auc:0.89343\ttrain-aucpr:0.43903\ttrain-logloss:0.05477\n",
      "[205]\tval-auc:0.67103\tval-aucpr:0.19781\tval-logloss:0.13330\ttrain-auc:0.89380\ttrain-aucpr:0.43950\ttrain-logloss:0.05474\n",
      "[206]\tval-auc:0.67071\tval-aucpr:0.19787\tval-logloss:0.13330\ttrain-auc:0.89396\ttrain-aucpr:0.44001\ttrain-logloss:0.05471\n",
      "[207]\tval-auc:0.67063\tval-aucpr:0.19773\tval-logloss:0.13330\ttrain-auc:0.89444\ttrain-aucpr:0.44098\ttrain-logloss:0.05465\n",
      "[208]\tval-auc:0.67081\tval-aucpr:0.19788\tval-logloss:0.13420\ttrain-auc:0.89455\ttrain-aucpr:0.44149\ttrain-logloss:0.05462\n",
      "[209]\tval-auc:0.67082\tval-aucpr:0.19797\tval-logloss:0.13419\ttrain-auc:0.89474\ttrain-aucpr:0.44175\ttrain-logloss:0.05461\n",
      "[210]\tval-auc:0.67093\tval-aucpr:0.19765\tval-logloss:0.13411\ttrain-auc:0.89506\ttrain-aucpr:0.44250\ttrain-logloss:0.05457\n",
      "[211]\tval-auc:0.67118\tval-aucpr:0.19770\tval-logloss:0.13411\ttrain-auc:0.89529\ttrain-aucpr:0.44290\ttrain-logloss:0.05454\n",
      "[212]\tval-auc:0.67121\tval-aucpr:0.19770\tval-logloss:0.13410\ttrain-auc:0.89574\ttrain-aucpr:0.44346\ttrain-logloss:0.05450\n",
      "[213]\tval-auc:0.67132\tval-aucpr:0.19778\tval-logloss:0.13409\ttrain-auc:0.89581\ttrain-aucpr:0.44385\ttrain-logloss:0.05449\n",
      "[214]\tval-auc:0.67144\tval-aucpr:0.19811\tval-logloss:0.13408\ttrain-auc:0.89608\ttrain-aucpr:0.44411\ttrain-logloss:0.05446\n",
      "[215]\tval-auc:0.67204\tval-aucpr:0.19811\tval-logloss:0.13480\ttrain-auc:0.89613\ttrain-aucpr:0.44412\ttrain-logloss:0.05445\n",
      "[216]\tval-auc:0.67200\tval-aucpr:0.19812\tval-logloss:0.13480\ttrain-auc:0.89642\ttrain-aucpr:0.44472\ttrain-logloss:0.05442\n",
      "[217]\tval-auc:0.67204\tval-aucpr:0.19823\tval-logloss:0.13470\ttrain-auc:0.89657\ttrain-aucpr:0.44493\ttrain-logloss:0.05441\n",
      "[218]\tval-auc:0.67221\tval-aucpr:0.19844\tval-logloss:0.13470\ttrain-auc:0.89672\ttrain-aucpr:0.44503\ttrain-logloss:0.05439\n",
      "[219]\tval-auc:0.67211\tval-aucpr:0.19930\tval-logloss:0.13470\ttrain-auc:0.89692\ttrain-aucpr:0.44559\ttrain-logloss:0.05436\n",
      "[220]\tval-auc:0.67231\tval-aucpr:0.19928\tval-logloss:0.13486\ttrain-auc:0.89702\ttrain-aucpr:0.44575\ttrain-logloss:0.05435\n",
      "[221]\tval-auc:0.67240\tval-aucpr:0.19926\tval-logloss:0.13485\ttrain-auc:0.89734\ttrain-aucpr:0.44630\ttrain-logloss:0.05429\n",
      "[222]\tval-auc:0.67190\tval-aucpr:0.19922\tval-logloss:0.13482\ttrain-auc:0.89782\ttrain-aucpr:0.44697\ttrain-logloss:0.05425\n",
      "[223]\tval-auc:0.67172\tval-aucpr:0.19929\tval-logloss:0.13479\ttrain-auc:0.89805\ttrain-aucpr:0.44741\ttrain-logloss:0.05422\n",
      "[224]\tval-auc:0.67231\tval-aucpr:0.19943\tval-logloss:0.13477\ttrain-auc:0.89865\ttrain-aucpr:0.44828\ttrain-logloss:0.05416\n",
      "[225]\tval-auc:0.67237\tval-aucpr:0.19943\tval-logloss:0.13474\ttrain-auc:0.89888\ttrain-aucpr:0.44893\ttrain-logloss:0.05413\n",
      "[226]\tval-auc:0.67225\tval-aucpr:0.19942\tval-logloss:0.13474\ttrain-auc:0.89894\ttrain-aucpr:0.44906\ttrain-logloss:0.05412\n",
      "[227]\tval-auc:0.67236\tval-aucpr:0.19970\tval-logloss:0.13472\ttrain-auc:0.89937\ttrain-aucpr:0.44957\ttrain-logloss:0.05407\n",
      "[228]\tval-auc:0.67233\tval-aucpr:0.19966\tval-logloss:0.13472\ttrain-auc:0.89979\ttrain-aucpr:0.45012\ttrain-logloss:0.05404\n",
      "[229]\tval-auc:0.67231\tval-aucpr:0.19940\tval-logloss:0.13472\ttrain-auc:0.90022\ttrain-aucpr:0.45064\ttrain-logloss:0.05400\n",
      "[230]\tval-auc:0.67224\tval-aucpr:0.20149\tval-logloss:0.13470\ttrain-auc:0.90064\ttrain-aucpr:0.45209\ttrain-logloss:0.05393\n",
      "[231]\tval-auc:0.67244\tval-aucpr:0.20127\tval-logloss:0.13461\ttrain-auc:0.90095\ttrain-aucpr:0.45308\ttrain-logloss:0.05388\n",
      "[232]\tval-auc:0.67244\tval-aucpr:0.20162\tval-logloss:0.13461\ttrain-auc:0.90099\ttrain-aucpr:0.45316\ttrain-logloss:0.05387\n",
      "[233]\tval-auc:0.67236\tval-aucpr:0.20197\tval-logloss:0.13448\ttrain-auc:0.90130\ttrain-aucpr:0.45410\ttrain-logloss:0.05381\n",
      "[234]\tval-auc:0.67223\tval-aucpr:0.20236\tval-logloss:0.13458\ttrain-auc:0.90143\ttrain-aucpr:0.45472\ttrain-logloss:0.05378\n",
      "[235]\tval-auc:0.67236\tval-aucpr:0.20212\tval-logloss:0.13457\ttrain-auc:0.90162\ttrain-aucpr:0.45511\ttrain-logloss:0.05375\n",
      "[236]\tval-auc:0.67143\tval-aucpr:0.20176\tval-logloss:0.13450\ttrain-auc:0.90184\ttrain-aucpr:0.45567\ttrain-logloss:0.05373\n",
      "[237]\tval-auc:0.67143\tval-aucpr:0.20160\tval-logloss:0.13458\ttrain-auc:0.90190\ttrain-aucpr:0.45576\ttrain-logloss:0.05372\n",
      "[238]\tval-auc:0.67141\tval-aucpr:0.20204\tval-logloss:0.13454\ttrain-auc:0.90217\ttrain-aucpr:0.45634\ttrain-logloss:0.05369\n",
      "[239]\tval-auc:0.67159\tval-aucpr:0.20205\tval-logloss:0.13453\ttrain-auc:0.90232\ttrain-aucpr:0.45654\ttrain-logloss:0.05368\n",
      "[240]\tval-auc:0.67193\tval-aucpr:0.20210\tval-logloss:0.13445\ttrain-auc:0.90273\ttrain-aucpr:0.45698\ttrain-logloss:0.05364\n",
      "[241]\tval-auc:0.67278\tval-aucpr:0.20042\tval-logloss:0.13430\ttrain-auc:0.90283\ttrain-aucpr:0.45732\ttrain-logloss:0.05362\n",
      "[242]\tval-auc:0.67243\tval-aucpr:0.19944\tval-logloss:0.13420\ttrain-auc:0.90314\ttrain-aucpr:0.45825\ttrain-logloss:0.05357\n",
      "[243]\tval-auc:0.67247\tval-aucpr:0.19957\tval-logloss:0.13418\ttrain-auc:0.90326\ttrain-aucpr:0.45861\ttrain-logloss:0.05355\n",
      "[244]\tval-auc:0.67241\tval-aucpr:0.19928\tval-logloss:0.13419\ttrain-auc:0.90334\ttrain-aucpr:0.45892\ttrain-logloss:0.05354\n",
      "[245]\tval-auc:0.67264\tval-aucpr:0.20023\tval-logloss:0.13431\ttrain-auc:0.90345\ttrain-aucpr:0.45916\ttrain-logloss:0.05352\n",
      "[246]\tval-auc:0.67270\tval-aucpr:0.20022\tval-logloss:0.13431\ttrain-auc:0.90357\ttrain-aucpr:0.45954\ttrain-logloss:0.05350\n",
      "[247]\tval-auc:0.67274\tval-aucpr:0.20023\tval-logloss:0.13431\ttrain-auc:0.90384\ttrain-aucpr:0.45987\ttrain-logloss:0.05346\n",
      "[248]\tval-auc:0.67292\tval-aucpr:0.20026\tval-logloss:0.13437\ttrain-auc:0.90395\ttrain-aucpr:0.46004\ttrain-logloss:0.05345\n",
      "[249]\tval-auc:0.67277\tval-aucpr:0.20023\tval-logloss:0.13439\ttrain-auc:0.90415\ttrain-aucpr:0.46026\ttrain-logloss:0.05343\n",
      "[250]\tval-auc:0.67253\tval-aucpr:0.19999\tval-logloss:0.13442\ttrain-auc:0.90419\ttrain-aucpr:0.46057\ttrain-logloss:0.05341\n",
      "[251]\tval-auc:0.67250\tval-aucpr:0.20002\tval-logloss:0.13441\ttrain-auc:0.90438\ttrain-aucpr:0.46101\ttrain-logloss:0.05339\n",
      "[252]\tval-auc:0.67243\tval-aucpr:0.20061\tval-logloss:0.13443\ttrain-auc:0.90460\ttrain-aucpr:0.46138\ttrain-logloss:0.05336\n",
      "[253]\tval-auc:0.67225\tval-aucpr:0.19957\tval-logloss:0.13441\ttrain-auc:0.90496\ttrain-aucpr:0.46204\ttrain-logloss:0.05328\n",
      "[254]\tval-auc:0.67299\tval-aucpr:0.19941\tval-logloss:0.13512\ttrain-auc:0.90498\ttrain-aucpr:0.46210\ttrain-logloss:0.05327\n",
      "[255]\tval-auc:0.67301\tval-aucpr:0.19943\tval-logloss:0.13514\ttrain-auc:0.90507\ttrain-aucpr:0.46235\ttrain-logloss:0.05326\n",
      "[256]\tval-auc:0.67316\tval-aucpr:0.19961\tval-logloss:0.13509\ttrain-auc:0.90537\ttrain-aucpr:0.46288\ttrain-logloss:0.05323\n",
      "[257]\tval-auc:0.67400\tval-aucpr:0.20053\tval-logloss:0.13517\ttrain-auc:0.90545\ttrain-aucpr:0.46311\ttrain-logloss:0.05321\n",
      "[258]\tval-auc:0.67401\tval-aucpr:0.20052\tval-logloss:0.13517\ttrain-auc:0.90592\ttrain-aucpr:0.46357\ttrain-logloss:0.05315\n",
      "[259]\tval-auc:0.67454\tval-aucpr:0.20032\tval-logloss:0.13580\ttrain-auc:0.90604\ttrain-aucpr:0.46378\ttrain-logloss:0.05314\n",
      "[260]\tval-auc:0.67469\tval-aucpr:0.20115\tval-logloss:0.13578\ttrain-auc:0.90638\ttrain-aucpr:0.46440\ttrain-logloss:0.05309\n",
      "[261]\tval-auc:0.67451\tval-aucpr:0.20115\tval-logloss:0.13572\ttrain-auc:0.90650\ttrain-aucpr:0.46470\ttrain-logloss:0.05307\n",
      "[262]\tval-auc:0.67458\tval-aucpr:0.20148\tval-logloss:0.13570\ttrain-auc:0.90685\ttrain-aucpr:0.46529\ttrain-logloss:0.05303\n",
      "[263]\tval-auc:0.67481\tval-aucpr:0.20162\tval-logloss:0.13569\ttrain-auc:0.90693\ttrain-aucpr:0.46529\ttrain-logloss:0.05301\n",
      "[264]\tval-auc:0.67482\tval-aucpr:0.20123\tval-logloss:0.13578\ttrain-auc:0.90694\ttrain-aucpr:0.46540\ttrain-logloss:0.05301\n",
      "[265]\tval-auc:0.67480\tval-aucpr:0.20099\tval-logloss:0.13580\ttrain-auc:0.90721\ttrain-aucpr:0.46604\ttrain-logloss:0.05296\n",
      "[266]\tval-auc:0.67459\tval-aucpr:0.19906\tval-logloss:0.13570\ttrain-auc:0.90763\ttrain-aucpr:0.46647\ttrain-logloss:0.05292\n",
      "[267]\tval-auc:0.67449\tval-aucpr:0.19910\tval-logloss:0.13570\ttrain-auc:0.90791\ttrain-aucpr:0.46686\ttrain-logloss:0.05289\n",
      "[268]\tval-auc:0.67465\tval-aucpr:0.19921\tval-logloss:0.13571\ttrain-auc:0.90807\ttrain-aucpr:0.46710\ttrain-logloss:0.05287\n",
      "[269]\tval-auc:0.67521\tval-aucpr:0.19860\tval-logloss:0.13631\ttrain-auc:0.90809\ttrain-aucpr:0.46721\ttrain-logloss:0.05287\n",
      "[270]\tval-auc:0.67508\tval-aucpr:0.19859\tval-logloss:0.13632\ttrain-auc:0.90819\ttrain-aucpr:0.46741\ttrain-logloss:0.05285\n",
      "[271]\tval-auc:0.67498\tval-aucpr:0.19993\tval-logloss:0.13634\ttrain-auc:0.90839\ttrain-aucpr:0.46784\ttrain-logloss:0.05282\n"
     ]
    },
    {
     "name": "stdout",
     "output_type": "stream",
     "text": [
      "[272]\tval-auc:0.67495\tval-aucpr:0.19994\tval-logloss:0.13635\ttrain-auc:0.90859\ttrain-aucpr:0.46815\ttrain-logloss:0.05280\n",
      "[273]\tval-auc:0.67500\tval-aucpr:0.19995\tval-logloss:0.13633\ttrain-auc:0.90871\ttrain-aucpr:0.46831\ttrain-logloss:0.05278\n",
      "[274]\tval-auc:0.67481\tval-aucpr:0.19994\tval-logloss:0.13634\ttrain-auc:0.90896\ttrain-aucpr:0.46880\ttrain-logloss:0.05275\n",
      "[275]\tval-auc:0.67479\tval-aucpr:0.20009\tval-logloss:0.13633\ttrain-auc:0.90922\ttrain-aucpr:0.46929\ttrain-logloss:0.05272\n",
      "[276]\tval-auc:0.67510\tval-aucpr:0.20015\tval-logloss:0.13634\ttrain-auc:0.90936\ttrain-aucpr:0.46987\ttrain-logloss:0.05268\n",
      "[277]\tval-auc:0.67519\tval-aucpr:0.19997\tval-logloss:0.13660\ttrain-auc:0.90939\ttrain-aucpr:0.46983\ttrain-logloss:0.05267\n",
      "[278]\tval-auc:0.67517\tval-aucpr:0.19997\tval-logloss:0.13660\ttrain-auc:0.90959\ttrain-aucpr:0.47047\ttrain-logloss:0.05264\n",
      "[279]\tval-auc:0.67522\tval-aucpr:0.20007\tval-logloss:0.13661\ttrain-auc:0.90999\ttrain-aucpr:0.47127\ttrain-logloss:0.05258\n",
      "[280]\tval-auc:0.67540\tval-aucpr:0.19998\tval-logloss:0.13658\ttrain-auc:0.91029\ttrain-aucpr:0.47202\ttrain-logloss:0.05254\n",
      "[281]\tval-auc:0.67546\tval-aucpr:0.20008\tval-logloss:0.13661\ttrain-auc:0.91036\ttrain-aucpr:0.47202\ttrain-logloss:0.05252\n",
      "[282]\tval-auc:0.67564\tval-aucpr:0.20020\tval-logloss:0.13658\ttrain-auc:0.91051\ttrain-aucpr:0.47219\ttrain-logloss:0.05250\n",
      "[283]\tval-auc:0.67565\tval-aucpr:0.20020\tval-logloss:0.13659\ttrain-auc:0.91066\ttrain-aucpr:0.47245\ttrain-logloss:0.05248\n",
      "[284]\tval-auc:0.67565\tval-aucpr:0.20021\tval-logloss:0.13657\ttrain-auc:0.91093\ttrain-aucpr:0.47291\ttrain-logloss:0.05245\n",
      "[285]\tval-auc:0.67542\tval-aucpr:0.20021\tval-logloss:0.13658\ttrain-auc:0.91120\ttrain-aucpr:0.47326\ttrain-logloss:0.05243\n",
      "[286]\tval-auc:0.67551\tval-aucpr:0.20034\tval-logloss:0.13659\ttrain-auc:0.91175\ttrain-aucpr:0.47420\ttrain-logloss:0.05238\n",
      "[287]\tval-auc:0.67563\tval-aucpr:0.20032\tval-logloss:0.13741\ttrain-auc:0.91183\ttrain-aucpr:0.47435\ttrain-logloss:0.05237\n",
      "[288]\tval-auc:0.67569\tval-aucpr:0.20032\tval-logloss:0.13741\ttrain-auc:0.91187\ttrain-aucpr:0.47443\ttrain-logloss:0.05236\n",
      "[289]\tval-auc:0.67568\tval-aucpr:0.20033\tval-logloss:0.13741\ttrain-auc:0.91201\ttrain-aucpr:0.47480\ttrain-logloss:0.05234\n",
      "[290]\tval-auc:0.67568\tval-aucpr:0.20039\tval-logloss:0.13741\ttrain-auc:0.91247\ttrain-aucpr:0.47534\ttrain-logloss:0.05230\n",
      "[291]\tval-auc:0.67570\tval-aucpr:0.20070\tval-logloss:0.13742\ttrain-auc:0.91254\ttrain-aucpr:0.47551\ttrain-logloss:0.05229\n",
      "[292]\tval-auc:0.67562\tval-aucpr:0.20067\tval-logloss:0.13743\ttrain-auc:0.91267\ttrain-aucpr:0.47566\ttrain-logloss:0.05228\n",
      "[293]\tval-auc:0.67570\tval-aucpr:0.20081\tval-logloss:0.13741\ttrain-auc:0.91285\ttrain-aucpr:0.47607\ttrain-logloss:0.05225\n",
      "[294]\tval-auc:0.67570\tval-aucpr:0.20087\tval-logloss:0.13741\ttrain-auc:0.91287\ttrain-aucpr:0.47612\ttrain-logloss:0.05224\n",
      "[295]\tval-auc:0.67579\tval-aucpr:0.20089\tval-logloss:0.13741\ttrain-auc:0.91307\ttrain-aucpr:0.47643\ttrain-logloss:0.05222\n",
      "[296]\tval-auc:0.67580\tval-aucpr:0.20093\tval-logloss:0.13740\ttrain-auc:0.91308\ttrain-aucpr:0.47649\ttrain-logloss:0.05222\n",
      "[297]\tval-auc:0.67553\tval-aucpr:0.20028\tval-logloss:0.13733\ttrain-auc:0.91322\ttrain-aucpr:0.47676\ttrain-logloss:0.05219\n",
      "[298]\tval-auc:0.67537\tval-aucpr:0.19883\tval-logloss:0.13738\ttrain-auc:0.91344\ttrain-aucpr:0.47741\ttrain-logloss:0.05215\n",
      "[299]\tval-auc:0.67515\tval-aucpr:0.19879\tval-logloss:0.13734\ttrain-auc:0.91369\ttrain-aucpr:0.47785\ttrain-logloss:0.05212\n"
     ]
    }
   ],
   "source": [
    "model = xgb.train(xgb_params, dtrain, num_boost_round=xgb_params['n_estimators'], evals=[(dval, 'val'), (dtrain, 'train')], early_stopping_rounds=int(xgb_params['n_estimators']/2))"
   ]
  },
  {
   "cell_type": "code",
   "execution_count": 17,
   "id": "b090d1d3",
   "metadata": {
    "lines_to_next_cell": 2
   },
   "outputs": [],
   "source": [
    "y_pred_proba = model.predict(dtest)"
   ]
  },
  {
   "cell_type": "markdown",
   "id": "079f229a",
   "metadata": {},
   "source": [
    "## Evaluation"
   ]
  },
  {
   "cell_type": "code",
   "execution_count": 18,
   "id": "a9ea9379",
   "metadata": {},
   "outputs": [
    {
     "name": "stdout",
     "output_type": "stream",
     "text": [
      "Average Precision:  0.19\n"
     ]
    }
   ],
   "source": [
    "ap = average_precision_score(y_test, y_pred_proba)\n",
    "print(\"Average Precision: \", np.round(ap,2))"
   ]
  },
  {
   "cell_type": "code",
   "execution_count": 19,
   "id": "389b4ba2",
   "metadata": {},
   "outputs": [
    {
     "data": {
      "image/png": "[encoded data removed]",
      "text/plain": [
       "<Figure size 432x288 with 1 Axes>"
      ]
     },
     "metadata": {
      "needs_background": "light"
     },
     "output_type": "display_data"
    }
   ],
   "source": [
    "fig = plot_ap(y_test, y_pred_proba)"
   ]
  },
  {
   "cell_type": "code",
   "execution_count": 20,
   "id": "2753210c",
   "metadata": {},
   "outputs": [
    {
     "name": "stdout",
     "output_type": "stream",
     "text": [
      "F1 Score:  0.2393\n"
     ]
    }
   ],
   "source": [
    "optimal_threshold, optimal_f1_score = get_optimal_f1_cutoff(y_test, y_pred_proba)\n",
    "print(\"F1 Score: \", np.round(optimal_f1_score, 4))"
   ]
  },
  {
   "cell_type": "code",
   "execution_count": 21,
   "id": "bf8b4c66",
   "metadata": {},
   "outputs": [
    {
     "name": "stdout",
     "output_type": "stream",
     "text": [
      "Confusion Matrix: \n",
      " [[98183   272]\n",
      " [ 1298   247]]\n"
     ]
    }
   ],
   "source": [
    "cm = get_confusion_matrix(y_test, y_pred_proba, optimal_threshold)\n",
    "print(\"Confusion Matrix: \\n\", cm)"
   ]
  },
  {
   "cell_type": "code",
   "execution_count": 22,
   "id": "2393190e",
   "metadata": {},
   "outputs": [],
   "source": [
    "from sklearn.metrics import roc_auc_score"
   ]
  },
  {
   "cell_type": "code",
   "execution_count": 23,
   "id": "dbeec5c0",
   "metadata": {},
   "outputs": [
    {
     "data": {
      "text/plain": [
       "0.6832136278972915"
      ]
     },
     "execution_count": 23,
     "metadata": {},
     "output_type": "execute_result"
    }
   ],
   "source": [
    "roc_auc_score(y_test, y_pred_proba)"
   ]
  },
  {
   "cell_type": "code",
   "execution_count": null,
   "id": "92a18703",
   "metadata": {},
   "outputs": [],
   "source": []
  }
 ],
 "metadata": {
  "kernelspec": {
   "display_name": "fucc_env",
   "language": "python",
   "name": "fucc_env"
  },
  "language_info": {
   "codemirror_mode": {
    "name": "ipython",
    "version": 3
   },
   "file_extension": ".py",
   "mimetype": "text/x-python",
   "name": "python",
   "nbconvert_exporter": "python",
   "pygments_lexer": "ipython3",
   "version": "3.6.10"
  },
  "toc": {
   "base_numbering": 1,
   "nav_menu": {},
   "number_sections": true,
   "sideBar": true,
   "skip_h1_title": false,
   "title_cell": "Table of Contents",
   "title_sidebar": "Contents",
   "toc_cell": false,
   "toc_position": {},
   "toc_section_display": true,
   "toc_window_display": false
  }
 },
 "nbformat": 4,
 "nbformat_minor": 5
}
