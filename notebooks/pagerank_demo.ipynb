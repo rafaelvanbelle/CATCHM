{
 "cells": [
  {
   "cell_type": "markdown",
   "id": "1e7acbf6",
   "metadata": {},
   "source": [
    "# Inductive Pagerank [DEMO]"
   ]
  },
  {
   "cell_type": "markdown",
   "id": "fdce5b3f",
   "metadata": {},
   "source": [
    "Dataset source: https://www.kaggle.com/ranjeetshrivastav/fraud-detection-dataset"
   ]
  },
  {
   "cell_type": "code",
   "execution_count": 1,
   "id": "da49e721",
   "metadata": {},
   "outputs": [],
   "source": [
    "import os\n",
    "import numpy as np\n",
    "import pandas as pd\n",
    "import networkx as nx\n",
    "from nodevectors import Node2Vec\n",
    "import xgboost as xgb\n",
    "from fucc.inductive_step import inductive_pooling\n",
    "from fucc.metrics import plot_ap, get_optimal_f1_cutoff, get_confusion_matrix\n",
    "from sklearn.metrics import average_precision_score\n",
    "import logging\n",
    "logging.basicConfig(level=logging.INFO)"
   ]
  },
  {
   "cell_type": "code",
   "execution_count": 2,
   "id": "a2a2f4bb",
   "metadata": {},
   "outputs": [],
   "source": [
    "from fucc.pagerank import get_pagerank_suspicion_scores, inductive_step, splitDataFrameIntoSmaller, postprocessing_historical_edges\n",
    "from fucc.utils import get_filename, export_suspicion_scores, import_suspicion_scores, multiprocessing\n",
    "from tqdm import tqdm\n",
    "from functools import partial\n",
    "import datetime\n",
    "import pickle"
   ]
  },
  {
   "cell_type": "code",
   "execution_count": 3,
   "id": "51b0fab5",
   "metadata": {},
   "outputs": [],
   "source": [
    "# Parameters\n",
    "weighted = True\n",
    "lambdas = {'ST': 0.03, 'MT': 0.004, 'LT': 0.0001}\n",
    "chunksize = 5000\n",
    "# the 'workers' parameter is used for multi-processing.\n",
    "WORKERS = 12"
   ]
  },
  {
   "cell_type": "code",
   "execution_count": 4,
   "id": "6f4f5588",
   "metadata": {},
   "outputs": [],
   "source": [
    "output_path = ''"
   ]
  },
  {
   "cell_type": "markdown",
   "id": "be24b245",
   "metadata": {},
   "source": [
    "## Load Data"
   ]
  },
  {
   "cell_type": "code",
   "execution_count": 5,
   "id": "6fa460b2",
   "metadata": {},
   "outputs": [],
   "source": [
    "df = pd.read_json('../transactions/transactions.txt',  lines=True, convert_dates=[4])"
   ]
  },
  {
   "cell_type": "code",
   "execution_count": 6,
   "id": "f449e907",
   "metadata": {},
   "outputs": [],
   "source": [
    "# Transform fourth column to datetime format\n",
    "df.iloc[:, 4] = pd.to_datetime(df.iloc[:, 4])"
   ]
  },
  {
   "cell_type": "code",
   "execution_count": 7,
   "id": "83a87bb1",
   "metadata": {},
   "outputs": [],
   "source": [
    "# Sort dataframe by datetime\n",
    "df = df.sort_values('transactionDateTime')\n",
    "# Create a transaction ID\n",
    "df.loc[:, 'TX_ID'] = range(df.shape[0])"
   ]
  },
  {
   "cell_type": "code",
   "execution_count": 8,
   "id": "46b222c0",
   "metadata": {},
   "outputs": [],
   "source": [
    "# Rename columns to work with hard-coded feature names in our code\n",
    "df = df.rename(columns={\"merchantName\":\"TERM_MIDUID\", \"customerId\":\"CARD_PAN_ID\", \"isFraud\": \"TX_FRAUD\", \"transactionDateTime\":\"TX_DATETIME\"})"
   ]
  },
  {
   "cell_type": "code",
   "execution_count": 9,
   "id": "d817beff",
   "metadata": {},
   "outputs": [],
   "source": [
    "# Split into train, validation and test set\n",
    "df_train = df.iloc[:320000]\n",
    "df_val = df.iloc[320000:400000]\n",
    "df_test = df.iloc[400000:500000]"
   ]
  },
  {
   "cell_type": "code",
   "execution_count": 10,
   "id": "cec70181",
   "metadata": {},
   "outputs": [],
   "source": [
    "# The 'personalization_nodes' are confirmed fraud cases that pagerank will use to assign suspicion scores to each node in the transaction network.\n",
    "personalization_nodes = list(df_train.index)"
   ]
  },
  {
   "cell_type": "markdown",
   "id": "b70f4e7c",
   "metadata": {},
   "source": [
    "## Pagerank"
   ]
  },
  {
   "cell_type": "markdown",
   "id": "49354bd7",
   "metadata": {},
   "source": [
    "Pagerank is ran three times with different parameter values. \n",
    "- Short term\n",
    "- Mid term\n",
    "- Long term"
   ]
  },
  {
   "cell_type": "code",
   "execution_count": 11,
   "id": "81cea6f1",
   "metadata": {},
   "outputs": [
    {
     "name": "stderr",
     "output_type": "stream",
     "text": [
      "INFO:root:Building network\n",
      "INFO:root:Calculating edge weights for ST\n",
      "INFO:root:Calculating some weights\n",
      "INFO:root:ok, ST\n",
      "INFO:root:Personalization\n",
      "INFO:root:Building graph ST\n",
      "INFO:root:Pagerank started\n"
     ]
    },
    {
     "name": "stdout",
     "output_type": "stream",
     "text": [
      "327266\n",
      "5350\n"
     ]
    },
    {
     "name": "stderr",
     "output_type": "stream",
     "text": [
      "INFO:root:Pagerank finished\n",
      "INFO:root:Building network\n",
      "INFO:root:Calculating edge weights for MT\n",
      "INFO:root:Calculating some weights\n",
      "INFO:root:ok, MT\n",
      "INFO:root:Personalization\n",
      "INFO:root:Building graph MT\n",
      "INFO:root:Pagerank started\n"
     ]
    },
    {
     "name": "stdout",
     "output_type": "stream",
     "text": [
      "327266\n",
      "5350\n"
     ]
    },
    {
     "name": "stderr",
     "output_type": "stream",
     "text": [
      "INFO:root:Pagerank finished\n",
      "INFO:root:Building network\n",
      "INFO:root:Calculating edge weights for LT\n",
      "INFO:root:Calculating some weights\n",
      "INFO:root:ok, LT\n",
      "INFO:root:Personalization\n",
      "INFO:root:Building graph LT\n",
      "INFO:root:Pagerank started\n"
     ]
    },
    {
     "name": "stdout",
     "output_type": "stream",
     "text": [
      "327266\n",
      "5350\n"
     ]
    },
    {
     "name": "stderr",
     "output_type": "stream",
     "text": [
      "INFO:root:Pagerank finished\n"
     ]
    },
    {
     "name": "stdout",
     "output_type": "stream",
     "text": [
      "Wall time: 2min 20s\n"
     ]
    }
   ],
   "source": [
    "%%time\n",
    "\n",
    "dict_suspicion_scores = {}\n",
    "dict_G = {}\n",
    "\n",
    "for t, lambd in lambdas.items():\n",
    "    suspicion_scores, G = get_pagerank_suspicion_scores(\n",
    "                              df_train,\n",
    "                              t=t,\n",
    "                              lambd=lambd,\n",
    "                              alpha=0.85,\n",
    "                              n_jobs=WORKERS,\n",
    "                              personalization_nodes=personalization_nodes,\n",
    "                              weighted=weighted)\n",
    "\n",
    "\n",
    "    dict_suspicion_scores[t] = suspicion_scores\n",
    "    dict_G[t] = G"
   ]
  },
  {
   "cell_type": "code",
   "execution_count": 12,
   "id": "37571b32",
   "metadata": {},
   "outputs": [
    {
     "name": "stderr",
     "output_type": "stream",
     "text": [
      "100%|██████████████████████████████████████████████████████████████████████████████████| 41/41 [03:42<00:00,  5.43s/it]\n",
      "100%|██████████████████████████████████████████████████████████████████████████████████| 41/41 [03:41<00:00,  5.40s/it]\n",
      "100%|██████████████████████████████████████████████████████████████████████████████████| 41/41 [03:38<00:00,  5.34s/it]\n"
     ]
    },
    {
     "name": "stdout",
     "output_type": "stream",
     "text": [
      "Wall time: 11min 6s\n"
     ]
    }
   ],
   "source": [
    "%%time\n",
    "## Get suspicion scores for the validation part of the training data\n",
    "data = df_val.set_index('TX_ID')\n",
    "data = data.loc[:, ['CARD_PAN_ID', 'TERM_MIDUID']]\n",
    "\n",
    "# We only need these columns from historical data\n",
    "historical_data = df_train.set_index('TX_ID')\n",
    "historical_data = historical_data.loc[:, ['CARD_PAN_ID', 'TERM_MIDUID']]\n",
    "\n",
    "# Inductive val set processing\n",
    "\n",
    "dict_results = {}\n",
    "for t,lamb in lambdas.items():\n",
    "\n",
    "    suspicion_scores, G = dict_suspicion_scores[t], dict_G[t]\n",
    "\n",
    "    # split df in smaller chunks\n",
    "    chunks = splitDataFrameIntoSmaller(data, chunkSize=2000)\n",
    "    partial_inductive_step = partial(inductive_step, historical_edges=historical_data, suspicion_scores=suspicion_scores, G=G, t=t)\n",
    "\n",
    "    result = multiprocessing(function=partial_inductive_step, chunks=chunks)\n",
    "    #f#ilename = get_filename(filename_elements=[subset_name, t])\n",
    "    \n",
    "    dict_results[t] = result\n",
    "    #result.to_csv(os.path.join(output_path, filename + '_output_val.csv'))\n",
    "\n",
    "df_val_pagerank = df_val.copy()\n",
    "for t, lamb in lambdas.items():\n",
    "    #filename = get_filename(filename_elements=[subset_name, t])\n",
    "    df_pagerank = dict_results[t]\n",
    "    #df_pagerank = df_pagerank.set_index('TX_ID')\n",
    "    df_pagerank = df_pagerank.filter(regex='SC_*')\n",
    "    df_val_pagerank = df_val_pagerank.merge(df_pagerank, left_on='TX_ID', right_index=True) \n",
    "\n",
    "#filename = get_filename(filename_elements=[subset_name])\n",
    "#df_val_pagerank.to_csv(os.path.join(output_path, subset_name + '_val_pagerank_inductive.csv'))"
   ]
  },
  {
   "cell_type": "code",
   "execution_count": 13,
   "id": "2b5f4465",
   "metadata": {
    "lines_to_next_cell": 2
   },
   "outputs": [
    {
     "name": "stderr",
     "output_type": "stream",
     "text": [
      "100%|██████████████████████████████████████████████████████████████████████████████████| 51/51 [04:31<00:00,  5.32s/it]\n",
      "100%|██████████████████████████████████████████████████████████████████████████████████| 51/51 [04:30<00:00,  5.30s/it]\n",
      "100%|██████████████████████████████████████████████████████████████████████████████████| 51/51 [04:28<00:00,  5.27s/it]\n"
     ]
    },
    {
     "name": "stdout",
     "output_type": "stream",
     "text": [
      "Wall time: 13min 34s\n"
     ]
    }
   ],
   "source": [
    "%%time\n",
    "# We only need these columns from data\n",
    "data = df_test.set_index('TX_ID')\n",
    "data = data.loc[:, ['CARD_PAN_ID', 'TERM_MIDUID']]\n",
    "\n",
    "# We only need these columns from historical data\n",
    "historical_data = df_train.set_index('TX_ID')\n",
    "historical_data = historical_data.loc[:, ['CARD_PAN_ID', 'TERM_MIDUID']]\n",
    "\n",
    "# Inductive test set processing\n",
    "\n",
    "dict_results = {}\n",
    "for t,lamb in lambdas.items():\n",
    "\n",
    "    suspicion_scores, G = dict_suspicion_scores[t], dict_G[t]\n",
    "\n",
    "\n",
    "    # split df in smaller chunks\n",
    "    chunks = splitDataFrameIntoSmaller(data, chunkSize=2000)\n",
    "    partial_inductive_step = partial(inductive_step, historical_edges=historical_data, suspicion_scores=suspicion_scores, G=G, t=t)\n",
    "\n",
    "    result = multiprocessing(function=partial_inductive_step, chunks=chunks)\n",
    "    dict_results[t] = result\n",
    "\n",
    "\n",
    "df_test_pagerank = df_test.copy()\n",
    "for t, lamb in lambdas.items():\n",
    "    \n",
    "    df_pagerank =  dict_results[t] \n",
    "    df_pagerank = df_pagerank.filter(regex='SC_*')\n",
    "    df_test_pagerank = df_test_pagerank.merge(df_pagerank, left_on='TX_ID', right_index=True)\n"
   ]
  },
  {
   "cell_type": "code",
   "execution_count": 14,
   "id": "da6d43af",
   "metadata": {
    "lines_to_end_of_cell_marker": 2
   },
   "outputs": [
    {
     "name": "stdout",
     "output_type": "stream",
     "text": [
      "ST\n"
     ]
    },
    {
     "name": "stderr",
     "output_type": "stream",
     "text": [
      "100%|██████████████████████████████████████████████████████████████████████████████████| 65/65 [00:56<00:00,  1.14it/s]\n",
      "  0%|                                                                                           | 0/65 [00:00<?, ?it/s]"
     ]
    },
    {
     "name": "stdout",
     "output_type": "stream",
     "text": [
      "MT\n"
     ]
    },
    {
     "name": "stderr",
     "output_type": "stream",
     "text": [
      "100%|██████████████████████████████████████████████████████████████████████████████████| 65/65 [00:56<00:00,  1.15it/s]\n",
      "  0%|                                                                                           | 0/65 [00:00<?, ?it/s]"
     ]
    },
    {
     "name": "stdout",
     "output_type": "stream",
     "text": [
      "LT\n"
     ]
    },
    {
     "name": "stderr",
     "output_type": "stream",
     "text": [
      "100%|██████████████████████████████████████████████████████████████████████████████████| 65/65 [00:57<00:00,  1.13it/s]\n"
     ]
    },
    {
     "name": "stdout",
     "output_type": "stream",
     "text": [
      "Wall time: 2min 53s\n"
     ]
    }
   ],
   "source": [
    "%%time\n",
    "# We only need these columns from data\n",
    "data = df_test.set_index('TX_ID')\n",
    "data = data.loc[:, ['CARD_PAN_ID', 'TERM_MIDUID']]\n",
    "\n",
    "# We only need these columns from historical data\n",
    "historical_data = df_train.set_index('TX_ID')\n",
    "historical_data = historical_data.loc[:, ['CARD_PAN_ID', 'TERM_MIDUID']]\n",
    "\n",
    "\n",
    "# transductive train set processing\n",
    "dict_results = {}\n",
    "for t, lamb in lambdas.items():\n",
    "    print(t)\n",
    "    suspicion_scores, G = dict_suspicion_scores[t], dict_G[t]\n",
    "\n",
    "\n",
    "    #Split historical dataset into smaller chunks\n",
    "    chunks = splitDataFrameIntoSmaller(historical_data, chunkSize=5000)\n",
    "    partial_postprocessing_historical_edges = partial(postprocessing_historical_edges, suspicion_scores=suspicion_scores, t=t)\n",
    "    #partial_inductive_step = partial(inductive_step, historical_edges=historical_data, suspicion_scores=suspicion_scores, G=G, t=t)\n",
    "    \n",
    "    result = multiprocessing(function=partial_postprocessing_historical_edges, chunks=chunks)\n",
    "    dict_results[t] = result\n",
    "\n",
    "df_train_pagerank = df_train.copy()\n",
    "# Load and join ST, MT, LT data for df_train and df_train\n",
    "for t, lamb in lambdas.items():\n",
    "    df_pagerank = dict_results[t]\n",
    "    df_pagerank = df_pagerank.filter(regex='SC_*')\n",
    "    df_train_pagerank = df_train_pagerank.merge(df_pagerank, left_on='TX_ID', right_index=True)"
   ]
  },
  {
   "cell_type": "markdown",
   "id": "8f309385",
   "metadata": {},
   "source": [
    "## XGBoost Classifier"
   ]
  },
  {
   "cell_type": "code",
   "execution_count": 15,
   "id": "21dd80ae",
   "metadata": {},
   "outputs": [],
   "source": [
    "df_train = df_train_pagerank\n",
    "df_val = df_val_pagerank\n",
    "df_test = df_test_pagerank"
   ]
  },
  {
   "cell_type": "code",
   "execution_count": 16,
   "id": "58947cf8",
   "metadata": {},
   "outputs": [],
   "source": [
    "pagerank_features = list(df_train.filter(regex='SC').columns)"
   ]
  },
  {
   "cell_type": "code",
   "execution_count": 17,
   "id": "22785eee",
   "metadata": {},
   "outputs": [],
   "source": [
    "X_train = df_train[pagerank_features]\n",
    "X_val = df_val[pagerank_features]\n",
    "y_train = df_train.TX_FRAUD\n",
    "y_val = df_val.TX_FRAUD\n",
    "\n",
    "X_test = df_test[pagerank_features]\n",
    "y_test = df_test.TX_FRAUD\n",
    "\n",
    "dtrain = xgb.DMatrix(X_train, label=y_train)\n",
    "dval = xgb.DMatrix(X_val, label=y_val)\n",
    "dtest = xgb.DMatrix(X_test, label=y_test)"
   ]
  },
  {
   "cell_type": "code",
   "execution_count": 18,
   "id": "e6628645",
   "metadata": {},
   "outputs": [],
   "source": [
    "xgb_params = {\n",
    "    'eval_metric': ['auc','aucpr', 'logloss'],\n",
    "    'objective':'binary:logistic',\n",
    "    'n_estimators': 300,\n",
    "    'n_jobs':8,\n",
    "    'learning_rate':0.1,\n",
    "    'seed':42,\n",
    "    'colsample_bytree':0.6,\n",
    "    'colsample_bylevel':0.9,\n",
    "    'subsample':0.9\n",
    "}"
   ]
  },
  {
   "cell_type": "code",
   "execution_count": 19,
   "id": "2ca45a9d",
   "metadata": {
    "scrolled": true
   },
   "outputs": [
    {
     "name": "stdout",
     "output_type": "stream",
     "text": [
      "[15:05:11] WARNING: C:\\Users\\Administrator\\workspace\\xgboost-win64_release_1.2.0\\src\\learner.cc:516: \n",
      "Parameters: { n_estimators } might not be used.\n",
      "\n",
      "  This may not be accurate due to some parameters are only used in language bindings but\n",
      "  passed down to XGBoost core.  Or some parameters are not used but slip through this\n",
      "  verification. Please open an issue if you find above cases.\n",
      "\n",
      "\n",
      "[0]\tval-auc:0.66520\tval-aucpr:0.02927\tval-logloss:0.60742\ttrain-auc:0.66796\ttrain-aucpr:0.05397\ttrain-logloss:0.60431\n",
      "Multiple eval metrics have been passed: 'train-logloss' will be used for early stopping.\n",
      "\n",
      "Will train until train-logloss hasn't improved in 150 rounds.\n",
      "[1]\tval-auc:0.69117\tval-aucpr:0.04784\tval-logloss:0.54055\ttrain-auc:0.74781\ttrain-aucpr:0.19647\ttrain-logloss:0.53098\n",
      "[2]\tval-auc:0.68997\tval-aucpr:0.05574\tval-logloss:0.47940\ttrain-auc:0.74865\ttrain-aucpr:0.21267\ttrain-logloss:0.47024\n",
      "[3]\tval-auc:0.68471\tval-aucpr:0.06647\tval-logloss:0.43258\ttrain-auc:0.75345\ttrain-aucpr:0.21760\ttrain-logloss:0.41871\n",
      "[4]\tval-auc:0.69864\tval-aucpr:0.08231\tval-logloss:0.38732\ttrain-auc:0.78945\ttrain-aucpr:0.29930\ttrain-logloss:0.37422\n",
      "[5]\tval-auc:0.70549\tval-aucpr:0.12815\tval-logloss:0.34845\ttrain-auc:0.79302\ttrain-aucpr:0.32766\ttrain-logloss:0.33659\n",
      "[6]\tval-auc:0.70677\tval-aucpr:0.13214\tval-logloss:0.31488\ttrain-auc:0.79226\ttrain-aucpr:0.33290\ttrain-logloss:0.30427\n",
      "[7]\tval-auc:0.70786\tval-aucpr:0.13785\tval-logloss:0.28659\ttrain-auc:0.80906\ttrain-aucpr:0.34974\ttrain-logloss:0.27533\n",
      "[8]\tval-auc:0.71137\tval-aucpr:0.12942\tval-logloss:0.26215\ttrain-auc:0.80695\ttrain-aucpr:0.35712\ttrain-logloss:0.25080\n",
      "[9]\tval-auc:0.71273\tval-aucpr:0.13571\tval-logloss:0.24100\ttrain-auc:0.80708\ttrain-aucpr:0.36227\ttrain-logloss:0.22933\n",
      "[10]\tval-auc:0.71273\tval-aucpr:0.13132\tval-logloss:0.22243\ttrain-auc:0.80562\ttrain-aucpr:0.36232\ttrain-logloss:0.21055\n",
      "[11]\tval-auc:0.71229\tval-aucpr:0.13168\tval-logloss:0.20589\ttrain-auc:0.80636\ttrain-aucpr:0.36043\ttrain-logloss:0.19370\n",
      "[12]\tval-auc:0.71627\tval-aucpr:0.13291\tval-logloss:0.19034\ttrain-auc:0.80568\ttrain-aucpr:0.36285\ttrain-logloss:0.17910\n",
      "[13]\tval-auc:0.71423\tval-aucpr:0.13834\tval-logloss:0.17719\ttrain-auc:0.80701\ttrain-aucpr:0.35903\ttrain-logloss:0.16598\n",
      "[14]\tval-auc:0.71300\tval-aucpr:0.13985\tval-logloss:0.16528\ttrain-auc:0.81179\ttrain-aucpr:0.36330\ttrain-logloss:0.15396\n",
      "[15]\tval-auc:0.71298\tval-aucpr:0.14172\tval-logloss:0.15516\ttrain-auc:0.81860\ttrain-aucpr:0.36806\ttrain-logloss:0.14325\n",
      "[16]\tval-auc:0.71683\tval-aucpr:0.13776\tval-logloss:0.14609\ttrain-auc:0.81774\ttrain-aucpr:0.37040\ttrain-logloss:0.13430\n",
      "[17]\tval-auc:0.71238\tval-aucpr:0.13571\tval-logloss:0.14051\ttrain-auc:0.81826\ttrain-aucpr:0.36864\ttrain-logloss:0.12623\n",
      "[18]\tval-auc:0.70596\tval-aucpr:0.13489\tval-logloss:0.13556\ttrain-auc:0.81820\ttrain-aucpr:0.36650\ttrain-logloss:0.11912\n",
      "[19]\tval-auc:0.70883\tval-aucpr:0.13204\tval-logloss:0.12897\ttrain-auc:0.81875\ttrain-aucpr:0.37027\ttrain-logloss:0.11290\n",
      "[20]\tval-auc:0.70766\tval-aucpr:0.13145\tval-logloss:0.12545\ttrain-auc:0.81901\ttrain-aucpr:0.36838\ttrain-logloss:0.10728\n",
      "[21]\tval-auc:0.70200\tval-aucpr:0.13084\tval-logloss:0.12086\ttrain-auc:0.81959\ttrain-aucpr:0.36604\ttrain-logloss:0.10229\n",
      "[22]\tval-auc:0.70500\tval-aucpr:0.13190\tval-logloss:0.11579\ttrain-auc:0.81926\ttrain-aucpr:0.36776\ttrain-logloss:0.09796\n",
      "[23]\tval-auc:0.71102\tval-aucpr:0.13327\tval-logloss:0.11091\ttrain-auc:0.81853\ttrain-aucpr:0.36774\ttrain-logloss:0.09415\n",
      "[24]\tval-auc:0.71247\tval-aucpr:0.13450\tval-logloss:0.10740\ttrain-auc:0.82462\ttrain-aucpr:0.37680\ttrain-logloss:0.09005\n",
      "[25]\tval-auc:0.71549\tval-aucpr:0.13501\tval-logloss:0.10393\ttrain-auc:0.82438\ttrain-aucpr:0.37790\ttrain-logloss:0.08712\n",
      "[26]\tval-auc:0.71980\tval-aucpr:0.14175\tval-logloss:0.10048\ttrain-auc:0.82574\ttrain-aucpr:0.38316\ttrain-logloss:0.08440\n",
      "[27]\tval-auc:0.72044\tval-aucpr:0.14346\tval-logloss:0.09774\ttrain-auc:0.82511\ttrain-aucpr:0.38389\ttrain-logloss:0.08210\n",
      "[28]\tval-auc:0.72078\tval-aucpr:0.14573\tval-logloss:0.09534\ttrain-auc:0.82897\ttrain-aucpr:0.38693\ttrain-logloss:0.07944\n",
      "[29]\tval-auc:0.71586\tval-aucpr:0.14326\tval-logloss:0.09558\ttrain-auc:0.82960\ttrain-aucpr:0.38622\ttrain-logloss:0.07753\n",
      "[30]\tval-auc:0.71872\tval-aucpr:0.14325\tval-logloss:0.09393\ttrain-auc:0.83124\ttrain-aucpr:0.38593\ttrain-logloss:0.07581\n",
      "[31]\tval-auc:0.71950\tval-aucpr:0.14896\tval-logloss:0.09166\ttrain-auc:0.83079\ttrain-aucpr:0.38657\ttrain-logloss:0.07432\n",
      "[32]\tval-auc:0.71843\tval-aucpr:0.15038\tval-logloss:0.09037\ttrain-auc:0.83402\ttrain-aucpr:0.38875\ttrain-logloss:0.07254\n",
      "[33]\tval-auc:0.71889\tval-aucpr:0.15219\tval-logloss:0.08849\ttrain-auc:0.83447\ttrain-aucpr:0.38975\ttrain-logloss:0.07139\n",
      "[34]\tval-auc:0.71698\tval-aucpr:0.15247\tval-logloss:0.08797\ttrain-auc:0.83828\ttrain-aucpr:0.39091\ttrain-logloss:0.06994\n",
      "[35]\tval-auc:0.70809\tval-aucpr:0.15194\tval-logloss:0.08769\ttrain-auc:0.83844\ttrain-aucpr:0.39060\ttrain-logloss:0.06897\n",
      "[36]\tval-auc:0.70518\tval-aucpr:0.15158\tval-logloss:0.08732\ttrain-auc:0.83987\ttrain-aucpr:0.39073\ttrain-logloss:0.06786\n",
      "[37]\tval-auc:0.70240\tval-aucpr:0.15172\tval-logloss:0.08705\ttrain-auc:0.84142\ttrain-aucpr:0.39131\ttrain-logloss:0.06690\n",
      "[38]\tval-auc:0.70933\tval-aucpr:0.15309\tval-logloss:0.08619\ttrain-auc:0.84220\ttrain-aucpr:0.39232\ttrain-logloss:0.06629\n",
      "[39]\tval-auc:0.70461\tval-aucpr:0.15236\tval-logloss:0.08674\ttrain-auc:0.84466\ttrain-aucpr:0.39388\ttrain-logloss:0.06543\n",
      "[40]\tval-auc:0.70495\tval-aucpr:0.15296\tval-logloss:0.08602\ttrain-auc:0.84512\ttrain-aucpr:0.39512\ttrain-logloss:0.06490\n",
      "[41]\tval-auc:0.70149\tval-aucpr:0.15179\tval-logloss:0.08607\ttrain-auc:0.84481\ttrain-aucpr:0.39520\ttrain-logloss:0.06442\n",
      "[42]\tval-auc:0.69879\tval-aucpr:0.15118\tval-logloss:0.08641\ttrain-auc:0.84497\ttrain-aucpr:0.39554\ttrain-logloss:0.06393\n",
      "[43]\tval-auc:0.69972\tval-aucpr:0.15148\tval-logloss:0.08574\ttrain-auc:0.84617\ttrain-aucpr:0.39635\ttrain-logloss:0.06357\n",
      "[44]\tval-auc:0.70151\tval-aucpr:0.15139\tval-logloss:0.08519\ttrain-auc:0.84703\ttrain-aucpr:0.39697\ttrain-logloss:0.06327\n",
      "[45]\tval-auc:0.70083\tval-aucpr:0.15098\tval-logloss:0.08621\ttrain-auc:0.84612\ttrain-aucpr:0.39696\ttrain-logloss:0.06293\n",
      "[46]\tval-auc:0.69842\tval-aucpr:0.15180\tval-logloss:0.08655\ttrain-auc:0.84780\ttrain-aucpr:0.39657\ttrain-logloss:0.06244\n",
      "[47]\tval-auc:0.70024\tval-aucpr:0.15105\tval-logloss:0.08749\ttrain-auc:0.84789\ttrain-aucpr:0.39567\ttrain-logloss:0.06212\n",
      "[48]\tval-auc:0.69696\tval-aucpr:0.15179\tval-logloss:0.08823\ttrain-auc:0.84947\ttrain-aucpr:0.39753\ttrain-logloss:0.06167\n",
      "[49]\tval-auc:0.69698\tval-aucpr:0.15370\tval-logloss:0.08766\ttrain-auc:0.85058\ttrain-aucpr:0.39942\ttrain-logloss:0.06135\n",
      "[50]\tval-auc:0.69664\tval-aucpr:0.15309\tval-logloss:0.08863\ttrain-auc:0.85104\ttrain-aucpr:0.39975\ttrain-logloss:0.06112\n",
      "[51]\tval-auc:0.69396\tval-aucpr:0.15350\tval-logloss:0.08929\ttrain-auc:0.85186\ttrain-aucpr:0.40016\ttrain-logloss:0.06078\n",
      "[52]\tval-auc:0.69059\tval-aucpr:0.15360\tval-logloss:0.09068\ttrain-auc:0.85277\ttrain-aucpr:0.40211\ttrain-logloss:0.06041\n",
      "[53]\tval-auc:0.68882\tval-aucpr:0.15320\tval-logloss:0.09180\ttrain-auc:0.85309\ttrain-aucpr:0.40225\ttrain-logloss:0.06013\n",
      "[54]\tval-auc:0.68762\tval-aucpr:0.15271\tval-logloss:0.09227\ttrain-auc:0.85299\ttrain-aucpr:0.40229\ttrain-logloss:0.05999\n",
      "[55]\tval-auc:0.68485\tval-aucpr:0.15346\tval-logloss:0.09290\ttrain-auc:0.85339\ttrain-aucpr:0.40222\ttrain-logloss:0.05975\n",
      "[56]\tval-auc:0.68455\tval-aucpr:0.15401\tval-logloss:0.09262\ttrain-auc:0.85418\ttrain-aucpr:0.40308\ttrain-logloss:0.05963\n",
      "[57]\tval-auc:0.68390\tval-aucpr:0.15332\tval-logloss:0.09352\ttrain-auc:0.85487\ttrain-aucpr:0.40385\ttrain-logloss:0.05950\n",
      "[58]\tval-auc:0.68126\tval-aucpr:0.15246\tval-logloss:0.09403\ttrain-auc:0.85494\ttrain-aucpr:0.40410\ttrain-logloss:0.05939\n",
      "[59]\tval-auc:0.68142\tval-aucpr:0.15269\tval-logloss:0.09375\ttrain-auc:0.85693\ttrain-aucpr:0.40608\ttrain-logloss:0.05922\n",
      "[60]\tval-auc:0.68155\tval-aucpr:0.15341\tval-logloss:0.09351\ttrain-auc:0.85798\ttrain-aucpr:0.40673\ttrain-logloss:0.05908\n",
      "[61]\tval-auc:0.68370\tval-aucpr:0.15384\tval-logloss:0.09348\ttrain-auc:0.86000\ttrain-aucpr:0.40810\ttrain-logloss:0.05889\n",
      "[62]\tval-auc:0.68450\tval-aucpr:0.15328\tval-logloss:0.09439\ttrain-auc:0.86042\ttrain-aucpr:0.40847\ttrain-logloss:0.05875\n",
      "[63]\tval-auc:0.68481\tval-aucpr:0.15358\tval-logloss:0.09419\ttrain-auc:0.86114\ttrain-aucpr:0.40904\ttrain-logloss:0.05866\n",
      "[64]\tval-auc:0.68319\tval-aucpr:0.15401\tval-logloss:0.09539\ttrain-auc:0.86190\ttrain-aucpr:0.41046\ttrain-logloss:0.05844\n"
     ]
    },
    {
     "name": "stdout",
     "output_type": "stream",
     "text": [
      "[65]\tval-auc:0.68271\tval-aucpr:0.15520\tval-logloss:0.09515\ttrain-auc:0.86265\ttrain-aucpr:0.41120\ttrain-logloss:0.05834\n",
      "[66]\tval-auc:0.67993\tval-aucpr:0.15500\tval-logloss:0.09584\ttrain-auc:0.86279\ttrain-aucpr:0.41147\ttrain-logloss:0.05826\n",
      "[67]\tval-auc:0.67934\tval-aucpr:0.15535\tval-logloss:0.09573\ttrain-auc:0.86389\ttrain-aucpr:0.41253\ttrain-logloss:0.05817\n",
      "[68]\tval-auc:0.67854\tval-aucpr:0.15546\tval-logloss:0.09696\ttrain-auc:0.86439\ttrain-aucpr:0.41352\ttrain-logloss:0.05799\n",
      "[69]\tval-auc:0.67735\tval-aucpr:0.15539\tval-logloss:0.09830\ttrain-auc:0.86450\ttrain-aucpr:0.41335\ttrain-logloss:0.05788\n",
      "[70]\tval-auc:0.67754\tval-aucpr:0.15529\tval-logloss:0.09910\ttrain-auc:0.86506\ttrain-aucpr:0.41406\ttrain-logloss:0.05780\n",
      "[71]\tval-auc:0.67690\tval-aucpr:0.15677\tval-logloss:0.09897\ttrain-auc:0.86599\ttrain-aucpr:0.41472\ttrain-logloss:0.05771\n",
      "[72]\tval-auc:0.67617\tval-aucpr:0.15778\tval-logloss:0.09985\ttrain-auc:0.86613\ttrain-aucpr:0.41479\ttrain-logloss:0.05761\n",
      "[73]\tval-auc:0.67570\tval-aucpr:0.15786\tval-logloss:0.09982\ttrain-auc:0.86667\ttrain-aucpr:0.41535\ttrain-logloss:0.05757\n",
      "[74]\tval-auc:0.67562\tval-aucpr:0.15713\tval-logloss:0.09977\ttrain-auc:0.86740\ttrain-aucpr:0.41580\ttrain-logloss:0.05751\n",
      "[75]\tval-auc:0.67596\tval-aucpr:0.15755\tval-logloss:0.09976\ttrain-auc:0.86830\ttrain-aucpr:0.41645\ttrain-logloss:0.05743\n",
      "[76]\tval-auc:0.67627\tval-aucpr:0.15748\tval-logloss:0.09974\ttrain-auc:0.86891\ttrain-aucpr:0.41724\ttrain-logloss:0.05734\n",
      "[77]\tval-auc:0.67539\tval-aucpr:0.15726\tval-logloss:0.10119\ttrain-auc:0.86913\ttrain-aucpr:0.41770\ttrain-logloss:0.05722\n",
      "[78]\tval-auc:0.67500\tval-aucpr:0.15799\tval-logloss:0.10238\ttrain-auc:0.86923\ttrain-aucpr:0.41771\ttrain-logloss:0.05714\n",
      "[79]\tval-auc:0.67344\tval-aucpr:0.15857\tval-logloss:0.10307\ttrain-auc:0.86951\ttrain-aucpr:0.41782\ttrain-logloss:0.05707\n",
      "[80]\tval-auc:0.67282\tval-aucpr:0.15974\tval-logloss:0.10422\ttrain-auc:0.86955\ttrain-aucpr:0.41851\ttrain-logloss:0.05698\n",
      "[81]\tval-auc:0.67103\tval-aucpr:0.15922\tval-logloss:0.10512\ttrain-auc:0.86958\ttrain-aucpr:0.41876\ttrain-logloss:0.05695\n",
      "[82]\tval-auc:0.67277\tval-aucpr:0.15959\tval-logloss:0.10515\ttrain-auc:0.87120\ttrain-aucpr:0.42047\ttrain-logloss:0.05680\n",
      "[83]\tval-auc:0.67324\tval-aucpr:0.16003\tval-logloss:0.10516\ttrain-auc:0.87237\ttrain-aucpr:0.42242\ttrain-logloss:0.05667\n",
      "[84]\tval-auc:0.67404\tval-aucpr:0.15968\tval-logloss:0.10516\ttrain-auc:0.87281\ttrain-aucpr:0.42256\ttrain-logloss:0.05662\n",
      "[85]\tval-auc:0.67340\tval-aucpr:0.15923\tval-logloss:0.10569\ttrain-auc:0.87296\ttrain-aucpr:0.42283\ttrain-logloss:0.05658\n",
      "[86]\tval-auc:0.67276\tval-aucpr:0.16089\tval-logloss:0.10679\ttrain-auc:0.87306\ttrain-aucpr:0.42304\ttrain-logloss:0.05652\n",
      "[87]\tval-auc:0.67289\tval-aucpr:0.16095\tval-logloss:0.10812\ttrain-auc:0.87308\ttrain-aucpr:0.42322\ttrain-logloss:0.05646\n",
      "[88]\tval-auc:0.67296\tval-aucpr:0.16141\tval-logloss:0.10814\ttrain-auc:0.87322\ttrain-aucpr:0.42355\ttrain-logloss:0.05644\n",
      "[89]\tval-auc:0.67198\tval-aucpr:0.16285\tval-logloss:0.10939\ttrain-auc:0.87318\ttrain-aucpr:0.42344\ttrain-logloss:0.05638\n",
      "[90]\tval-auc:0.67221\tval-aucpr:0.16292\tval-logloss:0.10940\ttrain-auc:0.87376\ttrain-aucpr:0.42398\ttrain-logloss:0.05630\n",
      "[91]\tval-auc:0.67199\tval-aucpr:0.16348\tval-logloss:0.11060\ttrain-auc:0.87381\ttrain-aucpr:0.42414\ttrain-logloss:0.05626\n",
      "[92]\tval-auc:0.67188\tval-aucpr:0.16355\tval-logloss:0.11054\ttrain-auc:0.87433\ttrain-aucpr:0.42475\ttrain-logloss:0.05620\n",
      "[93]\tval-auc:0.67207\tval-aucpr:0.16389\tval-logloss:0.11056\ttrain-auc:0.87541\ttrain-aucpr:0.42535\ttrain-logloss:0.05612\n",
      "[94]\tval-auc:0.67094\tval-aucpr:0.16383\tval-logloss:0.11176\ttrain-auc:0.87547\ttrain-aucpr:0.42544\ttrain-logloss:0.05608\n",
      "[95]\tval-auc:0.67138\tval-aucpr:0.16463\tval-logloss:0.11174\ttrain-auc:0.87657\ttrain-aucpr:0.42665\ttrain-logloss:0.05597\n",
      "[96]\tval-auc:0.67062\tval-aucpr:0.16449\tval-logloss:0.11295\ttrain-auc:0.87683\ttrain-aucpr:0.42691\ttrain-logloss:0.05593\n",
      "[97]\tval-auc:0.67029\tval-aucpr:0.16463\tval-logloss:0.11432\ttrain-auc:0.87685\ttrain-aucpr:0.42693\ttrain-logloss:0.05590\n",
      "[98]\tval-auc:0.67046\tval-aucpr:0.16526\tval-logloss:0.11460\ttrain-auc:0.87718\ttrain-aucpr:0.42752\ttrain-logloss:0.05584\n",
      "[99]\tval-auc:0.67108\tval-aucpr:0.16553\tval-logloss:0.11454\ttrain-auc:0.87861\ttrain-aucpr:0.42904\ttrain-logloss:0.05573\n",
      "[100]\tval-auc:0.67156\tval-aucpr:0.16543\tval-logloss:0.11502\ttrain-auc:0.87889\ttrain-aucpr:0.42945\ttrain-logloss:0.05569\n",
      "[101]\tval-auc:0.67005\tval-aucpr:0.16539\tval-logloss:0.11570\ttrain-auc:0.87893\ttrain-aucpr:0.42948\ttrain-logloss:0.05567\n",
      "[102]\tval-auc:0.66963\tval-aucpr:0.16601\tval-logloss:0.11569\ttrain-auc:0.87981\ttrain-aucpr:0.43018\ttrain-logloss:0.05560\n",
      "[103]\tval-auc:0.66876\tval-aucpr:0.16797\tval-logloss:0.11690\ttrain-auc:0.87987\ttrain-aucpr:0.43033\ttrain-logloss:0.05557\n",
      "[104]\tval-auc:0.66861\tval-aucpr:0.16771\tval-logloss:0.11825\ttrain-auc:0.87999\ttrain-aucpr:0.43051\ttrain-logloss:0.05554\n",
      "[105]\tval-auc:0.66848\tval-aucpr:0.16909\tval-logloss:0.11940\ttrain-auc:0.88003\ttrain-aucpr:0.43081\ttrain-logloss:0.05550\n",
      "[106]\tval-auc:0.66824\tval-aucpr:0.16926\tval-logloss:0.12066\ttrain-auc:0.88002\ttrain-aucpr:0.43091\ttrain-logloss:0.05547\n",
      "[107]\tval-auc:0.66710\tval-aucpr:0.16891\tval-logloss:0.12187\ttrain-auc:0.88015\ttrain-aucpr:0.43112\ttrain-logloss:0.05545\n",
      "[108]\tval-auc:0.66619\tval-aucpr:0.16888\tval-logloss:0.12305\ttrain-auc:0.88034\ttrain-aucpr:0.43150\ttrain-logloss:0.05541\n",
      "[109]\tval-auc:0.66642\tval-aucpr:0.16825\tval-logloss:0.12299\ttrain-auc:0.88084\ttrain-aucpr:0.43218\ttrain-logloss:0.05537\n",
      "[110]\tval-auc:0.66636\tval-aucpr:0.16849\tval-logloss:0.12302\ttrain-auc:0.88122\ttrain-aucpr:0.43271\ttrain-logloss:0.05529\n",
      "[111]\tval-auc:0.66559\tval-aucpr:0.16854\tval-logloss:0.12301\ttrain-auc:0.88152\ttrain-aucpr:0.43297\ttrain-logloss:0.05526\n",
      "[112]\tval-auc:0.66491\tval-aucpr:0.16858\tval-logloss:0.12412\ttrain-auc:0.88153\ttrain-aucpr:0.43295\ttrain-logloss:0.05525\n",
      "[113]\tval-auc:0.66442\tval-aucpr:0.16856\tval-logloss:0.12512\ttrain-auc:0.88155\ttrain-aucpr:0.43288\ttrain-logloss:0.05523\n",
      "[114]\tval-auc:0.66398\tval-aucpr:0.16865\tval-logloss:0.12513\ttrain-auc:0.88177\ttrain-aucpr:0.43306\ttrain-logloss:0.05521\n",
      "[115]\tval-auc:0.66419\tval-aucpr:0.16983\tval-logloss:0.12514\ttrain-auc:0.88223\ttrain-aucpr:0.43378\ttrain-logloss:0.05513\n",
      "[116]\tval-auc:0.66421\tval-aucpr:0.17030\tval-logloss:0.12529\ttrain-auc:0.88226\ttrain-aucpr:0.43380\ttrain-logloss:0.05512\n",
      "[117]\tval-auc:0.66433\tval-aucpr:0.17039\tval-logloss:0.12526\ttrain-auc:0.88290\ttrain-aucpr:0.43430\ttrain-logloss:0.05507\n",
      "[118]\tval-auc:0.66417\tval-aucpr:0.17121\tval-logloss:0.12528\ttrain-auc:0.88297\ttrain-aucpr:0.43444\ttrain-logloss:0.05504\n",
      "[119]\tval-auc:0.66455\tval-aucpr:0.17094\tval-logloss:0.12532\ttrain-auc:0.88324\ttrain-aucpr:0.43490\ttrain-logloss:0.05500\n",
      "[120]\tval-auc:0.66457\tval-aucpr:0.17109\tval-logloss:0.12531\ttrain-auc:0.88417\ttrain-aucpr:0.43579\ttrain-logloss:0.05494\n",
      "[121]\tval-auc:0.66556\tval-aucpr:0.17160\tval-logloss:0.12532\ttrain-auc:0.88518\ttrain-aucpr:0.43702\ttrain-logloss:0.05482\n",
      "[122]\tval-auc:0.66644\tval-aucpr:0.17247\tval-logloss:0.12537\ttrain-auc:0.88569\ttrain-aucpr:0.43789\ttrain-logloss:0.05474\n",
      "[123]\tval-auc:0.66650\tval-aucpr:0.17398\tval-logloss:0.12561\ttrain-auc:0.88592\ttrain-aucpr:0.43858\ttrain-logloss:0.05470\n",
      "[124]\tval-auc:0.66638\tval-aucpr:0.17390\tval-logloss:0.12579\ttrain-auc:0.88630\ttrain-aucpr:0.43927\ttrain-logloss:0.05466\n",
      "[125]\tval-auc:0.66736\tval-aucpr:0.17352\tval-logloss:0.12579\ttrain-auc:0.88634\ttrain-aucpr:0.43931\ttrain-logloss:0.05466\n",
      "[126]\tval-auc:0.66746\tval-aucpr:0.17390\tval-logloss:0.12577\ttrain-auc:0.88688\ttrain-aucpr:0.44011\ttrain-logloss:0.05461\n",
      "[127]\tval-auc:0.66711\tval-aucpr:0.17439\tval-logloss:0.12617\ttrain-auc:0.88705\ttrain-aucpr:0.44040\ttrain-logloss:0.05459\n",
      "[128]\tval-auc:0.66714\tval-aucpr:0.17424\tval-logloss:0.12728\ttrain-auc:0.88706\ttrain-aucpr:0.44062\ttrain-logloss:0.05455\n",
      "[129]\tval-auc:0.66669\tval-aucpr:0.17395\tval-logloss:0.12844\ttrain-auc:0.88712\ttrain-aucpr:0.44072\ttrain-logloss:0.05454\n",
      "[130]\tval-auc:0.66744\tval-aucpr:0.17430\tval-logloss:0.12841\ttrain-auc:0.88804\ttrain-aucpr:0.44158\ttrain-logloss:0.05444\n",
      "[131]\tval-auc:0.66789\tval-aucpr:0.17433\tval-logloss:0.12837\ttrain-auc:0.88894\ttrain-aucpr:0.44238\ttrain-logloss:0.05437\n",
      "[132]\tval-auc:0.66881\tval-aucpr:0.17452\tval-logloss:0.12833\ttrain-auc:0.89004\ttrain-aucpr:0.44399\ttrain-logloss:0.05427\n",
      "[133]\tval-auc:0.66888\tval-aucpr:0.17483\tval-logloss:0.12834\ttrain-auc:0.89082\ttrain-aucpr:0.44618\ttrain-logloss:0.05417\n"
     ]
    },
    {
     "name": "stdout",
     "output_type": "stream",
     "text": [
      "[134]\tval-auc:0.66899\tval-aucpr:0.17517\tval-logloss:0.12831\ttrain-auc:0.89133\ttrain-aucpr:0.44715\ttrain-logloss:0.05409\n",
      "[135]\tval-auc:0.66896\tval-aucpr:0.17683\tval-logloss:0.12836\ttrain-auc:0.89171\ttrain-aucpr:0.44825\ttrain-logloss:0.05402\n",
      "[136]\tval-auc:0.66924\tval-aucpr:0.17687\tval-logloss:0.12835\ttrain-auc:0.89222\ttrain-aucpr:0.44925\ttrain-logloss:0.05396\n",
      "[137]\tval-auc:0.66935\tval-aucpr:0.17687\tval-logloss:0.12835\ttrain-auc:0.89233\ttrain-aucpr:0.44937\ttrain-logloss:0.05394\n",
      "[138]\tval-auc:0.66958\tval-aucpr:0.17705\tval-logloss:0.12833\ttrain-auc:0.89278\ttrain-aucpr:0.45013\ttrain-logloss:0.05389\n",
      "[139]\tval-auc:0.66951\tval-aucpr:0.17570\tval-logloss:0.12872\ttrain-auc:0.89297\ttrain-aucpr:0.45025\ttrain-logloss:0.05387\n",
      "[140]\tval-auc:0.66980\tval-aucpr:0.17586\tval-logloss:0.12871\ttrain-auc:0.89325\ttrain-aucpr:0.45061\ttrain-logloss:0.05384\n",
      "[141]\tval-auc:0.66973\tval-aucpr:0.17626\tval-logloss:0.12873\ttrain-auc:0.89345\ttrain-aucpr:0.45083\ttrain-logloss:0.05382\n",
      "[142]\tval-auc:0.66974\tval-aucpr:0.17697\tval-logloss:0.12874\ttrain-auc:0.89418\ttrain-aucpr:0.45271\ttrain-logloss:0.05375\n",
      "[143]\tval-auc:0.66864\tval-aucpr:0.17677\tval-logloss:0.12983\ttrain-auc:0.89420\ttrain-aucpr:0.45275\ttrain-logloss:0.05374\n",
      "[144]\tval-auc:0.66838\tval-aucpr:0.17679\tval-logloss:0.12985\ttrain-auc:0.89496\ttrain-aucpr:0.45316\ttrain-logloss:0.05369\n",
      "[145]\tval-auc:0.66835\tval-aucpr:0.17684\tval-logloss:0.13019\ttrain-auc:0.89533\ttrain-aucpr:0.45353\ttrain-logloss:0.05366\n",
      "[146]\tval-auc:0.66897\tval-aucpr:0.17701\tval-logloss:0.13014\ttrain-auc:0.89573\ttrain-aucpr:0.45458\ttrain-logloss:0.05359\n",
      "[147]\tval-auc:0.66921\tval-aucpr:0.17719\tval-logloss:0.13013\ttrain-auc:0.89616\ttrain-aucpr:0.45494\ttrain-logloss:0.05355\n",
      "[148]\tval-auc:0.66928\tval-aucpr:0.17720\tval-logloss:0.13012\ttrain-auc:0.89627\ttrain-aucpr:0.45499\ttrain-logloss:0.05355\n",
      "[149]\tval-auc:0.66987\tval-aucpr:0.17742\tval-logloss:0.13013\ttrain-auc:0.89628\ttrain-aucpr:0.45529\ttrain-logloss:0.05353\n",
      "[150]\tval-auc:0.67036\tval-aucpr:0.17741\tval-logloss:0.13028\ttrain-auc:0.89648\ttrain-aucpr:0.45563\ttrain-logloss:0.05349\n",
      "[151]\tval-auc:0.67048\tval-aucpr:0.17744\tval-logloss:0.13030\ttrain-auc:0.89655\ttrain-aucpr:0.45561\ttrain-logloss:0.05347\n",
      "[152]\tval-auc:0.67044\tval-aucpr:0.17745\tval-logloss:0.13031\ttrain-auc:0.89658\ttrain-aucpr:0.45576\ttrain-logloss:0.05346\n",
      "[153]\tval-auc:0.67093\tval-aucpr:0.17741\tval-logloss:0.13026\ttrain-auc:0.89692\ttrain-aucpr:0.45628\ttrain-logloss:0.05341\n",
      "[154]\tval-auc:0.67096\tval-aucpr:0.17751\tval-logloss:0.13026\ttrain-auc:0.89734\ttrain-aucpr:0.45682\ttrain-logloss:0.05337\n",
      "[155]\tval-auc:0.67090\tval-aucpr:0.17717\tval-logloss:0.13029\ttrain-auc:0.89741\ttrain-aucpr:0.45702\ttrain-logloss:0.05336\n",
      "[156]\tval-auc:0.67125\tval-aucpr:0.17666\tval-logloss:0.13034\ttrain-auc:0.89771\ttrain-aucpr:0.45763\ttrain-logloss:0.05331\n",
      "[157]\tval-auc:0.67145\tval-aucpr:0.17589\tval-logloss:0.13088\ttrain-auc:0.89808\ttrain-aucpr:0.45790\ttrain-logloss:0.05328\n",
      "[158]\tval-auc:0.67199\tval-aucpr:0.17601\tval-logloss:0.13090\ttrain-auc:0.89811\ttrain-aucpr:0.45808\ttrain-logloss:0.05327\n",
      "[159]\tval-auc:0.67049\tval-aucpr:0.17579\tval-logloss:0.13201\ttrain-auc:0.89823\ttrain-aucpr:0.45813\ttrain-logloss:0.05326\n",
      "[160]\tval-auc:0.67008\tval-aucpr:0.17631\tval-logloss:0.13305\ttrain-auc:0.89833\ttrain-aucpr:0.45824\ttrain-logloss:0.05324\n",
      "[161]\tval-auc:0.66975\tval-aucpr:0.17624\tval-logloss:0.13324\ttrain-auc:0.89870\ttrain-aucpr:0.45870\ttrain-logloss:0.05320\n",
      "[162]\tval-auc:0.66975\tval-aucpr:0.17630\tval-logloss:0.13341\ttrain-auc:0.89902\ttrain-aucpr:0.45972\ttrain-logloss:0.05314\n",
      "[163]\tval-auc:0.66967\tval-aucpr:0.17619\tval-logloss:0.13415\ttrain-auc:0.89913\ttrain-aucpr:0.45986\ttrain-logloss:0.05312\n",
      "[164]\tval-auc:0.67051\tval-aucpr:0.17612\tval-logloss:0.13420\ttrain-auc:0.89925\ttrain-aucpr:0.46016\ttrain-logloss:0.05311\n",
      "[165]\tval-auc:0.67062\tval-aucpr:0.17624\tval-logloss:0.13421\ttrain-auc:0.89952\ttrain-aucpr:0.46073\ttrain-logloss:0.05307\n",
      "[166]\tval-auc:0.67048\tval-aucpr:0.17611\tval-logloss:0.13507\ttrain-auc:0.89949\ttrain-aucpr:0.46090\ttrain-logloss:0.05306\n",
      "[167]\tval-auc:0.67060\tval-aucpr:0.17592\tval-logloss:0.13539\ttrain-auc:0.89956\ttrain-aucpr:0.46088\ttrain-logloss:0.05305\n",
      "[168]\tval-auc:0.67005\tval-aucpr:0.17580\tval-logloss:0.13649\ttrain-auc:0.89962\ttrain-aucpr:0.46099\ttrain-logloss:0.05304\n",
      "[169]\tval-auc:0.67015\tval-aucpr:0.17584\tval-logloss:0.13647\ttrain-auc:0.89996\ttrain-aucpr:0.46142\ttrain-logloss:0.05301\n",
      "[170]\tval-auc:0.66993\tval-aucpr:0.17570\tval-logloss:0.13646\ttrain-auc:0.90069\ttrain-aucpr:0.46261\ttrain-logloss:0.05294\n",
      "[171]\tval-auc:0.67025\tval-aucpr:0.17410\tval-logloss:0.13641\ttrain-auc:0.90103\ttrain-aucpr:0.46326\ttrain-logloss:0.05286\n",
      "[172]\tval-auc:0.66906\tval-aucpr:0.17401\tval-logloss:0.13636\ttrain-auc:0.90161\ttrain-aucpr:0.46422\ttrain-logloss:0.05280\n",
      "[173]\tval-auc:0.66862\tval-aucpr:0.17058\tval-logloss:0.13635\ttrain-auc:0.90202\ttrain-aucpr:0.46496\ttrain-logloss:0.05275\n",
      "[174]\tval-auc:0.66845\tval-aucpr:0.17053\tval-logloss:0.13634\ttrain-auc:0.90242\ttrain-aucpr:0.46534\ttrain-logloss:0.05271\n",
      "[175]\tval-auc:0.66849\tval-aucpr:0.17061\tval-logloss:0.13633\ttrain-auc:0.90310\ttrain-aucpr:0.46643\ttrain-logloss:0.05265\n",
      "[176]\tval-auc:0.66840\tval-aucpr:0.17098\tval-logloss:0.13726\ttrain-auc:0.90312\ttrain-aucpr:0.46658\ttrain-logloss:0.05264\n",
      "[177]\tval-auc:0.66843\tval-aucpr:0.17097\tval-logloss:0.13727\ttrain-auc:0.90318\ttrain-aucpr:0.46671\ttrain-logloss:0.05263\n",
      "[178]\tval-auc:0.66864\tval-aucpr:0.17127\tval-logloss:0.13729\ttrain-auc:0.90370\ttrain-aucpr:0.46743\ttrain-logloss:0.05257\n",
      "[179]\tval-auc:0.66875\tval-aucpr:0.17133\tval-logloss:0.13730\ttrain-auc:0.90362\ttrain-aucpr:0.46783\ttrain-logloss:0.05254\n",
      "[180]\tval-auc:0.66873\tval-aucpr:0.17132\tval-logloss:0.13731\ttrain-auc:0.90380\ttrain-aucpr:0.46805\ttrain-logloss:0.05252\n",
      "[181]\tval-auc:0.66800\tval-aucpr:0.17085\tval-logloss:0.13838\ttrain-auc:0.90417\ttrain-aucpr:0.46900\ttrain-logloss:0.05246\n",
      "[182]\tval-auc:0.66702\tval-aucpr:0.17084\tval-logloss:0.13833\ttrain-auc:0.90456\ttrain-aucpr:0.46988\ttrain-logloss:0.05241\n",
      "[183]\tval-auc:0.66667\tval-aucpr:0.17056\tval-logloss:0.13832\ttrain-auc:0.90479\ttrain-aucpr:0.47032\ttrain-logloss:0.05238\n",
      "[184]\tval-auc:0.66658\tval-aucpr:0.17095\tval-logloss:0.13872\ttrain-auc:0.90512\ttrain-aucpr:0.47117\ttrain-logloss:0.05234\n",
      "[185]\tval-auc:0.66696\tval-aucpr:0.17430\tval-logloss:0.13881\ttrain-auc:0.90563\ttrain-aucpr:0.47201\ttrain-logloss:0.05225\n",
      "[186]\tval-auc:0.66719\tval-aucpr:0.17450\tval-logloss:0.13879\ttrain-auc:0.90614\ttrain-aucpr:0.47289\ttrain-logloss:0.05220\n",
      "[187]\tval-auc:0.66690\tval-aucpr:0.17430\tval-logloss:0.13878\ttrain-auc:0.90636\ttrain-aucpr:0.47355\ttrain-logloss:0.05217\n",
      "[188]\tval-auc:0.66676\tval-aucpr:0.17432\tval-logloss:0.13877\ttrain-auc:0.90679\ttrain-aucpr:0.47434\ttrain-logloss:0.05212\n",
      "[189]\tval-auc:0.66670\tval-aucpr:0.17433\tval-logloss:0.13875\ttrain-auc:0.90682\ttrain-aucpr:0.47441\ttrain-logloss:0.05212\n",
      "[190]\tval-auc:0.66664\tval-aucpr:0.17433\tval-logloss:0.13872\ttrain-auc:0.90726\ttrain-aucpr:0.47518\ttrain-logloss:0.05208\n",
      "[191]\tval-auc:0.66780\tval-aucpr:0.17440\tval-logloss:0.13876\ttrain-auc:0.90763\ttrain-aucpr:0.47583\ttrain-logloss:0.05203\n",
      "[192]\tval-auc:0.66713\tval-aucpr:0.17456\tval-logloss:0.13879\ttrain-auc:0.90814\ttrain-aucpr:0.47695\ttrain-logloss:0.05195\n",
      "[193]\tval-auc:0.66758\tval-aucpr:0.17356\tval-logloss:0.13884\ttrain-auc:0.90817\ttrain-aucpr:0.47700\ttrain-logloss:0.05194\n",
      "[194]\tval-auc:0.66763\tval-aucpr:0.17358\tval-logloss:0.13885\ttrain-auc:0.90826\ttrain-aucpr:0.47711\ttrain-logloss:0.05193\n",
      "[195]\tval-auc:0.66777\tval-aucpr:0.17305\tval-logloss:0.13898\ttrain-auc:0.90884\ttrain-aucpr:0.47839\ttrain-logloss:0.05184\n",
      "[196]\tval-auc:0.66844\tval-aucpr:0.17267\tval-logloss:0.13902\ttrain-auc:0.90917\ttrain-aucpr:0.47885\ttrain-logloss:0.05179\n",
      "[197]\tval-auc:0.66773\tval-aucpr:0.17253\tval-logloss:0.13981\ttrain-auc:0.90931\ttrain-aucpr:0.47911\ttrain-logloss:0.05178\n",
      "[198]\tval-auc:0.66860\tval-aucpr:0.17258\tval-logloss:0.13980\ttrain-auc:0.90937\ttrain-aucpr:0.47919\ttrain-logloss:0.05177\n",
      "[199]\tval-auc:0.66807\tval-aucpr:0.17259\tval-logloss:0.13990\ttrain-auc:0.90959\ttrain-aucpr:0.47955\ttrain-logloss:0.05174\n",
      "[200]\tval-auc:0.66831\tval-aucpr:0.17275\tval-logloss:0.13991\ttrain-auc:0.90985\ttrain-aucpr:0.48016\ttrain-logloss:0.05170\n",
      "[201]\tval-auc:0.66872\tval-aucpr:0.17318\tval-logloss:0.13986\ttrain-auc:0.91035\ttrain-aucpr:0.48124\ttrain-logloss:0.05163\n",
      "[202]\tval-auc:0.67030\tval-aucpr:0.17304\tval-logloss:0.13989\ttrain-auc:0.91090\ttrain-aucpr:0.48207\ttrain-logloss:0.05156\n"
     ]
    },
    {
     "name": "stdout",
     "output_type": "stream",
     "text": [
      "[203]\tval-auc:0.67017\tval-aucpr:0.17306\tval-logloss:0.13987\ttrain-auc:0.91111\ttrain-aucpr:0.48245\ttrain-logloss:0.05154\n",
      "[204]\tval-auc:0.67033\tval-aucpr:0.17309\tval-logloss:0.13986\ttrain-auc:0.91120\ttrain-aucpr:0.48268\ttrain-logloss:0.05152\n",
      "[205]\tval-auc:0.67042\tval-aucpr:0.17312\tval-logloss:0.13986\ttrain-auc:0.91153\ttrain-aucpr:0.48308\ttrain-logloss:0.05149\n",
      "[206]\tval-auc:0.67100\tval-aucpr:0.17270\tval-logloss:0.13987\ttrain-auc:0.91170\ttrain-aucpr:0.48355\ttrain-logloss:0.05145\n",
      "[207]\tval-auc:0.67074\tval-aucpr:0.17167\tval-logloss:0.14015\ttrain-auc:0.91192\ttrain-aucpr:0.48395\ttrain-logloss:0.05143\n",
      "[208]\tval-auc:0.67039\tval-aucpr:0.17271\tval-logloss:0.14011\ttrain-auc:0.91196\ttrain-aucpr:0.48414\ttrain-logloss:0.05142\n",
      "[209]\tval-auc:0.67031\tval-aucpr:0.17271\tval-logloss:0.14011\ttrain-auc:0.91214\ttrain-aucpr:0.48443\ttrain-logloss:0.05140\n",
      "[210]\tval-auc:0.67034\tval-aucpr:0.17285\tval-logloss:0.14008\ttrain-auc:0.91241\ttrain-aucpr:0.48486\ttrain-logloss:0.05137\n",
      "[211]\tval-auc:0.67116\tval-aucpr:0.17165\tval-logloss:0.14042\ttrain-auc:0.91242\ttrain-aucpr:0.48490\ttrain-logloss:0.05136\n",
      "[212]\tval-auc:0.67123\tval-aucpr:0.17160\tval-logloss:0.14042\ttrain-auc:0.91268\ttrain-aucpr:0.48527\ttrain-logloss:0.05133\n",
      "[213]\tval-auc:0.67120\tval-aucpr:0.17188\tval-logloss:0.14040\ttrain-auc:0.91275\ttrain-aucpr:0.48533\ttrain-logloss:0.05132\n",
      "[214]\tval-auc:0.67151\tval-aucpr:0.17134\tval-logloss:0.14032\ttrain-auc:0.91277\ttrain-aucpr:0.48581\ttrain-logloss:0.05129\n",
      "[215]\tval-auc:0.67152\tval-aucpr:0.17133\tval-logloss:0.14032\ttrain-auc:0.91305\ttrain-aucpr:0.48628\ttrain-logloss:0.05126\n",
      "[216]\tval-auc:0.67164\tval-aucpr:0.17155\tval-logloss:0.14031\ttrain-auc:0.91313\ttrain-aucpr:0.48656\ttrain-logloss:0.05124\n",
      "[217]\tval-auc:0.67205\tval-aucpr:0.17172\tval-logloss:0.14029\ttrain-auc:0.91352\ttrain-aucpr:0.48737\ttrain-logloss:0.05119\n",
      "[218]\tval-auc:0.67202\tval-aucpr:0.17169\tval-logloss:0.14032\ttrain-auc:0.91387\ttrain-aucpr:0.48834\ttrain-logloss:0.05114\n",
      "[219]\tval-auc:0.67218\tval-aucpr:0.17168\tval-logloss:0.14039\ttrain-auc:0.91416\ttrain-aucpr:0.48881\ttrain-logloss:0.05111\n",
      "[220]\tval-auc:0.67217\tval-aucpr:0.17166\tval-logloss:0.14042\ttrain-auc:0.91439\ttrain-aucpr:0.48922\ttrain-logloss:0.05108\n",
      "[221]\tval-auc:0.67144\tval-aucpr:0.17126\tval-logloss:0.14039\ttrain-auc:0.91460\ttrain-aucpr:0.49015\ttrain-logloss:0.05104\n",
      "[222]\tval-auc:0.67139\tval-aucpr:0.17125\tval-logloss:0.14038\ttrain-auc:0.91481\ttrain-aucpr:0.49055\ttrain-logloss:0.05101\n",
      "[223]\tval-auc:0.67185\tval-aucpr:0.17152\tval-logloss:0.14036\ttrain-auc:0.91509\ttrain-aucpr:0.49119\ttrain-logloss:0.05096\n",
      "[224]\tval-auc:0.67197\tval-aucpr:0.17190\tval-logloss:0.14106\ttrain-auc:0.91516\ttrain-aucpr:0.49138\ttrain-logloss:0.05094\n",
      "[225]\tval-auc:0.67280\tval-aucpr:0.17191\tval-logloss:0.14099\ttrain-auc:0.91516\ttrain-aucpr:0.49160\ttrain-logloss:0.05092\n",
      "[226]\tval-auc:0.67281\tval-aucpr:0.17190\tval-logloss:0.14102\ttrain-auc:0.91536\ttrain-aucpr:0.49204\ttrain-logloss:0.05090\n",
      "[227]\tval-auc:0.67221\tval-aucpr:0.17171\tval-logloss:0.14103\ttrain-auc:0.91538\ttrain-aucpr:0.49243\ttrain-logloss:0.05088\n",
      "[228]\tval-auc:0.67220\tval-aucpr:0.17171\tval-logloss:0.14103\ttrain-auc:0.91561\ttrain-aucpr:0.49285\ttrain-logloss:0.05085\n",
      "[229]\tval-auc:0.67163\tval-aucpr:0.17132\tval-logloss:0.14099\ttrain-auc:0.91562\ttrain-aucpr:0.49285\ttrain-logloss:0.05085\n",
      "[230]\tval-auc:0.67183\tval-aucpr:0.17152\tval-logloss:0.14098\ttrain-auc:0.91564\ttrain-aucpr:0.49307\ttrain-logloss:0.05084\n",
      "[231]\tval-auc:0.67234\tval-aucpr:0.17154\tval-logloss:0.14095\ttrain-auc:0.91622\ttrain-aucpr:0.49404\ttrain-logloss:0.05077\n",
      "[232]\tval-auc:0.67266\tval-aucpr:0.17159\tval-logloss:0.14094\ttrain-auc:0.91651\ttrain-aucpr:0.49454\ttrain-logloss:0.05073\n",
      "[233]\tval-auc:0.67298\tval-aucpr:0.17177\tval-logloss:0.14100\ttrain-auc:0.91683\ttrain-aucpr:0.49509\ttrain-logloss:0.05067\n",
      "[234]\tval-auc:0.67296\tval-aucpr:0.17178\tval-logloss:0.14100\ttrain-auc:0.91694\ttrain-aucpr:0.49519\ttrain-logloss:0.05066\n",
      "[235]\tval-auc:0.67307\tval-aucpr:0.17189\tval-logloss:0.14099\ttrain-auc:0.91731\ttrain-aucpr:0.49621\ttrain-logloss:0.05060\n",
      "[236]\tval-auc:0.67324\tval-aucpr:0.17244\tval-logloss:0.14097\ttrain-auc:0.91738\ttrain-aucpr:0.49622\ttrain-logloss:0.05059\n",
      "[237]\tval-auc:0.67370\tval-aucpr:0.17254\tval-logloss:0.14099\ttrain-auc:0.91777\ttrain-aucpr:0.49722\ttrain-logloss:0.05052\n",
      "[238]\tval-auc:0.67369\tval-aucpr:0.17241\tval-logloss:0.14139\ttrain-auc:0.91797\ttrain-aucpr:0.49753\ttrain-logloss:0.05050\n",
      "[239]\tval-auc:0.67375\tval-aucpr:0.17243\tval-logloss:0.14138\ttrain-auc:0.91845\ttrain-aucpr:0.49836\ttrain-logloss:0.05044\n",
      "[240]\tval-auc:0.67402\tval-aucpr:0.17259\tval-logloss:0.14134\ttrain-auc:0.91905\ttrain-aucpr:0.49996\ttrain-logloss:0.05036\n",
      "[241]\tval-auc:0.67448\tval-aucpr:0.17238\tval-logloss:0.14137\ttrain-auc:0.91929\ttrain-aucpr:0.50040\ttrain-logloss:0.05032\n",
      "[242]\tval-auc:0.67333\tval-aucpr:0.17203\tval-logloss:0.14204\ttrain-auc:0.91943\ttrain-aucpr:0.50065\ttrain-logloss:0.05030\n",
      "[243]\tval-auc:0.67338\tval-aucpr:0.17206\tval-logloss:0.14208\ttrain-auc:0.91973\ttrain-aucpr:0.50121\ttrain-logloss:0.05027\n",
      "[244]\tval-auc:0.67333\tval-aucpr:0.17208\tval-logloss:0.14209\ttrain-auc:0.92012\ttrain-aucpr:0.50177\ttrain-logloss:0.05023\n",
      "[245]\tval-auc:0.67252\tval-aucpr:0.17262\tval-logloss:0.14213\ttrain-auc:0.92012\ttrain-aucpr:0.50188\ttrain-logloss:0.05022\n",
      "[246]\tval-auc:0.67300\tval-aucpr:0.17322\tval-logloss:0.14214\ttrain-auc:0.92023\ttrain-aucpr:0.50221\ttrain-logloss:0.05019\n",
      "[247]\tval-auc:0.67307\tval-aucpr:0.17285\tval-logloss:0.14265\ttrain-auc:0.92024\ttrain-aucpr:0.50216\ttrain-logloss:0.05019\n",
      "[248]\tval-auc:0.67297\tval-aucpr:0.17286\tval-logloss:0.14263\ttrain-auc:0.92051\ttrain-aucpr:0.50305\ttrain-logloss:0.05015\n",
      "[249]\tval-auc:0.67308\tval-aucpr:0.17184\tval-logloss:0.14264\ttrain-auc:0.92075\ttrain-aucpr:0.50378\ttrain-logloss:0.05011\n",
      "[250]\tval-auc:0.67313\tval-aucpr:0.17181\tval-logloss:0.14265\ttrain-auc:0.92102\ttrain-aucpr:0.50430\ttrain-logloss:0.05008\n",
      "[251]\tval-auc:0.67356\tval-aucpr:0.17275\tval-logloss:0.14265\ttrain-auc:0.92132\ttrain-aucpr:0.50455\ttrain-logloss:0.05004\n",
      "[252]\tval-auc:0.67352\tval-aucpr:0.17280\tval-logloss:0.14275\ttrain-auc:0.92148\ttrain-aucpr:0.50501\ttrain-logloss:0.05001\n",
      "[253]\tval-auc:0.67311\tval-aucpr:0.17282\tval-logloss:0.14274\ttrain-auc:0.92161\ttrain-aucpr:0.50553\ttrain-logloss:0.04999\n",
      "[254]\tval-auc:0.67312\tval-aucpr:0.17285\tval-logloss:0.14271\ttrain-auc:0.92165\ttrain-aucpr:0.50575\ttrain-logloss:0.04998\n",
      "[255]\tval-auc:0.67300\tval-aucpr:0.17219\tval-logloss:0.14293\ttrain-auc:0.92193\ttrain-aucpr:0.50631\ttrain-logloss:0.04993\n",
      "[256]\tval-auc:0.67240\tval-aucpr:0.17198\tval-logloss:0.14292\ttrain-auc:0.92198\ttrain-aucpr:0.50644\ttrain-logloss:0.04992\n",
      "[257]\tval-auc:0.67228\tval-aucpr:0.17219\tval-logloss:0.14294\ttrain-auc:0.92200\ttrain-aucpr:0.50645\ttrain-logloss:0.04992\n",
      "[258]\tval-auc:0.67172\tval-aucpr:0.17088\tval-logloss:0.14373\ttrain-auc:0.92208\ttrain-aucpr:0.50661\ttrain-logloss:0.04990\n",
      "[259]\tval-auc:0.67166\tval-aucpr:0.17084\tval-logloss:0.14375\ttrain-auc:0.92211\ttrain-aucpr:0.50682\ttrain-logloss:0.04989\n",
      "[260]\tval-auc:0.67178\tval-aucpr:0.17087\tval-logloss:0.14376\ttrain-auc:0.92229\ttrain-aucpr:0.50707\ttrain-logloss:0.04987\n",
      "[261]\tval-auc:0.67179\tval-aucpr:0.17148\tval-logloss:0.14406\ttrain-auc:0.92243\ttrain-aucpr:0.50735\ttrain-logloss:0.04985\n",
      "[262]\tval-auc:0.67192\tval-aucpr:0.17166\tval-logloss:0.14408\ttrain-auc:0.92280\ttrain-aucpr:0.50818\ttrain-logloss:0.04980\n",
      "[263]\tval-auc:0.67193\tval-aucpr:0.17176\tval-logloss:0.14409\ttrain-auc:0.92300\ttrain-aucpr:0.50847\ttrain-logloss:0.04978\n",
      "[264]\tval-auc:0.67232\tval-aucpr:0.17176\tval-logloss:0.14404\ttrain-auc:0.92336\ttrain-aucpr:0.50909\ttrain-logloss:0.04973\n",
      "[265]\tval-auc:0.67295\tval-aucpr:0.17124\tval-logloss:0.14404\ttrain-auc:0.92359\ttrain-aucpr:0.50962\ttrain-logloss:0.04970\n",
      "[266]\tval-auc:0.67300\tval-aucpr:0.17124\tval-logloss:0.14404\ttrain-auc:0.92364\ttrain-aucpr:0.50971\ttrain-logloss:0.04969\n",
      "[267]\tval-auc:0.67320\tval-aucpr:0.17130\tval-logloss:0.14405\ttrain-auc:0.92376\ttrain-aucpr:0.51010\ttrain-logloss:0.04966\n",
      "[268]\tval-auc:0.67335\tval-aucpr:0.17129\tval-logloss:0.14405\ttrain-auc:0.92396\ttrain-aucpr:0.51046\ttrain-logloss:0.04963\n",
      "[269]\tval-auc:0.67334\tval-aucpr:0.17127\tval-logloss:0.14405\ttrain-auc:0.92408\ttrain-aucpr:0.51068\ttrain-logloss:0.04962\n",
      "[270]\tval-auc:0.67357\tval-aucpr:0.17138\tval-logloss:0.14397\ttrain-auc:0.92412\ttrain-aucpr:0.51088\ttrain-logloss:0.04960\n",
      "[271]\tval-auc:0.67367\tval-aucpr:0.17142\tval-logloss:0.14396\ttrain-auc:0.92447\ttrain-aucpr:0.51121\ttrain-logloss:0.04958\n"
     ]
    },
    {
     "name": "stdout",
     "output_type": "stream",
     "text": [
      "[272]\tval-auc:0.67403\tval-aucpr:0.17134\tval-logloss:0.14391\ttrain-auc:0.92488\ttrain-aucpr:0.51173\ttrain-logloss:0.04952\n",
      "[273]\tval-auc:0.67456\tval-aucpr:0.17141\tval-logloss:0.14386\ttrain-auc:0.92491\ttrain-aucpr:0.51175\ttrain-logloss:0.04952\n",
      "[274]\tval-auc:0.67451\tval-aucpr:0.17140\tval-logloss:0.14386\ttrain-auc:0.92508\ttrain-aucpr:0.51212\ttrain-logloss:0.04949\n",
      "[275]\tval-auc:0.67435\tval-aucpr:0.17142\tval-logloss:0.14398\ttrain-auc:0.92561\ttrain-aucpr:0.51337\ttrain-logloss:0.04943\n",
      "[276]\tval-auc:0.67434\tval-aucpr:0.17142\tval-logloss:0.14406\ttrain-auc:0.92582\ttrain-aucpr:0.51380\ttrain-logloss:0.04940\n",
      "[277]\tval-auc:0.67439\tval-aucpr:0.17062\tval-logloss:0.14452\ttrain-auc:0.92593\ttrain-aucpr:0.51416\ttrain-logloss:0.04938\n",
      "[278]\tval-auc:0.67466\tval-aucpr:0.17063\tval-logloss:0.14450\ttrain-auc:0.92632\ttrain-aucpr:0.51476\ttrain-logloss:0.04933\n",
      "[279]\tval-auc:0.67460\tval-aucpr:0.17070\tval-logloss:0.14449\ttrain-auc:0.92661\ttrain-aucpr:0.51513\ttrain-logloss:0.04931\n",
      "[280]\tval-auc:0.67474\tval-aucpr:0.17087\tval-logloss:0.14450\ttrain-auc:0.92687\ttrain-aucpr:0.51604\ttrain-logloss:0.04926\n",
      "[281]\tval-auc:0.67452\tval-aucpr:0.17087\tval-logloss:0.14447\ttrain-auc:0.92727\ttrain-aucpr:0.51687\ttrain-logloss:0.04922\n",
      "[282]\tval-auc:0.67461\tval-aucpr:0.17188\tval-logloss:0.14531\ttrain-auc:0.92731\ttrain-aucpr:0.51699\ttrain-logloss:0.04921\n",
      "[283]\tval-auc:0.67411\tval-aucpr:0.17190\tval-logloss:0.14527\ttrain-auc:0.92758\ttrain-aucpr:0.51738\ttrain-logloss:0.04918\n",
      "[284]\tval-auc:0.67434\tval-aucpr:0.17201\tval-logloss:0.14524\ttrain-auc:0.92768\ttrain-aucpr:0.51778\ttrain-logloss:0.04916\n",
      "[285]\tval-auc:0.67461\tval-aucpr:0.17198\tval-logloss:0.14524\ttrain-auc:0.92811\ttrain-aucpr:0.51877\ttrain-logloss:0.04909\n",
      "[286]\tval-auc:0.67470\tval-aucpr:0.17142\tval-logloss:0.14524\ttrain-auc:0.92834\ttrain-aucpr:0.51944\ttrain-logloss:0.04905\n",
      "[287]\tval-auc:0.67557\tval-aucpr:0.17110\tval-logloss:0.14538\ttrain-auc:0.92840\ttrain-aucpr:0.51975\ttrain-logloss:0.04903\n",
      "[288]\tval-auc:0.67563\tval-aucpr:0.17152\tval-logloss:0.14537\ttrain-auc:0.92842\ttrain-aucpr:0.51984\ttrain-logloss:0.04902\n",
      "[289]\tval-auc:0.67542\tval-aucpr:0.17120\tval-logloss:0.14551\ttrain-auc:0.92857\ttrain-aucpr:0.52057\ttrain-logloss:0.04896\n",
      "[290]\tval-auc:0.67556\tval-aucpr:0.17252\tval-logloss:0.14554\ttrain-auc:0.92866\ttrain-aucpr:0.52092\ttrain-logloss:0.04893\n",
      "[291]\tval-auc:0.67561\tval-aucpr:0.17197\tval-logloss:0.14557\ttrain-auc:0.92881\ttrain-aucpr:0.52116\ttrain-logloss:0.04890\n",
      "[292]\tval-auc:0.67556\tval-aucpr:0.17203\tval-logloss:0.14559\ttrain-auc:0.92901\ttrain-aucpr:0.52157\ttrain-logloss:0.04888\n",
      "[293]\tval-auc:0.67545\tval-aucpr:0.17246\tval-logloss:0.14638\ttrain-auc:0.92916\ttrain-aucpr:0.52181\ttrain-logloss:0.04886\n",
      "[294]\tval-auc:0.67533\tval-aucpr:0.17247\tval-logloss:0.14640\ttrain-auc:0.92937\ttrain-aucpr:0.52206\ttrain-logloss:0.04884\n",
      "[295]\tval-auc:0.67542\tval-aucpr:0.17253\tval-logloss:0.14642\ttrain-auc:0.92963\ttrain-aucpr:0.52266\ttrain-logloss:0.04879\n",
      "[296]\tval-auc:0.67560\tval-aucpr:0.17257\tval-logloss:0.14643\ttrain-auc:0.92972\ttrain-aucpr:0.52282\ttrain-logloss:0.04878\n",
      "[297]\tval-auc:0.67584\tval-aucpr:0.17220\tval-logloss:0.14643\ttrain-auc:0.92972\ttrain-aucpr:0.52292\ttrain-logloss:0.04877\n",
      "[298]\tval-auc:0.67595\tval-aucpr:0.17248\tval-logloss:0.14641\ttrain-auc:0.93010\ttrain-aucpr:0.52390\ttrain-logloss:0.04872\n",
      "[299]\tval-auc:0.67595\tval-aucpr:0.17247\tval-logloss:0.14641\ttrain-auc:0.93015\ttrain-aucpr:0.52405\ttrain-logloss:0.04871\n"
     ]
    }
   ],
   "source": [
    "model = xgb.train(xgb_params, dtrain, num_boost_round=xgb_params['n_estimators'], evals=[(dval, 'val'), (dtrain, 'train')], early_stopping_rounds=int(xgb_params['n_estimators']/2))"
   ]
  },
  {
   "cell_type": "code",
   "execution_count": 20,
   "id": "ac2b9688",
   "metadata": {
    "lines_to_next_cell": 2
   },
   "outputs": [],
   "source": [
    "y_pred_proba = model.predict(dtest)"
   ]
  },
  {
   "cell_type": "markdown",
   "id": "6445442a",
   "metadata": {},
   "source": [
    "## Evaluation"
   ]
  },
  {
   "cell_type": "code",
   "execution_count": 21,
   "id": "ca2aa51b",
   "metadata": {},
   "outputs": [
    {
     "name": "stdout",
     "output_type": "stream",
     "text": [
      "Average Precision:  0.18\n"
     ]
    }
   ],
   "source": [
    "ap = average_precision_score(y_test, y_pred_proba)\n",
    "print(\"Average Precision: \", np.round(ap,2))"
   ]
  },
  {
   "cell_type": "code",
   "execution_count": 22,
   "id": "f1948321",
   "metadata": {},
   "outputs": [
    {
     "data": {
      "image/png": "[encoded data removed]",
      "text/plain": [
       "<Figure size 432x288 with 1 Axes>"
      ]
     },
     "metadata": {
      "needs_background": "light"
     },
     "output_type": "display_data"
    }
   ],
   "source": [
    "fig = plot_ap(y_test, y_pred_proba)"
   ]
  },
  {
   "cell_type": "code",
   "execution_count": 23,
   "id": "b686ca1a",
   "metadata": {},
   "outputs": [
    {
     "name": "stdout",
     "output_type": "stream",
     "text": [
      "F1 Score:  0.2428\n"
     ]
    }
   ],
   "source": [
    "optimal_threshold, optimal_f1_score = get_optimal_f1_cutoff(y_test, y_pred_proba)\n",
    "print(\"F1 Score: \", np.round(optimal_f1_score, 4))"
   ]
  },
  {
   "cell_type": "code",
   "execution_count": 24,
   "id": "5b381743",
   "metadata": {},
   "outputs": [
    {
     "name": "stdout",
     "output_type": "stream",
     "text": [
      "Confusion Matrix: \n",
      " [[97691   764]\n",
      " [ 1226   319]]\n"
     ]
    }
   ],
   "source": [
    "cm = get_confusion_matrix(y_test, y_pred_proba, optimal_threshold)\n",
    "print(\"Confusion Matrix: \\n\", cm)"
   ]
  },
  {
   "cell_type": "code",
   "execution_count": 25,
   "id": "e2dfd59d",
   "metadata": {},
   "outputs": [],
   "source": [
    "from sklearn.metrics import roc_auc_score"
   ]
  },
  {
   "cell_type": "code",
   "execution_count": 26,
   "id": "f18ce56f",
   "metadata": {},
   "outputs": [
    {
     "data": {
      "text/plain": [
       "0.6737975343654939"
      ]
     },
     "execution_count": 26,
     "metadata": {},
     "output_type": "execute_result"
    }
   ],
   "source": [
    "roc_auc_score(y_test, y_pred_proba)"
   ]
  },
  {
   "cell_type": "code",
   "execution_count": null,
   "id": "5cc44e2e",
   "metadata": {},
   "outputs": [],
   "source": []
  }
 ],
 "metadata": {
  "kernelspec": {
   "display_name": "fucc",
   "language": "python",
   "name": "fucc"
  },
  "language_info": {
   "codemirror_mode": {
    "name": "ipython",
    "version": 3
   },
   "file_extension": ".py",
   "mimetype": "text/x-python",
   "name": "python",
   "nbconvert_exporter": "python",
   "pygments_lexer": "ipython3",
   "version": "3.6.12"
  },
  "toc": {
   "base_numbering": 1,
   "nav_menu": {},
   "number_sections": true,
   "sideBar": true,
   "skip_h1_title": false,
   "title_cell": "Table of Contents",
   "title_sidebar": "Contents",
   "toc_cell": false,
   "toc_position": {},
   "toc_section_display": true,
   "toc_window_display": false
  }
 },
 "nbformat": 4,
 "nbformat_minor": 5
}
